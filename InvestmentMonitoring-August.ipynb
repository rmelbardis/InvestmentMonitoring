{
 "cells": [
  {
   "cell_type": "markdown",
   "id": "374372ea",
   "metadata": {},
   "source": [
    "# Imports and Inputs"
   ]
  },
  {
   "cell_type": "code",
   "execution_count": 1,
   "id": "4dc24827",
   "metadata": {
    "ExecuteTime": {
     "end_time": "2024-09-12T08:13:50.562208Z",
     "start_time": "2024-09-12T08:13:49.795258Z"
    }
   },
   "outputs": [
    {
     "name": "stderr",
     "output_type": "stream",
     "text": [
      "/tmp/ipykernel_1312/2707571157.py:3: DeprecationWarning: \n",
      "Pyarrow will become a required dependency of pandas in the next major release of pandas (pandas 3.0),\n",
      "(to allow more performant data types, such as the Arrow string type, and better interoperability with other libraries)\n",
      "but was not found to be installed on your system.\n",
      "If this would cause problems for you,\n",
      "please provide us feedback at https://github.com/pandas-dev/pandas/issues/54466\n",
      "        \n",
      "  import pandas as pd\n"
     ]
    }
   ],
   "source": [
    "### Imports of relevant python packages and Dune API Key\n",
    "\n",
    "import pandas as pd\n",
    "import requests\n",
    "import matplotlib.pyplot as plt\n",
    "# import seaborn as sns\n",
    "from datetime import datetime, timedelta, timezone\n",
    "\n",
    "from dune_client.client import DuneClient\n",
    "from config import key\n",
    "\n",
    "# pd.set_option('display.max_rows', None)\n",
    "pd.set_option('display.max_columns', None)"
   ]
  },
  {
   "cell_type": "markdown",
   "id": "27ca9291",
   "metadata": {},
   "source": [
    "Links to dune queries to refresh before importing latest result in cell below:\n",
    "\n",
    "[Capital Pool in ETH](https://dune.com/queries/3773645/6345766?display_currency_e15077=ETH)\n",
    "\n",
    "[RAMM Volumes](https://dune.com/queries/3219988/5394288)\n",
    "\n",
    "[Full List Of Covers V2](https://dune.com/queries/3810247)"
   ]
  },
  {
   "cell_type": "code",
   "execution_count": 2,
   "id": "09516829",
   "metadata": {
    "ExecuteTime": {
     "end_time": "2024-09-12T08:15:42.414608Z",
     "start_time": "2024-09-12T08:15:41.621199Z"
    }
   },
   "outputs": [],
   "source": [
    "# import jsons of capital pool, ramm volume and covers from dune api \n",
    "dune = DuneClient(key)\n",
    "cap_pool_result = dune.get_latest_result_dataframe(3773645) # ensure that the ETH values are latest to be run\n",
    "ramm_volume_result = dune.get_latest_result_dataframe(3219988)\n",
    "covers_list_result = dune.get_latest_result_dataframe(3810247)"
   ]
  },
  {
   "cell_type": "markdown",
   "id": "7afdf7c6",
   "metadata": {},
   "source": [
    "# Investment Newsletter Data"
   ]
  },
  {
   "cell_type": "markdown",
   "id": "b6bc40a9",
   "metadata": {},
   "source": [
    "The following steps and the reasons for them were taken for the August metrics:\n",
    "1. Update the valuation date string (standard each month)"
   ]
  },
  {
   "cell_type": "code",
   "execution_count": 28,
   "id": "1287d51a",
   "metadata": {
    "ExecuteTime": {
     "end_time": "2024-09-12T13:28:19.536900Z",
     "start_time": "2024-09-12T13:28:19.529237Z"
    }
   },
   "outputs": [],
   "source": [
    "# manually input the valuation date as a string in the format 'dd-mm-yyyy'\n",
    "# the valuation date is the final day of the month for which the results are being produced\n",
    "valn_date_str = '31-08-2024'\n",
    "\n",
    "# average days in month\n",
    "avg_days_in_month = 30.436875\n",
    "\n",
    "# create valuation datetime\n",
    "# valn_date = datetime.strptime(valn_date_str, '%d-%m-%Y').replace(tzinfo=timezone.utc) - timezone UTC if required\n",
    "valn_date = datetime.strptime(valn_date_str, '%d-%m-%Y')\n",
    "\n",
    "# create datetime for the final day in month before valuation month\n",
    "\n",
    "# eom_before_valn_date = datetime(year=valn_date.year, month=valn_date.month, day=1, tzinfo=timezone.utc) - timedelta(days=1) - timezone UTC if required\n",
    "eom_before_valn_date = datetime(year=valn_date.year, month=valn_date.month, day=1) - timedelta(days=1)"
   ]
  },
  {
   "cell_type": "markdown",
   "id": "49eb3223",
   "metadata": {},
   "source": [
    "**Kiln reward calculation**\n",
    "\n",
    "The Kiln rewards are not currently picked up by the Enzyme chainlink oracle and so the metrics are calculated manually in this notebook.\n",
    "\n",
    "Currently the monthly rewards are estimated by inputting the known unclaimed reward amount as at the date of updating the notebook and assuming that the rewards are evenly spread through the days since the last withdrawal.\n",
    "\n",
    "Kiln Rewards - [AB Safe Enzyme App](https://app.safe.global/apps/open?safe=eth:0x51ad1265C8702c9e96Ea61Fe4088C2e22eD4418e&appUrl=https%3A%2F%2Fapp.enzyme.finance)\n",
    "\n",
    "Click Vaults (left sidebar) -> Nexus Mutual Treasury Yield -> 'Portfolio' tab -> Click into Kiln Staking Positions. The relevant value is under 'Total Accrued Rewards'\n",
    "\n",
    "Steps taken to update notebook:\n",
    "\n",
    "2. The Enzyme idle portion was removed as funds were allocated between weETH and the Stakewise/Chorus One position. These are captured by the Chainlink oracle so will be automatically allowed for in the Enzyme vault position.\n",
    "3. The kiln_current_rewards were updated for the Total Accrued Rewards value read from the instructions above.\n",
    "4. The kiln_first_round rewards represent the amount of rewards earned in the Kiln position before the initial withdrawal of staking rewards between 2024-04-24 and 2024-04-26. This amount, and the kiln_claim_start_date and kiln_claim_end_date will remain unchanged.\n",
    "5. The kiln_deposit_date represents the first deposit into Kiln and will be unchanged."
   ]
  },
  {
   "cell_type": "code",
   "execution_count": 29,
   "id": "8496b4d6",
   "metadata": {
    "ExecuteTime": {
     "end_time": "2024-09-12T13:28:22.323686Z",
     "start_time": "2024-09-12T13:28:22.316698Z"
    }
   },
   "outputs": [],
   "source": [
    "# manually input kiln rewards\n",
    "\n",
    "# fixed amount representing rewards claimed in April '24 and staked afresh in Kiln\n",
    "kiln_first_round = 181.45\n",
    "\n",
    "# TO UPDATE - current rewards pulled in from Enzyme UI\n",
    "kiln_current = 81.6692\n",
    "\n",
    "# FIXED\n",
    "# create datetime object of 2023/08/30 when the Kiln validators were activated \n",
    "# kiln_deposit_date = datetime(year=2023, month=8, day=30, tzinfo=timezone.utc)\n",
    "kiln_deposit_date = datetime(year=2023, month=8, day=30)\n",
    "# create datetime objects of 2024/04/24 and 2024/04/26 when the Kiln rewards were first claimed.\n",
    "    # Note that the values for 2024/04/25 will be inaccurate\n",
    "# kiln_claim_start_date = datetime(year=2024, month=4, day=24, tzinfo=timezone.utc)\n",
    "# kiln_claim_end_date = datetime(year=2024, month=4, day=26, tzinfo=timezone.utc)\n",
    "kiln_claim_start_date = datetime(year=2024, month=4, day=24)\n",
    "kiln_claim_end_date = datetime(year=2024, month=4, day=26)\n",
    "\n",
    "kiln_total_rewards = kiln_first_round + kiln_current"
   ]
  },
  {
   "cell_type": "markdown",
   "id": "a73e96d1",
   "metadata": {},
   "source": [
    "**Aave USDC Debt Repayments**\n",
    "\n",
    "The below cell takes in the manual inputs related to any USDC debt repayments in the month, to allow for accurately working out the interest on the debt.\n",
    "\n",
    "The relevant values can be found by looking at the historic transactions in the [AB Multisig](https://app.safe.global/transactions/history?safe=eth:0x51ad1265C8702c9e96Ea61Fe4088C2e22eD4418e).\n",
    "* If there is one payment in the valuation month, simply update the information below.\n",
    "* If there are no repayments, comment out the section below and update the calculations in section 2.4.\n",
    "* If there is more than one repayment, then an update to the relevant calculations below and in section 2.4. to include additional payments will be required.\n",
    "\n",
    "Steps taken to update notebook:\n",
    "\n",
    "6. Updated the debtUSDC_monthly_repayment as per the relevant August transaction. Note that the USDC amount is used.\n",
    "7. Updated the repayment_date_str to match the day the repayment was made in August '24"
   ]
  },
  {
   "cell_type": "code",
   "execution_count": 30,
   "id": "530eeccc",
   "metadata": {
    "ExecuteTime": {
     "end_time": "2024-09-12T13:28:23.558248Z",
     "start_time": "2024-09-12T13:28:23.552558Z"
    }
   },
   "outputs": [],
   "source": [
    "# manually input debtUSDC repayment size and date of repayment\n",
    "\n",
    "# TO UPDATE from any repayment tx's in month\n",
    "debtUSDC_monthly_repayment = 271_895.131072\n",
    "repayment_date_str = '06-08-2024'\n",
    "\n",
    "# FIXED\n",
    "debtUSDC_repayment_date = datetime.strptime(repayment_date_str, '%d-%m-%Y')"
   ]
  },
  {
   "cell_type": "markdown",
   "id": "c273fcf0",
   "metadata": {},
   "source": [
    "**Staked ETH Sale**\n",
    "\n",
    "In August, for the first time since making the investment, the mutual converted a significant portion of its stETH back to ETH.\n",
    "\n",
    "We used the the relevant transactions that track the amount of stETH moving to and back from the `SwapOperator` contract can be found [here](https://etherscan.io/advanced-filter?fadd=0xcafeabed7e0653afe9674a3ad862b78db3f36e60&tadd=0xcafeabed7e0653afe9674a3ad862b78db3f36e60&tkn=0xae7ab96520de3a18e5e111b5eaab095312d7fe84&ps=50)\n",
    "* Some orders were filled in full, so the entirety of the stETH only went out of the capital pool.\n",
    "* Some orders were partially filled, so amount of stETH out > amount of stETH back in\n",
    "* Some orders weren't filled at all, so amount of stETH out = amount of stETH in.\n",
    "We therefore calculate the amount using a spreadsheet for now but should be able to capture these transactions using Dune Analytics in future.\n",
    "\n",
    "8. Set the `stETH_sale_amount` to the total stETH sold.\n",
    "9. Set the `stETH_sale_date_str` to the (last) dat in which the stETH transactions were made.\n",
    "\n",
    "A harder problem is that the mutual paid trading fees, so didn't quite reach 1-1 stETH->ETH, the typical submitted trade during august was 500 stETH for 499.85 ETH.\n",
    "The total ETH amount should be available by adding up all the ETH transferred to the capital pool in the relevant \"return\" transactions, e.g.  https://etherscan.io/tx/0x2f71669241bfb00b9820cb40ea4d8ca6bb4711b600b6c7eedd025b662dd9591c is a partial transaction that includes the number of ETH actually received.\n",
    "\n",
    "In future occasions where stETH is sold within a month, if we are able to collect the actual amount of ETH obtained by selling the total amount of stETH, we can adjust the stETH return in the month by the trading loss.\n",
    "\n",
    "In months where there is no stETH sold, set `stETH_sold` below to `0`."
   ]
  },
  {
   "cell_type": "code",
   "execution_count": 31,
   "id": "1cdd1cd6",
   "metadata": {
    "ExecuteTime": {
     "end_time": "2024-09-12T13:28:24.583897Z",
     "start_time": "2024-09-12T13:28:24.576378Z"
    }
   },
   "outputs": [],
   "source": [
    "# TO UPDATE for any stETH sale tx's in month with the amount and date of the sale\n",
    "stETH_sale_amount = 4392.68\n",
    "stETH_sale_date_str = '21-08-2024'\n",
    "\n",
    "# FIXED\n",
    "stETH_sale_date = datetime.strptime(stETH_sale_date_str, '%d-%m-%Y')"
   ]
  },
  {
   "cell_type": "markdown",
   "id": "1cc75bbb",
   "metadata": {},
   "source": [
    "Commented out the coingecko ETH-USD API as it is not used downstream since updating the Dune queries."
   ]
  },
  {
   "cell_type": "code",
   "execution_count": 32,
   "id": "91054a2f",
   "metadata": {
    "ExecuteTime": {
     "end_time": "2024-09-12T13:28:25.834681Z",
     "start_time": "2024-09-12T13:28:25.829306Z"
    }
   },
   "outputs": [],
   "source": [
    "# # coingecko ETH API for ETH-USD at valuation date\n",
    "# url = 'https://api.coingecko.com/api/v3/coins/ethereum/history'\n",
    "# eth_price_params_valn = {'date': valn_date_str}\n",
    "# eth_usd_valn = requests.get(url, params=eth_price_params_valn).json()['market_data']['current_price']['usd']"
   ]
  },
  {
   "cell_type": "markdown",
   "id": "c05ea3f7",
   "metadata": {},
   "source": [
    "## Processing Capital Pool Table"
   ]
  },
  {
   "cell_type": "code",
   "execution_count": 33,
   "id": "e9b7aed8",
   "metadata": {
    "ExecuteTime": {
     "end_time": "2024-09-12T13:28:27.491525Z",
     "start_time": "2024-09-12T13:28:27.470111Z"
    }
   },
   "outputs": [
    {
     "data": {
      "text/html": [
       "<div>\n",
       "<style scoped>\n",
       "    .dataframe tbody tr th:only-of-type {\n",
       "        vertical-align: middle;\n",
       "    }\n",
       "\n",
       "    .dataframe tbody tr th {\n",
       "        vertical-align: top;\n",
       "    }\n",
       "\n",
       "    .dataframe thead th {\n",
       "        text-align: right;\n",
       "    }\n",
       "</style>\n",
       "<table border=\"1\" class=\"dataframe\">\n",
       "  <thead>\n",
       "    <tr style=\"text-align: right;\">\n",
       "      <th></th>\n",
       "      <th>block_date</th>\n",
       "      <th>avg_eth_usd_price</th>\n",
       "      <th>capital_pool_display_curr</th>\n",
       "      <th>eth_display_curr</th>\n",
       "      <th>dai_display_curr</th>\n",
       "      <th>nxmty_display_curr</th>\n",
       "      <th>steth_display_curr</th>\n",
       "      <th>reth_display_curr</th>\n",
       "      <th>usdc_display_curr</th>\n",
       "      <th>cover_re_usdc_display_curr</th>\n",
       "      <th>aave_collateral_weth_display_curr</th>\n",
       "      <th>aave_debt_usdc_display_curr</th>\n",
       "    </tr>\n",
       "  </thead>\n",
       "  <tbody>\n",
       "    <tr>\n",
       "      <th>0</th>\n",
       "      <td>2024-09-12 00:00:00.000 UTC</td>\n",
       "      <td>2363.775714</td>\n",
       "      <td>81931.960553</td>\n",
       "      <td>11527.131613</td>\n",
       "      <td>181.409174</td>\n",
       "      <td>13371.423530</td>\n",
       "      <td>29517.477959</td>\n",
       "      <td>14939.098988</td>\n",
       "      <td>248.811875</td>\n",
       "      <td>5076.692865</td>\n",
       "      <td>9397.302040</td>\n",
       "      <td>-2327.387490</td>\n",
       "    </tr>\n",
       "    <tr>\n",
       "      <th>1</th>\n",
       "      <td>2024-09-11 00:00:00.000 UTC</td>\n",
       "      <td>2338.943889</td>\n",
       "      <td>81966.104990</td>\n",
       "      <td>11527.131613</td>\n",
       "      <td>183.282688</td>\n",
       "      <td>13371.423530</td>\n",
       "      <td>29517.477959</td>\n",
       "      <td>14938.447536</td>\n",
       "      <td>251.547636</td>\n",
       "      <td>5132.512608</td>\n",
       "      <td>9397.182785</td>\n",
       "      <td>-2352.901364</td>\n",
       "    </tr>\n",
       "    <tr>\n",
       "      <th>2</th>\n",
       "      <td>2024-09-10 00:00:00.000 UTC</td>\n",
       "      <td>2354.839965</td>\n",
       "      <td>82013.403075</td>\n",
       "      <td>11577.291174</td>\n",
       "      <td>182.017235</td>\n",
       "      <td>13370.917408</td>\n",
       "      <td>29515.039744</td>\n",
       "      <td>14961.973307</td>\n",
       "      <td>248.774177</td>\n",
       "      <td>5097.019069</td>\n",
       "      <td>9396.701817</td>\n",
       "      <td>-2336.330855</td>\n",
       "    </tr>\n",
       "    <tr>\n",
       "      <th>3</th>\n",
       "      <td>2024-09-09 00:00:00.000 UTC</td>\n",
       "      <td>2320.898229</td>\n",
       "      <td>82072.246601</td>\n",
       "      <td>11584.228755</td>\n",
       "      <td>184.664270</td>\n",
       "      <td>13370.263537</td>\n",
       "      <td>29512.597382</td>\n",
       "      <td>14969.782423</td>\n",
       "      <td>252.467590</td>\n",
       "      <td>5172.691697</td>\n",
       "      <td>9396.216758</td>\n",
       "      <td>-2370.665812</td>\n",
       "    </tr>\n",
       "    <tr>\n",
       "      <th>4</th>\n",
       "      <td>2024-09-08 00:00:00.000 UTC</td>\n",
       "      <td>2286.070556</td>\n",
       "      <td>82141.713935</td>\n",
       "      <td>11600.516305</td>\n",
       "      <td>187.541130</td>\n",
       "      <td>13369.807924</td>\n",
       "      <td>29510.250480</td>\n",
       "      <td>14974.843481</td>\n",
       "      <td>256.438476</td>\n",
       "      <td>5254.306316</td>\n",
       "      <td>9395.723233</td>\n",
       "      <td>-2407.713410</td>\n",
       "    </tr>\n",
       "    <tr>\n",
       "      <th>...</th>\n",
       "      <td>...</td>\n",
       "      <td>...</td>\n",
       "      <td>...</td>\n",
       "      <td>...</td>\n",
       "      <td>...</td>\n",
       "      <td>...</td>\n",
       "      <td>...</td>\n",
       "      <td>...</td>\n",
       "      <td>...</td>\n",
       "      <td>...</td>\n",
       "      <td>...</td>\n",
       "      <td>...</td>\n",
       "    </tr>\n",
       "    <tr>\n",
       "      <th>1935</th>\n",
       "      <td>2019-05-27 00:00:00.000 UTC</td>\n",
       "      <td>268.692708</td>\n",
       "      <td>23.625751</td>\n",
       "      <td>23.625751</td>\n",
       "      <td>0.000000</td>\n",
       "      <td>0.000000</td>\n",
       "      <td>0.000000</td>\n",
       "      <td>0.000000</td>\n",
       "      <td>0.000000</td>\n",
       "      <td>0.000000</td>\n",
       "      <td>0.000000</td>\n",
       "      <td>-0.000000</td>\n",
       "    </tr>\n",
       "    <tr>\n",
       "      <th>1936</th>\n",
       "      <td>2019-05-26 00:00:00.000 UTC</td>\n",
       "      <td>252.561806</td>\n",
       "      <td>23.629793</td>\n",
       "      <td>23.629793</td>\n",
       "      <td>0.000000</td>\n",
       "      <td>0.000000</td>\n",
       "      <td>0.000000</td>\n",
       "      <td>0.000000</td>\n",
       "      <td>0.000000</td>\n",
       "      <td>0.000000</td>\n",
       "      <td>0.000000</td>\n",
       "      <td>-0.000000</td>\n",
       "    </tr>\n",
       "    <tr>\n",
       "      <th>1937</th>\n",
       "      <td>2019-05-25 00:00:00.000 UTC</td>\n",
       "      <td>251.959896</td>\n",
       "      <td>22.633834</td>\n",
       "      <td>22.633834</td>\n",
       "      <td>0.000000</td>\n",
       "      <td>0.000000</td>\n",
       "      <td>0.000000</td>\n",
       "      <td>0.000000</td>\n",
       "      <td>0.000000</td>\n",
       "      <td>0.000000</td>\n",
       "      <td>0.000000</td>\n",
       "      <td>-0.000000</td>\n",
       "    </tr>\n",
       "    <tr>\n",
       "      <th>1938</th>\n",
       "      <td>2019-05-24 00:00:00.000 UTC</td>\n",
       "      <td>249.477361</td>\n",
       "      <td>21.537876</td>\n",
       "      <td>21.537876</td>\n",
       "      <td>0.000000</td>\n",
       "      <td>0.000000</td>\n",
       "      <td>0.000000</td>\n",
       "      <td>0.000000</td>\n",
       "      <td>0.000000</td>\n",
       "      <td>0.000000</td>\n",
       "      <td>0.000000</td>\n",
       "      <td>-0.000000</td>\n",
       "    </tr>\n",
       "    <tr>\n",
       "      <th>1939</th>\n",
       "      <td>2019-05-23 00:00:00.000 UTC</td>\n",
       "      <td>241.129757</td>\n",
       "      <td>0.095959</td>\n",
       "      <td>0.095959</td>\n",
       "      <td>0.000000</td>\n",
       "      <td>0.000000</td>\n",
       "      <td>0.000000</td>\n",
       "      <td>0.000000</td>\n",
       "      <td>0.000000</td>\n",
       "      <td>0.000000</td>\n",
       "      <td>0.000000</td>\n",
       "      <td>-0.000000</td>\n",
       "    </tr>\n",
       "  </tbody>\n",
       "</table>\n",
       "<p>1940 rows × 12 columns</p>\n",
       "</div>"
      ],
      "text/plain": [
       "                       block_date  avg_eth_usd_price  \\\n",
       "0     2024-09-12 00:00:00.000 UTC        2363.775714   \n",
       "1     2024-09-11 00:00:00.000 UTC        2338.943889   \n",
       "2     2024-09-10 00:00:00.000 UTC        2354.839965   \n",
       "3     2024-09-09 00:00:00.000 UTC        2320.898229   \n",
       "4     2024-09-08 00:00:00.000 UTC        2286.070556   \n",
       "...                           ...                ...   \n",
       "1935  2019-05-27 00:00:00.000 UTC         268.692708   \n",
       "1936  2019-05-26 00:00:00.000 UTC         252.561806   \n",
       "1937  2019-05-25 00:00:00.000 UTC         251.959896   \n",
       "1938  2019-05-24 00:00:00.000 UTC         249.477361   \n",
       "1939  2019-05-23 00:00:00.000 UTC         241.129757   \n",
       "\n",
       "      capital_pool_display_curr  eth_display_curr  dai_display_curr  \\\n",
       "0                  81931.960553      11527.131613        181.409174   \n",
       "1                  81966.104990      11527.131613        183.282688   \n",
       "2                  82013.403075      11577.291174        182.017235   \n",
       "3                  82072.246601      11584.228755        184.664270   \n",
       "4                  82141.713935      11600.516305        187.541130   \n",
       "...                         ...               ...               ...   \n",
       "1935                  23.625751         23.625751          0.000000   \n",
       "1936                  23.629793         23.629793          0.000000   \n",
       "1937                  22.633834         22.633834          0.000000   \n",
       "1938                  21.537876         21.537876          0.000000   \n",
       "1939                   0.095959          0.095959          0.000000   \n",
       "\n",
       "      nxmty_display_curr  steth_display_curr  reth_display_curr  \\\n",
       "0           13371.423530        29517.477959       14939.098988   \n",
       "1           13371.423530        29517.477959       14938.447536   \n",
       "2           13370.917408        29515.039744       14961.973307   \n",
       "3           13370.263537        29512.597382       14969.782423   \n",
       "4           13369.807924        29510.250480       14974.843481   \n",
       "...                  ...                 ...                ...   \n",
       "1935            0.000000            0.000000           0.000000   \n",
       "1936            0.000000            0.000000           0.000000   \n",
       "1937            0.000000            0.000000           0.000000   \n",
       "1938            0.000000            0.000000           0.000000   \n",
       "1939            0.000000            0.000000           0.000000   \n",
       "\n",
       "      usdc_display_curr  cover_re_usdc_display_curr  \\\n",
       "0            248.811875                 5076.692865   \n",
       "1            251.547636                 5132.512608   \n",
       "2            248.774177                 5097.019069   \n",
       "3            252.467590                 5172.691697   \n",
       "4            256.438476                 5254.306316   \n",
       "...                 ...                         ...   \n",
       "1935           0.000000                    0.000000   \n",
       "1936           0.000000                    0.000000   \n",
       "1937           0.000000                    0.000000   \n",
       "1938           0.000000                    0.000000   \n",
       "1939           0.000000                    0.000000   \n",
       "\n",
       "      aave_collateral_weth_display_curr  aave_debt_usdc_display_curr  \n",
       "0                           9397.302040                 -2327.387490  \n",
       "1                           9397.182785                 -2352.901364  \n",
       "2                           9396.701817                 -2336.330855  \n",
       "3                           9396.216758                 -2370.665812  \n",
       "4                           9395.723233                 -2407.713410  \n",
       "...                                 ...                          ...  \n",
       "1935                           0.000000                    -0.000000  \n",
       "1936                           0.000000                    -0.000000  \n",
       "1937                           0.000000                    -0.000000  \n",
       "1938                           0.000000                    -0.000000  \n",
       "1939                           0.000000                    -0.000000  \n",
       "\n",
       "[1940 rows x 12 columns]"
      ]
     },
     "execution_count": 33,
     "metadata": {},
     "output_type": "execute_result"
    }
   ],
   "source": [
    "cap_pool_result"
   ]
  },
  {
   "cell_type": "code",
   "execution_count": 34,
   "id": "21a3ea42",
   "metadata": {
    "ExecuteTime": {
     "end_time": "2024-09-12T13:28:30.690049Z",
     "start_time": "2024-09-12T13:28:30.613793Z"
    }
   },
   "outputs": [
    {
     "name": "stderr",
     "output_type": "stream",
     "text": [
      "/tmp/ipykernel_1312/3482859299.py:38: FutureWarning: Setting an item of incompatible dtype is deprecated and will raise an error in a future version of pandas. Value '[  181.45         180.68760504   179.92521008 ... -1187.81134454\n",
      " -1188.5737395  -1189.33613445]' has dtype incompatible with int64, please explicitly cast to a compatible dtype first.\n",
      "  df_cap.loc[df_cap['day'] <= kiln_claim_start_date, 'kiln_rewards'] = daily_first_kiln_rewards * ((df_cap['day'] - kiln_deposit_date) / timedelta(days=1))\n"
     ]
    }
   ],
   "source": [
    "# process capital pool table\n",
    "\n",
    "df_cap_raw = cap_pool_result\n",
    "\n",
    "# drop moving average columns\n",
    "df_cap = df_cap_raw.drop(columns=['capital_pool_display_curr'])\n",
    "# rename columns\n",
    "df_cap.rename(columns={'eth_display_curr': 'ETH',\n",
    "                       'dai_display_curr': 'DAI',\n",
    "                       'reth_display_curr': 'rETH',\n",
    "                       'steth_display_curr': 'stETH',\n",
    "                       'nxmty_display_curr': 'Enzyme',\n",
    "                       'usdc_display_curr': 'USDC',\n",
    "                       'cover_re_usdc_display_curr': 'Cover Re',\n",
    "                       'aave_collateral_weth_display_curr': 'aEthWETH',\n",
    "                       'aave_debt_usdc_display_curr': 'variableDebtEthUSDC',\n",
    "                       'avg_eth_usd_price': 'rate_ETH_USD',\n",
    "                       'block_date': 'day'\n",
    "                  }, inplace=True)\n",
    "\n",
    "\n",
    "# change day to a datetime, and remove timezone\n",
    "df_cap['day'] = pd.to_datetime(df_cap['day']).dt.tz_localize(None)\n",
    "\n",
    "# Adjust Enzyme for unclaimed Kiln returns\n",
    "    # work out days since kiln deposit from the latest day and work out the rewards per day\n",
    "days_first_kiln_rewards = (kiln_claim_start_date - kiln_deposit_date)/timedelta(days=1)\n",
    "daily_first_kiln_rewards = kiln_first_round/days_first_kiln_rewards\n",
    "\n",
    "days_current_kiln_rewards = (df_cap.iloc[0]['day'] - kiln_claim_end_date)/timedelta(days=1)\n",
    "daily_current_kiln_rewards = kiln_current/days_current_kiln_rewards\n",
    "\n",
    "days_total_kiln_rewards = (df_cap.iloc[0]['day'] - kiln_deposit_date)/timedelta(days=1)\n",
    "daily_total_kiln_rewards = kiln_total_rewards / days_total_kiln_rewards\n",
    "\n",
    "    # create a column for kiln rewards based on the daily values since validators went live\n",
    "df_cap['kiln_rewards'] = 0\n",
    "df_cap.loc[df_cap['day'] <= kiln_claim_start_date, 'kiln_rewards'] = daily_first_kiln_rewards * ((df_cap['day'] - kiln_deposit_date) / timedelta(days=1))\n",
    "df_cap.loc[df_cap['day'] >= kiln_claim_end_date, 'kiln_rewards'] = daily_current_kiln_rewards * ((df_cap['day'] - kiln_claim_end_date) / timedelta(days=1))\n",
    "df_cap.loc[df_cap['kiln_rewards'] < 0, 'kiln_rewards'] = 0\n",
    "\n",
    "    # Add Kiln rewards to Enzyme column and then drop the Kiln rewards column\n",
    "df_cap['Enzyme'] = df_cap['Enzyme'] + df_cap['kiln_rewards']\n",
    "df_cap.drop(columns=['kiln_rewards'], inplace=True)\n",
    "\n",
    "# add all the columns except day and the exchange rate together to get numeric total\n",
    "df_cap['sum'] = df_cap.drop(columns=['day', 'rate_ETH_USD']).sum(axis=1)\n",
    "\n",
    "# work out net aave position\n",
    "df_cap['Aave (net)'] = df_cap['aEthWETH'] + df_cap['variableDebtEthUSDC']"
   ]
  },
  {
   "cell_type": "code",
   "execution_count": 35,
   "id": "201aae9f",
   "metadata": {
    "ExecuteTime": {
     "end_time": "2024-09-12T13:28:33.695515Z",
     "start_time": "2024-09-12T13:28:33.663979Z"
    }
   },
   "outputs": [
    {
     "data": {
      "text/html": [
       "<div>\n",
       "<style scoped>\n",
       "    .dataframe tbody tr th:only-of-type {\n",
       "        vertical-align: middle;\n",
       "    }\n",
       "\n",
       "    .dataframe tbody tr th {\n",
       "        vertical-align: top;\n",
       "    }\n",
       "\n",
       "    .dataframe thead th {\n",
       "        text-align: right;\n",
       "    }\n",
       "</style>\n",
       "<table border=\"1\" class=\"dataframe\">\n",
       "  <thead>\n",
       "    <tr style=\"text-align: right;\">\n",
       "      <th></th>\n",
       "      <th>day</th>\n",
       "      <th>rate_ETH_USD</th>\n",
       "      <th>ETH</th>\n",
       "      <th>DAI</th>\n",
       "      <th>Enzyme</th>\n",
       "      <th>stETH</th>\n",
       "      <th>rETH</th>\n",
       "      <th>USDC</th>\n",
       "      <th>Cover Re</th>\n",
       "      <th>aEthWETH</th>\n",
       "      <th>variableDebtEthUSDC</th>\n",
       "      <th>sum</th>\n",
       "      <th>Aave (net)</th>\n",
       "    </tr>\n",
       "  </thead>\n",
       "  <tbody>\n",
       "    <tr>\n",
       "      <th>12</th>\n",
       "      <td>2024-08-31</td>\n",
       "      <td>2521.198160</td>\n",
       "      <td>11722.986239</td>\n",
       "      <td>259.246891</td>\n",
       "      <td>13440.034413</td>\n",
       "      <td>29490.889097</td>\n",
       "      <td>14933.306760</td>\n",
       "      <td>187.530921</td>\n",
       "      <td>4764.110252</td>\n",
       "      <td>9391.764920</td>\n",
       "      <td>-2274.660684</td>\n",
       "      <td>81915.208810</td>\n",
       "      <td>7117.104236</td>\n",
       "    </tr>\n",
       "    <tr>\n",
       "      <th>13</th>\n",
       "      <td>2024-08-30</td>\n",
       "      <td>2512.899410</td>\n",
       "      <td>11756.703936</td>\n",
       "      <td>244.743681</td>\n",
       "      <td>13438.969318</td>\n",
       "      <td>29488.722400</td>\n",
       "      <td>14938.526113</td>\n",
       "      <td>187.745436</td>\n",
       "      <td>4778.708824</td>\n",
       "      <td>9391.295562</td>\n",
       "      <td>-2281.278020</td>\n",
       "      <td>81944.137249</td>\n",
       "      <td>7110.017542</td>\n",
       "    </tr>\n",
       "    <tr>\n",
       "      <th>14</th>\n",
       "      <td>2024-08-29</td>\n",
       "      <td>2546.646007</td>\n",
       "      <td>11807.343786</td>\n",
       "      <td>241.473401</td>\n",
       "      <td>13438.121360</td>\n",
       "      <td>29486.396635</td>\n",
       "      <td>14915.341833</td>\n",
       "      <td>185.193750</td>\n",
       "      <td>4713.760426</td>\n",
       "      <td>9390.817337</td>\n",
       "      <td>-2249.919908</td>\n",
       "      <td>81928.528620</td>\n",
       "      <td>7140.897429</td>\n",
       "    </tr>\n",
       "    <tr>\n",
       "      <th>15</th>\n",
       "      <td>2024-08-28</td>\n",
       "      <td>2496.074757</td>\n",
       "      <td>11850.990519</td>\n",
       "      <td>246.345198</td>\n",
       "      <td>13436.845208</td>\n",
       "      <td>29484.157936</td>\n",
       "      <td>14914.432218</td>\n",
       "      <td>188.920590</td>\n",
       "      <td>4809.652856</td>\n",
       "      <td>9390.333857</td>\n",
       "      <td>-2295.324756</td>\n",
       "      <td>82026.353627</td>\n",
       "      <td>7095.009102</td>\n",
       "    </tr>\n",
       "    <tr>\n",
       "      <th>16</th>\n",
       "      <td>2024-08-27</td>\n",
       "      <td>2624.148681</td>\n",
       "      <td>11939.049229</td>\n",
       "      <td>234.312376</td>\n",
       "      <td>13436.935519</td>\n",
       "      <td>29481.631248</td>\n",
       "      <td>14907.739934</td>\n",
       "      <td>179.670879</td>\n",
       "      <td>4575.496619</td>\n",
       "      <td>9389.858782</td>\n",
       "      <td>-2183.229612</td>\n",
       "      <td>81961.464974</td>\n",
       "      <td>7206.629170</td>\n",
       "    </tr>\n",
       "    <tr>\n",
       "      <th>17</th>\n",
       "      <td>2024-08-26</td>\n",
       "      <td>2727.080104</td>\n",
       "      <td>12051.625548</td>\n",
       "      <td>225.474372</td>\n",
       "      <td>13436.099870</td>\n",
       "      <td>29479.383185</td>\n",
       "      <td>14896.049403</td>\n",
       "      <td>172.833457</td>\n",
       "      <td>4402.123456</td>\n",
       "      <td>9389.380088</td>\n",
       "      <td>-2100.160575</td>\n",
       "      <td>81952.808803</td>\n",
       "      <td>7289.219513</td>\n",
       "    </tr>\n",
       "    <tr>\n",
       "      <th>18</th>\n",
       "      <td>2024-08-25</td>\n",
       "      <td>2765.225937</td>\n",
       "      <td>12133.917858</td>\n",
       "      <td>222.352282</td>\n",
       "      <td>13434.913060</td>\n",
       "      <td>29477.178704</td>\n",
       "      <td>14890.457486</td>\n",
       "      <td>169.336815</td>\n",
       "      <td>4340.845611</td>\n",
       "      <td>9388.921578</td>\n",
       "      <td>-2070.594866</td>\n",
       "      <td>81987.328528</td>\n",
       "      <td>7318.326712</td>\n",
       "    </tr>\n",
       "    <tr>\n",
       "      <th>19</th>\n",
       "      <td>2024-08-24</td>\n",
       "      <td>2768.332083</td>\n",
       "      <td>12215.603906</td>\n",
       "      <td>222.128109</td>\n",
       "      <td>13433.774869</td>\n",
       "      <td>29474.987074</td>\n",
       "      <td>14890.567037</td>\n",
       "      <td>169.113148</td>\n",
       "      <td>4335.112042</td>\n",
       "      <td>9388.468733</td>\n",
       "      <td>-2067.526254</td>\n",
       "      <td>82062.228663</td>\n",
       "      <td>7320.942479</td>\n",
       "    </tr>\n",
       "    <tr>\n",
       "      <th>20</th>\n",
       "      <td>2024-08-23</td>\n",
       "      <td>2685.435174</td>\n",
       "      <td>12322.372872</td>\n",
       "      <td>228.976304</td>\n",
       "      <td>13432.781689</td>\n",
       "      <td>29472.706831</td>\n",
       "      <td>14901.467610</td>\n",
       "      <td>160.739688</td>\n",
       "      <td>4469.741454</td>\n",
       "      <td>9388.037426</td>\n",
       "      <td>-2131.391948</td>\n",
       "      <td>82245.431926</td>\n",
       "      <td>7256.645478</td>\n",
       "    </tr>\n",
       "    <tr>\n",
       "      <th>21</th>\n",
       "      <td>2024-08-22</td>\n",
       "      <td>2622.631667</td>\n",
       "      <td>12368.628206</td>\n",
       "      <td>234.358035</td>\n",
       "      <td>13431.738268</td>\n",
       "      <td>29470.492286</td>\n",
       "      <td>14902.006841</td>\n",
       "      <td>164.316991</td>\n",
       "      <td>4576.573658</td>\n",
       "      <td>9387.597950</td>\n",
       "      <td>-2181.983469</td>\n",
       "      <td>82353.728766</td>\n",
       "      <td>7205.614481</td>\n",
       "    </tr>\n",
       "    <tr>\n",
       "      <th>22</th>\n",
       "      <td>2024-08-21</td>\n",
       "      <td>2603.842465</td>\n",
       "      <td>12443.544164</td>\n",
       "      <td>236.119913</td>\n",
       "      <td>13430.355562</td>\n",
       "      <td>29468.112641</td>\n",
       "      <td>14898.677338</td>\n",
       "      <td>165.545703</td>\n",
       "      <td>4610.795869</td>\n",
       "      <td>9387.149782</td>\n",
       "      <td>-2197.950626</td>\n",
       "      <td>82442.350346</td>\n",
       "      <td>7189.199156</td>\n",
       "    </tr>\n",
       "    <tr>\n",
       "      <th>23</th>\n",
       "      <td>2024-08-20</td>\n",
       "      <td>2632.338021</td>\n",
       "      <td>11850.182868</td>\n",
       "      <td>233.532541</td>\n",
       "      <td>13429.235093</td>\n",
       "      <td>29465.870265</td>\n",
       "      <td>14899.024129</td>\n",
       "      <td>163.743377</td>\n",
       "      <td>4560.597299</td>\n",
       "      <td>9386.695203</td>\n",
       "      <td>-2173.684097</td>\n",
       "      <td>81815.196677</td>\n",
       "      <td>7213.011106</td>\n",
       "    </tr>\n",
       "    <tr>\n",
       "      <th>24</th>\n",
       "      <td>2024-08-19</td>\n",
       "      <td>2612.521354</td>\n",
       "      <td>8230.664393</td>\n",
       "      <td>235.310695</td>\n",
       "      <td>13428.323526</td>\n",
       "      <td>33355.935689</td>\n",
       "      <td>14896.772188</td>\n",
       "      <td>164.730675</td>\n",
       "      <td>4597.414622</td>\n",
       "      <td>9386.229306</td>\n",
       "      <td>-2190.893746</td>\n",
       "      <td>82104.487349</td>\n",
       "      <td>7195.335560</td>\n",
       "    </tr>\n",
       "    <tr>\n",
       "      <th>25</th>\n",
       "      <td>2024-08-18</td>\n",
       "      <td>2641.640729</td>\n",
       "      <td>8333.636625</td>\n",
       "      <td>232.634328</td>\n",
       "      <td>13427.011682</td>\n",
       "      <td>33853.360532</td>\n",
       "      <td>14906.360171</td>\n",
       "      <td>162.839105</td>\n",
       "      <td>4545.700926</td>\n",
       "      <td>9385.748286</td>\n",
       "      <td>-2165.925111</td>\n",
       "      <td>82681.366543</td>\n",
       "      <td>7219.823175</td>\n",
       "    </tr>\n",
       "    <tr>\n",
       "      <th>26</th>\n",
       "      <td>2024-08-17</td>\n",
       "      <td>2607.430139</td>\n",
       "      <td>8419.712861</td>\n",
       "      <td>235.805350</td>\n",
       "      <td>13425.762436</td>\n",
       "      <td>33850.803018</td>\n",
       "      <td>14890.006653</td>\n",
       "      <td>164.969286</td>\n",
       "      <td>4605.165537</td>\n",
       "      <td>9385.272354</td>\n",
       "      <td>-2193.927081</td>\n",
       "      <td>82783.570414</td>\n",
       "      <td>7191.345273</td>\n",
       "    </tr>\n",
       "    <tr>\n",
       "      <th>27</th>\n",
       "      <td>2024-08-16</td>\n",
       "      <td>2600.505417</td>\n",
       "      <td>8490.003123</td>\n",
       "      <td>236.345730</td>\n",
       "      <td>13424.683274</td>\n",
       "      <td>33848.262493</td>\n",
       "      <td>14896.891578</td>\n",
       "      <td>165.383568</td>\n",
       "      <td>4616.730354</td>\n",
       "      <td>9384.788067</td>\n",
       "      <td>-2199.103170</td>\n",
       "      <td>82863.985019</td>\n",
       "      <td>7185.684897</td>\n",
       "    </tr>\n",
       "    <tr>\n",
       "      <th>28</th>\n",
       "      <td>2024-08-15</td>\n",
       "      <td>2624.365104</td>\n",
       "      <td>8543.026723</td>\n",
       "      <td>234.190309</td>\n",
       "      <td>13423.658242</td>\n",
       "      <td>33845.555019</td>\n",
       "      <td>14894.188551</td>\n",
       "      <td>163.172893</td>\n",
       "      <td>4575.489905</td>\n",
       "      <td>9384.305857</td>\n",
       "      <td>-2179.141053</td>\n",
       "      <td>82884.446448</td>\n",
       "      <td>7205.164805</td>\n",
       "    </tr>\n",
       "    <tr>\n",
       "      <th>29</th>\n",
       "      <td>2024-08-14</td>\n",
       "      <td>2698.258299</td>\n",
       "      <td>8643.798736</td>\n",
       "      <td>227.672046</td>\n",
       "      <td>13422.636880</td>\n",
       "      <td>33842.776676</td>\n",
       "      <td>14889.225141</td>\n",
       "      <td>150.752498</td>\n",
       "      <td>4446.911537</td>\n",
       "      <td>9383.820624</td>\n",
       "      <td>-2117.593726</td>\n",
       "      <td>82890.000412</td>\n",
       "      <td>7266.226898</td>\n",
       "    </tr>\n",
       "    <tr>\n",
       "      <th>30</th>\n",
       "      <td>2024-08-13</td>\n",
       "      <td>2678.363785</td>\n",
       "      <td>8755.014630</td>\n",
       "      <td>228.098977</td>\n",
       "      <td>13421.167571</td>\n",
       "      <td>33840.042394</td>\n",
       "      <td>14886.309577</td>\n",
       "      <td>151.928104</td>\n",
       "      <td>4481.589681</td>\n",
       "      <td>9383.324835</td>\n",
       "      <td>-2133.789744</td>\n",
       "      <td>83013.686026</td>\n",
       "      <td>7249.535091</td>\n",
       "    </tr>\n",
       "    <tr>\n",
       "      <th>31</th>\n",
       "      <td>2024-08-12</td>\n",
       "      <td>2624.578507</td>\n",
       "      <td>8863.978868</td>\n",
       "      <td>232.761740</td>\n",
       "      <td>13420.244988</td>\n",
       "      <td>33837.248162</td>\n",
       "      <td>14896.081353</td>\n",
       "      <td>155.003672</td>\n",
       "      <td>4573.794948</td>\n",
       "      <td>9382.807253</td>\n",
       "      <td>-2177.370367</td>\n",
       "      <td>83184.550617</td>\n",
       "      <td>7205.436886</td>\n",
       "    </tr>\n",
       "    <tr>\n",
       "      <th>32</th>\n",
       "      <td>2024-08-11</td>\n",
       "      <td>2633.411632</td>\n",
       "      <td>8965.041042</td>\n",
       "      <td>231.963796</td>\n",
       "      <td>13419.665844</td>\n",
       "      <td>33834.480970</td>\n",
       "      <td>14895.770569</td>\n",
       "      <td>154.510969</td>\n",
       "      <td>4559.256430</td>\n",
       "      <td>9382.270327</td>\n",
       "      <td>-2170.125190</td>\n",
       "      <td>83272.834758</td>\n",
       "      <td>7212.145137</td>\n",
       "    </tr>\n",
       "    <tr>\n",
       "      <th>33</th>\n",
       "      <td>2024-08-10</td>\n",
       "      <td>2614.788333</td>\n",
       "      <td>9067.128300</td>\n",
       "      <td>233.608709</td>\n",
       "      <td>13418.387201</td>\n",
       "      <td>33831.932808</td>\n",
       "      <td>14868.281047</td>\n",
       "      <td>155.534050</td>\n",
       "      <td>4590.623492</td>\n",
       "      <td>9381.751831</td>\n",
       "      <td>-2184.724765</td>\n",
       "      <td>83362.522673</td>\n",
       "      <td>7197.027066</td>\n",
       "    </tr>\n",
       "    <tr>\n",
       "      <th>34</th>\n",
       "      <td>2024-08-09</td>\n",
       "      <td>2633.856007</td>\n",
       "      <td>9161.782224</td>\n",
       "      <td>231.969439</td>\n",
       "      <td>13417.430979</td>\n",
       "      <td>33829.229325</td>\n",
       "      <td>14864.695884</td>\n",
       "      <td>153.577446</td>\n",
       "      <td>4556.812082</td>\n",
       "      <td>9381.262081</td>\n",
       "      <td>-2168.296760</td>\n",
       "      <td>83428.462699</td>\n",
       "      <td>7212.965321</td>\n",
       "    </tr>\n",
       "    <tr>\n",
       "      <th>35</th>\n",
       "      <td>2024-08-08</td>\n",
       "      <td>2493.074028</td>\n",
       "      <td>9324.170920</td>\n",
       "      <td>241.986305</td>\n",
       "      <td>13416.377705</td>\n",
       "      <td>33826.378112</td>\n",
       "      <td>14879.254471</td>\n",
       "      <td>159.993653</td>\n",
       "      <td>4815.492671</td>\n",
       "      <td>9380.786627</td>\n",
       "      <td>-2291.041178</td>\n",
       "      <td>83753.399284</td>\n",
       "      <td>7089.745449</td>\n",
       "    </tr>\n",
       "    <tr>\n",
       "      <th>36</th>\n",
       "      <td>2024-08-07</td>\n",
       "      <td>2445.900625</td>\n",
       "      <td>9459.395184</td>\n",
       "      <td>246.559162</td>\n",
       "      <td>13415.442646</td>\n",
       "      <td>33823.531040</td>\n",
       "      <td>14902.178786</td>\n",
       "      <td>163.102106</td>\n",
       "      <td>4909.050969</td>\n",
       "      <td>9380.316414</td>\n",
       "      <td>-2335.200724</td>\n",
       "      <td>83964.375584</td>\n",
       "      <td>7045.115690</td>\n",
       "    </tr>\n",
       "    <tr>\n",
       "      <th>37</th>\n",
       "      <td>2024-08-06</td>\n",
       "      <td>2495.301979</td>\n",
       "      <td>9562.811413</td>\n",
       "      <td>241.672331</td>\n",
       "      <td>13418.262123</td>\n",
       "      <td>33820.732074</td>\n",
       "      <td>14900.016631</td>\n",
       "      <td>159.869231</td>\n",
       "      <td>4811.747827</td>\n",
       "      <td>9379.832226</td>\n",
       "      <td>-2288.578633</td>\n",
       "      <td>84006.365224</td>\n",
       "      <td>7091.253593</td>\n",
       "    </tr>\n",
       "    <tr>\n",
       "      <th>38</th>\n",
       "      <td>2024-08-05</td>\n",
       "      <td>2373.402222</td>\n",
       "      <td>9736.671735</td>\n",
       "      <td>368.888541</td>\n",
       "      <td>13415.266586</td>\n",
       "      <td>33817.422222</td>\n",
       "      <td>14916.427742</td>\n",
       "      <td>167.505855</td>\n",
       "      <td>5060.677265</td>\n",
       "      <td>9379.338170</td>\n",
       "      <td>-2521.285104</td>\n",
       "      <td>84340.913011</td>\n",
       "      <td>6858.053066</td>\n",
       "    </tr>\n",
       "    <tr>\n",
       "      <th>39</th>\n",
       "      <td>2024-08-04</td>\n",
       "      <td>2854.363090</td>\n",
       "      <td>9906.576628</td>\n",
       "      <td>306.798565</td>\n",
       "      <td>13414.736053</td>\n",
       "      <td>33808.250161</td>\n",
       "      <td>14949.167917</td>\n",
       "      <td>139.325793</td>\n",
       "      <td>4209.302842</td>\n",
       "      <td>9378.343271</td>\n",
       "      <td>-2096.801765</td>\n",
       "      <td>84015.699465</td>\n",
       "      <td>7281.541506</td>\n",
       "    </tr>\n",
       "    <tr>\n",
       "      <th>40</th>\n",
       "      <td>2024-08-03</td>\n",
       "      <td>2960.790278</td>\n",
       "      <td>9943.621853</td>\n",
       "      <td>295.785215</td>\n",
       "      <td>13414.201567</td>\n",
       "      <td>33805.542150</td>\n",
       "      <td>14946.148773</td>\n",
       "      <td>132.328001</td>\n",
       "      <td>4057.910782</td>\n",
       "      <td>9377.816367</td>\n",
       "      <td>-2021.035906</td>\n",
       "      <td>83952.318801</td>\n",
       "      <td>7356.780462</td>\n",
       "    </tr>\n",
       "    <tr>\n",
       "      <th>41</th>\n",
       "      <td>2024-08-02</td>\n",
       "      <td>3105.162813</td>\n",
       "      <td>9966.957380</td>\n",
       "      <td>281.875172</td>\n",
       "      <td>13413.667095</td>\n",
       "      <td>33802.719672</td>\n",
       "      <td>14945.382075</td>\n",
       "      <td>126.140545</td>\n",
       "      <td>3868.169044</td>\n",
       "      <td>9377.305890</td>\n",
       "      <td>-1926.202557</td>\n",
       "      <td>83856.014316</td>\n",
       "      <td>7451.103334</td>\n",
       "    </tr>\n",
       "    <tr>\n",
       "      <th>42</th>\n",
       "      <td>2024-08-01</td>\n",
       "      <td>3170.883264</td>\n",
       "      <td>10081.063033</td>\n",
       "      <td>275.966369</td>\n",
       "      <td>13413.132627</td>\n",
       "      <td>33799.938432</td>\n",
       "      <td>14944.572915</td>\n",
       "      <td>123.521103</td>\n",
       "      <td>3787.842430</td>\n",
       "      <td>9376.792196</td>\n",
       "      <td>-1885.879386</td>\n",
       "      <td>83916.949719</td>\n",
       "      <td>7490.912810</td>\n",
       "    </tr>\n",
       "    <tr>\n",
       "      <th>43</th>\n",
       "      <td>2024-07-31</td>\n",
       "      <td>3294.723889</td>\n",
       "      <td>10088.430440</td>\n",
       "      <td>265.647244</td>\n",
       "      <td>13412.598152</td>\n",
       "      <td>33797.130644</td>\n",
       "      <td>14940.849537</td>\n",
       "      <td>88.406994</td>\n",
       "      <td>3644.911502</td>\n",
       "      <td>9376.283703</td>\n",
       "      <td>-1814.404930</td>\n",
       "      <td>83799.853287</td>\n",
       "      <td>7561.878773</td>\n",
       "    </tr>\n",
       "  </tbody>\n",
       "</table>\n",
       "</div>"
      ],
      "text/plain": [
       "          day  rate_ETH_USD           ETH         DAI        Enzyme  \\\n",
       "12 2024-08-31   2521.198160  11722.986239  259.246891  13440.034413   \n",
       "13 2024-08-30   2512.899410  11756.703936  244.743681  13438.969318   \n",
       "14 2024-08-29   2546.646007  11807.343786  241.473401  13438.121360   \n",
       "15 2024-08-28   2496.074757  11850.990519  246.345198  13436.845208   \n",
       "16 2024-08-27   2624.148681  11939.049229  234.312376  13436.935519   \n",
       "17 2024-08-26   2727.080104  12051.625548  225.474372  13436.099870   \n",
       "18 2024-08-25   2765.225937  12133.917858  222.352282  13434.913060   \n",
       "19 2024-08-24   2768.332083  12215.603906  222.128109  13433.774869   \n",
       "20 2024-08-23   2685.435174  12322.372872  228.976304  13432.781689   \n",
       "21 2024-08-22   2622.631667  12368.628206  234.358035  13431.738268   \n",
       "22 2024-08-21   2603.842465  12443.544164  236.119913  13430.355562   \n",
       "23 2024-08-20   2632.338021  11850.182868  233.532541  13429.235093   \n",
       "24 2024-08-19   2612.521354   8230.664393  235.310695  13428.323526   \n",
       "25 2024-08-18   2641.640729   8333.636625  232.634328  13427.011682   \n",
       "26 2024-08-17   2607.430139   8419.712861  235.805350  13425.762436   \n",
       "27 2024-08-16   2600.505417   8490.003123  236.345730  13424.683274   \n",
       "28 2024-08-15   2624.365104   8543.026723  234.190309  13423.658242   \n",
       "29 2024-08-14   2698.258299   8643.798736  227.672046  13422.636880   \n",
       "30 2024-08-13   2678.363785   8755.014630  228.098977  13421.167571   \n",
       "31 2024-08-12   2624.578507   8863.978868  232.761740  13420.244988   \n",
       "32 2024-08-11   2633.411632   8965.041042  231.963796  13419.665844   \n",
       "33 2024-08-10   2614.788333   9067.128300  233.608709  13418.387201   \n",
       "34 2024-08-09   2633.856007   9161.782224  231.969439  13417.430979   \n",
       "35 2024-08-08   2493.074028   9324.170920  241.986305  13416.377705   \n",
       "36 2024-08-07   2445.900625   9459.395184  246.559162  13415.442646   \n",
       "37 2024-08-06   2495.301979   9562.811413  241.672331  13418.262123   \n",
       "38 2024-08-05   2373.402222   9736.671735  368.888541  13415.266586   \n",
       "39 2024-08-04   2854.363090   9906.576628  306.798565  13414.736053   \n",
       "40 2024-08-03   2960.790278   9943.621853  295.785215  13414.201567   \n",
       "41 2024-08-02   3105.162813   9966.957380  281.875172  13413.667095   \n",
       "42 2024-08-01   3170.883264  10081.063033  275.966369  13413.132627   \n",
       "43 2024-07-31   3294.723889  10088.430440  265.647244  13412.598152   \n",
       "\n",
       "           stETH          rETH        USDC     Cover Re     aEthWETH  \\\n",
       "12  29490.889097  14933.306760  187.530921  4764.110252  9391.764920   \n",
       "13  29488.722400  14938.526113  187.745436  4778.708824  9391.295562   \n",
       "14  29486.396635  14915.341833  185.193750  4713.760426  9390.817337   \n",
       "15  29484.157936  14914.432218  188.920590  4809.652856  9390.333857   \n",
       "16  29481.631248  14907.739934  179.670879  4575.496619  9389.858782   \n",
       "17  29479.383185  14896.049403  172.833457  4402.123456  9389.380088   \n",
       "18  29477.178704  14890.457486  169.336815  4340.845611  9388.921578   \n",
       "19  29474.987074  14890.567037  169.113148  4335.112042  9388.468733   \n",
       "20  29472.706831  14901.467610  160.739688  4469.741454  9388.037426   \n",
       "21  29470.492286  14902.006841  164.316991  4576.573658  9387.597950   \n",
       "22  29468.112641  14898.677338  165.545703  4610.795869  9387.149782   \n",
       "23  29465.870265  14899.024129  163.743377  4560.597299  9386.695203   \n",
       "24  33355.935689  14896.772188  164.730675  4597.414622  9386.229306   \n",
       "25  33853.360532  14906.360171  162.839105  4545.700926  9385.748286   \n",
       "26  33850.803018  14890.006653  164.969286  4605.165537  9385.272354   \n",
       "27  33848.262493  14896.891578  165.383568  4616.730354  9384.788067   \n",
       "28  33845.555019  14894.188551  163.172893  4575.489905  9384.305857   \n",
       "29  33842.776676  14889.225141  150.752498  4446.911537  9383.820624   \n",
       "30  33840.042394  14886.309577  151.928104  4481.589681  9383.324835   \n",
       "31  33837.248162  14896.081353  155.003672  4573.794948  9382.807253   \n",
       "32  33834.480970  14895.770569  154.510969  4559.256430  9382.270327   \n",
       "33  33831.932808  14868.281047  155.534050  4590.623492  9381.751831   \n",
       "34  33829.229325  14864.695884  153.577446  4556.812082  9381.262081   \n",
       "35  33826.378112  14879.254471  159.993653  4815.492671  9380.786627   \n",
       "36  33823.531040  14902.178786  163.102106  4909.050969  9380.316414   \n",
       "37  33820.732074  14900.016631  159.869231  4811.747827  9379.832226   \n",
       "38  33817.422222  14916.427742  167.505855  5060.677265  9379.338170   \n",
       "39  33808.250161  14949.167917  139.325793  4209.302842  9378.343271   \n",
       "40  33805.542150  14946.148773  132.328001  4057.910782  9377.816367   \n",
       "41  33802.719672  14945.382075  126.140545  3868.169044  9377.305890   \n",
       "42  33799.938432  14944.572915  123.521103  3787.842430  9376.792196   \n",
       "43  33797.130644  14940.849537   88.406994  3644.911502  9376.283703   \n",
       "\n",
       "    variableDebtEthUSDC           sum   Aave (net)  \n",
       "12         -2274.660684  81915.208810  7117.104236  \n",
       "13         -2281.278020  81944.137249  7110.017542  \n",
       "14         -2249.919908  81928.528620  7140.897429  \n",
       "15         -2295.324756  82026.353627  7095.009102  \n",
       "16         -2183.229612  81961.464974  7206.629170  \n",
       "17         -2100.160575  81952.808803  7289.219513  \n",
       "18         -2070.594866  81987.328528  7318.326712  \n",
       "19         -2067.526254  82062.228663  7320.942479  \n",
       "20         -2131.391948  82245.431926  7256.645478  \n",
       "21         -2181.983469  82353.728766  7205.614481  \n",
       "22         -2197.950626  82442.350346  7189.199156  \n",
       "23         -2173.684097  81815.196677  7213.011106  \n",
       "24         -2190.893746  82104.487349  7195.335560  \n",
       "25         -2165.925111  82681.366543  7219.823175  \n",
       "26         -2193.927081  82783.570414  7191.345273  \n",
       "27         -2199.103170  82863.985019  7185.684897  \n",
       "28         -2179.141053  82884.446448  7205.164805  \n",
       "29         -2117.593726  82890.000412  7266.226898  \n",
       "30         -2133.789744  83013.686026  7249.535091  \n",
       "31         -2177.370367  83184.550617  7205.436886  \n",
       "32         -2170.125190  83272.834758  7212.145137  \n",
       "33         -2184.724765  83362.522673  7197.027066  \n",
       "34         -2168.296760  83428.462699  7212.965321  \n",
       "35         -2291.041178  83753.399284  7089.745449  \n",
       "36         -2335.200724  83964.375584  7045.115690  \n",
       "37         -2288.578633  84006.365224  7091.253593  \n",
       "38         -2521.285104  84340.913011  6858.053066  \n",
       "39         -2096.801765  84015.699465  7281.541506  \n",
       "40         -2021.035906  83952.318801  7356.780462  \n",
       "41         -1926.202557  83856.014316  7451.103334  \n",
       "42         -1885.879386  83916.949719  7490.912810  \n",
       "43         -1814.404930  83799.853287  7561.878773  "
      ]
     },
     "execution_count": 35,
     "metadata": {},
     "output_type": "execute_result"
    }
   ],
   "source": [
    "df_cap.loc[(df_cap['day'] <= valn_date) & (df_cap['day'] >= eom_before_valn_date)]"
   ]
  },
  {
   "cell_type": "markdown",
   "id": "b95f519c",
   "metadata": {},
   "source": [
    "## Pie Chart of Assets at Valuation Date"
   ]
  },
  {
   "cell_type": "code",
   "execution_count": 36,
   "id": "ff85e094",
   "metadata": {
    "ExecuteTime": {
     "end_time": "2024-09-12T13:28:47.640055Z",
     "start_time": "2024-09-12T13:28:47.474128Z"
    }
   },
   "outputs": [
    {
     "data": {
      "image/png": "[encoded data removed]",
      "text/plain": [
       "<Figure size 640x480 with 1 Axes>"
      ]
     },
     "metadata": {},
     "output_type": "display_data"
    }
   ],
   "source": [
    "# pie chart of assets\n",
    "asset_list = ['ETH', 'DAI', 'stETH', 'rETH', 'Enzyme', 'Cover Re', 'Aave (net)', 'USDC']\n",
    "valn_date_row = df_cap.loc[df_cap['day'] == valn_date][asset_list]\n",
    "\n",
    "# add formatted ETH values to labels\n",
    "labels = []\n",
    "for n, i in enumerate(asset_list):\n",
    "    formatted_value = '{:,.0f}'.format(valn_date_row.values[0][n])\n",
    "    labels.append(f'{i} - {formatted_value}')\n",
    "\n",
    "# create chart\n",
    "plt.pie(valn_date_row.values[0], labels=labels, autopct='%1.2f%%')\n",
    "plt.title(f'{valn_date_str} Capital Pool Split in ETH');"
   ]
  },
  {
   "cell_type": "markdown",
   "id": "210d6c9b",
   "metadata": {},
   "source": [
    "## Monthly Changes in Capital Pool"
   ]
  },
  {
   "cell_type": "markdown",
   "id": "580c9e0e",
   "metadata": {},
   "source": [
    "### RAMM Net Withdrawals"
   ]
  },
  {
   "cell_type": "code",
   "execution_count": 37,
   "id": "f55a9ce8",
   "metadata": {
    "ExecuteTime": {
     "end_time": "2024-09-12T13:28:51.891292Z",
     "start_time": "2024-09-12T13:28:51.852158Z"
    }
   },
   "outputs": [
    {
     "data": {
      "text/plain": [
       "-2809.7239135360287"
      ]
     },
     "execution_count": 37,
     "metadata": {},
     "output_type": "execute_result"
    }
   ],
   "source": [
    "# RAMM Net Withdrawals\n",
    "df_ramm = ramm_volume_result\n",
    "\n",
    "# change timestamp to datetime format and normalise all dates to midnight\n",
    "df_ramm['ts'] = pd.to_datetime(df_ramm['ts']).dt.floor('D')\n",
    "\n",
    "# group by date, take the latest value and re-sort into descending order\n",
    "df_ramm = df_ramm.groupby(by=df_ramm['ts'].dt.date, as_index=False).first().\\\n",
    "            sort_values(['ts'], ascending=False).reset_index(drop=True)\n",
    "\n",
    "# determine net ramm flows 30 days before and on the valuation date by subtracting redemptions from mints\n",
    "ramm_flows_monthly_opening = df_ramm.loc[df_ramm['ts'] == eom_before_valn_date]['cummulative_eth_in'].values[0] - df_ramm.loc[df_ramm['ts'] == eom_before_valn_date]['cummulative_eth_out'].values[0]\n",
    "ramm_flows_monthly_closing = df_ramm.loc[df_ramm['ts'] == valn_date]['cummulative_eth_in'].values[0] - df_ramm.loc[df_ramm['ts'] == valn_date]['cummulative_eth_out'].values[0]\n",
    "\n",
    "# determine net flows from ramm in 30 days before valuation date \n",
    "ramm_flow_monthly_change = ramm_flows_monthly_closing - ramm_flows_monthly_opening\n",
    "ramm_flow_monthly_change"
   ]
  },
  {
   "cell_type": "markdown",
   "id": "657486ee",
   "metadata": {},
   "source": [
    "### Cover Fees"
   ]
  },
  {
   "cell_type": "code",
   "execution_count": 38,
   "id": "99c09c5f",
   "metadata": {
    "ExecuteTime": {
     "end_time": "2024-09-12T13:28:53.675022Z",
     "start_time": "2024-09-12T13:28:53.645972Z"
    }
   },
   "outputs": [
    {
     "name": "stdout",
     "output_type": "stream",
     "text": [
      "ETH Cover Fees = 49.82137790565918\n",
      "DAI Cover Fees = 19.3297343264266\n",
      "USDC Cover Fees = 68.59803263516905\n",
      "Total Cover Fees = 137.7491448672548\n"
     ]
    }
   ],
   "source": [
    "df_covers = covers_list_result\n",
    "\n",
    "# input commission ratio to obtain cover fees net of commission (representing inflows to Cap Pool)\n",
    "net_of_commission_ratio = 0.85\n",
    "\n",
    "# obtain closing ETH/USD price\n",
    "eth_usd_closing = df_cap.loc[df_cap['day'] == valn_date]['rate_ETH_USD'].values[0]\n",
    "\n",
    "# change timestamp to datetime format and normalise all dates to midnight\n",
    "df_covers['cover_start_time'] = pd.to_datetime(df_covers['cover_start_time']).dt.floor('D').dt.tz_localize(None)\n",
    "\n",
    "# filter for covers that were bought the month of the valn date\n",
    "df_covers_valn_month = df_covers[(df_covers['cover_start_time'] > eom_before_valn_date) & (df_covers['cover_start_time']<=valn_date)]\n",
    "\n",
    "# filter for covers that were paid for in ETH\n",
    "df_covers_valn_month_eth = df_covers_valn_month[df_covers_valn_month['premium_asset'] == 'ETH']\n",
    "# work out cover fees denominated in ETH, allowing for 15% commission\n",
    "monthly_cover_fees_eth = df_covers_valn_month_eth['premium_native'].sum() * net_of_commission_ratio\n",
    "print(f'ETH Cover Fees = {monthly_cover_fees_eth}')\n",
    "\n",
    "# filter for covers that were paid for in DAI\n",
    "df_covers_valn_month_dai = df_covers_valn_month[df_covers_valn_month['premium_asset'] == 'DAI']\n",
    "# work out cover fees denominated in ETH, allowing for 15% commission\n",
    "monthly_cover_fees_dai = df_covers_valn_month_dai['premium_native'].sum() * net_of_commission_ratio\n",
    "monthly_cover_fees_dai_in_eth = monthly_cover_fees_dai / eth_usd_closing\n",
    "print(f'DAI Cover Fees = {monthly_cover_fees_dai_in_eth}')\n",
    "\n",
    "# filter for covers that were paid for in USDC\n",
    "df_covers_valn_month_usdc = df_covers_valn_month[df_covers_valn_month['premium_asset'] == 'USDC']\n",
    "# work out cover fees denominated in ETH, allowing for 15% commission\n",
    "monthly_cover_fees_usdc = df_covers_valn_month_usdc['premium_native'].sum() * net_of_commission_ratio\n",
    "monthly_cover_fees_usdc_in_eth = monthly_cover_fees_usdc / eth_usd_closing\n",
    "print(f'USDC Cover Fees = {monthly_cover_fees_usdc_in_eth}')\n",
    "\n",
    "monthly_cover_fees = monthly_cover_fees_eth + monthly_cover_fees_dai_in_eth + monthly_cover_fees_usdc_in_eth\n",
    "print(f'Total Cover Fees = {monthly_cover_fees}')"
   ]
  },
  {
   "cell_type": "markdown",
   "id": "d586e094",
   "metadata": {},
   "source": [
    "### FX Impacts"
   ]
  },
  {
   "cell_type": "code",
   "execution_count": 39,
   "id": "fb00444b",
   "metadata": {
    "ExecuteTime": {
     "end_time": "2024-09-12T13:28:56.317501Z",
     "start_time": "2024-09-12T13:28:56.305214Z"
    }
   },
   "outputs": [
    {
     "name": "stdout",
     "output_type": "stream",
     "text": [
      "DAI FX Impact = 81.5029066750484\n"
     ]
    }
   ],
   "source": [
    "# exchange rate changes\n",
    "eth_usd_opening = df_cap.loc[df_cap['day'] == eom_before_valn_date]['rate_ETH_USD'].values[0]\n",
    "\n",
    "# get net monthly change from opening DAI\n",
    "dai_monthly_opening = df_cap.loc[df_cap['day'] == eom_before_valn_date]['DAI'].values[0]\n",
    "\n",
    "# dai_monthly_closing = df_cap.loc[df_cap['day'] == valn_date]['DAI'].values[0]\n",
    "# dai_monthly_closing_less_fees = dai_monthly_closing - monthly_cover_fees_dai_in_eth\n",
    "\n",
    "# # allow for withdrawals\n",
    "# dai_withdrawals_eth = dai_cover_re_withdrawals / eth_usd_opening\n",
    "\n",
    "# dai_change = dai_monthly_opening - dai_withdrawals_eth - dai_monthly_closing_less_fees\n",
    "dai_fx_change = dai_monthly_opening * eth_usd_opening / eth_usd_closing - dai_monthly_opening\n",
    "\n",
    "print(f'DAI FX Impact = {dai_fx_change}')"
   ]
  },
  {
   "cell_type": "code",
   "execution_count": 40,
   "id": "2276bd0e",
   "metadata": {
    "ExecuteTime": {
     "end_time": "2024-09-12T13:29:00.718573Z",
     "start_time": "2024-09-12T13:29:00.707821Z"
    }
   },
   "outputs": [
    {
     "name": "stdout",
     "output_type": "stream",
     "text": [
      "USDC FX Impact = 27.124042022375477\n"
     ]
    }
   ],
   "source": [
    "# USDC FX Impact\n",
    "usdc_monthly_opening = df_cap.loc[df_cap['day'] == eom_before_valn_date]['USDC'].values[0]\n",
    "\n",
    "usdc_fx_change = usdc_monthly_opening * eth_usd_opening / eth_usd_closing - usdc_monthly_opening\n",
    "print(f'USDC FX Impact = {usdc_fx_change}')"
   ]
  },
  {
   "cell_type": "code",
   "execution_count": 41,
   "id": "995eab26",
   "metadata": {
    "ExecuteTime": {
     "end_time": "2024-09-12T13:29:01.681105Z",
     "start_time": "2024-09-12T13:29:01.670376Z"
    }
   },
   "outputs": [
    {
     "name": "stdout",
     "output_type": "stream",
     "text": [
      "Cover Re FX Impact = 1118.2908478679192\n"
     ]
    }
   ],
   "source": [
    "# Cover Re FX impact\n",
    "cover_re_opening = df_cap.loc[df_cap['day'] == eom_before_valn_date]['Cover Re'].values[0]\n",
    "\n",
    "cover_re_fx_change = cover_re_opening * eth_usd_opening / eth_usd_closing - cover_re_opening\n",
    "print(f'Cover Re FX Impact = {cover_re_fx_change}')"
   ]
  },
  {
   "cell_type": "code",
   "execution_count": 42,
   "id": "6d8eec2e",
   "metadata": {
    "ExecuteTime": {
     "end_time": "2024-09-12T13:29:03.258074Z",
     "start_time": "2024-09-12T13:29:03.248094Z"
    }
   },
   "outputs": [
    {
     "name": "stdout",
     "output_type": "stream",
     "text": [
      "debtUSDC FX Impact = -556.6753612376153\n"
     ]
    }
   ],
   "source": [
    "# debtUSDC FX impact\n",
    "debtUSDC_opening = df_cap.loc[df_cap['day'] == eom_before_valn_date]['variableDebtEthUSDC'].values[0]\n",
    "\n",
    "# FX Impact\n",
    "debtUSDC_fx_change = debtUSDC_opening * eth_usd_opening / eth_usd_closing - debtUSDC_opening\n",
    "print(f'debtUSDC FX Impact = {debtUSDC_fx_change}')"
   ]
  },
  {
   "cell_type": "code",
   "execution_count": 43,
   "id": "91b26243",
   "metadata": {
    "ExecuteTime": {
     "end_time": "2024-09-12T13:29:05.875213Z",
     "start_time": "2024-09-12T13:29:05.868607Z"
    }
   },
   "outputs": [
    {
     "name": "stdout",
     "output_type": "stream",
     "text": [
      "Total FX Impact = 670.2424353277277\n"
     ]
    }
   ],
   "source": [
    "# Total FX Impacts\n",
    "fx_change = dai_fx_change + usdc_fx_change + cover_re_fx_change + debtUSDC_fx_change\n",
    "\n",
    "print(f'Total FX Impact = {fx_change}')"
   ]
  },
  {
   "cell_type": "markdown",
   "id": "b6bfce7a",
   "metadata": {
    "heading_collapsed": true
   },
   "source": [
    "#### TEMPORARY For New Investment in May - FX Impacts Allowing for Cover Re investment\n",
    "\n",
    "In future treat Cover Re, Aave Debt, USDC and DAI as per above."
   ]
  },
  {
   "cell_type": "code",
   "execution_count": 19,
   "id": "0edc0a23",
   "metadata": {
    "ExecuteTime": {
     "end_time": "2024-08-28T08:59:53.072615Z",
     "start_time": "2024-08-28T08:59:53.058028Z"
    },
    "hidden": true
   },
   "outputs": [],
   "source": [
    "# cover_re_date_str = '23-05-2024'\n",
    "# cover_re_date = datetime.strptime(cover_re_date_str, '%d-%m-%Y')\n",
    "# eth_usd_cover_re_date = df_cap.loc[df_cap['day'] == cover_re_date]['rate_ETH_USD'].values[0]"
   ]
  },
  {
   "cell_type": "code",
   "execution_count": 20,
   "id": "b82b8b29",
   "metadata": {
    "ExecuteTime": {
     "end_time": "2024-08-28T08:59:53.089611Z",
     "start_time": "2024-08-28T08:59:53.078405Z"
    },
    "hidden": true
   },
   "outputs": [],
   "source": [
    "# # USDC Split into before and after Cover Re\n",
    "# usdc_monthly_opening = df_cap.loc[df_cap['day'] == eom_before_valn_date]['USDC'].values[0]\n",
    "# usdc_cover_re_opening = df_cap.loc[df_cap['day'] == cover_re_date]['USDC'].values[0]\n",
    "# # Before Cover Re\n",
    "# usdc_fx_change_pre_cover_re = usdc_monthly_opening * eth_usd_opening / eth_usd_cover_re_date - usdc_monthly_opening\n",
    "# print(f'USDC FX Impact Pre Cover Re = {usdc_fx_change_pre_cover_re}')\n",
    "# # After Cover Re\n",
    "# usdc_fx_change_post_cover_re = usdc_cover_re_opening * eth_usd_cover_re_date / eth_usd_closing - usdc_cover_re_opening\n",
    "# print(f'USDC FX Impact Post Cover Re = {usdc_fx_change_post_cover_re}')"
   ]
  },
  {
   "cell_type": "code",
   "execution_count": 21,
   "id": "e7a72d1b",
   "metadata": {
    "ExecuteTime": {
     "end_time": "2024-08-28T08:59:53.125341Z",
     "start_time": "2024-08-28T08:59:53.093881Z"
    },
    "hidden": true
   },
   "outputs": [],
   "source": [
    "# # DAI Split into before and after Cover Re\n",
    "# dai_monthly_opening = df_cap.loc[df_cap['day'] == eom_before_valn_date]['DAI'].values[0]\n",
    "# dai_cover_re_opening = df_cap.loc[df_cap['day'] == cover_re_date]['DAI'].values[0]\n",
    "# # Before Cover Re\n",
    "# dai_fx_change_pre_cover_re = dai_monthly_opening * eth_usd_opening / eth_usd_cover_re_date - dai_monthly_opening\n",
    "# print(f'DAI FX Impact Pre Cover Re = {dai_fx_change_pre_cover_re}')\n",
    "# # After Cover Re\n",
    "# dai_fx_change_post_cover_re = dai_cover_re_opening * eth_usd_cover_re_date / eth_usd_closing - dai_cover_re_opening\n",
    "# print(f'DAI FX Impact Post Cover Re = {dai_fx_change_post_cover_re}')"
   ]
  },
  {
   "cell_type": "code",
   "execution_count": 22,
   "id": "16e4ac15",
   "metadata": {
    "ExecuteTime": {
     "end_time": "2024-08-28T08:59:53.144069Z",
     "start_time": "2024-08-28T08:59:53.131266Z"
    },
    "hidden": true
   },
   "outputs": [],
   "source": [
    "# # debtUSDC FX impact\n",
    "# debtUSDC_opening = df_cap.loc[df_cap['day'] == cover_re_date]['variableDebtEthUSDC'].values[0]\n",
    "\n",
    "# # FX Impact\n",
    "# debtUSDC_fx_change = debtUSDC_opening * eth_usd_cover_re_date / eth_usd_closing - debtUSDC_opening\n",
    "# print(f'debtUSDC FX Impact = {debtUSDC_fx_change}')"
   ]
  },
  {
   "cell_type": "markdown",
   "id": "792f1503",
   "metadata": {},
   "source": [
    "## Monthly Returns on Investments"
   ]
  },
  {
   "cell_type": "code",
   "execution_count": 45,
   "id": "fb570949",
   "metadata": {
    "ExecuteTime": {
     "end_time": "2024-09-12T13:30:46.028339Z",
     "start_time": "2024-09-12T13:30:45.983144Z"
    }
   },
   "outputs": [
    {
     "name": "stdout",
     "output_type": "stream",
     "text": [
      "stETH Monthly APY: 3.249%\n",
      "stETH Monthly Return: 86.438\n",
      "rETH Monthly APY: -0.604%\n",
      "rETH Monthly Return: -7.543\n",
      "Enzyme Vault Monthly APY: 2.332%\n",
      "Enzyme Vault Return: 27.436\n",
      "aEthWETH APY: 1.999%\n",
      "aEthWETH Return: 15.481\n",
      "debtUSDC APY: 8.619%\n",
      "debtUSDC Return: -12.543\n",
      "Aave Net APY: 0.377%\n",
      "Aave Net Return: 2.938\n"
     ]
    }
   ],
   "source": [
    "# Full Monthly Returns\n",
    "\n",
    "# ETH denominated monthly returns on individual investments\n",
    "\n",
    "# stETH metrics in ETH\n",
    "# stETH monthly opening value adjusted for any sales made in month\n",
    "stETH_monthly_opening = df_cap.loc[df_cap['day'] == eom_before_valn_date]['stETH'].values[0] - stETH_sale_amount\n",
    "stETH_closing = df_cap.loc[df_cap['day'] == valn_date]['stETH'].values[0]\n",
    "stETH_monthly_return = stETH_closing - stETH_monthly_opening\n",
    "# derivation of stETH APY denominator based on timing of sale\n",
    "stETH_before = df_cap.loc[df_cap['day'] == eom_before_valn_date]['stETH'].values[0]\n",
    "stETH_after = df_cap.loc[df_cap['day'] == stETH_sale_date + timedelta(days=1)]['stETH'].values[0]\n",
    "days_before = (stETH_sale_date - eom_before_valn_date)/timedelta(days=1)\n",
    "days_after = (valn_date - stETH_sale_date)/timedelta(days=1)\n",
    "stETH_base = (stETH_before * days_before + stETH_after * days_after) / (days_before + days_after)\n",
    "# stETH monthly percentage return\n",
    "stETH_monthly_percentage = stETH_monthly_return / stETH_base\n",
    "# stETH annualised return last month\n",
    "stETH_monthly_APY = (1 + stETH_monthly_percentage) ** 12 - 1\n",
    "print(f'stETH Monthly APY: {round(stETH_monthly_APY * 100, 3)}%')\n",
    "print(f'stETH Monthly Return: {round(stETH_monthly_return, 3)}')\n",
    "\n",
    "# rETH metrics in ETH\n",
    "rETH_monthly_opening = df_cap.loc[df_cap['day'] == eom_before_valn_date]['rETH'].values[0]\n",
    "rETH_closing = df_cap.loc[df_cap['day'] == valn_date]['rETH'].values[0]\n",
    "rETH_monthly_return = rETH_closing - rETH_monthly_opening\n",
    "# rETH monthly percentage\n",
    "rETH_monthly_percentage = rETH_monthly_return / rETH_monthly_opening\n",
    "# rETH annualised return last month\n",
    "rETH_monthly_APY = (1 + rETH_monthly_percentage) ** 12 - 1\n",
    "print(f'rETH Monthly APY: {round(rETH_monthly_APY * 100, 3)}%')\n",
    "print(f'rETH Monthly Return: {round(rETH_monthly_return, 3)}')\n",
    "\n",
    "## Enzyme\n",
    "Enzyme_fee = 0.0015\n",
    "# Enzyme overall metrics in ETH\n",
    "Enzyme_monthly_opening = df_cap.loc[df_cap['day'] == eom_before_valn_date]['Enzyme'].values[0]\n",
    "Enzyme_closing = df_cap.loc[df_cap['day'] == valn_date]['Enzyme'].values[0]\n",
    "Enzyme_monthly_return = Enzyme_closing - Enzyme_monthly_opening \n",
    "# Enzyme monthly percentage\n",
    "Enzyme_monthly_percentage = Enzyme_monthly_return / Enzyme_monthly_opening\n",
    "# Enzyme annualised return last month\n",
    "Enzyme_monthly_APY = (1 + Enzyme_monthly_percentage) ** 12 - 1\n",
    "Enzyme_monthly_APY_after_fees = Enzyme_monthly_APY - Enzyme_fee\n",
    "    \n",
    "# # Kiln standalone metrics in ETH\n",
    "# Kiln_monthly_opening = Enzyme_monthly_opening - Enzyme_idle_portion\n",
    "# Kiln_closing = Enzyme_closing - Enzyme_idle_portion\n",
    "# Kiln_monthly_return = Kiln_closing - Kiln_monthly_opening\n",
    "# # Kiln monthly percentage\n",
    "# Kiln_monthly_percentage = Kiln_monthly_return / Kiln_monthly_opening\n",
    "# # Kiln annualised return last month\n",
    "# Kiln_monthly_APY = (1 + Kiln_monthly_percentage) ** 12 - 1\n",
    "# Kiln_monthly_APY_after_fees = Kiln_monthly_APY - Enzyme_fee\n",
    "\n",
    "print(f'Enzyme Vault Monthly APY: {round(Enzyme_monthly_APY_after_fees * 100, 3)}%')\n",
    "print(f'Enzyme Vault Return: {round(Enzyme_monthly_return, 3)}')\n",
    "\n",
    "# aEthWETH metrics in ETH\n",
    "aEthWETH_monthly_opening = df_cap.loc[df_cap['day'] == eom_before_valn_date]['aEthWETH'].values[0]\n",
    "aEthWETH_monthly_closing = df_cap.loc[df_cap['day'] == valn_date]['aEthWETH'].values[0]\n",
    "aEthWETH_monthly_return = aEthWETH_monthly_closing - aEthWETH_monthly_opening\n",
    "# aEthWETH monthly percentage\n",
    "aEthWETH_monthly_percentage = aEthWETH_monthly_return / aEthWETH_monthly_opening\n",
    "# aEthWETH annualised return last month\n",
    "aEthWETH_monthly_APY = (1 + aEthWETH_monthly_percentage) ** 12 - 1\n",
    "print(f'aEthWETH APY: {round(aEthWETH_monthly_APY * 100, 3)}%')\n",
    "print(f'aEthWETH Return: {round(aEthWETH_monthly_return, 3)}')\n",
    "\n",
    "# debtUSDC metrics in ETH\n",
    "debtUSDC_monthly_opening = df_cap.loc[df_cap['day'] == eom_before_valn_date]['variableDebtEthUSDC'].values[0]\n",
    "debtUSDC_monthly_closing = df_cap.loc[df_cap['day'] == valn_date]['variableDebtEthUSDC'].values[0]\n",
    "# allowing for debtUSDC repayment\n",
    "# Read ETH-USD value as at repayment date\n",
    "eth_usd_repayment = df_cap.loc[df_cap['day'] == debtUSDC_repayment_date]['rate_ETH_USD'].values[0]\n",
    "# Value of repayment in ETH\n",
    "debtUSDC_monthly_repayment_eth = debtUSDC_monthly_repayment / eth_usd_repayment\n",
    "# debtUSDC_monthly_return\n",
    "debtUSDC_monthly_return = debtUSDC_monthly_closing - (debtUSDC_monthly_opening + debtUSDC_fx_change + debtUSDC_monthly_repayment_eth)\n",
    "# debtUSDC monthly percentage\n",
    "# Note: not fully accurate, as we compare it to the opening value, not the time-weighted average balance through the month\n",
    "debtUSDC_monthly_percentage = debtUSDC_monthly_return / debtUSDC_monthly_opening\n",
    "# debtUSDC annualised return last month\n",
    "debtUSDC_monthly_APY = (1 + debtUSDC_monthly_percentage) ** 12 - 1\n",
    "print(f'debtUSDC APY: {round(debtUSDC_monthly_APY * 100, 3)}%')\n",
    "print(f'debtUSDC Return: {round(debtUSDC_monthly_return, 3)}')\n",
    "\n",
    "# Aave Net\n",
    "aave_net_monthly_return = aEthWETH_monthly_return + debtUSDC_monthly_return\n",
    "\n",
    "# Aave net monthly percentage\n",
    "aave_net_monthly_percentage = aave_net_monthly_return / aEthWETH_monthly_opening\n",
    "# Aave net annualised return last month\n",
    "aave_net_monthly_APY = (1 + aave_net_monthly_percentage) ** 12 - 1\n",
    "print(f'Aave Net APY: {round(aave_net_monthly_APY * 100, 3)}%')\n",
    "print(f'Aave Net Return: {round(aave_net_monthly_return, 3)}')"
   ]
  },
  {
   "cell_type": "code",
   "execution_count": 47,
   "id": "58aece89",
   "metadata": {
    "ExecuteTime": {
     "end_time": "2024-09-12T13:32:10.679869Z",
     "start_time": "2024-09-12T13:32:10.161945Z"
    }
   },
   "outputs": [
    {
     "name": "stderr",
     "output_type": "stream",
     "text": [
      "/tmp/ipykernel_1312/3614988767.py:17: UserWarning: set_ticklabels() should only be used with a fixed number of ticks, i.e. after set_ticks() or using a FixedLocator.\n",
      "  axs[0].set_yticklabels(['{:,.1%}'.format(x) for x in tick_vals])\n"
     ]
    },
    {
     "data": {
      "image/png": "[encoded data removed]",
      "text/plain": [
       "<Figure size 1000x500 with 2 Axes>"
      ]
     },
     "metadata": {},
     "output_type": "display_data"
    }
   ],
   "source": [
    "# MONTHLY RETURN GRAPHS FOR INDIVIDUAL INVESTMENTS\n",
    "\n",
    "labels = ['stETH', 'rETH', 'Enzyme Vault', 'Aave (net)']\n",
    "colors = ['#00a3ff', '#f26e34', '#202020', '#b6509e']\n",
    "\n",
    "# Destructuring initialization\n",
    "fig, axs = plt.subplots(1, 2, figsize=(10,5))\n",
    "fig.suptitle(f'Investment Monthly Returns', fontsize=16)\n",
    "fig.tight_layout()\n",
    "fig.subplots_adjust(top=0.88)\n",
    "\n",
    "# Subplot\n",
    "axs[0].bar(labels, [stETH_monthly_APY, rETH_monthly_APY, Enzyme_monthly_APY_after_fees, aave_net_monthly_APY], color=colors)\n",
    "axs[0].set_title('APY')\n",
    "axs[0].set_ylabel('APY')\n",
    "tick_vals = axs[0].get_yticks()\n",
    "axs[0].set_yticklabels(['{:,.1%}'.format(x) for x in tick_vals])\n",
    "\n",
    "# Subplot\n",
    "axs[1].bar(labels, [stETH_monthly_return, rETH_monthly_return, Enzyme_monthly_return*(1-0.0015), aave_net_monthly_return], color=colors);\n",
    "axs[1].set_title('Absolute Return')\n",
    "axs[1].set_ylabel('ETH')\n",
    "\n",
    "plt.show();"
   ]
  },
  {
   "cell_type": "code",
   "execution_count": 48,
   "id": "ae93d401",
   "metadata": {
    "ExecuteTime": {
     "end_time": "2024-09-12T13:32:46.724866Z",
     "start_time": "2024-09-12T13:32:46.712659Z"
    }
   },
   "outputs": [
    {
     "name": "stdout",
     "output_type": "stream",
     "text": [
      "Total Monthly APY: 1.593%\n",
      "Based on average Capital Pool amount over the monthly period\n",
      "Total ETH Earned: 109.229\n"
     ]
    }
   ],
   "source": [
    "# Total Monthly APY on the Capital Pool\n",
    "\n",
    "# Total ETH earned\n",
    "total_monthly_inv_earnings = round(stETH_monthly_return + rETH_monthly_return + Enzyme_monthly_return*(1-0.0015) + aave_net_monthly_return, 3)\n",
    "\n",
    "# averaging the total ETH value of capital pool over the monthly period\n",
    "total_cap_monthly_opening = df_cap.loc[df_cap['day'] == eom_before_valn_date]['sum'].values[0]\n",
    "total_cap_monthly_closing = df_cap.loc[df_cap['day'] == valn_date]['sum'].values[0]\n",
    "avg_total_cap_pool = (total_cap_monthly_closing + total_cap_monthly_opening) / 2\n",
    "\n",
    "# monthly apy based on total earning\n",
    "total_monthly_percentage = total_monthly_inv_earnings / avg_total_cap_pool\n",
    "total_monthly_APY = ((1 + total_monthly_percentage) ** 12 - 1)\n",
    "\n",
    "print(f'Total Monthly APY: {round(total_monthly_APY * 100, 3)}%')\n",
    "print('Based on average Capital Pool amount over the monthly period')\n",
    "print(f'Total ETH Earned: {total_monthly_inv_earnings}')"
   ]
  },
  {
   "cell_type": "code",
   "execution_count": 50,
   "id": "8f17ffb5",
   "metadata": {
    "ExecuteTime": {
     "end_time": "2024-09-12T13:34:14.962042Z",
     "start_time": "2024-09-12T13:34:14.952010Z"
    }
   },
   "outputs": [
    {
     "name": "stdout",
     "output_type": "stream",
     "text": [
      "stETH Monthly Return: 86.438\n",
      "stETH Monthly APY: 3.249%\n",
      "\n",
      "rETH Monthly Return: -7.543\n",
      "rETH Monthly APY: -0.604%\n",
      "\n",
      "Enzyme Vault Monthly Return: 27.395\n",
      "Enzyme Vault Monthly APY: 2.332%\n",
      "aEthWETH Return: 15.481\n",
      "aEthWETH APY: 1.999%\n",
      "debtUSDC Return: -12.543\n",
      "debtUSDC APY: 8.619%\n",
      "Aave Net Return: 2.938\n",
      "Aave Net APY: 0.377%\n",
      "\n",
      "Total ETH Earned: 109.229\n",
      "Total Monthly APY: 1.593%\n",
      "Based on average Capital Pool amount over the monthly period\n",
      "\n",
      "All returns after fees\n"
     ]
    }
   ],
   "source": [
    "# Printout\n",
    "\n",
    "print(f'stETH Monthly Return: {round(stETH_monthly_return, 3)}')\n",
    "print(f'stETH Monthly APY: {round(stETH_monthly_APY * 100, 3)}%\\n')\n",
    "print(f'rETH Monthly Return: {round(rETH_monthly_return, 3)}')\n",
    "print(f'rETH Monthly APY: {round(rETH_monthly_APY * 100, 3)}%\\n')\n",
    "print(f'Enzyme Vault Monthly Return: {round(Enzyme_monthly_return * (1-0.0015), 3)}')\n",
    "print(f'Enzyme Vault Monthly APY: {round(Enzyme_monthly_APY_after_fees * 100, 3)}%')\n",
    "print(f'Enzyme Vault includes Kiln, EtherFi and Chorus One/Stakewise V3 investments\\n')\n",
    "print(f'aEthWETH Return: {round(aEthWETH_monthly_return, 3)}')\n",
    "print(f'aEthWETH APY: {round(aEthWETH_monthly_APY * 100, 3)}%')\n",
    "print(f'debtUSDC Return: {round(debtUSDC_monthly_return, 3)}')\n",
    "print(f'debtUSDC APY: {round(debtUSDC_monthly_APY * 100, 3)}%')\n",
    "print(f'Aave Net Return: {round(aave_net_monthly_return, 3)}')\n",
    "print(f'Aave Net APY: {round(aave_net_monthly_APY * 100, 3)}%\\n')\n",
    "print(f'Total ETH Earned: {total_monthly_inv_earnings}')\n",
    "print(f'Total Monthly APY: {round(total_monthly_APY * 100, 3)}%')\n",
    "print('Based on average Capital Pool amount over the monthly period\\n')\n",
    "\n",
    "print ('All returns after fees')"
   ]
  },
  {
   "cell_type": "markdown",
   "id": "e3bba312",
   "metadata": {},
   "source": [
    "## Monthly Changes in Capital Pool "
   ]
  },
  {
   "cell_type": "code",
   "execution_count": 52,
   "id": "87b4c553",
   "metadata": {
    "ExecuteTime": {
     "end_time": "2024-09-12T13:34:53.709114Z",
     "start_time": "2024-09-12T13:34:53.399888Z"
    }
   },
   "outputs": [
    {
     "name": "stderr",
     "output_type": "stream",
     "text": [
      "/tmp/ipykernel_1312/584292282.py:32: UserWarning: set_ticklabels() should only be used with a fixed number of ticks, i.e. after set_ticks() or using a FixedLocator.\n",
      "  waterfall_plot.set_yticklabels(['{:,.0f}'.format(x) for x in tick_vals])\n",
      "/tmp/ipykernel_1312/584292282.py:43: FutureWarning: Series.__getitem__ treating keys as positions is deprecated. In a future version, integer keys will always be treated as labels (consistent with DataFrame behavior). To access a value by position, use `ser.iloc[pos]`\n",
      "  y = y_height[loop] + row['amount']\n",
      "/home/rei/.pyenv/versions/3.10.6/envs/investment_monitoring/lib/python3.10/site-packages/matplotlib/text.py:1463: FutureWarning: Calling float on a single element Series is deprecated and will raise a TypeError in the future. Use float(ser.iloc[0]) instead\n",
      "  y = float(self.convert_yunits(y))\n",
      "/home/rei/.pyenv/versions/3.10.6/envs/investment_monitoring/lib/python3.10/site-packages/matplotlib/text.py:754: FutureWarning: Calling float on a single element Series is deprecated and will raise a TypeError in the future. Use float(ser.iloc[0]) instead\n",
      "  posy = float(self.convert_yunits(self._y))\n",
      "/home/rei/.pyenv/versions/3.10.6/envs/investment_monitoring/lib/python3.10/site-packages/matplotlib/text.py:895: FutureWarning: Calling float on a single element Series is deprecated and will raise a TypeError in the future. Use float(ser.iloc[0]) instead\n",
      "  y = float(self.convert_yunits(self._y))\n"
     ]
    },
    {
     "data": {
      "image/png": "[encoded data removed]",
      "text/plain": [
       "<Figure size 640x480 with 1 Axes>"
      ]
     },
     "metadata": {},
     "output_type": "display_data"
    }
   ],
   "source": [
    "# waterfall chart for changes in the capital pool\n",
    "\n",
    "# UPDATE\n",
    "# set limits on chart manually\n",
    "bottom = 81_000\n",
    "top = 85_500\n",
    "\n",
    "# create dataframe with relevant categories\n",
    "index = ['opening capital pool', 'cover fee income', 'investment returns', 'stablecoin impact', 'ramm net redemptions']\n",
    "data = {'amount': [total_cap_monthly_opening, monthly_cover_fees, total_monthly_inv_earnings, fx_change, ramm_flow_monthly_change]}\n",
    "df_waterfall = pd.DataFrame(data=data, index=index)\n",
    "\n",
    "# create a shifted dataframe by one space and fill the empty space with zero\n",
    "df_shift = df_waterfall.amount.cumsum().shift(1).fillna(0)\n",
    "\n",
    "# add the 'closing' line to both dataframes\n",
    "total = df_waterfall.sum().amount\n",
    "df_waterfall.loc['closing capital pool'] = total\n",
    "df_shift.loc['closing capital pool'] = 0\n",
    "\n",
    "# define the Nexus Mutual green color\n",
    "color = '#0AB682'\n",
    "\n",
    "# create waterfall plot\n",
    "waterfall_plot = df_waterfall.plot.bar(stacked=True, bottom=df_shift,\n",
    "                                   legend=None, color=color, title=f'{valn_date_str[-7:]} Capital Pool Waterfall')\n",
    "waterfall_plot.set_ylim(bottom=bottom, top=top)\n",
    "waterfall_plot.set_ylabel('ETH')\n",
    "\n",
    "# change format of tick values\n",
    "tick_vals = waterfall_plot.get_yticks()\n",
    "waterfall_plot.set_yticklabels(['{:,.0f}'.format(x) for x in tick_vals])\n",
    "\n",
    "# label loop for individual items\n",
    "maximum = df_waterfall.max()\n",
    "neg_offset = maximum / 400\n",
    "pos_offset = maximum / 800\n",
    "\n",
    "y_height = df_shift\n",
    "\n",
    "loop = 0\n",
    "for index, row in df_waterfall.iterrows():\n",
    "    y = y_height[loop] + row['amount']\n",
    "    # determine negative or positive offset\n",
    "    if row['amount'] > 0:\n",
    "        y += pos_offset\n",
    "    else:\n",
    "        y -= neg_offset\n",
    "    waterfall_plot.annotate(\"{:,.0f}\".format(row['amount']), (loop, y), ha=\"center\")\n",
    "    loop+=1"
   ]
  },
  {
   "cell_type": "code",
   "execution_count": 53,
   "id": "f0dd7464",
   "metadata": {
    "ExecuteTime": {
     "end_time": "2024-09-12T13:35:07.472109Z",
     "start_time": "2024-09-12T13:35:07.465651Z"
    }
   },
   "outputs": [
    {
     "name": "stdout",
     "output_type": "stream",
     "text": [
      "Capital Pool Total Change - -1892.5\n",
      "Capital Pool Percentage Change - -2.26%\n"
     ]
    }
   ],
   "source": [
    "# Total change in capital pool\n",
    "capital_pool_change = df_waterfall.loc['closing capital pool'].values[0] - df_waterfall.loc['opening capital pool'].values[0]\n",
    "print(f'Capital Pool Total Change - {round(capital_pool_change, 2)}')\n",
    "print(f'Capital Pool Percentage Change - {round(100 * capital_pool_change / (df_waterfall.loc[\"opening capital pool\"].values[0]), 2)}%')"
   ]
  },
  {
   "cell_type": "markdown",
   "id": "b6513f9c",
   "metadata": {
    "heading_collapsed": true
   },
   "source": [
    "# Divestment Plan (Out of Date; Update if Required)"
   ]
  },
  {
   "cell_type": "markdown",
   "id": "d22e9598",
   "metadata": {
    "hidden": true
   },
   "source": [
    "## Pie Chart of Assets Today"
   ]
  },
  {
   "cell_type": "code",
   "execution_count": 29,
   "id": "db6778b9",
   "metadata": {
    "ExecuteTime": {
     "end_time": "2024-08-28T08:59:54.294814Z",
     "start_time": "2024-08-28T08:59:54.239881Z"
    },
    "hidden": true
   },
   "outputs": [
    {
     "name": "stderr",
     "output_type": "stream",
     "text": [
      "/tmp/ipykernel_691/1517165823.py:2: SettingWithCopyWarning: \n",
      "A value is trying to be set on a copy of a slice from a DataFrame\n",
      "\n",
      "See the caveats in the documentation: https://pandas.pydata.org/pandas-docs/stable/user_guide/indexing.html#returning-a-view-versus-a-copy\n",
      "  today_row['Kiln'] = today_row['Enzyme'] - Enzyme_idle_portion\n",
      "/tmp/ipykernel_691/1517165823.py:2: SettingWithCopyWarning: \n",
      "A value is trying to be set on a copy of a slice from a DataFrame\n",
      "\n",
      "See the caveats in the documentation: https://pandas.pydata.org/pandas-docs/stable/user_guide/indexing.html#returning-a-view-versus-a-copy\n",
      "  today_row['Kiln'] = today_row['Enzyme'] - Enzyme_idle_portion\n",
      "/tmp/ipykernel_691/1517165823.py:3: SettingWithCopyWarning: \n",
      "A value is trying to be set on a copy of a slice from a DataFrame\n",
      "\n",
      "See the caveats in the documentation: https://pandas.pydata.org/pandas-docs/stable/user_guide/indexing.html#returning-a-view-versus-a-copy\n",
      "  today_row['Enzyme Idle'] = Enzyme_idle_portion\n",
      "/tmp/ipykernel_691/1517165823.py:3: SettingWithCopyWarning: \n",
      "A value is trying to be set on a copy of a slice from a DataFrame\n",
      "\n",
      "See the caveats in the documentation: https://pandas.pydata.org/pandas-docs/stable/user_guide/indexing.html#returning-a-view-versus-a-copy\n",
      "  today_row['Enzyme Idle'] = Enzyme_idle_portion\n",
      "/tmp/ipykernel_691/1517165823.py:4: SettingWithCopyWarning: \n",
      "A value is trying to be set on a copy of a slice from a DataFrame\n",
      "\n",
      "See the caveats in the documentation: https://pandas.pydata.org/pandas-docs/stable/user_guide/indexing.html#returning-a-view-versus-a-copy\n",
      "  today_row.rename({'Cover Re': 'Cover Re Investment', 'aEthWETH':'Cover Re Loan Collateral', 'variableDebtEthUSDC': 'Cover Re Loan Outstanding'}, inplace=True)\n"
     ]
    },
    {
     "data": {
      "text/plain": [
       "day                          2024-08-28 00:00:00\n",
       "rate_ETH_USD                         2459.633676\n",
       "ETH                                 11932.034443\n",
       "DAI                                   250.012988\n",
       "Enzyme                               13437.20479\n",
       "stETH                               29481.631248\n",
       "rETH                                14912.640009\n",
       "USDC                                  191.676722\n",
       "Cover Re Investment                  4881.237277\n",
       "Cover Re Loan Collateral             9389.971047\n",
       "Cover Re Loan Outstanding           -2329.209176\n",
       "sum                                 82147.199347\n",
       "Aave (net)                           7060.761871\n",
       "Kiln                                  6861.53479\n",
       "Enzyme Idle                              6575.67\n",
       "Name: 0, dtype: object"
      ]
     },
     "execution_count": 29,
     "metadata": {},
     "output_type": "execute_result"
    }
   ],
   "source": [
    "today_row = df_cap.iloc[0]\n",
    "today_row['Kiln'] = today_row['Enzyme'] - Enzyme_idle_portion\n",
    "today_row['Enzyme Idle'] = Enzyme_idle_portion\n",
    "today_row.rename({'Cover Re': 'Cover Re Investment', 'aEthWETH':'Cover Re Loan Collateral', 'variableDebtEthUSDC': 'Cover Re Loan Outstanding'}, inplace=True)\n",
    "today_row"
   ]
  },
  {
   "cell_type": "code",
   "execution_count": 30,
   "id": "accbd19d",
   "metadata": {
    "ExecuteTime": {
     "end_time": "2024-08-28T08:59:54.615564Z",
     "start_time": "2024-08-28T08:59:54.301187Z"
    },
    "hidden": true
   },
   "outputs": [
    {
     "data": {
      "image/png": "[encoded data removed]",
      "text/plain": [
       "<Figure size 640x480 with 1 Axes>"
      ]
     },
     "metadata": {},
     "output_type": "display_data"
    }
   ],
   "source": [
    "pie_asset_list = ['ETH', 'DAI', 'stETH', 'rETH', 'Enzyme Idle', 'Kiln', 'Cover Re Investment', 'Aave (net)', 'USDC']\n",
    "today_row_pie = today_row[pie_asset_list]\n",
    "\n",
    "# add formatted ETH values to labels\n",
    "labels = []\n",
    "for n, i in enumerate(pie_asset_list):\n",
    "    formatted_value = '{:,.0f}'.format(today_row_pie.values[n])\n",
    "    labels.append(f'{i} - {formatted_value}')\n",
    "\n",
    "# create chart\n",
    "# extract latest date in string format\n",
    "today_date_str = df_cap.iloc[0]['day'].strftime('%d-%m-%Y')\n",
    "# create chart\n",
    "plt.pie(today_row_pie.values, labels=labels, autopct='%1.2f%%')\n",
    "plt.title(f'{today_date_str} Capital Pool Split in ETH');"
   ]
  },
  {
   "cell_type": "markdown",
   "id": "38ac23c0",
   "metadata": {
    "heading_collapsed": true,
    "hidden": true
   },
   "source": [
    "## Monthly Averages Since Start of 2024 "
   ]
  },
  {
   "cell_type": "code",
   "execution_count": 31,
   "id": "844332a5",
   "metadata": {
    "ExecuteTime": {
     "end_time": "2024-08-28T08:59:54.630903Z",
     "start_time": "2024-08-28T08:59:54.619011Z"
    },
    "hidden": true
   },
   "outputs": [],
   "source": [
    "# get today's day, month and year\n",
    "\n",
    "day_today = datetime.now().day\n",
    "month_today = datetime.now().month\n",
    "year_today = datetime.now().year\n",
    "\n",
    "# get eth price today\n",
    "eth_usd_today = df_cap.iloc[0]['rate_ETH_USD']\n",
    "\n",
    "# manually input average start date\n",
    "averages_start_date_str = '01-08-2023'\n",
    "# create average start datetime\n",
    "averages_start_date = datetime.strptime(averages_start_date_str, '%d-%m-%Y')"
   ]
  },
  {
   "cell_type": "code",
   "execution_count": 32,
   "id": "f5874d68",
   "metadata": {
    "ExecuteTime": {
     "end_time": "2024-08-28T08:59:54.803213Z",
     "start_time": "2024-08-28T08:59:54.638580Z"
    },
    "hidden": true
   },
   "outputs": [
    {
     "name": "stdout",
     "output_type": "stream",
     "text": [
      "Average monthly stETH returns = 96.24901643286012\n",
      "Average monthly rETH returns = 44.364462019339804\n",
      "Average monthly kiln returns = 21.23788977043269\n",
      "Average monthly net ETH cover fees = 4.410927262581494\n",
      "Average monthly RAMM flows = -2707.3412885662224\n"
     ]
    }
   ],
   "source": [
    "# loop through months since the start date and obtain averages\n",
    "\n",
    "date = averages_start_date\n",
    "ramm_flows = []\n",
    "net_eth_fees = []\n",
    "claim_ratio = 0.7\n",
    "stETH_returns = []\n",
    "rETH_returns = []\n",
    "\n",
    "while date < datetime(year_today, month_today, 1):\n",
    "    next_month = datetime(year = date.year + int(date.month / 12), month = (date.month % 12) + 1, day=date.day)\n",
    "    \n",
    "    # RAMM FLOWS\n",
    "    # determine net ramm flows in month in 2024\n",
    "    if date.year >= 2024:\n",
    "        ramm_flows_opening = df_ramm.loc[df_ramm['ts'] == date]['cummulative_eth_in'].values[0] - df_ramm.loc[df_ramm['ts'] == date]['cummulative_eth_out'].values[0]\n",
    "        ramm_flows_closing = df_ramm.loc[df_ramm['ts'] == next_month]['cummulative_eth_in'].values[0] - df_ramm.loc[df_ramm['ts'] == next_month]['cummulative_eth_out'].values[0]\n",
    "        ramm_flows_change = ramm_flows_closing - ramm_flows_opening\n",
    "        ramm_flows.append(ramm_flows_change)\n",
    "    \n",
    "    # COVERS\n",
    "    # filter for covers that were bought in the relevant month\n",
    "    df_cover_flows = df_covers[(df_covers['cover_start_time']>=date) & (df_covers['cover_start_time']<next_month)]\n",
    "\n",
    "    # filter for covers that were paid for in ETH\n",
    "    # (note covers paid in NXM don't generate assets and covers paid for in DAI/USDC will be used to pay off the Cover Re loan)\n",
    "    df_cover_flows = df_cover_flows[df_cover_flows['premium_asset'] == 'ETH']\n",
    "\n",
    "    # work out cover fees, allowing for 15% commission\n",
    "    eth_cover_fees = df_cover_flows['premium_native'].sum() * 0.85\n",
    "    # append to list, allowing for 70% claim ratio\n",
    "    net_eth_monthly_fees = eth_cover_fees * (1 - claim_ratio)\n",
    "    net_eth_fees.append(net_eth_monthly_fees)\n",
    "    \n",
    "    # INVESTMENT INCOME\n",
    "    # stETH\n",
    "    stETH_opening = df_cap.loc[df_cap['day'] == date]['stETH'].values[0]\n",
    "    stETH_closing = df_cap.loc[df_cap['day'] == next_month]['stETH'].values[0]\n",
    "    stETH_returns.append(stETH_closing - stETH_opening)\n",
    "    # rETH\n",
    "    rETH_opening = df_cap.loc[df_cap['day'] == date]['rETH'].values[0]\n",
    "    rETH_closing = df_cap.loc[df_cap['day'] == next_month]['rETH'].values[0]\n",
    "    rETH_returns.append(rETH_closing - rETH_opening) \n",
    "    \n",
    "    # move date along\n",
    "    date = next_month\n",
    "\n",
    "# Average Kiln rewards in month\n",
    "days_total_kiln_rewards = (df_cap.iloc[0]['day'] - kiln_deposit_date)/timedelta(days=1)\n",
    "daily_total_kiln_rewards = kiln_total_rewards / days_total_kiln_rewards\n",
    "avg_monthly_kiln_returns = daily_total_kiln_rewards * avg_days_in_month\n",
    "\n",
    "# Average RAMM flows\n",
    "avg_monthly_ramm_flows = sum(ramm_flows)/len(ramm_flows)\n",
    "\n",
    "# Average ETH Cover Fees\n",
    "avg_monthly_net_eth_fees = sum(net_eth_fees)/len(net_eth_fees)\n",
    "\n",
    "# Average stETH returns\n",
    "avg_monthly_stETH_returns = sum(stETH_returns)/len(stETH_returns)\n",
    "\n",
    "# Average rETH returns\n",
    "avg_monthly_rETH_returns = sum(rETH_returns)/len(rETH_returns)\n",
    "\n",
    "print(f'Average monthly stETH returns = {avg_monthly_stETH_returns}')\n",
    "print(f'Average monthly rETH returns = {avg_monthly_rETH_returns}')\n",
    "print(f'Average monthly kiln returns = {avg_monthly_kiln_returns}')\n",
    "print(f'Average monthly net ETH cover fees = {avg_monthly_net_eth_fees}')\n",
    "print(f'Average monthly RAMM flows = {avg_monthly_ramm_flows}')"
   ]
  },
  {
   "cell_type": "markdown",
   "id": "dc4ca8d7",
   "metadata": {
    "hidden": true
   },
   "source": [
    "## Asset Projection"
   ]
  },
  {
   "cell_type": "code",
   "execution_count": 33,
   "id": "33e32152",
   "metadata": {
    "ExecuteTime": {
     "end_time": "2024-08-28T08:59:54.828485Z",
     "start_time": "2024-08-28T08:59:54.809078Z"
    },
    "hidden": true
   },
   "outputs": [
    {
     "data": {
      "text/plain": [
       "day                          2024-08-28 00:00:00\n",
       "rate_ETH_USD                         2459.633676\n",
       "ETH                                 11932.034443\n",
       "DAI                                   250.012988\n",
       "Enzyme                               13437.20479\n",
       "stETH                               29481.631248\n",
       "rETH                                14912.640009\n",
       "USDC                                  191.676722\n",
       "Cover Re Investment                  4881.237277\n",
       "Cover Re Loan Collateral             9389.971047\n",
       "Cover Re Loan Outstanding           -2329.209176\n",
       "sum                                 82147.199347\n",
       "Aave (net)                           7060.761871\n",
       "Kiln                                  6861.53479\n",
       "Enzyme Idle                              6575.67\n",
       "Name: 0, dtype: object"
      ]
     },
     "execution_count": 33,
     "metadata": {},
     "output_type": "execute_result"
    }
   ],
   "source": [
    "today_row"
   ]
  },
  {
   "cell_type": "code",
   "execution_count": 34,
   "id": "b1258180",
   "metadata": {
    "ExecuteTime": {
     "end_time": "2024-08-28T08:59:54.951429Z",
     "start_time": "2024-08-28T08:59:54.832277Z"
    },
    "hidden": true
   },
   "outputs": [
    {
     "data": {
      "text/html": [
       "<div>\n",
       "<style scoped>\n",
       "    .dataframe tbody tr th:only-of-type {\n",
       "        vertical-align: middle;\n",
       "    }\n",
       "\n",
       "    .dataframe tbody tr th {\n",
       "        vertical-align: top;\n",
       "    }\n",
       "\n",
       "    .dataframe thead th {\n",
       "        text-align: right;\n",
       "    }\n",
       "</style>\n",
       "<table border=\"1\" class=\"dataframe\">\n",
       "  <thead>\n",
       "    <tr style=\"text-align: right;\">\n",
       "      <th></th>\n",
       "      <th>ETH</th>\n",
       "      <th>DAI</th>\n",
       "      <th>stETH</th>\n",
       "      <th>rETH</th>\n",
       "      <th>Enzyme Idle</th>\n",
       "      <th>Kiln</th>\n",
       "      <th>Cover Re Investment</th>\n",
       "      <th>Cover Re Loan Collateral</th>\n",
       "      <th>Cover Re Loan Outstanding</th>\n",
       "      <th>USDC</th>\n",
       "    </tr>\n",
       "  </thead>\n",
       "  <tbody>\n",
       "    <tr>\n",
       "      <th>0</th>\n",
       "      <td>11932.034443</td>\n",
       "      <td>250.012988</td>\n",
       "      <td>29481.631248</td>\n",
       "      <td>14912.640009</td>\n",
       "      <td>6575.67</td>\n",
       "      <td>6861.53479</td>\n",
       "      <td>4881.237277</td>\n",
       "      <td>9389.971047</td>\n",
       "      <td>-2329.209176</td>\n",
       "      <td>191.676722</td>\n",
       "    </tr>\n",
       "    <tr>\n",
       "      <th>1</th>\n",
       "      <td>9229.104082</td>\n",
       "      <td>250.012988</td>\n",
       "      <td>29577.880265</td>\n",
       "      <td>14957.004471</td>\n",
       "      <td>6575.67</td>\n",
       "      <td>6882.77268</td>\n",
       "      <td>4955.966435</td>\n",
       "      <td>9401.937282</td>\n",
       "      <td>-2345.475768</td>\n",
       "      <td>191.676722</td>\n",
       "    </tr>\n",
       "    <tr>\n",
       "      <th>2</th>\n",
       "      <td>6526.17372</td>\n",
       "      <td>250.012988</td>\n",
       "      <td>29674.129281</td>\n",
       "      <td>15001.368933</td>\n",
       "      <td>6575.67</td>\n",
       "      <td>6904.010569</td>\n",
       "      <td>5031.839657</td>\n",
       "      <td>9413.918765</td>\n",
       "      <td>-2361.855961</td>\n",
       "      <td>191.676722</td>\n",
       "    </tr>\n",
       "    <tr>\n",
       "      <th>3</th>\n",
       "      <td>3823.243359</td>\n",
       "      <td>250.012988</td>\n",
       "      <td>29770.378298</td>\n",
       "      <td>15045.733395</td>\n",
       "      <td>6575.67</td>\n",
       "      <td>6925.248459</td>\n",
       "      <td>5108.874457</td>\n",
       "      <td>9425.915518</td>\n",
       "      <td>-2378.350549</td>\n",
       "      <td>191.676722</td>\n",
       "    </tr>\n",
       "    <tr>\n",
       "      <th>4</th>\n",
       "      <td>1120.312998</td>\n",
       "      <td>250.012988</td>\n",
       "      <td>29866.627314</td>\n",
       "      <td>15090.097857</td>\n",
       "      <td>6575.67</td>\n",
       "      <td>6946.486349</td>\n",
       "      <td>5187.08862</td>\n",
       "      <td>9437.927558</td>\n",
       "      <td>-2394.960331</td>\n",
       "      <td>191.676722</td>\n",
       "    </tr>\n",
       "    <tr>\n",
       "      <th>5</th>\n",
       "      <td>-1582.617364</td>\n",
       "      <td>250.012988</td>\n",
       "      <td>29962.87633</td>\n",
       "      <td>15134.462319</td>\n",
       "      <td>6575.67</td>\n",
       "      <td>6967.724239</td>\n",
       "      <td>5266.5002</td>\n",
       "      <td>9449.954906</td>\n",
       "      <td>-2411.686111</td>\n",
       "      <td>191.676722</td>\n",
       "    </tr>\n",
       "    <tr>\n",
       "      <th>6</th>\n",
       "      <td>-4285.547725</td>\n",
       "      <td>250.012988</td>\n",
       "      <td>30059.125347</td>\n",
       "      <td>15178.826781</td>\n",
       "      <td>6575.67</td>\n",
       "      <td>6988.962128</td>\n",
       "      <td>5347.12753</td>\n",
       "      <td>9461.997582</td>\n",
       "      <td>-2428.5287</td>\n",
       "      <td>191.676722</td>\n",
       "    </tr>\n",
       "    <tr>\n",
       "      <th>7</th>\n",
       "      <td>-6988.478086</td>\n",
       "      <td>250.012988</td>\n",
       "      <td>30155.374363</td>\n",
       "      <td>15223.191243</td>\n",
       "      <td>6575.67</td>\n",
       "      <td>7010.200018</td>\n",
       "      <td>5428.989221</td>\n",
       "      <td>9474.055604</td>\n",
       "      <td>-2445.488913</td>\n",
       "      <td>191.676722</td>\n",
       "    </tr>\n",
       "    <tr>\n",
       "      <th>8</th>\n",
       "      <td>-9691.408447</td>\n",
       "      <td>250.012988</td>\n",
       "      <td>30251.62338</td>\n",
       "      <td>15267.555705</td>\n",
       "      <td>6575.67</td>\n",
       "      <td>7031.437908</td>\n",
       "      <td>5512.104171</td>\n",
       "      <td>9486.128993</td>\n",
       "      <td>-2462.567572</td>\n",
       "      <td>191.676722</td>\n",
       "    </tr>\n",
       "    <tr>\n",
       "      <th>9</th>\n",
       "      <td>-12394.338809</td>\n",
       "      <td>250.012988</td>\n",
       "      <td>30347.872396</td>\n",
       "      <td>15311.920167</td>\n",
       "      <td>6575.67</td>\n",
       "      <td>7052.675798</td>\n",
       "      <td>5596.491567</td>\n",
       "      <td>9498.217767</td>\n",
       "      <td>-2479.765504</td>\n",
       "      <td>191.676722</td>\n",
       "    </tr>\n",
       "    <tr>\n",
       "      <th>10</th>\n",
       "      <td>-15097.26917</td>\n",
       "      <td>250.012988</td>\n",
       "      <td>30444.121413</td>\n",
       "      <td>15356.284629</td>\n",
       "      <td>6575.67</td>\n",
       "      <td>7073.913688</td>\n",
       "      <td>5682.17089</td>\n",
       "      <td>9510.321947</td>\n",
       "      <td>-2497.083542</td>\n",
       "      <td>191.676722</td>\n",
       "    </tr>\n",
       "    <tr>\n",
       "      <th>11</th>\n",
       "      <td>-17800.199531</td>\n",
       "      <td>250.012988</td>\n",
       "      <td>30540.370429</td>\n",
       "      <td>15400.649091</td>\n",
       "      <td>6575.67</td>\n",
       "      <td>7095.151577</td>\n",
       "      <td>5769.161918</td>\n",
       "      <td>9522.441552</td>\n",
       "      <td>-2514.522524</td>\n",
       "      <td>191.676722</td>\n",
       "    </tr>\n",
       "    <tr>\n",
       "      <th>12</th>\n",
       "      <td>-20503.129893</td>\n",
       "      <td>250.012988</td>\n",
       "      <td>30636.619445</td>\n",
       "      <td>15445.013553</td>\n",
       "      <td>6575.67</td>\n",
       "      <td>7116.389467</td>\n",
       "      <td>5857.484732</td>\n",
       "      <td>9534.576602</td>\n",
       "      <td>-2532.083296</td>\n",
       "      <td>191.676722</td>\n",
       "    </tr>\n",
       "  </tbody>\n",
       "</table>\n",
       "</div>"
      ],
      "text/plain": [
       "             ETH         DAI         stETH          rETH Enzyme Idle  \\\n",
       "0   11932.034443  250.012988  29481.631248  14912.640009     6575.67   \n",
       "1    9229.104082  250.012988  29577.880265  14957.004471     6575.67   \n",
       "2     6526.17372  250.012988  29674.129281  15001.368933     6575.67   \n",
       "3    3823.243359  250.012988  29770.378298  15045.733395     6575.67   \n",
       "4    1120.312998  250.012988  29866.627314  15090.097857     6575.67   \n",
       "5   -1582.617364  250.012988   29962.87633  15134.462319     6575.67   \n",
       "6   -4285.547725  250.012988  30059.125347  15178.826781     6575.67   \n",
       "7   -6988.478086  250.012988  30155.374363  15223.191243     6575.67   \n",
       "8   -9691.408447  250.012988   30251.62338  15267.555705     6575.67   \n",
       "9  -12394.338809  250.012988  30347.872396  15311.920167     6575.67   \n",
       "10  -15097.26917  250.012988  30444.121413  15356.284629     6575.67   \n",
       "11 -17800.199531  250.012988  30540.370429  15400.649091     6575.67   \n",
       "12 -20503.129893  250.012988  30636.619445  15445.013553     6575.67   \n",
       "\n",
       "           Kiln Cover Re Investment Cover Re Loan Collateral  \\\n",
       "0    6861.53479         4881.237277              9389.971047   \n",
       "1    6882.77268         4955.966435              9401.937282   \n",
       "2   6904.010569         5031.839657              9413.918765   \n",
       "3   6925.248459         5108.874457              9425.915518   \n",
       "4   6946.486349          5187.08862              9437.927558   \n",
       "5   6967.724239           5266.5002              9449.954906   \n",
       "6   6988.962128          5347.12753              9461.997582   \n",
       "7   7010.200018         5428.989221              9474.055604   \n",
       "8   7031.437908         5512.104171              9486.128993   \n",
       "9   7052.675798         5596.491567              9498.217767   \n",
       "10  7073.913688          5682.17089              9510.321947   \n",
       "11  7095.151577         5769.161918              9522.441552   \n",
       "12  7116.389467         5857.484732              9534.576602   \n",
       "\n",
       "   Cover Re Loan Outstanding        USDC  \n",
       "0               -2329.209176  191.676722  \n",
       "1               -2345.475768  191.676722  \n",
       "2               -2361.855961  191.676722  \n",
       "3               -2378.350549  191.676722  \n",
       "4               -2394.960331  191.676722  \n",
       "5               -2411.686111  191.676722  \n",
       "6                 -2428.5287  191.676722  \n",
       "7               -2445.488913  191.676722  \n",
       "8               -2462.567572  191.676722  \n",
       "9               -2479.765504  191.676722  \n",
       "10              -2497.083542  191.676722  \n",
       "11              -2514.522524  191.676722  \n",
       "12              -2532.083296  191.676722  "
      ]
     },
     "execution_count": 34,
     "metadata": {},
     "output_type": "execute_result"
    }
   ],
   "source": [
    "proj_asset_list = ['ETH', 'DAI', 'stETH', 'rETH', 'Enzyme Idle', 'Kiln', 'Cover Re Investment', 'Cover Re Loan Collateral',\n",
    "                   'Cover Re Loan Outstanding', 'USDC']\n",
    "today_row_proj = today_row[proj_asset_list]\n",
    "\n",
    "asset_df = pd.DataFrame(today_row_proj).T\n",
    "\n",
    "projection_months = 12\n",
    "aave_eth_supply_apy = 0.0154\n",
    "aave_usdc_borrow_apy = 0.0871\n",
    "cover_re_apy = 0.2\n",
    "\n",
    "for i in range(projection_months):\n",
    "    \n",
    "    next_row = {}\n",
    "    next_row['ETH'] = asset_df['ETH'].values[-1] + avg_monthly_ramm_flows + avg_monthly_net_eth_fees\n",
    "    next_row['DAI'] = asset_df['DAI'].values[-1]\n",
    "    next_row['USDC'] = asset_df['USDC'].values[-1]\n",
    "    next_row['stETH'] = asset_df['stETH'].values[-1] + avg_monthly_stETH_returns\n",
    "    next_row['rETH'] = asset_df['rETH'].values[-1] + avg_monthly_rETH_returns\n",
    "    next_row['Kiln'] = asset_df['Kiln'].values[-1] + avg_monthly_kiln_returns\n",
    "    next_row['Enzyme Idle'] = asset_df['Enzyme Idle'].values[-1]\n",
    "    next_row['Cover Re Investment'] = asset_df['Cover Re Investment'].values[-1] * ((1 + cover_re_apy)**(1/12))\n",
    "    next_row['Cover Re Loan Collateral'] = asset_df['Cover Re Loan Collateral'].values[-1] * ((1 + aave_eth_supply_apy)**(1/12))\n",
    "    next_row['Cover Re Loan Outstanding'] = asset_df['Cover Re Loan Outstanding'].values[-1] * ((1 + aave_usdc_borrow_apy)**(1/12))\n",
    "    \n",
    "    asset_df.loc[len(asset_df)] = next_row\n",
    "\n",
    "asset_df"
   ]
  },
  {
   "cell_type": "code",
   "execution_count": 35,
   "id": "65c5775e",
   "metadata": {
    "ExecuteTime": {
     "end_time": "2024-08-28T08:59:54.967546Z",
     "start_time": "2024-08-28T08:59:54.957322Z"
    },
    "hidden": true
   },
   "outputs": [],
   "source": [
    "asset_df_6_mo = asset_df[:6].astype(float)\n",
    "asset_df_6_mo_pos = asset_df_6_mo.drop(columns=['Cover Re Loan Outstanding'])"
   ]
  },
  {
   "cell_type": "code",
   "execution_count": 36,
   "id": "e1250a04",
   "metadata": {
    "ExecuteTime": {
     "end_time": "2024-08-28T08:59:55.395310Z",
     "start_time": "2024-08-28T08:59:54.974889Z"
    },
    "hidden": true
   },
   "outputs": [
    {
     "name": "stderr",
     "output_type": "stream",
     "text": [
      "/tmp/ipykernel_691/1641516350.py:5: UserWarning: set_ticklabels() should only be used with a fixed number of ticks, i.e. after set_ticks() or using a FixedLocator.\n",
      "  projection_plot.set_yticklabels(['{:,.0f}'.format(x) for x in tick_vals]);\n"
     ]
    },
    {
     "data": {
      "image/png": "[encoded data removed]",
      "text/plain": [
       "<Figure size 1000x700 with 1 Axes>"
      ]
     },
     "metadata": {},
     "output_type": "display_data"
    }
   ],
   "source": [
    "projection_plot = asset_df_6_mo.plot(title=f'Capital Pool Projection from {today_date_str}',\n",
    "                                    figsize=(10, 7), legend=True, ylabel='ETH', xlabel='Months in Future')\n",
    "\n",
    "tick_vals = projection_plot.get_yticks()\n",
    "projection_plot.set_yticklabels(['{:,.0f}'.format(x) for x in tick_vals]);"
   ]
  },
  {
   "cell_type": "code",
   "execution_count": 37,
   "id": "8f64e944",
   "metadata": {
    "ExecuteTime": {
     "end_time": "2024-08-28T08:59:55.824804Z",
     "start_time": "2024-08-28T08:59:55.399155Z"
    },
    "hidden": true
   },
   "outputs": [
    {
     "name": "stderr",
     "output_type": "stream",
     "text": [
      "/tmp/ipykernel_691/1806150064.py:5: UserWarning: set_ticklabels() should only be used with a fixed number of ticks, i.e. after set_ticks() or using a FixedLocator.\n",
      "  projection_bar_plot.set_yticklabels(['{:,.0f}'.format(x) for x in tick_vals]);\n"
     ]
    },
    {
     "data": {
      "image/png": "[encoded data removed]",
      "text/plain": [
       "<Figure size 1000x700 with 1 Axes>"
      ]
     },
     "metadata": {},
     "output_type": "display_data"
    }
   ],
   "source": [
    "projection_bar_plot = asset_df_6_mo_pos.plot(kind='bar', stacked=True, title=f'Capital Pool Projection from {today_date_str}',\n",
    "                                    figsize=(10, 7), legend=True, ylabel='ETH', xlabel='Months in Future')\n",
    "\n",
    "tick_vals = projection_bar_plot.get_yticks()\n",
    "projection_bar_plot.set_yticklabels(['{:,.0f}'.format(x) for x in tick_vals]);"
   ]
  },
  {
   "cell_type": "code",
   "execution_count": 38,
   "id": "c68d1a95",
   "metadata": {
    "ExecuteTime": {
     "end_time": "2024-08-28T08:59:55.847793Z",
     "start_time": "2024-08-28T08:59:55.829930Z"
    },
    "hidden": true
   },
   "outputs": [
    {
     "data": {
      "text/html": [
       "<div>\n",
       "<style scoped>\n",
       "    .dataframe tbody tr th:only-of-type {\n",
       "        vertical-align: middle;\n",
       "    }\n",
       "\n",
       "    .dataframe tbody tr th {\n",
       "        vertical-align: top;\n",
       "    }\n",
       "\n",
       "    .dataframe thead th {\n",
       "        text-align: right;\n",
       "    }\n",
       "</style>\n",
       "<table border=\"1\" class=\"dataframe\">\n",
       "  <thead>\n",
       "    <tr style=\"text-align: right;\">\n",
       "      <th></th>\n",
       "      <th>ETH</th>\n",
       "      <th>DAI</th>\n",
       "      <th>stETH</th>\n",
       "      <th>rETH</th>\n",
       "      <th>Enzyme Idle</th>\n",
       "      <th>Kiln</th>\n",
       "      <th>Cover Re Investment</th>\n",
       "      <th>Cover Re Loan Collateral</th>\n",
       "      <th>USDC</th>\n",
       "    </tr>\n",
       "  </thead>\n",
       "  <tbody>\n",
       "    <tr>\n",
       "      <th>0</th>\n",
       "      <td>14.124694</td>\n",
       "      <td>0.295956</td>\n",
       "      <td>34.899248</td>\n",
       "      <td>17.653023</td>\n",
       "      <td>7.784031</td>\n",
       "      <td>8.122427</td>\n",
       "      <td>5.778225</td>\n",
       "      <td>11.115495</td>\n",
       "      <td>0.226900</td>\n",
       "    </tr>\n",
       "    <tr>\n",
       "      <th>1</th>\n",
       "      <td>11.251983</td>\n",
       "      <td>0.304812</td>\n",
       "      <td>36.060900</td>\n",
       "      <td>18.235351</td>\n",
       "      <td>8.016956</td>\n",
       "      <td>8.391371</td>\n",
       "      <td>6.042239</td>\n",
       "      <td>11.462698</td>\n",
       "      <td>0.233689</td>\n",
       "    </tr>\n",
       "    <tr>\n",
       "      <th>2</th>\n",
       "      <td>8.201925</td>\n",
       "      <td>0.314210</td>\n",
       "      <td>37.293674</td>\n",
       "      <td>18.853330</td>\n",
       "      <td>8.264131</td>\n",
       "      <td>8.676781</td>\n",
       "      <td>6.323885</td>\n",
       "      <td>11.831168</td>\n",
       "      <td>0.240894</td>\n",
       "    </tr>\n",
       "    <tr>\n",
       "      <th>3</th>\n",
       "      <td>4.957734</td>\n",
       "      <td>0.324201</td>\n",
       "      <td>38.604294</td>\n",
       "      <td>19.510330</td>\n",
       "      <td>8.526902</td>\n",
       "      <td>8.980213</td>\n",
       "      <td>6.624857</td>\n",
       "      <td>12.222915</td>\n",
       "      <td>0.248554</td>\n",
       "    </tr>\n",
       "    <tr>\n",
       "      <th>4</th>\n",
       "      <td>1.500435</td>\n",
       "      <td>0.334842</td>\n",
       "      <td>40.000358</td>\n",
       "      <td>20.210160</td>\n",
       "      <td>8.806791</td>\n",
       "      <td>9.303425</td>\n",
       "      <td>6.947065</td>\n",
       "      <td>12.640211</td>\n",
       "      <td>0.256713</td>\n",
       "    </tr>\n",
       "    <tr>\n",
       "      <th>5</th>\n",
       "      <td>-2.191497</td>\n",
       "      <td>0.346200</td>\n",
       "      <td>41.490485</td>\n",
       "      <td>20.957139</td>\n",
       "      <td>9.105525</td>\n",
       "      <td>9.648415</td>\n",
       "      <td>7.292679</td>\n",
       "      <td>13.085633</td>\n",
       "      <td>0.265420</td>\n",
       "    </tr>\n",
       "  </tbody>\n",
       "</table>\n",
       "</div>"
      ],
      "text/plain": [
       "         ETH       DAI      stETH       rETH  Enzyme Idle      Kiln  \\\n",
       "0  14.124694  0.295956  34.899248  17.653023     7.784031  8.122427   \n",
       "1  11.251983  0.304812  36.060900  18.235351     8.016956  8.391371   \n",
       "2   8.201925  0.314210  37.293674  18.853330     8.264131  8.676781   \n",
       "3   4.957734  0.324201  38.604294  19.510330     8.526902  8.980213   \n",
       "4   1.500435  0.334842  40.000358  20.210160     8.806791  9.303425   \n",
       "5  -2.191497  0.346200  41.490485  20.957139     9.105525  9.648415   \n",
       "\n",
       "   Cover Re Investment  Cover Re Loan Collateral      USDC  \n",
       "0             5.778225                 11.115495  0.226900  \n",
       "1             6.042239                 11.462698  0.233689  \n",
       "2             6.323885                 11.831168  0.240894  \n",
       "3             6.624857                 12.222915  0.248554  \n",
       "4             6.947065                 12.640211  0.256713  \n",
       "5             7.292679                 13.085633  0.265420  "
      ]
     },
     "execution_count": 38,
     "metadata": {},
     "output_type": "execute_result"
    }
   ],
   "source": [
    "df_sum = asset_df_6_mo_pos.sum(axis=1)\n",
    "df_rel = asset_df_6_mo_pos.div(df_sum, 0)*100\n",
    "df_rel"
   ]
  },
  {
   "cell_type": "code",
   "execution_count": 39,
   "id": "e1e64856",
   "metadata": {
    "ExecuteTime": {
     "end_time": "2024-08-28T08:59:55.927215Z",
     "start_time": "2024-08-28T08:59:55.852668Z"
    },
    "hidden": true
   },
   "outputs": [
    {
     "name": "stdout",
     "output_type": "stream",
     "text": [
      "5966.017221486287 0 14.1%\n",
      "4614.552040834466 1 11.3%\n",
      "3263.0868601826464 2 8.2%\n",
      "1911.621679530826 3 5.0%\n",
      "560.1564988790055 4 1.5%\n",
      "-791.3086817728149 5 -2.2%\n",
      "12057.040936965837 0 0.3%\n",
      "9354.110575662196 1 0.3%\n",
      "6651.180214358556 2 0.3%\n",
      "3948.249853054916 3 0.3%\n",
      "1245.3194917512749 4 0.3%\n",
      "-1457.610869552366 5 0.3%\n",
      "26922.863055089794 0 34.9%\n",
      "24268.05720200258 1 36.1%\n",
      "21613.251348915375 2 37.3%\n",
      "18958.445495828164 3 38.6%\n",
      "16303.639642740949 4 40.0%\n",
      "13648.83378965374 5 41.5%\n",
      "49119.99868362112 0 17.7%\n",
      "46535.49956976 1 18.2%\n",
      "43951.0004558989 2 18.9%\n",
      "41366.50134203779 3 19.5%\n",
      "38782.00222817667 4 20.2%\n",
      "36197.503114315565 5 21.0%\n",
      "59864.15368802175 0 7.8%\n",
      "57301.83680517031 1 8.0%\n",
      "54739.519922318876 2 8.3%\n",
      "52177.20303946743 3 8.5%\n",
      "49614.88615661598 4 8.8%\n",
      "47052.569273764544 5 9.1%\n",
      "66582.7560829342 0 8.1%\n",
      "64031.05814496797 1 8.4%\n",
      "61479.36020700175 2 8.7%\n",
      "58927.66226903552 3 9.0%\n",
      "56375.96433106929 4 9.3%\n",
      "53824.26639310307 5 9.6%\n",
      "72454.14211611946 0 5.8%\n",
      "69950.42770208219 1 6.0%\n",
      "67447.28531996552 2 6.3%\n",
      "64944.72372727527 3 6.6%\n",
      "62442.75181559002 4 6.9%\n",
      "59941.378612613735 5 7.3%\n",
      "79589.74627813551 0 11.1%\n",
      "77129.37956025884 1 11.5%\n",
      "74670.1645308881 2 11.8%\n",
      "72212.1187147515 3 12.2%\n",
      "69755.25990473518 4 12.6%\n",
      "67299.60616598844 5 13.1%\n",
      "84380.57016273556 0 0.2%\n",
      "81926.18656197577 1 0.2%\n",
      "79472.96227438662 2 0.2%\n",
      "77020.91483441292 3 0.2%\n",
      "74570.06204466977 4 0.3%\n",
      "72120.42198004786 5 0.3%\n"
     ]
    }
   ],
   "source": [
    "for n in df_rel: \n",
    "    for i, (cs, ab, pc) in enumerate(zip(asset_df_6_mo_pos.cumsum(1)[n],  \n",
    "                                         asset_df_6_mo_pos[n], df_rel[n])): \n",
    "        print(cs - ab / 2, i, str(np.round(pc, 1)) + '%')"
   ]
  },
  {
   "cell_type": "code",
   "execution_count": 40,
   "id": "eb084695",
   "metadata": {
    "ExecuteTime": {
     "end_time": "2024-08-28T08:59:56.677819Z",
     "start_time": "2024-08-28T08:59:55.934233Z"
    },
    "hidden": true
   },
   "outputs": [
    {
     "name": "stderr",
     "output_type": "stream",
     "text": [
      "/tmp/ipykernel_691/4137318079.py:5: UserWarning: set_ticklabels() should only be used with a fixed number of ticks, i.e. after set_ticks() or using a FixedLocator.\n",
      "  projection_bar_perc_plot.set_yticklabels(['{:,.0f}'.format(x) for x in tick_vals])\n"
     ]
    },
    {
     "data": {
      "image/png": "[encoded data removed]",
      "text/plain": [
       "<Figure size 1000x700 with 1 Axes>"
      ]
     },
     "metadata": {},
     "output_type": "display_data"
    }
   ],
   "source": [
    "projection_bar_perc_plot = asset_df_6_mo_pos.plot(kind='bar', stacked=True, title=f'Capital Pool Projection from {today_date_str}',\n",
    "                                    figsize=(10, 7), legend=True, ylabel='ETH', xlabel='Months in Future')\n",
    "\n",
    "tick_vals = projection_bar_perc_plot.get_yticks()\n",
    "projection_bar_perc_plot.set_yticklabels(['{:,.0f}'.format(x) for x in tick_vals])\n",
    "\n",
    "for n in df_rel: \n",
    "     for i, (cs, ab, pc) in enumerate(zip(asset_df_6_mo_pos.cumsum(1)[n],  \n",
    "                                         asset_df_6_mo_pos[n], df_rel[n])): \n",
    "         projection_bar_perc_plot.text(y= cs - ab / 2, x=i, s=str(np.round(pc, 1)) + '%',\n",
    "                             va = 'center', ha = 'center', size = 'small')"
   ]
  },
  {
   "cell_type": "code",
   "execution_count": null,
   "id": "8ac03af3",
   "metadata": {
    "hidden": true
   },
   "outputs": [],
   "source": []
  }
 ],
 "metadata": {
  "kernelspec": {
   "display_name": "Python 3 (ipykernel)",
   "language": "python",
   "name": "python3"
  },
  "language_info": {
   "codemirror_mode": {
    "name": "ipython",
    "version": 3
   },
   "file_extension": ".py",
   "mimetype": "text/x-python",
   "name": "python",
   "nbconvert_exporter": "python",
   "pygments_lexer": "ipython3",
   "version": "3.10.6"
  },
  "toc": {
   "base_numbering": 1,
   "nav_menu": {},
   "number_sections": true,
   "sideBar": true,
   "skip_h1_title": false,
   "title_cell": "Table of Contents",
   "title_sidebar": "Contents",
   "toc_cell": false,
   "toc_position": {},
   "toc_section_display": true,
   "toc_window_display": false
  }
 },
 "nbformat": 4,
 "nbformat_minor": 5
}
