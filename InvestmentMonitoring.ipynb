{
 "cells": [
  {
   "cell_type": "markdown",
   "id": "374372ea",
   "metadata": {},
   "source": [
    "# Imports and Inputs"
   ]
  },
  {
   "cell_type": "code",
   "execution_count": 1,
   "id": "4dc24827",
   "metadata": {
    "ExecuteTime": {
     "end_time": "2024-06-03T15:14:21.957487Z",
     "start_time": "2024-06-03T15:14:21.401561Z"
    }
   },
   "outputs": [
    {
     "name": "stderr",
     "output_type": "stream",
     "text": [
      "/tmp/ipykernel_672/3756105138.py:1: DeprecationWarning: \n",
      "Pyarrow will become a required dependency of pandas in the next major release of pandas (pandas 3.0),\n",
      "(to allow more performant data types, such as the Arrow string type, and better interoperability with other libraries)\n",
      "but was not found to be installed on your system.\n",
      "If this would cause problems for you,\n",
      "please provide us feedback at https://github.com/pandas-dev/pandas/issues/54466\n",
      "        \n",
      "  import pandas as pd\n"
     ]
    }
   ],
   "source": [
    "import pandas as pd\n",
    "import requests\n",
    "import matplotlib.pyplot as plt\n",
    "# import seaborn as sns\n",
    "from datetime import datetime, timedelta, timezone\n",
    "\n",
    "from dune_client.client import DuneClient\n",
    "from config import key\n",
    "\n",
    "# pd.set_option('display.max_rows', None)\n",
    "pd.set_option('display.max_columns', None)"
   ]
  },
  {
   "cell_type": "markdown",
   "id": "27ca9291",
   "metadata": {},
   "source": [
    "Links to dune queries to refresh before importing:\n",
    "\n",
    "[Capital Pool in ETH](https://dune.com/queries/3773645/6345766?display_currency_e15077=ETH)\n",
    "\n",
    "[RAMM Volumes](https://dune.com/queries/3219988/5394288)\n",
    "\n",
    "[Full List Of Covers V2](https://dune.com/queries/2303588/3773262)"
   ]
  },
  {
   "cell_type": "code",
   "execution_count": 2,
   "id": "09516829",
   "metadata": {
    "ExecuteTime": {
     "end_time": "2024-06-03T15:14:26.195999Z",
     "start_time": "2024-06-03T15:14:24.160478Z"
    }
   },
   "outputs": [],
   "source": [
    "# import jsons of capital pool, ramm volume and covers from dune api \n",
    "dune = DuneClient(key)\n",
    "cap_pool_result = dune.get_latest_result_dataframe(3773645)\n",
    "ramm_volume_result = dune.get_latest_result_dataframe(3219988)\n",
    "covers_list_result = dune.get_latest_result_dataframe(2303588)"
   ]
  },
  {
   "cell_type": "markdown",
   "id": "7afdf7c6",
   "metadata": {},
   "source": [
    "# Investment Newsletter Data"
   ]
  },
  {
   "cell_type": "markdown",
   "id": "49eb3223",
   "metadata": {},
   "source": [
    "Kiln Rewards - [AB Safe Enzyme App](https://app.safe.global/apps/open?safe=eth:0x51ad1265C8702c9e96Ea61Fe4088C2e22eD4418e&appUrl=https%3A%2F%2Fapp.enzyme.finance)"
   ]
  },
  {
   "cell_type": "code",
   "execution_count": 39,
   "id": "530eeccc",
   "metadata": {
    "ExecuteTime": {
     "end_time": "2024-06-03T15:54:57.920748Z",
     "start_time": "2024-06-03T15:54:57.913812Z"
    }
   },
   "outputs": [],
   "source": [
    "# manually input the valuation date as a string in the format 'dd-mm-yyyy'\n",
    "valn_date_str = '30-05-2024'\n",
    "\n",
    "# manually input idle Enzyme Portion\n",
    "Enzyme_idle_portion = 6585\n",
    "# manually input kiln rewards\n",
    "kiln_first_round = 181.45\n",
    "# create datetime object of 2023/08/30 when the Kiln validators were activated \n",
    "# kiln_deposit_date = datetime(year=2023, month=8, day=30, tzinfo=timezone.utc)\n",
    "kiln_deposit_date = datetime(year=2023, month=8, day=30)\n",
    "\n",
    "# create datetime objects of 2024/04/24 and 2024/04/26 when the Kiln rewards were first claimed.\n",
    "    # Note that the values for 2024/04/25 will be inaccurate\n",
    "# kiln_claim_start_date = datetime(year=2024, month=4, day=24, tzinfo=timezone.utc)\n",
    "# kiln_claim_end_date = datetime(year=2024, month=4, day=26, tzinfo=timezone.utc)\n",
    "kiln_claim_start_date = datetime(year=2024, month=4, day=24)\n",
    "kiln_claim_end_date = datetime(year=2024, month=4, day=26)\n",
    "kiln_current = 21.2602\n",
    "\n",
    "kiln_total_rewards = kiln_first_round + kiln_current\n",
    "\n",
    "# manually input Dai Cover Re Monthly Withdrawals\n",
    "dai_cover_re_withdrawals = 4_090_353"
   ]
  },
  {
   "cell_type": "code",
   "execution_count": 4,
   "id": "e9408efe",
   "metadata": {
    "ExecuteTime": {
     "end_time": "2024-06-03T15:14:34.557245Z",
     "start_time": "2024-06-03T15:14:34.546095Z"
    }
   },
   "outputs": [],
   "source": [
    "# create valuation datetime\n",
    "# valn_date = datetime.strptime(valn_date_str, '%d-%m-%Y').replace(tzinfo=timezone.utc)\n",
    "valn_date = datetime.strptime(valn_date_str, '%d-%m-%Y')\n",
    "# create valuation datetimes for 30 days and 365 days ago\n",
    "# eom_before_valn_date = datetime(year=valn_date.year, month=valn_date.month, day=1, tzinfo=timezone.utc) - timedelta(days=1)\n",
    "eom_before_valn_date = datetime(year=valn_date.year, month=valn_date.month, day=1) - timedelta(days=1)"
   ]
  },
  {
   "cell_type": "code",
   "execution_count": 5,
   "id": "91054a2f",
   "metadata": {
    "ExecuteTime": {
     "end_time": "2024-06-03T15:14:36.896865Z",
     "start_time": "2024-06-03T15:14:36.496131Z"
    }
   },
   "outputs": [],
   "source": [
    "# coingecko ETH API for ETH-USD at valuation date\n",
    "url = 'https://api.coingecko.com/api/v3/coins/ethereum/history'\n",
    "eth_price_params_valn = {'date': valn_date_str}\n",
    "eth_usd_valn = requests.get(url, params=eth_price_params_valn).json()['market_data']['current_price']['usd']"
   ]
  },
  {
   "cell_type": "markdown",
   "id": "c05ea3f7",
   "metadata": {},
   "source": [
    "## Processing Capital Pool Table"
   ]
  },
  {
   "cell_type": "code",
   "execution_count": 6,
   "id": "e9b7aed8",
   "metadata": {
    "ExecuteTime": {
     "end_time": "2024-06-03T15:14:38.807938Z",
     "start_time": "2024-06-03T15:14:38.746299Z"
    }
   },
   "outputs": [
    {
     "data": {
      "text/html": [
       "<div>\n",
       "<style scoped>\n",
       "    .dataframe tbody tr th:only-of-type {\n",
       "        vertical-align: middle;\n",
       "    }\n",
       "\n",
       "    .dataframe tbody tr th {\n",
       "        vertical-align: top;\n",
       "    }\n",
       "\n",
       "    .dataframe thead th {\n",
       "        text-align: right;\n",
       "    }\n",
       "</style>\n",
       "<table border=\"1\" class=\"dataframe\">\n",
       "  <thead>\n",
       "    <tr style=\"text-align: right;\">\n",
       "      <th></th>\n",
       "      <th>block_date</th>\n",
       "      <th>avg_eth_usd_price</th>\n",
       "      <th>capital_pool_display_curr</th>\n",
       "      <th>eth_display_curr</th>\n",
       "      <th>dai_display_curr</th>\n",
       "      <th>nxmty_display_curr</th>\n",
       "      <th>steth_display_curr</th>\n",
       "      <th>reth_display_curr</th>\n",
       "      <th>usdc_display_curr</th>\n",
       "      <th>cover_re_usdc_display_curr</th>\n",
       "      <th>aave_collateral_weth_display_curr</th>\n",
       "      <th>aave_debt_usdc_display_curr</th>\n",
       "    </tr>\n",
       "  </thead>\n",
       "  <tbody>\n",
       "    <tr>\n",
       "      <th>0</th>\n",
       "      <td>2024-06-03 00:00:00</td>\n",
       "      <td>3806.998017</td>\n",
       "      <td>86787.500353</td>\n",
       "      <td>13863.847448</td>\n",
       "      <td>283.979620</td>\n",
       "      <td>13352.679363</td>\n",
       "      <td>33629.401072</td>\n",
       "      <td>14793.872046</td>\n",
       "      <td>1.261032</td>\n",
       "      <td>3152.535611</td>\n",
       "      <td>9343.927874</td>\n",
       "      <td>-1634.003714</td>\n",
       "    </tr>\n",
       "    <tr>\n",
       "      <th>1</th>\n",
       "      <td>2024-06-02 00:00:00</td>\n",
       "      <td>3796.210590</td>\n",
       "      <td>86855.915744</td>\n",
       "      <td>13936.995943</td>\n",
       "      <td>284.549237</td>\n",
       "      <td>13352.679363</td>\n",
       "      <td>33629.401072</td>\n",
       "      <td>14783.283219</td>\n",
       "      <td>1.265424</td>\n",
       "      <td>3163.515565</td>\n",
       "      <td>9343.754168</td>\n",
       "      <td>-1639.528246</td>\n",
       "    </tr>\n",
       "    <tr>\n",
       "      <th>2</th>\n",
       "      <td>2024-06-01 00:00:00</td>\n",
       "      <td>3792.737535</td>\n",
       "      <td>86949.033139</td>\n",
       "      <td>14045.622754</td>\n",
       "      <td>276.496621</td>\n",
       "      <td>13352.732415</td>\n",
       "      <td>33626.500917</td>\n",
       "      <td>14777.128209</td>\n",
       "      <td>1.266689</td>\n",
       "      <td>3166.679271</td>\n",
       "      <td>9343.379157</td>\n",
       "      <td>-1640.772893</td>\n",
       "    </tr>\n",
       "    <tr>\n",
       "      <th>3</th>\n",
       "      <td>2024-05-31 00:00:00</td>\n",
       "      <td>3768.002500</td>\n",
       "      <td>87039.646466</td>\n",
       "      <td>14114.203758</td>\n",
       "      <td>272.782221</td>\n",
       "      <td>13352.785467</td>\n",
       "      <td>33623.618159</td>\n",
       "      <td>14795.686450</td>\n",
       "      <td>1.274981</td>\n",
       "      <td>3187.407884</td>\n",
       "      <td>9343.003483</td>\n",
       "      <td>-1651.115935</td>\n",
       "    </tr>\n",
       "    <tr>\n",
       "      <th>4</th>\n",
       "      <td>2024-05-30 00:00:00</td>\n",
       "      <td>3764.666424</td>\n",
       "      <td>87103.350003</td>\n",
       "      <td>14179.539108</td>\n",
       "      <td>272.996356</td>\n",
       "      <td>13352.838527</td>\n",
       "      <td>33620.602905</td>\n",
       "      <td>14795.279748</td>\n",
       "      <td>1.276138</td>\n",
       "      <td>3190.300731</td>\n",
       "      <td>9342.627698</td>\n",
       "      <td>-1652.111208</td>\n",
       "    </tr>\n",
       "    <tr>\n",
       "      <th>...</th>\n",
       "      <td>...</td>\n",
       "      <td>...</td>\n",
       "      <td>...</td>\n",
       "      <td>...</td>\n",
       "      <td>...</td>\n",
       "      <td>...</td>\n",
       "      <td>...</td>\n",
       "      <td>...</td>\n",
       "      <td>...</td>\n",
       "      <td>...</td>\n",
       "      <td>...</td>\n",
       "      <td>...</td>\n",
       "    </tr>\n",
       "    <tr>\n",
       "      <th>1834</th>\n",
       "      <td>2019-05-27 00:00:00</td>\n",
       "      <td>268.692708</td>\n",
       "      <td>23.625751</td>\n",
       "      <td>23.625751</td>\n",
       "      <td>0.000000</td>\n",
       "      <td>0.000000</td>\n",
       "      <td>0.000000</td>\n",
       "      <td>0.000000</td>\n",
       "      <td>0.000000</td>\n",
       "      <td>0.000000</td>\n",
       "      <td>0.000000</td>\n",
       "      <td>-0.000000</td>\n",
       "    </tr>\n",
       "    <tr>\n",
       "      <th>1835</th>\n",
       "      <td>2019-05-26 00:00:00</td>\n",
       "      <td>252.561806</td>\n",
       "      <td>23.629793</td>\n",
       "      <td>23.629793</td>\n",
       "      <td>0.000000</td>\n",
       "      <td>0.000000</td>\n",
       "      <td>0.000000</td>\n",
       "      <td>0.000000</td>\n",
       "      <td>0.000000</td>\n",
       "      <td>0.000000</td>\n",
       "      <td>0.000000</td>\n",
       "      <td>-0.000000</td>\n",
       "    </tr>\n",
       "    <tr>\n",
       "      <th>1836</th>\n",
       "      <td>2019-05-25 00:00:00</td>\n",
       "      <td>251.959896</td>\n",
       "      <td>22.633834</td>\n",
       "      <td>22.633834</td>\n",
       "      <td>0.000000</td>\n",
       "      <td>0.000000</td>\n",
       "      <td>0.000000</td>\n",
       "      <td>0.000000</td>\n",
       "      <td>0.000000</td>\n",
       "      <td>0.000000</td>\n",
       "      <td>0.000000</td>\n",
       "      <td>-0.000000</td>\n",
       "    </tr>\n",
       "    <tr>\n",
       "      <th>1837</th>\n",
       "      <td>2019-05-24 00:00:00</td>\n",
       "      <td>249.477361</td>\n",
       "      <td>21.537876</td>\n",
       "      <td>21.537876</td>\n",
       "      <td>0.000000</td>\n",
       "      <td>0.000000</td>\n",
       "      <td>0.000000</td>\n",
       "      <td>0.000000</td>\n",
       "      <td>0.000000</td>\n",
       "      <td>0.000000</td>\n",
       "      <td>0.000000</td>\n",
       "      <td>-0.000000</td>\n",
       "    </tr>\n",
       "    <tr>\n",
       "      <th>1838</th>\n",
       "      <td>2019-05-23 00:00:00</td>\n",
       "      <td>241.129757</td>\n",
       "      <td>0.095959</td>\n",
       "      <td>0.095959</td>\n",
       "      <td>0.000000</td>\n",
       "      <td>0.000000</td>\n",
       "      <td>0.000000</td>\n",
       "      <td>0.000000</td>\n",
       "      <td>0.000000</td>\n",
       "      <td>0.000000</td>\n",
       "      <td>0.000000</td>\n",
       "      <td>-0.000000</td>\n",
       "    </tr>\n",
       "  </tbody>\n",
       "</table>\n",
       "<p>1839 rows × 12 columns</p>\n",
       "</div>"
      ],
      "text/plain": [
       "               block_date  avg_eth_usd_price  capital_pool_display_curr  \\\n",
       "0     2024-06-03 00:00:00        3806.998017               86787.500353   \n",
       "1     2024-06-02 00:00:00        3796.210590               86855.915744   \n",
       "2     2024-06-01 00:00:00        3792.737535               86949.033139   \n",
       "3     2024-05-31 00:00:00        3768.002500               87039.646466   \n",
       "4     2024-05-30 00:00:00        3764.666424               87103.350003   \n",
       "...                   ...                ...                        ...   \n",
       "1834  2019-05-27 00:00:00         268.692708                  23.625751   \n",
       "1835  2019-05-26 00:00:00         252.561806                  23.629793   \n",
       "1836  2019-05-25 00:00:00         251.959896                  22.633834   \n",
       "1837  2019-05-24 00:00:00         249.477361                  21.537876   \n",
       "1838  2019-05-23 00:00:00         241.129757                   0.095959   \n",
       "\n",
       "      eth_display_curr  dai_display_curr  nxmty_display_curr  \\\n",
       "0         13863.847448        283.979620        13352.679363   \n",
       "1         13936.995943        284.549237        13352.679363   \n",
       "2         14045.622754        276.496621        13352.732415   \n",
       "3         14114.203758        272.782221        13352.785467   \n",
       "4         14179.539108        272.996356        13352.838527   \n",
       "...                ...               ...                 ...   \n",
       "1834         23.625751          0.000000            0.000000   \n",
       "1835         23.629793          0.000000            0.000000   \n",
       "1836         22.633834          0.000000            0.000000   \n",
       "1837         21.537876          0.000000            0.000000   \n",
       "1838          0.095959          0.000000            0.000000   \n",
       "\n",
       "      steth_display_curr  reth_display_curr  usdc_display_curr  \\\n",
       "0           33629.401072       14793.872046           1.261032   \n",
       "1           33629.401072       14783.283219           1.265424   \n",
       "2           33626.500917       14777.128209           1.266689   \n",
       "3           33623.618159       14795.686450           1.274981   \n",
       "4           33620.602905       14795.279748           1.276138   \n",
       "...                  ...                ...                ...   \n",
       "1834            0.000000           0.000000           0.000000   \n",
       "1835            0.000000           0.000000           0.000000   \n",
       "1836            0.000000           0.000000           0.000000   \n",
       "1837            0.000000           0.000000           0.000000   \n",
       "1838            0.000000           0.000000           0.000000   \n",
       "\n",
       "      cover_re_usdc_display_curr  aave_collateral_weth_display_curr  \\\n",
       "0                    3152.535611                        9343.927874   \n",
       "1                    3163.515565                        9343.754168   \n",
       "2                    3166.679271                        9343.379157   \n",
       "3                    3187.407884                        9343.003483   \n",
       "4                    3190.300731                        9342.627698   \n",
       "...                          ...                                ...   \n",
       "1834                    0.000000                           0.000000   \n",
       "1835                    0.000000                           0.000000   \n",
       "1836                    0.000000                           0.000000   \n",
       "1837                    0.000000                           0.000000   \n",
       "1838                    0.000000                           0.000000   \n",
       "\n",
       "      aave_debt_usdc_display_curr  \n",
       "0                    -1634.003714  \n",
       "1                    -1639.528246  \n",
       "2                    -1640.772893  \n",
       "3                    -1651.115935  \n",
       "4                    -1652.111208  \n",
       "...                           ...  \n",
       "1834                    -0.000000  \n",
       "1835                    -0.000000  \n",
       "1836                    -0.000000  \n",
       "1837                    -0.000000  \n",
       "1838                    -0.000000  \n",
       "\n",
       "[1839 rows x 12 columns]"
      ]
     },
     "execution_count": 6,
     "metadata": {},
     "output_type": "execute_result"
    }
   ],
   "source": [
    "cap_pool_result"
   ]
  },
  {
   "cell_type": "code",
   "execution_count": 45,
   "id": "bad47e5c",
   "metadata": {
    "ExecuteTime": {
     "end_time": "2024-06-03T15:58:30.217949Z",
     "start_time": "2024-06-03T15:58:30.164859Z"
    }
   },
   "outputs": [
    {
     "name": "stderr",
     "output_type": "stream",
     "text": [
      "/tmp/ipykernel_672/2737571135.py:38: FutureWarning: Setting an item of incompatible dtype is deprecated and will raise an error in a future version of pandas. Value '[  181.45         180.68760504   179.92521008 ... -1187.81134454\n",
      " -1188.5737395  -1189.33613445]' has dtype incompatible with int64, please explicitly cast to a compatible dtype first.\n",
      "  df_cap.loc[df_cap['day'] <= kiln_claim_start_date, 'kiln_rewards'] = daily_first_kiln_rewards * ((df_cap['day'] - kiln_deposit_date) / timedelta(days=1))\n"
     ]
    }
   ],
   "source": [
    "# process capital pool table\n",
    "\n",
    "df_cap_raw = cap_pool_result\n",
    "\n",
    "# drop moving average columns\n",
    "df_cap = df_cap_raw.drop(columns=['capital_pool_display_curr'])\n",
    "# rename columns\n",
    "df_cap.rename(columns={'eth_display_curr': 'ETH',\n",
    "                       'dai_display_curr': 'DAI',\n",
    "                       'reth_display_curr': 'rETH',\n",
    "                       'steth_display_curr': 'stETH',\n",
    "                       'nxmty_display_curr': 'Enzyme',\n",
    "                       'usdc_display_curr': 'USDC',\n",
    "                       'cover_re_usdc_display_curr': 'Cover Re',\n",
    "                       'aave_collateral_weth_display_curr': 'aEthWETH',\n",
    "                       'aave_debt_usdc_display_curr': 'variableDebtEthUSDC',\n",
    "                       'avg_eth_usd_price': 'rate_ETH_USD',\n",
    "                       'block_date': 'day'\n",
    "                  }, inplace=True)\n",
    "\n",
    "\n",
    "# change day to a datetime\n",
    "df_cap['day'] = pd.to_datetime(df_cap['day'])\n",
    "\n",
    "# Adjust Enzyme for unclaimed Kiln returns\n",
    "    # work out days since kiln deposit from the latest day and work out the rewards per day\n",
    "days_first_kiln_rewards = (kiln_claim_start_date - kiln_deposit_date)/timedelta(days=1)\n",
    "daily_first_kiln_rewards = kiln_first_round/days_first_kiln_rewards\n",
    "\n",
    "days_current_kiln_rewards = (df_cap.iloc[0]['day'] - kiln_claim_end_date)/timedelta(days=1)\n",
    "daily_current_kiln_rewards = kiln_current/days_current_kiln_rewards\n",
    "\n",
    "days_total_kiln_rewards = (df_cap.iloc[0]['day'] - kiln_deposit_date)/timedelta(days=1)\n",
    "daily_total_kiln_rewards = kiln_total_rewards / days_total_kiln_rewards\n",
    "\n",
    "    # create a column for kiln rewards based on the daily values since validators went live\n",
    "df_cap['kiln_rewards'] = 0\n",
    "df_cap.loc[df_cap['day'] <= kiln_claim_start_date, 'kiln_rewards'] = daily_first_kiln_rewards * ((df_cap['day'] - kiln_deposit_date) / timedelta(days=1))\n",
    "df_cap.loc[df_cap['day'] >= kiln_claim_end_date, 'kiln_rewards'] = daily_current_kiln_rewards * ((df_cap['day'] - kiln_claim_end_date) / timedelta(days=1))\n",
    "df_cap.loc[df_cap['kiln_rewards'] < 0, 'kiln_rewards'] = 0\n",
    "\n",
    "    # Add Kiln rewards to Enzyme column and then drop the Kiln rewards column\n",
    "df_cap['Enzyme'] = df_cap['Enzyme'] + df_cap['kiln_rewards']\n",
    "df_cap.drop(columns=['kiln_rewards'], inplace=True)\n",
    "\n",
    "# add all the columns except day and the exchange rate together to get numeric total\n",
    "df_cap['sum'] = df_cap.drop(columns=['day', 'rate_ETH_USD']).sum(axis=1)\n",
    "\n",
    "# work out net aave position\n",
    "df_cap['Aave (net)'] = df_cap['aEthWETH'] + df_cap['variableDebtEthUSDC']"
   ]
  },
  {
   "cell_type": "code",
   "execution_count": 46,
   "id": "d3896c4e",
   "metadata": {
    "ExecuteTime": {
     "end_time": "2024-06-03T15:58:38.814771Z",
     "start_time": "2024-06-03T15:58:38.790244Z"
    }
   },
   "outputs": [
    {
     "data": {
      "text/html": [
       "<div>\n",
       "<style scoped>\n",
       "    .dataframe tbody tr th:only-of-type {\n",
       "        vertical-align: middle;\n",
       "    }\n",
       "\n",
       "    .dataframe tbody tr th {\n",
       "        vertical-align: top;\n",
       "    }\n",
       "\n",
       "    .dataframe thead th {\n",
       "        text-align: right;\n",
       "    }\n",
       "</style>\n",
       "<table border=\"1\" class=\"dataframe\">\n",
       "  <thead>\n",
       "    <tr style=\"text-align: right;\">\n",
       "      <th></th>\n",
       "      <th>day</th>\n",
       "      <th>rate_ETH_USD</th>\n",
       "      <th>ETH</th>\n",
       "      <th>DAI</th>\n",
       "      <th>Enzyme</th>\n",
       "      <th>stETH</th>\n",
       "      <th>rETH</th>\n",
       "      <th>USDC</th>\n",
       "      <th>Cover Re</th>\n",
       "      <th>aEthWETH</th>\n",
       "      <th>variableDebtEthUSDC</th>\n",
       "      <th>sum</th>\n",
       "      <th>Aave (net)</th>\n",
       "    </tr>\n",
       "  </thead>\n",
       "  <tbody>\n",
       "    <tr>\n",
       "      <th>34</th>\n",
       "      <td>2024-04-30</td>\n",
       "      <td>3069.918299</td>\n",
       "      <td>26291.552966</td>\n",
       "      <td>1643.925374</td>\n",
       "      <td>13356.66834</td>\n",
       "      <td>33535.865479</td>\n",
       "      <td>14766.45998</td>\n",
       "      <td>558.291909</td>\n",
       "      <td>0.0</td>\n",
       "      <td>0.0</td>\n",
       "      <td>-0.0</td>\n",
       "      <td>90152.764048</td>\n",
       "      <td>0.0</td>\n",
       "    </tr>\n",
       "  </tbody>\n",
       "</table>\n",
       "</div>"
      ],
      "text/plain": [
       "          day  rate_ETH_USD           ETH          DAI       Enzyme  \\\n",
       "34 2024-04-30   3069.918299  26291.552966  1643.925374  13356.66834   \n",
       "\n",
       "           stETH         rETH        USDC  Cover Re  aEthWETH  \\\n",
       "34  33535.865479  14766.45998  558.291909       0.0       0.0   \n",
       "\n",
       "    variableDebtEthUSDC           sum  Aave (net)  \n",
       "34                 -0.0  90152.764048         0.0  "
      ]
     },
     "execution_count": 46,
     "metadata": {},
     "output_type": "execute_result"
    }
   ],
   "source": [
    "df_cap.loc[df_cap['day'] == eom_before_valn_date]"
   ]
  },
  {
   "cell_type": "code",
   "execution_count": 47,
   "id": "9aa1a488",
   "metadata": {
    "ExecuteTime": {
     "end_time": "2024-06-03T15:58:39.366801Z",
     "start_time": "2024-06-03T15:58:39.336485Z"
    }
   },
   "outputs": [
    {
     "data": {
      "text/html": [
       "<div>\n",
       "<style scoped>\n",
       "    .dataframe tbody tr th:only-of-type {\n",
       "        vertical-align: middle;\n",
       "    }\n",
       "\n",
       "    .dataframe tbody tr th {\n",
       "        vertical-align: top;\n",
       "    }\n",
       "\n",
       "    .dataframe thead th {\n",
       "        text-align: right;\n",
       "    }\n",
       "</style>\n",
       "<table border=\"1\" class=\"dataframe\">\n",
       "  <thead>\n",
       "    <tr style=\"text-align: right;\">\n",
       "      <th></th>\n",
       "      <th>day</th>\n",
       "      <th>rate_ETH_USD</th>\n",
       "      <th>ETH</th>\n",
       "      <th>DAI</th>\n",
       "      <th>Enzyme</th>\n",
       "      <th>stETH</th>\n",
       "      <th>rETH</th>\n",
       "      <th>USDC</th>\n",
       "      <th>Cover Re</th>\n",
       "      <th>aEthWETH</th>\n",
       "      <th>variableDebtEthUSDC</th>\n",
       "      <th>sum</th>\n",
       "      <th>Aave (net)</th>\n",
       "    </tr>\n",
       "  </thead>\n",
       "  <tbody>\n",
       "    <tr>\n",
       "      <th>4</th>\n",
       "      <td>2024-05-30</td>\n",
       "      <td>3764.666424</td>\n",
       "      <td>14179.539108</td>\n",
       "      <td>272.996356</td>\n",
       "      <td>13371.860811</td>\n",
       "      <td>33620.602905</td>\n",
       "      <td>14795.279748</td>\n",
       "      <td>1.276138</td>\n",
       "      <td>3190.300731</td>\n",
       "      <td>9342.627698</td>\n",
       "      <td>-1652.111208</td>\n",
       "      <td>87122.372287</td>\n",
       "      <td>7690.51649</td>\n",
       "    </tr>\n",
       "  </tbody>\n",
       "</table>\n",
       "</div>"
      ],
      "text/plain": [
       "         day  rate_ETH_USD           ETH         DAI        Enzyme  \\\n",
       "4 2024-05-30   3764.666424  14179.539108  272.996356  13371.860811   \n",
       "\n",
       "          stETH          rETH      USDC     Cover Re     aEthWETH  \\\n",
       "4  33620.602905  14795.279748  1.276138  3190.300731  9342.627698   \n",
       "\n",
       "   variableDebtEthUSDC           sum  Aave (net)  \n",
       "4         -1652.111208  87122.372287  7690.51649  "
      ]
     },
     "execution_count": 47,
     "metadata": {},
     "output_type": "execute_result"
    }
   ],
   "source": [
    "df_cap.loc[df_cap['day'] == valn_date]"
   ]
  },
  {
   "cell_type": "markdown",
   "id": "b95f519c",
   "metadata": {},
   "source": [
    "## Pie Chart of Assets at Valuation Date"
   ]
  },
  {
   "cell_type": "code",
   "execution_count": 48,
   "id": "ff85e094",
   "metadata": {
    "ExecuteTime": {
     "end_time": "2024-06-03T15:58:41.745135Z",
     "start_time": "2024-06-03T15:58:41.497973Z"
    }
   },
   "outputs": [
    {
     "data": {
      "image/png": "[encoded data removed]",
      "text/plain": [
       "<Figure size 640x480 with 1 Axes>"
      ]
     },
     "metadata": {},
     "output_type": "display_data"
    }
   ],
   "source": [
    "# pie chart of assets\n",
    "asset_list = ['ETH', 'DAI', 'stETH', 'rETH', 'Enzyme', 'Cover Re', 'Aave (net)', 'USDC']\n",
    "valn_date_row = df_cap.loc[df_cap['day'] == valn_date][asset_list]\n",
    "\n",
    "# add formatted ETH values to labels\n",
    "labels = []\n",
    "for n, i in enumerate(asset_list):\n",
    "    formatted_value = '{:,.0f}'.format(valn_date_row.values[0][n])\n",
    "    labels.append(f'{i} - {formatted_value}')\n",
    "\n",
    "# create chart\n",
    "plt.pie(valn_date_row.values[0], labels=labels, autopct='%1.2f%%')\n",
    "plt.title(f'{valn_date_str} Capital Pool Split in ETH');"
   ]
  },
  {
   "cell_type": "markdown",
   "id": "210d6c9b",
   "metadata": {},
   "source": [
    "## Monthly Changes in Capital Pool"
   ]
  },
  {
   "cell_type": "markdown",
   "id": "580c9e0e",
   "metadata": {},
   "source": [
    "### RAMM Net Withdrawals"
   ]
  },
  {
   "cell_type": "code",
   "execution_count": 49,
   "id": "f55a9ce8",
   "metadata": {
    "ExecuteTime": {
     "end_time": "2024-06-03T15:58:50.281710Z",
     "start_time": "2024-06-03T15:58:50.234664Z"
    }
   },
   "outputs": [
    {
     "data": {
      "text/plain": [
       "-2795.261382109413"
      ]
     },
     "execution_count": 49,
     "metadata": {},
     "output_type": "execute_result"
    }
   ],
   "source": [
    "# RAMM Net Withdrawals\n",
    "df_ramm = ramm_volume_result\n",
    "\n",
    "# change timestamp to datetime format and normalise all dates to midnight\n",
    "df_ramm['ts'] = pd.to_datetime(df_ramm['ts']).dt.floor('D')\n",
    "\n",
    "# group by date, take the latest value and re-sort into descending order\n",
    "df_ramm = df_ramm.groupby(by=df_ramm['ts'].dt.date, as_index=False).first().\\\n",
    "            sort_values(['ts'], ascending=False).reset_index(drop=True)\n",
    "\n",
    "# determine net ramm flows 30 days before and on the valuation date by subtracting redemptions from mints\n",
    "ramm_flows_monthly_opening = df_ramm.loc[df_ramm['ts'] == eom_before_valn_date]['cummulative_eth_in'].values[0] - df_ramm.loc[df_ramm['ts'] == eom_before_valn_date]['cummulative_eth_out'].values[0]\n",
    "ramm_flows_monthly_closing = df_ramm.loc[df_ramm['ts'] == valn_date]['cummulative_eth_in'].values[0] - df_ramm.loc[df_ramm['ts'] == valn_date]['cummulative_eth_out'].values[0]\n",
    "\n",
    "# determine net flows from ramm in 30 days before valuation date \n",
    "ramm_flow_monthly_change = ramm_flows_monthly_closing - ramm_flows_monthly_opening\n",
    "ramm_flow_monthly_change"
   ]
  },
  {
   "cell_type": "markdown",
   "id": "657486ee",
   "metadata": {},
   "source": [
    "### Cover Fees"
   ]
  },
  {
   "cell_type": "code",
   "execution_count": 50,
   "id": "99c09c5f",
   "metadata": {
    "ExecuteTime": {
     "end_time": "2024-06-03T15:58:59.074662Z",
     "start_time": "2024-06-03T15:58:59.051317Z"
    }
   },
   "outputs": [
    {
     "name": "stdout",
     "output_type": "stream",
     "text": [
      "ETH Cover Fees = 22.706859595283788\n",
      "DAI Cover Fees = 19.100026706903993\n",
      "Total Cover Fees = 41.80688630218778\n"
     ]
    }
   ],
   "source": [
    "df_covers = covers_list_result\n",
    "net_of_commission_ratio = 0.85\n",
    "eth_usd_closing = df_cap.loc[df_cap['day'] == valn_date]['rate_ETH_USD'].values[0]\n",
    "\n",
    "# change timestamp to datetime format and normalise all dates to midnight\n",
    "df_covers['cover_start_time'] = pd.to_datetime(df_covers['cover_start_time']).dt.floor('D').dt.tz_localize(None)\n",
    "\n",
    "# filter for covers that were bought the month of the valn date\n",
    "df_covers_30_days = df_covers[(df_covers['cover_start_time'] > eom_before_valn_date) & (df_covers['cover_start_time']<=valn_date)]\n",
    "\n",
    "# filter for covers that were paid for in ETH\n",
    "df_covers_30_days_eth = df_covers_30_days[df_covers_30_days['premium_asset'] == 'ETH']\n",
    "# work out cover fees denominated in ETH, allowing for 15% commission\n",
    "monthly_cover_fees_eth = df_covers_30_days_eth['premium_native'].sum() * net_of_commission_ratio\n",
    "print(f'ETH Cover Fees = {monthly_cover_fees_eth}')\n",
    "\n",
    "# filter for covers that were paid for in DAI\n",
    "df_covers_30_days_dai = df_covers_30_days[df_covers_30_days['premium_asset'] == 'DAI']\n",
    "# work out cover fees denominated in ETH, allowing for 15% commission\n",
    "monthly_cover_fees_dai = df_covers_30_days_dai['premium_native'].sum() * net_of_commission_ratio\n",
    "monthly_cover_fees_dai_in_eth = monthly_cover_fees_dai / eth_usd_closing\n",
    "print(f'DAI Cover Fees = {monthly_cover_fees_dai_in_eth}')\n",
    "\n",
    "monthly_cover_fees = monthly_cover_fees_eth + monthly_cover_fees_dai_in_eth\n",
    "print(f'Total Cover Fees = {monthly_cover_fees}')"
   ]
  },
  {
   "cell_type": "markdown",
   "id": "d586e094",
   "metadata": {},
   "source": [
    "### FX Impacts"
   ]
  },
  {
   "cell_type": "code",
   "execution_count": 51,
   "id": "fb00444b",
   "metadata": {
    "ExecuteTime": {
     "end_time": "2024-06-03T16:01:38.517722Z",
     "start_time": "2024-06-03T16:01:38.498886Z"
    }
   },
   "outputs": [
    {
     "name": "stdout",
     "output_type": "stream",
     "text": [
      "DAI FX Impact = 57.631044850422626\n"
     ]
    }
   ],
   "source": [
    "# exchange rate changes\n",
    "eth_usd_opening = df_cap.loc[df_cap['day'] == eom_before_valn_date]['rate_ETH_USD'].values[0]\n",
    "\n",
    "# get net monthly change from opening DAI\n",
    "dai_monthly_opening = df_cap.loc[df_cap['day'] == eom_before_valn_date]['DAI'].values[0]\n",
    "dai_monthly_closing = df_cap.loc[df_cap['day'] == valn_date]['DAI'].values[0]\n",
    "dai_monthly_closing_less_fees = dai_monthly_closing - monthly_cover_fees_dai_in_eth\n",
    "\n",
    "# allow for withdrawals\n",
    "dai_withdrawals_eth = dai_cover_re_withdrawals / eth_usd_opening\n",
    "\n",
    "dai_change = dai_monthly_opening - dai_withdrawals_eth - dai_monthly_closing_less_fees\n",
    "print(f'DAI FX Impact = {dai_change}')"
   ]
  },
  {
   "cell_type": "markdown",
   "id": "792f1503",
   "metadata": {},
   "source": [
    "## 30 Day Returns on Individual Investments"
   ]
  },
  {
   "cell_type": "code",
   "execution_count": 53,
   "id": "fb570949",
   "metadata": {
    "ExecuteTime": {
     "end_time": "2024-06-03T16:05:05.144502Z",
     "start_time": "2024-06-03T16:05:05.117184Z"
    }
   },
   "outputs": [
    {
     "name": "stdout",
     "output_type": "stream",
     "text": [
      "stETH Monthly APY: 3.075%\n",
      "stETH Monthly Return: 84.737\n",
      "rETH Monthly APY: 2.367%\n",
      "rETH Monthly Return: 28.82\n",
      "Enzyme Monthly APY: 1.224%; Kiln Portion Monthly APY: 2.576%\n",
      "Kiln Monthly Return: 15.192\n",
      "Total ETH Earned: 128.75\n",
      "All returns after fees\n"
     ]
    }
   ],
   "source": [
    "# ETH denominated 30-day returns on individual investments\n",
    "\n",
    "# stETH metrics in ETH\n",
    "stETH_monthly_opening = df_cap.loc[df_cap['day'] == eom_before_valn_date]['stETH'].values[0]\n",
    "stETH_closing = df_cap.loc[df_cap['day'] == valn_date]['stETH'].values[0]\n",
    "stETH_monthly_return = stETH_closing - stETH_monthly_opening\n",
    "# stETH monthly percentage\n",
    "stETH_monthly_percentage = stETH_monthly_return / stETH_monthly_opening\n",
    "# stETH annualised return last month\n",
    "stETH_monthly_APY = ((1 + stETH_monthly_percentage) ** 12 - 1)\n",
    "print(f'stETH Monthly APY: {round(stETH_monthly_APY * 100, 3)}%')\n",
    "print(f'stETH Monthly Return: {round(stETH_monthly_return, 3)}')\n",
    "\n",
    "# rETH metrics in ETH\n",
    "rETH_monthly_opening = df_cap.loc[df_cap['day'] == eom_before_valn_date]['rETH'].values[0]\n",
    "rETH_closing = df_cap.loc[df_cap['day'] == valn_date]['rETH'].values[0]\n",
    "rETH_monthly_return = rETH_closing - rETH_monthly_opening\n",
    "# rETH monthly percentage\n",
    "rETH_monthly_percentage = rETH_monthly_return / rETH_monthly_opening\n",
    "# rETH annualised return last month\n",
    "rETH_monthly_APY = ((1 + rETH_monthly_percentage) ** 12 - 1)\n",
    "print(f'rETH Monthly APY: {round(rETH_monthly_APY * 100, 3)}%')\n",
    "print(f'rETH Monthly Return: {round(rETH_monthly_return, 3)}')\n",
    "\n",
    "## Enzyme\n",
    "Enzyme_fee = 0.0015\n",
    "# Enzyme overall metrics in ETH\n",
    "Enzyme_monthly_opening = df_cap.loc[df_cap['day'] == eom_before_valn_date]['Enzyme'].values[0]\n",
    "Enzyme_closing = df_cap.loc[df_cap['day'] == valn_date]['Enzyme'].values[0]\n",
    "Enzyme_monthly_return = Enzyme_closing - Enzyme_monthly_opening\n",
    "# Enzyme monthly percentage\n",
    "Enzyme_monthly_percentage = Enzyme_monthly_return / Enzyme_monthly_opening\n",
    "# Enzyme annualised return last month\n",
    "Enzyme_monthly_APY = ((1 + Enzyme_monthly_percentage) ** 12 - 1)\n",
    "Enzyme_monthly_APY_after_fees = Enzyme_monthly_APY - Enzyme_fee\n",
    "    \n",
    "# Kiln standalone metrics in ETH\n",
    "Kiln_monthly_opening = Enzyme_monthly_opening - Enzyme_idle_portion\n",
    "Kiln_closing = Enzyme_closing - Enzyme_idle_portion\n",
    "Kiln_monthly_return = Kiln_closing - Kiln_monthly_opening\n",
    "# Kiln monthly percentage\n",
    "Kiln_monthly_percentage = Kiln_monthly_return / Kiln_monthly_opening\n",
    "# Kiln annualised return last month\n",
    "Kiln_monthly_APY = ((1 + Kiln_monthly_percentage) ** 12 - 1)\n",
    "Kiln_monthly_APY_after_fees = Kiln_monthly_APY - Enzyme_fee\n",
    "\n",
    "# Total ETH earned\n",
    "total_monthly_inv_earnings = round(stETH_monthly_return + rETH_monthly_return + Kiln_monthly_return, 3)\n",
    "\n",
    "print(f'Enzyme Monthly APY: {round(Enzyme_monthly_APY_after_fees * 100, 3)}%; Kiln Portion Monthly APY: {round(Kiln_monthly_APY_after_fees * 100, 3)}%')\n",
    "print(f'Kiln Monthly Return: {round(Kiln_monthly_return, 3)}')\n",
    "\n",
    "print(f'Total ETH Earned: {total_monthly_inv_earnings}')\n",
    "\n",
    "print ('All returns after fees')"
   ]
  },
  {
   "cell_type": "code",
   "execution_count": 54,
   "id": "58aece89",
   "metadata": {
    "ExecuteTime": {
     "end_time": "2024-06-03T16:06:25.142765Z",
     "start_time": "2024-06-03T16:06:24.712385Z"
    }
   },
   "outputs": [
    {
     "name": "stderr",
     "output_type": "stream",
     "text": [
      "/tmp/ipykernel_672/583409109.py:17: UserWarning: set_ticklabels() should only be used with a fixed number of ticks, i.e. after set_ticks() or using a FixedLocator.\n",
      "  axs[0].set_yticklabels(['{:,.1%}'.format(x) for x in tick_vals])\n"
     ]
    },
    {
     "data": {
      "image/png": "[encoded data removed]",
      "text/plain": [
       "<Figure size 1000x500 with 2 Axes>"
      ]
     },
     "metadata": {},
     "output_type": "display_data"
    }
   ],
   "source": [
    "# MONTHLY RETURN GRAPHS FOR INDIVIDUAL INVESTMENTS\n",
    "\n",
    "labels = ['stETH', 'rETH', 'Kiln']\n",
    "colors = ['#00a3ff', '#f26e34', '#202020']\n",
    "\n",
    "# Destructuring initialization\n",
    "fig, axs = plt.subplots(1, 2, figsize=(10,5))\n",
    "fig.suptitle(f'Investment Monthly Returns', fontsize=16)\n",
    "fig.tight_layout()\n",
    "fig.subplots_adjust(top=0.88)\n",
    "\n",
    "# Subplot\n",
    "axs[0].bar(labels, [stETH_monthly_APY, rETH_monthly_APY, Kiln_monthly_APY_after_fees], color=colors)\n",
    "axs[0].set_title('APY')\n",
    "axs[0].set_ylabel('APY')\n",
    "tick_vals = axs[0].get_yticks()\n",
    "axs[0].set_yticklabels(['{:,.1%}'.format(x) for x in tick_vals])\n",
    "\n",
    "# Subplot\n",
    "axs[1].bar(labels, [stETH_monthly_return, rETH_monthly_return, Kiln_monthly_return*(1-0.0015)], color=colors);\n",
    "axs[1].set_title('Absolute Return')\n",
    "axs[1].set_ylabel('ETH')\n",
    "\n",
    "plt.show();"
   ]
  },
  {
   "cell_type": "code",
   "execution_count": null,
   "id": "ae93d401",
   "metadata": {
    "ExecuteTime": {
     "end_time": "2024-05-30T12:58:23.685781Z",
     "start_time": "2024-05-30T12:58:23.673310Z"
    }
   },
   "outputs": [],
   "source": [
    "# Total Monthly APY on the Capital Pool\n",
    "\n",
    "# averaging the total ETH value of capital pool over the monthly period\n",
    "total_cap_monthly_opening = df_cap.loc[df_cap['day'] == eom_before_valn_date]['sum'].values[0]\n",
    "total_cap_monthly_closing = df_cap.loc[df_cap['day'] == valn_date]['sum'].values[0]\n",
    "avg_total_cap_pool = (total_cap_monthly_closing + total_cap_monthly_opening) / 2\n",
    "\n",
    "# monthly apy based on total earning\n",
    "total_monthly_percentage = total_monthly_inv_earnings / avg_total_cap_pool\n",
    "total_monthly_APY = ((1 + total_monthly_percentage) ** 12 - 1)\n",
    "\n",
    "print(f'Total Monthly APY: {round(total_monthly_APY * 100, 3)}%')\n",
    "print('Based on average Capital Pool amount over the monthly period')"
   ]
  },
  {
   "cell_type": "markdown",
   "id": "e3bba312",
   "metadata": {},
   "source": [
    "## Monthly Changes in Capital Pool "
   ]
  },
  {
   "cell_type": "code",
   "execution_count": null,
   "id": "87b4c553",
   "metadata": {
    "ExecuteTime": {
     "end_time": "2024-05-30T12:58:24.397537Z",
     "start_time": "2024-05-30T12:58:23.939681Z"
    }
   },
   "outputs": [],
   "source": [
    "# waterfall chart for changes in the capital pool\n",
    "\n",
    "# set limits on chart manually\n",
    "bottom = 87_000\n",
    "top = 93_000\n",
    "\n",
    "# create dataframe with relevant categories\n",
    "index = ['opening capital pool', 'cover fee income', 'investment returns', 'stablecoin impact', 'ramm net redemptions']\n",
    "data = {'amount': [total_cap_monthly_opening, monthly_cover_fees, total_monthly_inv_earnings, dai_change, ramm_flow_monthly_change]}\n",
    "df_waterfall = pd.DataFrame(data=data, index=index)\n",
    "\n",
    "# create a shifted dataframe by one space and fill the empty space with zero\n",
    "df_shift = df_waterfall.amount.cumsum().shift(1).fillna(0)\n",
    "\n",
    "# add the 'closing' line to both dataframes\n",
    "total = df_waterfall.sum().amount\n",
    "df_waterfall.loc['closing capital pool'] = total\n",
    "df_shift.loc['closing capital pool'] = 0\n",
    "\n",
    "# define the Nexus Mutual green color\n",
    "color = '#0AB682'\n",
    "\n",
    "# create waterfall plot\n",
    "waterfall_plot = df_waterfall.plot.bar(stacked=True, bottom=df_shift,\n",
    "                                   legend=None, color=color, title=f'{valn_date_str[-7:]} Capital Pool Waterfall')\n",
    "waterfall_plot.set_ylim(bottom=bottom, top=top)\n",
    "\n",
    "# change format of tick values\n",
    "tick_vals = waterfall_plot.get_yticks()\n",
    "waterfall_plot.set_yticklabels(['{:,.0f}'.format(x) for x in tick_vals])\n",
    "\n",
    "# label loop for individual items\n",
    "maximum = df_waterfall.max()\n",
    "neg_offset = maximum / 400\n",
    "pos_offset = maximum / 800\n",
    "\n",
    "y_height = df_shift\n",
    "\n",
    "loop = 0\n",
    "for index, row in df_waterfall.iterrows():\n",
    "    y = y_height[loop] + row['amount']\n",
    "    # determine negative or positive offset\n",
    "    if row['amount'] > 0:\n",
    "        y += pos_offset\n",
    "    else:\n",
    "        y -= neg_offset\n",
    "    waterfall_plot.annotate(\"{:,.0f}\".format(row['amount']), (loop, y), ha=\"center\")\n",
    "    loop+=1"
   ]
  },
  {
   "cell_type": "code",
   "execution_count": null,
   "id": "f0dd7464",
   "metadata": {
    "ExecuteTime": {
     "end_time": "2024-05-30T12:58:24.414168Z",
     "start_time": "2024-05-30T12:58:24.404224Z"
    }
   },
   "outputs": [],
   "source": [
    "# Total change in capital pool\n",
    "capital_pool_change = df_waterfall.loc['closing capital pool'].values[0] - df_waterfall.loc['opening capital pool'].values[0]\n",
    "print(f'Capital Pool Total Change - {round(capital_pool_change, 2)}')\n",
    "print(f'Capital Pool Percentage Change - {round(100 * capital_pool_change / (df_waterfall.loc[\"opening capital pool\"].values[0]), 2)}%')"
   ]
  },
  {
   "cell_type": "markdown",
   "id": "b6513f9c",
   "metadata": {},
   "source": [
    "# Divestment Plan"
   ]
  },
  {
   "cell_type": "markdown",
   "id": "d22e9598",
   "metadata": {},
   "source": [
    "## Pie Chart of Assets Today"
   ]
  },
  {
   "cell_type": "code",
   "execution_count": null,
   "id": "accbd19d",
   "metadata": {
    "ExecuteTime": {
     "end_time": "2024-05-30T12:58:24.631614Z",
     "start_time": "2024-05-30T12:58:24.419355Z"
    }
   },
   "outputs": [],
   "source": [
    "# pie chart of assets\n",
    "asset_list = ['ETH', 'DAI', 'stETH', 'rETH', 'Enzyme']\n",
    "today_row = df_cap.iloc[0][asset_list]\n",
    "\n",
    "# add formatted ETH values to labels\n",
    "labels = []\n",
    "for n, i in enumerate(asset_list):\n",
    "    formatted_value = '{:,.0f}'.format(today_row.values[n])\n",
    "    labels.append(f'{i} - {formatted_value}')\n",
    "\n",
    "# create chart\n",
    "# extract latest date in string format\n",
    "today_date_str = df_cap.iloc[0]['day'].strftime('%d-%m-%Y')\n",
    "# create chart\n",
    "plt.pie(today_row.values, labels=labels, autopct='%1.2f%%')\n",
    "plt.title(f'{today_date_str} Capital Pool Split in ETH');"
   ]
  },
  {
   "cell_type": "markdown",
   "id": "38ac23c0",
   "metadata": {},
   "source": [
    "## Monthly Averages Since Start of 2024 "
   ]
  },
  {
   "cell_type": "code",
   "execution_count": null,
   "id": "844332a5",
   "metadata": {
    "ExecuteTime": {
     "end_time": "2024-05-30T12:58:24.905499Z",
     "start_time": "2024-05-30T12:58:24.642063Z"
    }
   },
   "outputs": [],
   "source": [
    "# set dates\n",
    "\n",
    "day_today = datetime.now().day\n",
    "month_today = datetime.now().month\n",
    "year_today = datetime.now().year\n",
    "\n",
    "# extract latest date in string format\n",
    "today_date_str = df_cap.iloc[0]['day'].strftime('%d-%m-%Y')\n",
    "# get eth price today\n",
    "eth_price_params_today = {'date': today_date_str}\n",
    "eth_usd_today = requests.get(url, params=eth_price_params_today).json()['market_data']['current_price']['usd']\n",
    "\n",
    "# input start date\n",
    "averages_start_date_str = '01-08-2023'\n",
    "# create start datetime\n",
    "averages_start_date = datetime.strptime(averages_start_date_str, '%d-%m-%Y').replace(tzinfo=timezone.utc)"
   ]
  },
  {
   "cell_type": "code",
   "execution_count": null,
   "id": "f5874d68",
   "metadata": {
    "ExecuteTime": {
     "end_time": "2024-05-30T12:58:25.069287Z",
     "start_time": "2024-05-30T12:58:24.922953Z"
    }
   },
   "outputs": [],
   "source": [
    "# loop through months since the start date and obtain averages\n",
    "\n",
    "date = averages_start_date\n",
    "ramm_flows = []\n",
    "net_eth_fees = []\n",
    "claim_ratio = 0.7\n",
    "stETH_returns = []\n",
    "rETH_returns = []\n",
    "\n",
    "while date < datetime(year_today, month_today, 1, tzinfo=timezone.utc):\n",
    "    next_month = datetime(year = date.year + int(date.month / 12), month = (date.month % 12) + 1, day=date.day, tzinfo=timezone.utc)\n",
    "    \n",
    "    # RAMM FLOWS\n",
    "    # determine net ramm flows in month in 2024\n",
    "    if date.year >= 2024:\n",
    "        ramm_flows_opening = df_ramm.loc[df_ramm['ts'] == date]['cummulative_eth_in'].values[0] - df_ramm.loc[df_ramm['ts'] == date]['cummulative_eth_out'].values[0]\n",
    "        ramm_flows_closing = df_ramm.loc[df_ramm['ts'] == next_month]['cummulative_eth_in'].values[0] - df_ramm.loc[df_ramm['ts'] == next_month]['cummulative_eth_out'].values[0]\n",
    "        ramm_flows_change = ramm_flows_closing - ramm_flows_opening\n",
    "        ramm_flows.append(ramm_flows_change)\n",
    "    \n",
    "    # COVERS\n",
    "    # filter for covers that were bought in the relevant month\n",
    "    df_cover_flows = df_covers[(df_covers['cover_start_time']>=date) & (df_covers['cover_start_time']<next_month)]\n",
    "\n",
    "    # filter for covers that were paid for in ETH\n",
    "    # (note covers paid in NXM don't generate assets and covers paid for in DAI/USDC will be used to pay off the Cover Re loan)\n",
    "    df_cover_flows = df_cover_flows[df_cover_flows['premium_asset'] == 'ETH']\n",
    "\n",
    "    # work out cover fees, allowing for 15% commission\n",
    "    eth_cover_fees = df_cover_flows['premium_native'].sum() * 0.85\n",
    "    # append to list, allowing for 70% claim ratio\n",
    "    net_eth_monthly_fees = eth_cover_fees * (1 - claim_ratio)\n",
    "    net_eth_fees.append(net_eth_monthly_fees)\n",
    "    \n",
    "    # INVESTMENT INCOME\n",
    "    # stETH\n",
    "    stETH_opening = df_cap.loc[df_cap['day'] == date]['stETH'].values[0]\n",
    "    stETH_closing = df_cap.loc[df_cap['day'] == next_month]['stETH'].values[0]\n",
    "    stETH_returns.append(stETH_closing - stETH_opening)\n",
    "    # rETH\n",
    "    rETH_opening = df_cap.loc[df_cap['day'] == date]['rETH'].values[0]\n",
    "    rETH_closing = df_cap.loc[df_cap['day'] == next_month]['rETH'].values[0]\n",
    "    rETH_returns.append(rETH_closing - rETH_opening) \n",
    "    \n",
    "    # move date along\n",
    "    date = next_month\n",
    "\n",
    "# Average Kiln rewards in month\n",
    "avg_days_in_month = 30.436875\n",
    "days_total_kiln_rewards = (df_cap.iloc[0]['day'] - kiln_deposit_date)/timedelta(days=1)\n",
    "daily_total_kiln_rewards = kiln_total_rewards / days_total_kiln_rewards\n",
    "avg_monthly_kiln_returns = daily_total_kiln_rewards * avg_days_in_month\n",
    "\n",
    "# Average RAMM flows\n",
    "avg_monthly_ramm_flows = sum(ramm_flows)/len(ramm_flows)\n",
    "\n",
    "# Average ETH Cover Fees\n",
    "avg_monthly_net_eth_fees = sum(net_eth_fees)/len(net_eth_fees)\n",
    "\n",
    "# Average stETH returns\n",
    "avg_monthly_stETH_returns = sum(stETH_returns)/len(stETH_returns)\n",
    "\n",
    "# Average rETH returns\n",
    "avg_monthly_rETH_returns = sum(rETH_returns)/len(rETH_returns)\n",
    "\n",
    "print(f'Average monthly stETH returns = {avg_monthly_stETH_returns}')\n",
    "print(f'Average monthly rETH returns = {avg_monthly_rETH_returns}')\n",
    "print(f'Average monthly kiln returns = {avg_monthly_kiln_returns}')\n",
    "print(f'Average monthly net ETH cover fees = {avg_monthly_net_eth_fees}')\n",
    "print(f'Average monthly RAMM flows = {avg_monthly_ramm_flows}')"
   ]
  },
  {
   "cell_type": "markdown",
   "id": "dc4ca8d7",
   "metadata": {},
   "source": [
    "## Pie Chart of Assets After Cover Re Loan"
   ]
  },
  {
   "cell_type": "code",
   "execution_count": null,
   "id": "92adc337",
   "metadata": {
    "ExecuteTime": {
     "end_time": "2024-05-30T12:58:25.086182Z",
     "start_time": "2024-05-30T12:58:25.074023Z"
    }
   },
   "outputs": [],
   "source": [
    "today_row = df_cap.iloc[0][asset_list]\n",
    "\n",
    "new_idle_enzyme_eth = 6585\n",
    "cover_re_eth = 9389\n",
    "cover_re_usdc = 6_234_305\n",
    "dai_buffer = 1_000_000\n",
    "\n",
    "asset_list_new = ['ETH', 'DAI', 'stETH', 'rETH', 'Kiln', 'Enzyme Idle', 'Cover Re Collateral']\n",
    "\n",
    "today_row['Enzyme'] = today_row['Enzyme'] - new_idle_enzyme_eth\n",
    "today_row['Enzyme Idle'] = new_idle_enzyme_eth\n",
    "today_row.rename({'Enzyme': 'Kiln'}, inplace=True)\n",
    "today_row['ETH'] = today_row['ETH'] - cover_re_eth\n",
    "today_row['Cover Re Loan Collateral'] = cover_re_eth\n",
    "today_row['DAI'] = dai_buffer / eth_usd_today"
   ]
  },
  {
   "cell_type": "code",
   "execution_count": null,
   "id": "9527cd96",
   "metadata": {
    "ExecuteTime": {
     "end_time": "2024-05-30T12:58:25.321515Z",
     "start_time": "2024-05-30T12:58:25.091079Z"
    }
   },
   "outputs": [],
   "source": [
    "# add formatted ETH values to labels\n",
    "labels = []\n",
    "for n, i in enumerate(asset_list_new):\n",
    "    formatted_value = '{:,.0f}'.format(today_row.values[n])\n",
    "    labels.append(f'{i} - {formatted_value}')\n",
    "\n",
    "# create chart\n",
    "plt.pie(today_row.values, labels=labels, autopct='%1.2f%%')\n",
    "plt.title(f'{today_date_str} Capital Pool Split in ETH');"
   ]
  },
  {
   "cell_type": "code",
   "execution_count": null,
   "id": "b1258180",
   "metadata": {
    "ExecuteTime": {
     "end_time": "2024-05-30T12:58:25.412040Z",
     "start_time": "2024-05-30T12:58:25.326410Z"
    }
   },
   "outputs": [],
   "source": [
    "asset_df = pd.DataFrame(today_row).T\n",
    "asset_df['Cover Re Loan Outstanding'] = -cover_re_usdc / eth_usd_today\n",
    "\n",
    "projection_months = 12\n",
    "aave_eth_supply_apy = 0.0159\n",
    "aave_usdc_borrow_apy = 0.0791\n",
    "\n",
    "for i in range(projection_months):\n",
    "    \n",
    "    next_row = {}\n",
    "    next_row['ETH'] = asset_df['ETH'].values[-1] + avg_monthly_ramm_flows + avg_monthly_net_eth_fees\n",
    "    next_row['DAI'] = asset_df['DAI'].values[-1]\n",
    "    next_row['stETH'] = asset_df['stETH'].values[-1] + avg_monthly_stETH_returns\n",
    "    next_row['rETH'] = asset_df['rETH'].values[-1] + avg_monthly_rETH_returns\n",
    "    next_row['Kiln'] = asset_df['Kiln'].values[-1] + avg_monthly_kiln_returns\n",
    "    next_row['Enzyme Idle'] = asset_df['Enzyme Idle'].values[-1]\n",
    "    next_row['Cover Re Loan Collateral'] = asset_df['Cover Re Loan Collateral'].values[-1] * ((1 + aave_eth_supply_apy)**(1/12))\n",
    "    next_row['Cover Re Loan Outstanding'] = asset_df['Cover Re Loan Outstanding'].values[-1] * ((1 + aave_usdc_borrow_apy)**(1/12))\n",
    "    \n",
    "    asset_df.loc[len(asset_df)] = next_row\n",
    "\n",
    "asset_df"
   ]
  },
  {
   "cell_type": "code",
   "execution_count": null,
   "id": "65c5775e",
   "metadata": {
    "ExecuteTime": {
     "end_time": "2024-05-30T12:58:25.421772Z",
     "start_time": "2024-05-30T12:58:25.414573Z"
    }
   },
   "outputs": [],
   "source": [
    "asset_df_6_mo = asset_df[:6].astype(float)\n",
    "asset_df_6_mo_pos = asset_df_6_mo.drop(columns=['Cover Re Loan Outstanding'])"
   ]
  },
  {
   "cell_type": "code",
   "execution_count": null,
   "id": "e1250a04",
   "metadata": {
    "ExecuteTime": {
     "end_time": "2024-05-30T12:58:25.814864Z",
     "start_time": "2024-05-30T12:58:25.425989Z"
    }
   },
   "outputs": [],
   "source": [
    "projection_plot = asset_df_6_mo.plot(title=f'Capital Pool Projection from {today_date_str}',\n",
    "                                    figsize=(10, 7), legend=True, ylabel='ETH', xlabel='Months in Future')\n",
    "\n",
    "tick_vals = projection_plot.get_yticks()\n",
    "projection_plot.set_yticklabels(['{:,.0f}'.format(x) for x in tick_vals]);"
   ]
  },
  {
   "cell_type": "code",
   "execution_count": null,
   "id": "8f64e944",
   "metadata": {
    "ExecuteTime": {
     "end_time": "2024-05-30T12:58:26.269930Z",
     "start_time": "2024-05-30T12:58:25.821060Z"
    }
   },
   "outputs": [],
   "source": [
    "projection_bar_plot = asset_df_6_mo_pos.plot(kind='bar', stacked=True, title=f'Capital Pool Projection from {today_date_str}',\n",
    "                                    figsize=(10, 7), legend=True, ylabel='ETH', xlabel='Months in Future')\n",
    "\n",
    "tick_vals = projection_bar_plot.get_yticks()\n",
    "projection_bar_plot.set_yticklabels(['{:,.0f}'.format(x) for x in tick_vals]);"
   ]
  },
  {
   "cell_type": "code",
   "execution_count": null,
   "id": "c68d1a95",
   "metadata": {
    "ExecuteTime": {
     "end_time": "2024-05-30T12:58:26.299111Z",
     "start_time": "2024-05-30T12:58:26.277101Z"
    }
   },
   "outputs": [],
   "source": [
    "df_sum = asset_df_6_mo_pos.sum(axis=1)\n",
    "df_rel = asset_df_6_mo_pos.div(df_sum, 0)*100\n",
    "df_rel"
   ]
  },
  {
   "cell_type": "code",
   "execution_count": null,
   "id": "e1e64856",
   "metadata": {
    "ExecuteTime": {
     "end_time": "2024-05-30T12:58:26.356003Z",
     "start_time": "2024-05-30T12:58:26.309396Z"
    }
   },
   "outputs": [],
   "source": [
    "for n in df_rel: \n",
    "    for i, (cs, ab, pc) in enumerate(zip(asset_df_6_mo_pos.cumsum(1)[n],  \n",
    "                                         asset_df_6_mo_pos[n], df_rel[n])): \n",
    "        print(cs - ab / 2, i, str(np.round(pc, 1)) + '%')"
   ]
  },
  {
   "cell_type": "code",
   "execution_count": null,
   "id": "eb084695",
   "metadata": {
    "ExecuteTime": {
     "end_time": "2024-05-30T12:58:26.864438Z",
     "start_time": "2024-05-30T12:58:26.360248Z"
    }
   },
   "outputs": [],
   "source": [
    "projection_bar_perc_plot = asset_df_6_mo_pos.plot(kind='bar', stacked=True, title=f'Capital Pool Projection from {today_date_str}',\n",
    "                                    figsize=(10, 7), legend=True, ylabel='ETH', xlabel='Months in Future')\n",
    "\n",
    "tick_vals = projection_bar_perc_plot.get_yticks()\n",
    "projection_bar_perc_plot.set_yticklabels(['{:,.0f}'.format(x) for x in tick_vals])\n",
    "\n",
    "for n in df_rel: \n",
    "     for i, (cs, ab, pc) in enumerate(zip(asset_df_6_mo_pos.cumsum(1)[n],  \n",
    "                                         asset_df_6_mo_pos[n], df_rel[n])): \n",
    "         projection_bar_perc_plot.text(y= cs - ab / 2, x=i, s=str(np.round(pc, 1)) + '%',\n",
    "                             va = 'center', ha = 'center', size = 'small')"
   ]
  },
  {
   "cell_type": "code",
   "execution_count": null,
   "id": "15d227c6",
   "metadata": {
    "ExecuteTime": {
     "end_time": "2024-05-30T12:58:26.877975Z",
     "start_time": "2024-05-30T12:58:26.869106Z"
    }
   },
   "outputs": [],
   "source": [
    "tick_vals = np.fromfunction(lambda i: 10000*i, (11, ), dtype=float)\n",
    "tick_vals"
   ]
  },
  {
   "cell_type": "code",
   "execution_count": null,
   "id": "fea310f2",
   "metadata": {
    "ExecuteTime": {
     "end_time": "2024-05-30T12:58:26.917513Z",
     "start_time": "2024-05-30T12:58:26.882938Z"
    }
   },
   "outputs": [],
   "source": [
    "tick_vals/2"
   ]
  },
  {
   "cell_type": "code",
   "execution_count": null,
   "id": "b8991abf",
   "metadata": {
    "ExecuteTime": {
     "end_time": "2024-05-30T12:58:26.946917Z",
     "start_time": "2024-05-30T12:58:26.922254Z"
    }
   },
   "outputs": [],
   "source": [
    "np.union1d(tick_vals, tick_vals/2)"
   ]
  },
  {
   "cell_type": "code",
   "execution_count": null,
   "id": "8ac03af3",
   "metadata": {},
   "outputs": [],
   "source": []
  }
 ],
 "metadata": {
  "kernelspec": {
   "display_name": "Python 3 (ipykernel)",
   "language": "python",
   "name": "python3"
  },
  "language_info": {
   "codemirror_mode": {
    "name": "ipython",
    "version": 3
   },
   "file_extension": ".py",
   "mimetype": "text/x-python",
   "name": "python",
   "nbconvert_exporter": "python",
   "pygments_lexer": "ipython3",
   "version": "3.10.6"
  },
  "toc": {
   "base_numbering": 1,
   "nav_menu": {},
   "number_sections": true,
   "sideBar": true,
   "skip_h1_title": false,
   "title_cell": "Table of Contents",
   "title_sidebar": "Contents",
   "toc_cell": false,
   "toc_position": {},
   "toc_section_display": true,
   "toc_window_display": false
  }
 },
 "nbformat": 4,
 "nbformat_minor": 5
}
