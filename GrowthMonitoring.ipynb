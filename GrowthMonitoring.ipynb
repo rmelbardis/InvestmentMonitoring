{
 "cells": [
  {
   "cell_type": "markdown",
   "id": "374372ea",
   "metadata": {},
   "source": [
    "## Imports and Inputs"
   ]
  },
  {
   "cell_type": "code",
   "execution_count": 2,
   "id": "4dc24827",
   "metadata": {
    "ExecuteTime": {
     "end_time": "2024-04-16T09:36:51.495288Z",
     "start_time": "2024-04-16T09:36:50.812927Z"
    }
   },
   "outputs": [
    {
     "name": "stderr",
     "output_type": "stream",
     "text": [
      "/tmp/ipykernel_640/2591426926.py:1: DeprecationWarning: \n",
      "Pyarrow will become a required dependency of pandas in the next major release of pandas (pandas 3.0),\n",
      "(to allow more performant data types, such as the Arrow string type, and better interoperability with other libraries)\n",
      "but was not found to be installed on your system.\n",
      "If this would cause problems for you,\n",
      "please provide us feedback at https://github.com/pandas-dev/pandas/issues/54466\n",
      "        \n",
      "  import pandas as pd\n"
     ]
    }
   ],
   "source": [
    "import pandas as pd\n",
    "import requests\n",
    "import matplotlib.pyplot as plt\n",
    "# import seaborn as sns\n",
    "from datetime import datetime, timedelta, timezone\n",
    "\n",
    "from dune_client.client import DuneClient\n",
    "from config import key"
   ]
  },
  {
   "cell_type": "code",
   "execution_count": 3,
   "id": "09516829",
   "metadata": {
    "ExecuteTime": {
     "end_time": "2024-04-16T09:36:53.048456Z",
     "start_time": "2024-04-16T09:36:52.110887Z"
    }
   },
   "outputs": [],
   "source": [
    "# import jsons of capital pool, ramm volume and covers from dune api \n",
    "dune = DuneClient(key)\n",
    "covers_list_result = dune.get_latest_result_dataframe(2303588)"
   ]
  },
  {
   "cell_type": "code",
   "execution_count": 4,
   "id": "530eeccc",
   "metadata": {
    "ExecuteTime": {
     "end_time": "2024-04-16T09:36:54.299626Z",
     "start_time": "2024-04-16T09:36:54.295744Z"
    }
   },
   "outputs": [],
   "source": [
    "# manually input the valuation date as a string in the format 'dd-mm-yyyy'\n",
    "valn_date_str = '31-03-2024'"
   ]
  },
  {
   "cell_type": "code",
   "execution_count": 5,
   "id": "e9408efe",
   "metadata": {
    "ExecuteTime": {
     "end_time": "2024-04-16T09:37:23.445787Z",
     "start_time": "2024-04-16T09:37:23.438934Z"
    }
   },
   "outputs": [],
   "source": [
    "# create valuation datetime\n",
    "valn_date = datetime.strptime(valn_date_str, '%d-%m-%Y').replace(tzinfo=timezone.utc)\n",
    "# create valuation datetimes for 30 days and 365 days ago\n",
    "valn_date_minus_30 = valn_date - timedelta(days=30)\n",
    "valn_date_minus_365 = valn_date - timedelta(days=365)\n",
    "\n",
    "# create a string for API for 30 days before valuation date\n",
    "valn_date_minus_30_str = valn_date_minus_30.strftime('%d-%m-%Y')"
   ]
  },
  {
   "cell_type": "code",
   "execution_count": null,
   "id": "2ff14211",
   "metadata": {
    "ExecuteTime": {
     "end_time": "2024-04-17T11:36:06.200789Z",
     "start_time": "2024-04-17T11:36:05.917631Z"
    }
   },
   "outputs": [],
   "source": [
    "# coingecko ETH API for ETH-USD at valuation date\n",
    "url = 'https://api.coingecko.com/api/v3/coins/ethereum/market_chart'\n",
    "eth_price_params = {'vs_currency': 'usd', \n",
    "                   'days': '365',\n",
    "                   'interval': 'daily'}\n",
    "eth_usd_prices = requests.get(url, params=eth_price_params).json()['prices']"
   ]
  },
  {
   "cell_type": "code",
   "execution_count": 19,
   "id": "91054a2f",
   "metadata": {
    "ExecuteTime": {
     "end_time": "2024-04-17T11:41:54.688086Z",
     "start_time": "2024-04-17T11:41:54.677787Z"
    }
   },
   "outputs": [],
   "source": [
    "price_df = pd.DataFrame(eth_usd_prices, columns = ['Date', 'EthUsd'])\n",
    "price_df['Date'] = pd.to_datetime(price_df['Date'], utc=True, unit='ms', origin='unix')"
   ]
  },
  {
   "cell_type": "code",
   "execution_count": 20,
   "id": "42cfd699",
   "metadata": {
    "ExecuteTime": {
     "end_time": "2024-04-17T11:42:00.597078Z",
     "start_time": "2024-04-17T11:42:00.573574Z"
    }
   },
   "outputs": [
    {
     "data": {
      "text/html": [
       "<div>\n",
       "<style scoped>\n",
       "    .dataframe tbody tr th:only-of-type {\n",
       "        vertical-align: middle;\n",
       "    }\n",
       "\n",
       "    .dataframe tbody tr th {\n",
       "        vertical-align: top;\n",
       "    }\n",
       "\n",
       "    .dataframe thead th {\n",
       "        text-align: right;\n",
       "    }\n",
       "</style>\n",
       "<table border=\"1\" class=\"dataframe\">\n",
       "  <thead>\n",
       "    <tr style=\"text-align: right;\">\n",
       "      <th></th>\n",
       "      <th>Date</th>\n",
       "      <th>EthUsd</th>\n",
       "    </tr>\n",
       "  </thead>\n",
       "  <tbody>\n",
       "    <tr>\n",
       "      <th>0</th>\n",
       "      <td>2023-04-19 00:00:00+00:00</td>\n",
       "      <td>2103.278814</td>\n",
       "    </tr>\n",
       "    <tr>\n",
       "      <th>1</th>\n",
       "      <td>2023-04-20 00:00:00+00:00</td>\n",
       "      <td>1936.425921</td>\n",
       "    </tr>\n",
       "    <tr>\n",
       "      <th>2</th>\n",
       "      <td>2023-04-21 00:00:00+00:00</td>\n",
       "      <td>1943.435598</td>\n",
       "    </tr>\n",
       "    <tr>\n",
       "      <th>3</th>\n",
       "      <td>2023-04-22 00:00:00+00:00</td>\n",
       "      <td>1850.149738</td>\n",
       "    </tr>\n",
       "    <tr>\n",
       "      <th>4</th>\n",
       "      <td>2023-04-23 00:00:00+00:00</td>\n",
       "      <td>1877.541328</td>\n",
       "    </tr>\n",
       "    <tr>\n",
       "      <th>...</th>\n",
       "      <td>...</td>\n",
       "      <td>...</td>\n",
       "    </tr>\n",
       "    <tr>\n",
       "      <th>360</th>\n",
       "      <td>2024-04-13 00:00:00+00:00</td>\n",
       "      <td>3245.500593</td>\n",
       "    </tr>\n",
       "    <tr>\n",
       "      <th>361</th>\n",
       "      <td>2024-04-14 00:00:00+00:00</td>\n",
       "      <td>3022.005785</td>\n",
       "    </tr>\n",
       "    <tr>\n",
       "      <th>362</th>\n",
       "      <td>2024-04-15 00:00:00+00:00</td>\n",
       "      <td>3157.683766</td>\n",
       "    </tr>\n",
       "    <tr>\n",
       "      <th>363</th>\n",
       "      <td>2024-04-16 00:00:00+00:00</td>\n",
       "      <td>3101.190736</td>\n",
       "    </tr>\n",
       "    <tr>\n",
       "      <th>364</th>\n",
       "      <td>2024-04-17 00:43:58+00:00</td>\n",
       "      <td>3084.570837</td>\n",
       "    </tr>\n",
       "  </tbody>\n",
       "</table>\n",
       "<p>365 rows × 2 columns</p>\n",
       "</div>"
      ],
      "text/plain": [
       "                         Date       EthUsd\n",
       "0   2023-04-19 00:00:00+00:00  2103.278814\n",
       "1   2023-04-20 00:00:00+00:00  1936.425921\n",
       "2   2023-04-21 00:00:00+00:00  1943.435598\n",
       "3   2023-04-22 00:00:00+00:00  1850.149738\n",
       "4   2023-04-23 00:00:00+00:00  1877.541328\n",
       "..                        ...          ...\n",
       "360 2024-04-13 00:00:00+00:00  3245.500593\n",
       "361 2024-04-14 00:00:00+00:00  3022.005785\n",
       "362 2024-04-15 00:00:00+00:00  3157.683766\n",
       "363 2024-04-16 00:00:00+00:00  3101.190736\n",
       "364 2024-04-17 00:43:58+00:00  3084.570837\n",
       "\n",
       "[365 rows x 2 columns]"
      ]
     },
     "execution_count": 20,
     "metadata": {},
     "output_type": "execute_result"
    }
   ],
   "source": [
    "price_df"
   ]
  },
  {
   "cell_type": "code",
   "execution_count": 15,
   "id": "b13502a8",
   "metadata": {
    "ExecuteTime": {
     "end_time": "2024-04-16T11:40:50.806486Z",
     "start_time": "2024-04-16T11:40:48.731308Z"
    }
   },
   "outputs": [
    {
     "ename": "KeyError",
     "evalue": "'market_data'",
     "output_type": "error",
     "traceback": [
      "\u001b[0;31m---------------------------------------------------------------------------\u001b[0m",
      "\u001b[0;31mKeyError\u001b[0m                                  Traceback (most recent call last)",
      "Cell \u001b[0;32mIn[15], line 16\u001b[0m\n\u001b[1;32m     14\u001b[0m     \u001b[38;5;66;03m# turn datetime into a string for API\u001b[39;00m\n\u001b[1;32m     15\u001b[0m     date_str \u001b[38;5;241m=\u001b[39m date\u001b[38;5;241m.\u001b[39mstrftime(\u001b[38;5;124m'\u001b[39m\u001b[38;5;132;01m%d\u001b[39;00m\u001b[38;5;124m-\u001b[39m\u001b[38;5;124m%\u001b[39m\u001b[38;5;124mm-\u001b[39m\u001b[38;5;124m%\u001b[39m\u001b[38;5;124mY\u001b[39m\u001b[38;5;124m'\u001b[39m)\n\u001b[0;32m---> 16\u001b[0m     eth_usd_prices[date_str] \u001b[38;5;241m=\u001b[39m \u001b[43meth_usd\u001b[49m\u001b[43m(\u001b[49m\u001b[43mdate_str\u001b[49m\u001b[43m)\u001b[49m\n\u001b[1;32m     18\u001b[0m eth_usd_prices\n",
      "Cell \u001b[0;32mIn[15], line 7\u001b[0m, in \u001b[0;36meth_usd\u001b[0;34m(date_str)\u001b[0m\n\u001b[1;32m      5\u001b[0m url \u001b[38;5;241m=\u001b[39m \u001b[38;5;124m'\u001b[39m\u001b[38;5;124mhttps://api.coingecko.com/api/v3/coins/ethereum/history\u001b[39m\u001b[38;5;124m'\u001b[39m\n\u001b[1;32m      6\u001b[0m eth_price_params \u001b[38;5;241m=\u001b[39m {\u001b[38;5;124m'\u001b[39m\u001b[38;5;124mdate\u001b[39m\u001b[38;5;124m'\u001b[39m: date_str}\n\u001b[0;32m----> 7\u001b[0m eth_usd_value \u001b[38;5;241m=\u001b[39m \u001b[43mrequests\u001b[49m\u001b[38;5;241;43m.\u001b[39;49m\u001b[43mget\u001b[49m\u001b[43m(\u001b[49m\u001b[43murl\u001b[49m\u001b[43m,\u001b[49m\u001b[43m \u001b[49m\u001b[43mparams\u001b[49m\u001b[38;5;241;43m=\u001b[39;49m\u001b[43meth_price_params\u001b[49m\u001b[43m)\u001b[49m\u001b[38;5;241;43m.\u001b[39;49m\u001b[43mjson\u001b[49m\u001b[43m(\u001b[49m\u001b[43m)\u001b[49m\u001b[43m[\u001b[49m\u001b[38;5;124;43m'\u001b[39;49m\u001b[38;5;124;43mmarket_data\u001b[39;49m\u001b[38;5;124;43m'\u001b[39;49m\u001b[43m]\u001b[49m[\u001b[38;5;124m'\u001b[39m\u001b[38;5;124mcurrent_price\u001b[39m\u001b[38;5;124m'\u001b[39m][\u001b[38;5;124m'\u001b[39m\u001b[38;5;124musd\u001b[39m\u001b[38;5;124m'\u001b[39m]\n\u001b[1;32m      9\u001b[0m \u001b[38;5;28;01mreturn\u001b[39;00m eth_usd_value\n",
      "\u001b[0;31mKeyError\u001b[0m: 'market_data'"
     ]
    }
   ],
   "source": [
    "eth_usd_prices = {}\n",
    "\n",
    "def eth_usd(date_str):\n",
    "    \n",
    "    url = 'https://api.coingecko.com/api/v3/coins/ethereum/history'\n",
    "    eth_price_params = {'date': date_str}\n",
    "    eth_usd_value = requests.get(url, params=eth_price_params).json()['market_data']['current_price']['usd']\n",
    "    \n",
    "    return eth_usd_value\n",
    "    \n",
    "for i in range(31):\n",
    "    # loop through dates\n",
    "    date = valn_date - timedelta(days=i)\n",
    "    # turn datetime into a string for API\n",
    "    date_str = date.strftime('%d-%m-%Y')\n",
    "    eth_usd_prices[date_str] = eth_usd(date_str)\n",
    "\n",
    "eth_usd_prices"
   ]
  },
  {
   "cell_type": "code",
   "execution_count": 16,
   "id": "e0eaed40",
   "metadata": {
    "ExecuteTime": {
     "end_time": "2024-04-16T11:41:14.274021Z",
     "start_time": "2024-04-16T11:41:14.057146Z"
    }
   },
   "outputs": [
    {
     "data": {
      "text/plain": [
       "{'status': {'error_code': 429,\n",
       "  'error_message': \"You've exceeded the Rate Limit. Please visit https://www.coingecko.com/en/api/pricing to subscribe to our API plans for higher rate limits.\"}}"
      ]
     },
     "execution_count": 16,
     "metadata": {},
     "output_type": "execute_result"
    }
   ],
   "source": [
    "requests.get(url, params=eth_price_params).json()"
   ]
  },
  {
   "cell_type": "markdown",
   "id": "e3bba312",
   "metadata": {},
   "source": [
    "## Monthly Cover Buy Stats"
   ]
  },
  {
   "cell_type": "code",
   "execution_count": 12,
   "id": "a8b48909",
   "metadata": {
    "ExecuteTime": {
     "end_time": "2024-04-16T10:53:54.155038Z",
     "start_time": "2024-04-16T10:53:54.127575Z"
    }
   },
   "outputs": [
    {
     "data": {
      "text/plain": [
       "94        0.094522\n",
       "95        0.077246\n",
       "96       15.753098\n",
       "97      100.812827\n",
       "98      542.452697\n",
       "          ...     \n",
       "205      13.371632\n",
       "206     150.230242\n",
       "207    2065.190143\n",
       "208    8498.529644\n",
       "209       0.009681\n",
       "Name: premium_native, Length: 116, dtype: float64"
      ]
     },
     "execution_count": 12,
     "metadata": {},
     "output_type": "execute_result"
    }
   ],
   "source": [
    "df_covers = covers_list_result\n",
    "\n",
    "# change timestamp to datetime format and normalise all dates to midnight\n",
    "df_covers['cover_start_time'] = pd.to_datetime(df_covers['cover_start_time']).dt.floor('D')\n",
    "\n",
    "# filter for covers that were bought on valn date and in the 30 days before\n",
    "df_covers_30_days = df_covers[(df_covers['cover_start_time']>=valn_date_minus_30) & (df_covers['cover_start_time']<=valn_date)]"
   ]
  },
  {
   "cell_type": "code",
   "execution_count": 14,
   "id": "f4a0a971",
   "metadata": {
    "ExecuteTime": {
     "end_time": "2024-04-15T15:07:26.575660Z",
     "start_time": "2024-04-15T15:07:26.529795Z"
    }
   },
   "outputs": [
    {
     "data": {
      "text/plain": [
       "39.58797846624159"
      ]
     },
     "execution_count": 14,
     "metadata": {},
     "output_type": "execute_result"
    }
   ],
   "source": [
    "# work out cover fees denominated in ETH, allowing for 15% commission\n",
    "commission_share = 0.15\n",
    "\n",
    "monthly_cover_fees_usd = df_covers_30_days['premium_dollar'].sum()\n",
    "monthly_cover_fees_after_commission = monthly_cover_fees_usd * (1 - commission_share)\n",
    "monthly_commission = monthly_cover_fees_usd * commission_share\n",
    "\n",
    "monthly_cover_fees_eth = monthly_cover_fees_usd / eth_usd\n",
    "monthly_cover_fees_eth"
   ]
  },
  {
   "cell_type": "code",
   "execution_count": null,
   "id": "3b72a763",
   "metadata": {},
   "outputs": [],
   "source": []
  }
 ],
 "metadata": {
  "kernelspec": {
   "display_name": "Python 3 (ipykernel)",
   "language": "python",
   "name": "python3"
  },
  "language_info": {
   "codemirror_mode": {
    "name": "ipython",
    "version": 3
   },
   "file_extension": ".py",
   "mimetype": "text/x-python",
   "name": "python",
   "nbconvert_exporter": "python",
   "pygments_lexer": "ipython3",
   "version": "3.10.6"
  },
  "toc": {
   "base_numbering": 1,
   "nav_menu": {},
   "number_sections": true,
   "sideBar": true,
   "skip_h1_title": false,
   "title_cell": "Table of Contents",
   "title_sidebar": "Contents",
   "toc_cell": false,
   "toc_position": {},
   "toc_section_display": true,
   "toc_window_display": false
  }
 },
 "nbformat": 4,
 "nbformat_minor": 5
}
