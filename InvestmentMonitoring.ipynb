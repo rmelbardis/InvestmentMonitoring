{
 "cells": [
  {
   "cell_type": "markdown",
   "id": "374372ea",
   "metadata": {},
   "source": [
    "# Imports and Inputs"
   ]
  },
  {
   "cell_type": "code",
   "execution_count": 1,
   "id": "4dc24827",
   "metadata": {
    "ExecuteTime": {
     "end_time": "2024-06-05T11:56:10.806858Z",
     "start_time": "2024-06-05T11:56:10.091945Z"
    }
   },
   "outputs": [
    {
     "name": "stderr",
     "output_type": "stream",
     "text": [
      "/tmp/ipykernel_651/3756105138.py:1: DeprecationWarning: \n",
      "Pyarrow will become a required dependency of pandas in the next major release of pandas (pandas 3.0),\n",
      "(to allow more performant data types, such as the Arrow string type, and better interoperability with other libraries)\n",
      "but was not found to be installed on your system.\n",
      "If this would cause problems for you,\n",
      "please provide us feedback at https://github.com/pandas-dev/pandas/issues/54466\n",
      "        \n",
      "  import pandas as pd\n"
     ]
    }
   ],
   "source": [
    "import pandas as pd\n",
    "import requests\n",
    "import matplotlib.pyplot as plt\n",
    "# import seaborn as sns\n",
    "from datetime import datetime, timedelta, timezone\n",
    "\n",
    "from dune_client.client import DuneClient\n",
    "from config import key\n",
    "\n",
    "# pd.set_option('display.max_rows', None)\n",
    "pd.set_option('display.max_columns', None)"
   ]
  },
  {
   "cell_type": "markdown",
   "id": "27ca9291",
   "metadata": {},
   "source": [
    "Links to dune queries to refresh before importing:\n",
    "\n",
    "[Capital Pool in ETH](https://dune.com/queries/3773645/6345766?display_currency_e15077=ETH)\n",
    "\n",
    "[RAMM Volumes](https://dune.com/queries/3219988/5394288)\n",
    "\n",
    "[Full List Of Covers V2](https://dune.com/queries/2303588/3773262)"
   ]
  },
  {
   "cell_type": "code",
   "execution_count": 2,
   "id": "09516829",
   "metadata": {
    "ExecuteTime": {
     "end_time": "2024-06-05T11:56:14.228674Z",
     "start_time": "2024-06-05T11:56:11.917526Z"
    }
   },
   "outputs": [],
   "source": [
    "# import jsons of capital pool, ramm volume and covers from dune api \n",
    "dune = DuneClient(key)\n",
    "cap_pool_result = dune.get_latest_result_dataframe(3773645)\n",
    "ramm_volume_result = dune.get_latest_result_dataframe(3219988)\n",
    "covers_list_result = dune.get_latest_result_dataframe(2303588)"
   ]
  },
  {
   "cell_type": "markdown",
   "id": "7afdf7c6",
   "metadata": {},
   "source": [
    "# Investment Newsletter Data"
   ]
  },
  {
   "cell_type": "markdown",
   "id": "49eb3223",
   "metadata": {},
   "source": [
    "Kiln Rewards - [AB Safe Enzyme App](https://app.safe.global/apps/open?safe=eth:0x51ad1265C8702c9e96Ea61Fe4088C2e22eD4418e&appUrl=https%3A%2F%2Fapp.enzyme.finance)"
   ]
  },
  {
   "cell_type": "code",
   "execution_count": 3,
   "id": "530eeccc",
   "metadata": {
    "ExecuteTime": {
     "end_time": "2024-06-05T11:57:02.763791Z",
     "start_time": "2024-06-05T11:57:02.755472Z"
    }
   },
   "outputs": [],
   "source": [
    "# manually input the valuation date as a string in the format 'dd-mm-yyyy'\n",
    "valn_date_str = '31-05-2024'\n",
    "\n",
    "# manually input idle Enzyme Portion\n",
    "Enzyme_idle_portion = 6585\n",
    "# manually input kiln rewards\n",
    "kiln_first_round = 181.45\n",
    "# create datetime object of 2023/08/30 when the Kiln validators were activated \n",
    "# kiln_deposit_date = datetime(year=2023, month=8, day=30, tzinfo=timezone.utc)\n",
    "kiln_deposit_date = datetime(year=2023, month=8, day=30)\n",
    "\n",
    "# create datetime objects of 2024/04/24 and 2024/04/26 when the Kiln rewards were first claimed.\n",
    "    # Note that the values for 2024/04/25 will be inaccurate\n",
    "# kiln_claim_start_date = datetime(year=2024, month=4, day=24, tzinfo=timezone.utc)\n",
    "# kiln_claim_end_date = datetime(year=2024, month=4, day=26, tzinfo=timezone.utc)\n",
    "kiln_claim_start_date = datetime(year=2024, month=4, day=24)\n",
    "kiln_claim_end_date = datetime(year=2024, month=4, day=26)\n",
    "kiln_current = 25.6677\n",
    "\n",
    "kiln_total_rewards = kiln_first_round + kiln_current\n",
    "\n",
    "# manually input Dai Cover Re Monthly Withdrawals\n",
    "dai_cover_re_withdrawals = 4_090_353\n",
    "\n",
    "# average days in month\n",
    "avg_days_in_month = 30.436875"
   ]
  },
  {
   "cell_type": "code",
   "execution_count": 4,
   "id": "e9408efe",
   "metadata": {
    "ExecuteTime": {
     "end_time": "2024-06-05T11:57:07.572866Z",
     "start_time": "2024-06-05T11:57:07.565573Z"
    }
   },
   "outputs": [],
   "source": [
    "# create valuation datetime\n",
    "# valn_date = datetime.strptime(valn_date_str, '%d-%m-%Y').replace(tzinfo=timezone.utc)\n",
    "valn_date = datetime.strptime(valn_date_str, '%d-%m-%Y')\n",
    "# create valuation datetimes for 30 days and 365 days ago\n",
    "# eom_before_valn_date = datetime(year=valn_date.year, month=valn_date.month, day=1, tzinfo=timezone.utc) - timedelta(days=1)\n",
    "eom_before_valn_date = datetime(year=valn_date.year, month=valn_date.month, day=1) - timedelta(days=1)"
   ]
  },
  {
   "cell_type": "code",
   "execution_count": 5,
   "id": "91054a2f",
   "metadata": {
    "ExecuteTime": {
     "end_time": "2024-06-05T11:57:09.324313Z",
     "start_time": "2024-06-05T11:57:08.861976Z"
    }
   },
   "outputs": [],
   "source": [
    "# coingecko ETH API for ETH-USD at valuation date\n",
    "url = 'https://api.coingecko.com/api/v3/coins/ethereum/history'\n",
    "eth_price_params_valn = {'date': valn_date_str}\n",
    "eth_usd_valn = requests.get(url, params=eth_price_params_valn).json()['market_data']['current_price']['usd']"
   ]
  },
  {
   "cell_type": "markdown",
   "id": "c05ea3f7",
   "metadata": {},
   "source": [
    "## Processing Capital Pool Table"
   ]
  },
  {
   "cell_type": "code",
   "execution_count": 6,
   "id": "e9b7aed8",
   "metadata": {
    "ExecuteTime": {
     "end_time": "2024-06-05T11:57:10.952824Z",
     "start_time": "2024-06-05T11:57:10.811959Z"
    }
   },
   "outputs": [
    {
     "data": {
      "text/html": [
       "<div>\n",
       "<style scoped>\n",
       "    .dataframe tbody tr th:only-of-type {\n",
       "        vertical-align: middle;\n",
       "    }\n",
       "\n",
       "    .dataframe tbody tr th {\n",
       "        vertical-align: top;\n",
       "    }\n",
       "\n",
       "    .dataframe thead th {\n",
       "        text-align: right;\n",
       "    }\n",
       "</style>\n",
       "<table border=\"1\" class=\"dataframe\">\n",
       "  <thead>\n",
       "    <tr style=\"text-align: right;\">\n",
       "      <th></th>\n",
       "      <th>block_date</th>\n",
       "      <th>avg_eth_usd_price</th>\n",
       "      <th>capital_pool_display_curr</th>\n",
       "      <th>eth_display_curr</th>\n",
       "      <th>dai_display_curr</th>\n",
       "      <th>nxmty_display_curr</th>\n",
       "      <th>steth_display_curr</th>\n",
       "      <th>reth_display_curr</th>\n",
       "      <th>usdc_display_curr</th>\n",
       "      <th>cover_re_usdc_display_curr</th>\n",
       "      <th>aave_collateral_weth_display_curr</th>\n",
       "      <th>aave_debt_usdc_display_curr</th>\n",
       "    </tr>\n",
       "  </thead>\n",
       "  <tbody>\n",
       "    <tr>\n",
       "      <th>0</th>\n",
       "      <td>2024-06-05 00:00:00</td>\n",
       "      <td>3807.328214</td>\n",
       "      <td>86527.189361</td>\n",
       "      <td>13586.212220</td>\n",
       "      <td>284.077959</td>\n",
       "      <td>13352.573252</td>\n",
       "      <td>33635.336859</td>\n",
       "      <td>14805.023368</td>\n",
       "      <td>1.261150</td>\n",
       "      <td>3152.832113</td>\n",
       "      <td>9344.842419</td>\n",
       "      <td>-1634.969978</td>\n",
       "    </tr>\n",
       "    <tr>\n",
       "      <th>1</th>\n",
       "      <td>2024-06-04 00:00:00</td>\n",
       "      <td>3783.802986</td>\n",
       "      <td>86587.428199</td>\n",
       "      <td>13638.788715</td>\n",
       "      <td>285.723466</td>\n",
       "      <td>13352.573252</td>\n",
       "      <td>33635.336859</td>\n",
       "      <td>14801.545881</td>\n",
       "      <td>1.269054</td>\n",
       "      <td>3172.589941</td>\n",
       "      <td>9344.623468</td>\n",
       "      <td>-1645.022435</td>\n",
       "    </tr>\n",
       "    <tr>\n",
       "      <th>2</th>\n",
       "      <td>2024-06-03 00:00:00</td>\n",
       "      <td>3797.520972</td>\n",
       "      <td>86717.730981</td>\n",
       "      <td>13781.838179</td>\n",
       "      <td>284.647327</td>\n",
       "      <td>13352.626304</td>\n",
       "      <td>33632.408790</td>\n",
       "      <td>14798.647198</td>\n",
       "      <td>1.264216</td>\n",
       "      <td>3160.496063</td>\n",
       "      <td>9344.161264</td>\n",
       "      <td>-1638.358360</td>\n",
       "    </tr>\n",
       "    <tr>\n",
       "      <th>3</th>\n",
       "      <td>2024-06-02 00:00:00</td>\n",
       "      <td>3796.210590</td>\n",
       "      <td>86855.915744</td>\n",
       "      <td>13936.995943</td>\n",
       "      <td>284.549237</td>\n",
       "      <td>13352.679363</td>\n",
       "      <td>33629.401072</td>\n",
       "      <td>14783.283219</td>\n",
       "      <td>1.265424</td>\n",
       "      <td>3163.515565</td>\n",
       "      <td>9343.754168</td>\n",
       "      <td>-1639.528246</td>\n",
       "    </tr>\n",
       "    <tr>\n",
       "      <th>4</th>\n",
       "      <td>2024-06-01 00:00:00</td>\n",
       "      <td>3792.737535</td>\n",
       "      <td>86949.033139</td>\n",
       "      <td>14045.622754</td>\n",
       "      <td>276.496621</td>\n",
       "      <td>13352.732415</td>\n",
       "      <td>33626.500917</td>\n",
       "      <td>14777.128209</td>\n",
       "      <td>1.266689</td>\n",
       "      <td>3166.679271</td>\n",
       "      <td>9343.379157</td>\n",
       "      <td>-1640.772893</td>\n",
       "    </tr>\n",
       "    <tr>\n",
       "      <th>...</th>\n",
       "      <td>...</td>\n",
       "      <td>...</td>\n",
       "      <td>...</td>\n",
       "      <td>...</td>\n",
       "      <td>...</td>\n",
       "      <td>...</td>\n",
       "      <td>...</td>\n",
       "      <td>...</td>\n",
       "      <td>...</td>\n",
       "      <td>...</td>\n",
       "      <td>...</td>\n",
       "      <td>...</td>\n",
       "    </tr>\n",
       "    <tr>\n",
       "      <th>1836</th>\n",
       "      <td>2019-05-27 00:00:00</td>\n",
       "      <td>268.692708</td>\n",
       "      <td>23.625751</td>\n",
       "      <td>23.625751</td>\n",
       "      <td>0.000000</td>\n",
       "      <td>0.000000</td>\n",
       "      <td>0.000000</td>\n",
       "      <td>0.000000</td>\n",
       "      <td>0.000000</td>\n",
       "      <td>0.000000</td>\n",
       "      <td>0.000000</td>\n",
       "      <td>-0.000000</td>\n",
       "    </tr>\n",
       "    <tr>\n",
       "      <th>1837</th>\n",
       "      <td>2019-05-26 00:00:00</td>\n",
       "      <td>252.561806</td>\n",
       "      <td>23.629793</td>\n",
       "      <td>23.629793</td>\n",
       "      <td>0.000000</td>\n",
       "      <td>0.000000</td>\n",
       "      <td>0.000000</td>\n",
       "      <td>0.000000</td>\n",
       "      <td>0.000000</td>\n",
       "      <td>0.000000</td>\n",
       "      <td>0.000000</td>\n",
       "      <td>-0.000000</td>\n",
       "    </tr>\n",
       "    <tr>\n",
       "      <th>1838</th>\n",
       "      <td>2019-05-25 00:00:00</td>\n",
       "      <td>251.959896</td>\n",
       "      <td>22.633834</td>\n",
       "      <td>22.633834</td>\n",
       "      <td>0.000000</td>\n",
       "      <td>0.000000</td>\n",
       "      <td>0.000000</td>\n",
       "      <td>0.000000</td>\n",
       "      <td>0.000000</td>\n",
       "      <td>0.000000</td>\n",
       "      <td>0.000000</td>\n",
       "      <td>-0.000000</td>\n",
       "    </tr>\n",
       "    <tr>\n",
       "      <th>1839</th>\n",
       "      <td>2019-05-24 00:00:00</td>\n",
       "      <td>249.477361</td>\n",
       "      <td>21.537876</td>\n",
       "      <td>21.537876</td>\n",
       "      <td>0.000000</td>\n",
       "      <td>0.000000</td>\n",
       "      <td>0.000000</td>\n",
       "      <td>0.000000</td>\n",
       "      <td>0.000000</td>\n",
       "      <td>0.000000</td>\n",
       "      <td>0.000000</td>\n",
       "      <td>-0.000000</td>\n",
       "    </tr>\n",
       "    <tr>\n",
       "      <th>1840</th>\n",
       "      <td>2019-05-23 00:00:00</td>\n",
       "      <td>241.129757</td>\n",
       "      <td>0.095959</td>\n",
       "      <td>0.095959</td>\n",
       "      <td>0.000000</td>\n",
       "      <td>0.000000</td>\n",
       "      <td>0.000000</td>\n",
       "      <td>0.000000</td>\n",
       "      <td>0.000000</td>\n",
       "      <td>0.000000</td>\n",
       "      <td>0.000000</td>\n",
       "      <td>-0.000000</td>\n",
       "    </tr>\n",
       "  </tbody>\n",
       "</table>\n",
       "<p>1841 rows × 12 columns</p>\n",
       "</div>"
      ],
      "text/plain": [
       "               block_date  avg_eth_usd_price  capital_pool_display_curr  \\\n",
       "0     2024-06-05 00:00:00        3807.328214               86527.189361   \n",
       "1     2024-06-04 00:00:00        3783.802986               86587.428199   \n",
       "2     2024-06-03 00:00:00        3797.520972               86717.730981   \n",
       "3     2024-06-02 00:00:00        3796.210590               86855.915744   \n",
       "4     2024-06-01 00:00:00        3792.737535               86949.033139   \n",
       "...                   ...                ...                        ...   \n",
       "1836  2019-05-27 00:00:00         268.692708                  23.625751   \n",
       "1837  2019-05-26 00:00:00         252.561806                  23.629793   \n",
       "1838  2019-05-25 00:00:00         251.959896                  22.633834   \n",
       "1839  2019-05-24 00:00:00         249.477361                  21.537876   \n",
       "1840  2019-05-23 00:00:00         241.129757                   0.095959   \n",
       "\n",
       "      eth_display_curr  dai_display_curr  nxmty_display_curr  \\\n",
       "0         13586.212220        284.077959        13352.573252   \n",
       "1         13638.788715        285.723466        13352.573252   \n",
       "2         13781.838179        284.647327        13352.626304   \n",
       "3         13936.995943        284.549237        13352.679363   \n",
       "4         14045.622754        276.496621        13352.732415   \n",
       "...                ...               ...                 ...   \n",
       "1836         23.625751          0.000000            0.000000   \n",
       "1837         23.629793          0.000000            0.000000   \n",
       "1838         22.633834          0.000000            0.000000   \n",
       "1839         21.537876          0.000000            0.000000   \n",
       "1840          0.095959          0.000000            0.000000   \n",
       "\n",
       "      steth_display_curr  reth_display_curr  usdc_display_curr  \\\n",
       "0           33635.336859       14805.023368           1.261150   \n",
       "1           33635.336859       14801.545881           1.269054   \n",
       "2           33632.408790       14798.647198           1.264216   \n",
       "3           33629.401072       14783.283219           1.265424   \n",
       "4           33626.500917       14777.128209           1.266689   \n",
       "...                  ...                ...                ...   \n",
       "1836            0.000000           0.000000           0.000000   \n",
       "1837            0.000000           0.000000           0.000000   \n",
       "1838            0.000000           0.000000           0.000000   \n",
       "1839            0.000000           0.000000           0.000000   \n",
       "1840            0.000000           0.000000           0.000000   \n",
       "\n",
       "      cover_re_usdc_display_curr  aave_collateral_weth_display_curr  \\\n",
       "0                    3152.832113                        9344.842419   \n",
       "1                    3172.589941                        9344.623468   \n",
       "2                    3160.496063                        9344.161264   \n",
       "3                    3163.515565                        9343.754168   \n",
       "4                    3166.679271                        9343.379157   \n",
       "...                          ...                                ...   \n",
       "1836                    0.000000                           0.000000   \n",
       "1837                    0.000000                           0.000000   \n",
       "1838                    0.000000                           0.000000   \n",
       "1839                    0.000000                           0.000000   \n",
       "1840                    0.000000                           0.000000   \n",
       "\n",
       "      aave_debt_usdc_display_curr  \n",
       "0                    -1634.969978  \n",
       "1                    -1645.022435  \n",
       "2                    -1638.358360  \n",
       "3                    -1639.528246  \n",
       "4                    -1640.772893  \n",
       "...                           ...  \n",
       "1836                    -0.000000  \n",
       "1837                    -0.000000  \n",
       "1838                    -0.000000  \n",
       "1839                    -0.000000  \n",
       "1840                    -0.000000  \n",
       "\n",
       "[1841 rows x 12 columns]"
      ]
     },
     "execution_count": 6,
     "metadata": {},
     "output_type": "execute_result"
    }
   ],
   "source": [
    "cap_pool_result"
   ]
  },
  {
   "cell_type": "code",
   "execution_count": 7,
   "id": "bad47e5c",
   "metadata": {
    "ExecuteTime": {
     "end_time": "2024-06-05T11:57:12.415505Z",
     "start_time": "2024-06-05T11:57:12.347873Z"
    }
   },
   "outputs": [
    {
     "name": "stderr",
     "output_type": "stream",
     "text": [
      "/tmp/ipykernel_651/2737571135.py:38: FutureWarning: Setting an item of incompatible dtype is deprecated and will raise an error in a future version of pandas. Value '[  181.45         180.68760504   179.92521008 ... -1187.81134454\n",
      " -1188.5737395  -1189.33613445]' has dtype incompatible with int64, please explicitly cast to a compatible dtype first.\n",
      "  df_cap.loc[df_cap['day'] <= kiln_claim_start_date, 'kiln_rewards'] = daily_first_kiln_rewards * ((df_cap['day'] - kiln_deposit_date) / timedelta(days=1))\n"
     ]
    }
   ],
   "source": [
    "# process capital pool table\n",
    "\n",
    "df_cap_raw = cap_pool_result\n",
    "\n",
    "# drop moving average columns\n",
    "df_cap = df_cap_raw.drop(columns=['capital_pool_display_curr'])\n",
    "# rename columns\n",
    "df_cap.rename(columns={'eth_display_curr': 'ETH',\n",
    "                       'dai_display_curr': 'DAI',\n",
    "                       'reth_display_curr': 'rETH',\n",
    "                       'steth_display_curr': 'stETH',\n",
    "                       'nxmty_display_curr': 'Enzyme',\n",
    "                       'usdc_display_curr': 'USDC',\n",
    "                       'cover_re_usdc_display_curr': 'Cover Re',\n",
    "                       'aave_collateral_weth_display_curr': 'aEthWETH',\n",
    "                       'aave_debt_usdc_display_curr': 'variableDebtEthUSDC',\n",
    "                       'avg_eth_usd_price': 'rate_ETH_USD',\n",
    "                       'block_date': 'day'\n",
    "                  }, inplace=True)\n",
    "\n",
    "\n",
    "# change day to a datetime\n",
    "df_cap['day'] = pd.to_datetime(df_cap['day'])\n",
    "\n",
    "# Adjust Enzyme for unclaimed Kiln returns\n",
    "    # work out days since kiln deposit from the latest day and work out the rewards per day\n",
    "days_first_kiln_rewards = (kiln_claim_start_date - kiln_deposit_date)/timedelta(days=1)\n",
    "daily_first_kiln_rewards = kiln_first_round/days_first_kiln_rewards\n",
    "\n",
    "days_current_kiln_rewards = (df_cap.iloc[0]['day'] - kiln_claim_end_date)/timedelta(days=1)\n",
    "daily_current_kiln_rewards = kiln_current/days_current_kiln_rewards\n",
    "\n",
    "days_total_kiln_rewards = (df_cap.iloc[0]['day'] - kiln_deposit_date)/timedelta(days=1)\n",
    "daily_total_kiln_rewards = kiln_total_rewards / days_total_kiln_rewards\n",
    "\n",
    "    # create a column for kiln rewards based on the daily values since validators went live\n",
    "df_cap['kiln_rewards'] = 0\n",
    "df_cap.loc[df_cap['day'] <= kiln_claim_start_date, 'kiln_rewards'] = daily_first_kiln_rewards * ((df_cap['day'] - kiln_deposit_date) / timedelta(days=1))\n",
    "df_cap.loc[df_cap['day'] >= kiln_claim_end_date, 'kiln_rewards'] = daily_current_kiln_rewards * ((df_cap['day'] - kiln_claim_end_date) / timedelta(days=1))\n",
    "df_cap.loc[df_cap['kiln_rewards'] < 0, 'kiln_rewards'] = 0\n",
    "\n",
    "    # Add Kiln rewards to Enzyme column and then drop the Kiln rewards column\n",
    "df_cap['Enzyme'] = df_cap['Enzyme'] + df_cap['kiln_rewards']\n",
    "df_cap.drop(columns=['kiln_rewards'], inplace=True)\n",
    "\n",
    "# add all the columns except day and the exchange rate together to get numeric total\n",
    "df_cap['sum'] = df_cap.drop(columns=['day', 'rate_ETH_USD']).sum(axis=1)\n",
    "\n",
    "# work out net aave position\n",
    "df_cap['Aave (net)'] = df_cap['aEthWETH'] + df_cap['variableDebtEthUSDC']"
   ]
  },
  {
   "cell_type": "code",
   "execution_count": 8,
   "id": "d3896c4e",
   "metadata": {
    "ExecuteTime": {
     "end_time": "2024-06-05T11:57:13.587686Z",
     "start_time": "2024-06-05T11:57:13.568390Z"
    }
   },
   "outputs": [
    {
     "data": {
      "text/html": [
       "<div>\n",
       "<style scoped>\n",
       "    .dataframe tbody tr th:only-of-type {\n",
       "        vertical-align: middle;\n",
       "    }\n",
       "\n",
       "    .dataframe tbody tr th {\n",
       "        vertical-align: top;\n",
       "    }\n",
       "\n",
       "    .dataframe thead th {\n",
       "        text-align: right;\n",
       "    }\n",
       "</style>\n",
       "<table border=\"1\" class=\"dataframe\">\n",
       "  <thead>\n",
       "    <tr style=\"text-align: right;\">\n",
       "      <th></th>\n",
       "      <th>day</th>\n",
       "      <th>rate_ETH_USD</th>\n",
       "      <th>ETH</th>\n",
       "      <th>DAI</th>\n",
       "      <th>Enzyme</th>\n",
       "      <th>stETH</th>\n",
       "      <th>rETH</th>\n",
       "      <th>USDC</th>\n",
       "      <th>Cover Re</th>\n",
       "      <th>aEthWETH</th>\n",
       "      <th>variableDebtEthUSDC</th>\n",
       "      <th>sum</th>\n",
       "      <th>Aave (net)</th>\n",
       "    </tr>\n",
       "  </thead>\n",
       "  <tbody>\n",
       "    <tr>\n",
       "      <th>36</th>\n",
       "      <td>2024-04-30</td>\n",
       "      <td>3069.918299</td>\n",
       "      <td>26291.552966</td>\n",
       "      <td>1643.925374</td>\n",
       "      <td>13356.997194</td>\n",
       "      <td>33535.865479</td>\n",
       "      <td>14766.45998</td>\n",
       "      <td>558.291909</td>\n",
       "      <td>0.0</td>\n",
       "      <td>0.0</td>\n",
       "      <td>-0.0</td>\n",
       "      <td>90153.092902</td>\n",
       "      <td>0.0</td>\n",
       "    </tr>\n",
       "  </tbody>\n",
       "</table>\n",
       "</div>"
      ],
      "text/plain": [
       "          day  rate_ETH_USD           ETH          DAI        Enzyme  \\\n",
       "36 2024-04-30   3069.918299  26291.552966  1643.925374  13356.997194   \n",
       "\n",
       "           stETH         rETH        USDC  Cover Re  aEthWETH  \\\n",
       "36  33535.865479  14766.45998  558.291909       0.0       0.0   \n",
       "\n",
       "    variableDebtEthUSDC           sum  Aave (net)  \n",
       "36                 -0.0  90153.092902         0.0  "
      ]
     },
     "execution_count": 8,
     "metadata": {},
     "output_type": "execute_result"
    }
   ],
   "source": [
    "df_cap.loc[df_cap['day'] == eom_before_valn_date]"
   ]
  },
  {
   "cell_type": "code",
   "execution_count": 9,
   "id": "9aa1a488",
   "metadata": {
    "ExecuteTime": {
     "end_time": "2024-06-05T11:57:14.162478Z",
     "start_time": "2024-06-05T11:57:14.135028Z"
    }
   },
   "outputs": [
    {
     "data": {
      "text/html": [
       "<div>\n",
       "<style scoped>\n",
       "    .dataframe tbody tr th:only-of-type {\n",
       "        vertical-align: middle;\n",
       "    }\n",
       "\n",
       "    .dataframe tbody tr th {\n",
       "        vertical-align: top;\n",
       "    }\n",
       "\n",
       "    .dataframe thead th {\n",
       "        text-align: right;\n",
       "    }\n",
       "</style>\n",
       "<table border=\"1\" class=\"dataframe\">\n",
       "  <thead>\n",
       "    <tr style=\"text-align: right;\">\n",
       "      <th></th>\n",
       "      <th>day</th>\n",
       "      <th>rate_ETH_USD</th>\n",
       "      <th>ETH</th>\n",
       "      <th>DAI</th>\n",
       "      <th>Enzyme</th>\n",
       "      <th>stETH</th>\n",
       "      <th>rETH</th>\n",
       "      <th>USDC</th>\n",
       "      <th>Cover Re</th>\n",
       "      <th>aEthWETH</th>\n",
       "      <th>variableDebtEthUSDC</th>\n",
       "      <th>sum</th>\n",
       "      <th>Aave (net)</th>\n",
       "    </tr>\n",
       "  </thead>\n",
       "  <tbody>\n",
       "    <tr>\n",
       "      <th>5</th>\n",
       "      <td>2024-05-31</td>\n",
       "      <td>3768.0025</td>\n",
       "      <td>14114.203758</td>\n",
       "      <td>272.782221</td>\n",
       "      <td>13375.244704</td>\n",
       "      <td>33623.618159</td>\n",
       "      <td>14795.68645</td>\n",
       "      <td>1.274981</td>\n",
       "      <td>3187.407884</td>\n",
       "      <td>9343.003483</td>\n",
       "      <td>-1651.115935</td>\n",
       "      <td>87062.105703</td>\n",
       "      <td>7691.887548</td>\n",
       "    </tr>\n",
       "  </tbody>\n",
       "</table>\n",
       "</div>"
      ],
      "text/plain": [
       "         day  rate_ETH_USD           ETH         DAI        Enzyme  \\\n",
       "5 2024-05-31     3768.0025  14114.203758  272.782221  13375.244704   \n",
       "\n",
       "          stETH         rETH      USDC     Cover Re     aEthWETH  \\\n",
       "5  33623.618159  14795.68645  1.274981  3187.407884  9343.003483   \n",
       "\n",
       "   variableDebtEthUSDC           sum   Aave (net)  \n",
       "5         -1651.115935  87062.105703  7691.887548  "
      ]
     },
     "execution_count": 9,
     "metadata": {},
     "output_type": "execute_result"
    }
   ],
   "source": [
    "df_cap.loc[df_cap['day'] == valn_date]"
   ]
  },
  {
   "cell_type": "code",
   "execution_count": 10,
   "id": "201aae9f",
   "metadata": {
    "ExecuteTime": {
     "end_time": "2024-06-05T11:57:15.626762Z",
     "start_time": "2024-06-05T11:57:15.589998Z"
    }
   },
   "outputs": [
    {
     "data": {
      "text/html": [
       "<div>\n",
       "<style scoped>\n",
       "    .dataframe tbody tr th:only-of-type {\n",
       "        vertical-align: middle;\n",
       "    }\n",
       "\n",
       "    .dataframe tbody tr th {\n",
       "        vertical-align: top;\n",
       "    }\n",
       "\n",
       "    .dataframe thead th {\n",
       "        text-align: right;\n",
       "    }\n",
       "</style>\n",
       "<table border=\"1\" class=\"dataframe\">\n",
       "  <thead>\n",
       "    <tr style=\"text-align: right;\">\n",
       "      <th></th>\n",
       "      <th>day</th>\n",
       "      <th>rate_ETH_USD</th>\n",
       "      <th>ETH</th>\n",
       "      <th>DAI</th>\n",
       "      <th>Enzyme</th>\n",
       "      <th>stETH</th>\n",
       "      <th>rETH</th>\n",
       "      <th>USDC</th>\n",
       "      <th>Cover Re</th>\n",
       "      <th>aEthWETH</th>\n",
       "      <th>variableDebtEthUSDC</th>\n",
       "      <th>sum</th>\n",
       "      <th>Aave (net)</th>\n",
       "    </tr>\n",
       "  </thead>\n",
       "  <tbody>\n",
       "    <tr>\n",
       "      <th>5</th>\n",
       "      <td>2024-05-31</td>\n",
       "      <td>3768.002500</td>\n",
       "      <td>14114.203758</td>\n",
       "      <td>272.782221</td>\n",
       "      <td>13375.244704</td>\n",
       "      <td>33623.618159</td>\n",
       "      <td>14795.686450</td>\n",
       "      <td>1.274981</td>\n",
       "      <td>3187.407884</td>\n",
       "      <td>9343.003483</td>\n",
       "      <td>-1651.115935</td>\n",
       "      <td>87062.105703</td>\n",
       "      <td>7691.887548</td>\n",
       "    </tr>\n",
       "    <tr>\n",
       "      <th>6</th>\n",
       "      <td>2024-05-30</td>\n",
       "      <td>3764.666424</td>\n",
       "      <td>14179.539108</td>\n",
       "      <td>272.996356</td>\n",
       "      <td>13374.656072</td>\n",
       "      <td>33620.602905</td>\n",
       "      <td>14795.279748</td>\n",
       "      <td>1.276138</td>\n",
       "      <td>3190.300731</td>\n",
       "      <td>9342.627698</td>\n",
       "      <td>-1652.111208</td>\n",
       "      <td>87125.167548</td>\n",
       "      <td>7690.516490</td>\n",
       "    </tr>\n",
       "    <tr>\n",
       "      <th>7</th>\n",
       "      <td>2024-05-29</td>\n",
       "      <td>3807.424618</td>\n",
       "      <td>14273.446195</td>\n",
       "      <td>269.923308</td>\n",
       "      <td>13374.067454</td>\n",
       "      <td>33617.623023</td>\n",
       "      <td>14798.960869</td>\n",
       "      <td>1.262029</td>\n",
       "      <td>3155.028058</td>\n",
       "      <td>9342.257346</td>\n",
       "      <td>-1633.380843</td>\n",
       "      <td>87199.187439</td>\n",
       "      <td>7708.876503</td>\n",
       "    </tr>\n",
       "    <tr>\n",
       "      <th>8</th>\n",
       "      <td>2024-05-28</td>\n",
       "      <td>3858.581632</td>\n",
       "      <td>14380.646585</td>\n",
       "      <td>266.490411</td>\n",
       "      <td>13373.478814</td>\n",
       "      <td>33614.722311</td>\n",
       "      <td>14796.413023</td>\n",
       "      <td>1.245253</td>\n",
       "      <td>3113.089229</td>\n",
       "      <td>9341.914320</td>\n",
       "      <td>-1611.143786</td>\n",
       "      <td>87276.856160</td>\n",
       "      <td>7730.770535</td>\n",
       "    </tr>\n",
       "    <tr>\n",
       "      <th>9</th>\n",
       "      <td>2024-05-27</td>\n",
       "      <td>3908.719097</td>\n",
       "      <td>14456.226492</td>\n",
       "      <td>262.913702</td>\n",
       "      <td>13372.890182</td>\n",
       "      <td>33611.757101</td>\n",
       "      <td>14791.820382</td>\n",
       "      <td>1.228849</td>\n",
       "      <td>3072.079773</td>\n",
       "      <td>9341.557796</td>\n",
       "      <td>-1589.538164</td>\n",
       "      <td>87320.936112</td>\n",
       "      <td>7752.019631</td>\n",
       "    </tr>\n",
       "    <tr>\n",
       "      <th>10</th>\n",
       "      <td>2024-05-26</td>\n",
       "      <td>3805.207292</td>\n",
       "      <td>14582.934974</td>\n",
       "      <td>265.408984</td>\n",
       "      <td>13372.301543</td>\n",
       "      <td>33608.901536</td>\n",
       "      <td>14788.725058</td>\n",
       "      <td>1.262200</td>\n",
       "      <td>3155.455361</td>\n",
       "      <td>9341.207628</td>\n",
       "      <td>-1632.286277</td>\n",
       "      <td>87483.911008</td>\n",
       "      <td>7708.921351</td>\n",
       "    </tr>\n",
       "    <tr>\n",
       "      <th>11</th>\n",
       "      <td>2024-05-25</td>\n",
       "      <td>3746.725069</td>\n",
       "      <td>14676.272069</td>\n",
       "      <td>266.027525</td>\n",
       "      <td>13371.712926</td>\n",
       "      <td>33606.178677</td>\n",
       "      <td>14789.143027</td>\n",
       "      <td>1.282098</td>\n",
       "      <td>3205.199448</td>\n",
       "      <td>9340.843772</td>\n",
       "      <td>-1657.620753</td>\n",
       "      <td>87599.038787</td>\n",
       "      <td>7683.223019</td>\n",
       "    </tr>\n",
       "    <tr>\n",
       "      <th>12</th>\n",
       "      <td>2024-05-24</td>\n",
       "      <td>3731.738299</td>\n",
       "      <td>14738.056715</td>\n",
       "      <td>267.098249</td>\n",
       "      <td>13371.124287</td>\n",
       "      <td>33603.397467</td>\n",
       "      <td>14791.515844</td>\n",
       "      <td>1.287388</td>\n",
       "      <td>3218.425871</td>\n",
       "      <td>9340.476737</td>\n",
       "      <td>-1664.060905</td>\n",
       "      <td>87667.321654</td>\n",
       "      <td>7676.415832</td>\n",
       "    </tr>\n",
       "    <tr>\n",
       "      <th>13</th>\n",
       "      <td>2024-05-23</td>\n",
       "      <td>3796.578924</td>\n",
       "      <td>14846.316953</td>\n",
       "      <td>262.554762</td>\n",
       "      <td>13370.535656</td>\n",
       "      <td>33599.496783</td>\n",
       "      <td>14782.611821</td>\n",
       "      <td>1.265181</td>\n",
       "      <td>3162.909784</td>\n",
       "      <td>9340.152590</td>\n",
       "      <td>-1634.893145</td>\n",
       "      <td>87730.950386</td>\n",
       "      <td>7705.259445</td>\n",
       "    </tr>\n",
       "    <tr>\n",
       "      <th>14</th>\n",
       "      <td>2024-05-22</td>\n",
       "      <td>3750.135868</td>\n",
       "      <td>24292.654194</td>\n",
       "      <td>1357.988506</td>\n",
       "      <td>13369.947024</td>\n",
       "      <td>33596.561158</td>\n",
       "      <td>14799.739213</td>\n",
       "      <td>456.817000</td>\n",
       "      <td>0.000000</td>\n",
       "      <td>0.000000</td>\n",
       "      <td>-0.000000</td>\n",
       "      <td>87873.707096</td>\n",
       "      <td>0.000000</td>\n",
       "    </tr>\n",
       "    <tr>\n",
       "      <th>15</th>\n",
       "      <td>2024-05-21</td>\n",
       "      <td>3725.417604</td>\n",
       "      <td>24416.023764</td>\n",
       "      <td>1367.312296</td>\n",
       "      <td>13369.358386</td>\n",
       "      <td>33593.633350</td>\n",
       "      <td>14772.639603</td>\n",
       "      <td>459.935545</td>\n",
       "      <td>0.000000</td>\n",
       "      <td>0.000000</td>\n",
       "      <td>-0.000000</td>\n",
       "      <td>87978.902945</td>\n",
       "      <td>0.000000</td>\n",
       "    </tr>\n",
       "    <tr>\n",
       "      <th>16</th>\n",
       "      <td>2024-05-20</td>\n",
       "      <td>3188.449063</td>\n",
       "      <td>24534.708586</td>\n",
       "      <td>1597.028983</td>\n",
       "      <td>13368.769763</td>\n",
       "      <td>33590.013076</td>\n",
       "      <td>14765.692319</td>\n",
       "      <td>537.251667</td>\n",
       "      <td>0.000000</td>\n",
       "      <td>0.000000</td>\n",
       "      <td>-0.000000</td>\n",
       "      <td>88393.464395</td>\n",
       "      <td>0.000000</td>\n",
       "    </tr>\n",
       "    <tr>\n",
       "      <th>17</th>\n",
       "      <td>2024-05-19</td>\n",
       "      <td>3097.412812</td>\n",
       "      <td>24663.714995</td>\n",
       "      <td>1644.182907</td>\n",
       "      <td>13368.181133</td>\n",
       "      <td>33587.364348</td>\n",
       "      <td>14783.062524</td>\n",
       "      <td>553.103341</td>\n",
       "      <td>0.000000</td>\n",
       "      <td>0.000000</td>\n",
       "      <td>-0.000000</td>\n",
       "      <td>88599.609248</td>\n",
       "      <td>0.000000</td>\n",
       "    </tr>\n",
       "    <tr>\n",
       "      <th>18</th>\n",
       "      <td>2024-05-18</td>\n",
       "      <td>3114.346181</td>\n",
       "      <td>24742.538814</td>\n",
       "      <td>1634.840339</td>\n",
       "      <td>13367.592502</td>\n",
       "      <td>33584.740795</td>\n",
       "      <td>14777.575031</td>\n",
       "      <td>550.045463</td>\n",
       "      <td>0.000000</td>\n",
       "      <td>0.000000</td>\n",
       "      <td>-0.000000</td>\n",
       "      <td>88657.332944</td>\n",
       "      <td>0.000000</td>\n",
       "    </tr>\n",
       "    <tr>\n",
       "      <th>19</th>\n",
       "      <td>2024-05-17</td>\n",
       "      <td>3034.288125</td>\n",
       "      <td>24802.653232</td>\n",
       "      <td>1677.837000</td>\n",
       "      <td>13367.003872</td>\n",
       "      <td>33582.187784</td>\n",
       "      <td>14774.976404</td>\n",
       "      <td>564.582792</td>\n",
       "      <td>0.000000</td>\n",
       "      <td>0.000000</td>\n",
       "      <td>-0.000000</td>\n",
       "      <td>88769.241084</td>\n",
       "      <td>0.000000</td>\n",
       "    </tr>\n",
       "    <tr>\n",
       "      <th>20</th>\n",
       "      <td>2024-05-16</td>\n",
       "      <td>2984.430694</td>\n",
       "      <td>24919.794081</td>\n",
       "      <td>1705.723673</td>\n",
       "      <td>13366.415250</td>\n",
       "      <td>33579.515920</td>\n",
       "      <td>14775.948205</td>\n",
       "      <td>574.057362</td>\n",
       "      <td>0.000000</td>\n",
       "      <td>0.000000</td>\n",
       "      <td>-0.000000</td>\n",
       "      <td>88921.454491</td>\n",
       "      <td>0.000000</td>\n",
       "    </tr>\n",
       "    <tr>\n",
       "      <th>21</th>\n",
       "      <td>2024-05-15</td>\n",
       "      <td>2945.593958</td>\n",
       "      <td>25017.561103</td>\n",
       "      <td>1728.223394</td>\n",
       "      <td>13365.826628</td>\n",
       "      <td>33576.718181</td>\n",
       "      <td>14774.843700</td>\n",
       "      <td>581.725054</td>\n",
       "      <td>0.000000</td>\n",
       "      <td>0.000000</td>\n",
       "      <td>-0.000000</td>\n",
       "      <td>89044.898060</td>\n",
       "      <td>0.000000</td>\n",
       "    </tr>\n",
       "    <tr>\n",
       "      <th>22</th>\n",
       "      <td>2024-05-14</td>\n",
       "      <td>2912.653160</td>\n",
       "      <td>25078.637057</td>\n",
       "      <td>1747.105882</td>\n",
       "      <td>13365.237998</td>\n",
       "      <td>33573.962795</td>\n",
       "      <td>14774.630398</td>\n",
       "      <td>588.288623</td>\n",
       "      <td>0.000000</td>\n",
       "      <td>0.000000</td>\n",
       "      <td>-0.000000</td>\n",
       "      <td>89127.862753</td>\n",
       "      <td>0.000000</td>\n",
       "    </tr>\n",
       "    <tr>\n",
       "      <th>23</th>\n",
       "      <td>2024-05-13</td>\n",
       "      <td>2943.247222</td>\n",
       "      <td>25156.431640</td>\n",
       "      <td>1729.222947</td>\n",
       "      <td>13364.649369</td>\n",
       "      <td>33571.124537</td>\n",
       "      <td>14766.012853</td>\n",
       "      <td>582.297063</td>\n",
       "      <td>0.000000</td>\n",
       "      <td>0.000000</td>\n",
       "      <td>-0.000000</td>\n",
       "      <td>89169.738408</td>\n",
       "      <td>0.000000</td>\n",
       "    </tr>\n",
       "    <tr>\n",
       "      <th>24</th>\n",
       "      <td>2024-05-12</td>\n",
       "      <td>2928.118785</td>\n",
       "      <td>25315.219328</td>\n",
       "      <td>1737.480594</td>\n",
       "      <td>13364.060755</td>\n",
       "      <td>33568.469728</td>\n",
       "      <td>14771.192568</td>\n",
       "      <td>585.399100</td>\n",
       "      <td>0.000000</td>\n",
       "      <td>0.000000</td>\n",
       "      <td>-0.000000</td>\n",
       "      <td>89341.822072</td>\n",
       "      <td>0.000000</td>\n",
       "    </tr>\n",
       "    <tr>\n",
       "      <th>25</th>\n",
       "      <td>2024-05-11</td>\n",
       "      <td>2918.454097</td>\n",
       "      <td>25446.090267</td>\n",
       "      <td>1743.418271</td>\n",
       "      <td>13363.472111</td>\n",
       "      <td>33565.885258</td>\n",
       "      <td>14770.364239</td>\n",
       "      <td>587.207722</td>\n",
       "      <td>0.000000</td>\n",
       "      <td>0.000000</td>\n",
       "      <td>-0.000000</td>\n",
       "      <td>89476.437867</td>\n",
       "      <td>0.000000</td>\n",
       "    </tr>\n",
       "    <tr>\n",
       "      <th>26</th>\n",
       "      <td>2024-05-10</td>\n",
       "      <td>2984.913993</td>\n",
       "      <td>25496.967055</td>\n",
       "      <td>1704.771636</td>\n",
       "      <td>13362.883497</td>\n",
       "      <td>33563.225742</td>\n",
       "      <td>14772.917892</td>\n",
       "      <td>574.026492</td>\n",
       "      <td>0.000000</td>\n",
       "      <td>0.000000</td>\n",
       "      <td>-0.000000</td>\n",
       "      <td>89474.792315</td>\n",
       "      <td>0.000000</td>\n",
       "    </tr>\n",
       "    <tr>\n",
       "      <th>27</th>\n",
       "      <td>2024-05-09</td>\n",
       "      <td>2999.826007</td>\n",
       "      <td>25531.419203</td>\n",
       "      <td>1696.329802</td>\n",
       "      <td>13362.294876</td>\n",
       "      <td>33560.529817</td>\n",
       "      <td>14771.211794</td>\n",
       "      <td>571.208403</td>\n",
       "      <td>0.000000</td>\n",
       "      <td>0.000000</td>\n",
       "      <td>-0.000000</td>\n",
       "      <td>89492.993895</td>\n",
       "      <td>0.000000</td>\n",
       "    </tr>\n",
       "    <tr>\n",
       "      <th>28</th>\n",
       "      <td>2024-05-08</td>\n",
       "      <td>3005.005938</td>\n",
       "      <td>25634.141538</td>\n",
       "      <td>1693.168118</td>\n",
       "      <td>13361.706248</td>\n",
       "      <td>33557.855295</td>\n",
       "      <td>14773.798203</td>\n",
       "      <td>570.215885</td>\n",
       "      <td>0.000000</td>\n",
       "      <td>0.000000</td>\n",
       "      <td>-0.000000</td>\n",
       "      <td>89590.885287</td>\n",
       "      <td>0.000000</td>\n",
       "    </tr>\n",
       "    <tr>\n",
       "      <th>29</th>\n",
       "      <td>2024-05-07</td>\n",
       "      <td>3071.926458</td>\n",
       "      <td>25717.145035</td>\n",
       "      <td>1648.176960</td>\n",
       "      <td>13361.117613</td>\n",
       "      <td>33555.140479</td>\n",
       "      <td>14790.083408</td>\n",
       "      <td>557.834334</td>\n",
       "      <td>0.000000</td>\n",
       "      <td>0.000000</td>\n",
       "      <td>-0.000000</td>\n",
       "      <td>89629.497829</td>\n",
       "      <td>0.000000</td>\n",
       "    </tr>\n",
       "    <tr>\n",
       "      <th>30</th>\n",
       "      <td>2024-05-06</td>\n",
       "      <td>3127.237951</td>\n",
       "      <td>25806.170649</td>\n",
       "      <td>1618.424995</td>\n",
       "      <td>13360.528978</td>\n",
       "      <td>33552.455448</td>\n",
       "      <td>14771.238164</td>\n",
       "      <td>547.920198</td>\n",
       "      <td>0.000000</td>\n",
       "      <td>0.000000</td>\n",
       "      <td>-0.000000</td>\n",
       "      <td>89656.738433</td>\n",
       "      <td>0.000000</td>\n",
       "    </tr>\n",
       "    <tr>\n",
       "      <th>31</th>\n",
       "      <td>2024-05-05</td>\n",
       "      <td>3127.360312</td>\n",
       "      <td>25890.761914</td>\n",
       "      <td>1618.088980</td>\n",
       "      <td>13359.940350</td>\n",
       "      <td>33549.802933</td>\n",
       "      <td>14764.312090</td>\n",
       "      <td>547.884598</td>\n",
       "      <td>0.000000</td>\n",
       "      <td>0.000000</td>\n",
       "      <td>-0.000000</td>\n",
       "      <td>89730.790865</td>\n",
       "      <td>0.000000</td>\n",
       "    </tr>\n",
       "    <tr>\n",
       "      <th>32</th>\n",
       "      <td>2024-05-04</td>\n",
       "      <td>3122.184375</td>\n",
       "      <td>25978.400181</td>\n",
       "      <td>1620.177623</td>\n",
       "      <td>13359.351716</td>\n",
       "      <td>33547.204414</td>\n",
       "      <td>14763.552113</td>\n",
       "      <td>548.819561</td>\n",
       "      <td>0.000000</td>\n",
       "      <td>0.000000</td>\n",
       "      <td>-0.000000</td>\n",
       "      <td>89817.505608</td>\n",
       "      <td>0.000000</td>\n",
       "    </tr>\n",
       "    <tr>\n",
       "      <th>33</th>\n",
       "      <td>2024-05-03</td>\n",
       "      <td>3035.316389</td>\n",
       "      <td>26068.126868</td>\n",
       "      <td>1665.931841</td>\n",
       "      <td>13358.763089</td>\n",
       "      <td>33544.449883</td>\n",
       "      <td>14762.935082</td>\n",
       "      <td>564.613473</td>\n",
       "      <td>0.000000</td>\n",
       "      <td>0.000000</td>\n",
       "      <td>-0.000000</td>\n",
       "      <td>89964.820236</td>\n",
       "      <td>0.000000</td>\n",
       "    </tr>\n",
       "    <tr>\n",
       "      <th>34</th>\n",
       "      <td>2024-05-02</td>\n",
       "      <td>2964.444097</td>\n",
       "      <td>26127.247439</td>\n",
       "      <td>1703.794456</td>\n",
       "      <td>13358.174454</td>\n",
       "      <td>33541.754930</td>\n",
       "      <td>14764.548343</td>\n",
       "      <td>578.162384</td>\n",
       "      <td>0.000000</td>\n",
       "      <td>0.000000</td>\n",
       "      <td>-0.000000</td>\n",
       "      <td>90073.682007</td>\n",
       "      <td>0.000000</td>\n",
       "    </tr>\n",
       "    <tr>\n",
       "      <th>35</th>\n",
       "      <td>2024-05-01</td>\n",
       "      <td>2938.720174</td>\n",
       "      <td>26239.532431</td>\n",
       "      <td>1717.866934</td>\n",
       "      <td>13357.585828</td>\n",
       "      <td>33538.905168</td>\n",
       "      <td>14769.488691</td>\n",
       "      <td>583.347238</td>\n",
       "      <td>0.000000</td>\n",
       "      <td>0.000000</td>\n",
       "      <td>-0.000000</td>\n",
       "      <td>90206.726289</td>\n",
       "      <td>0.000000</td>\n",
       "    </tr>\n",
       "    <tr>\n",
       "      <th>36</th>\n",
       "      <td>2024-04-30</td>\n",
       "      <td>3069.918299</td>\n",
       "      <td>26291.552966</td>\n",
       "      <td>1643.925374</td>\n",
       "      <td>13356.997194</td>\n",
       "      <td>33535.865479</td>\n",
       "      <td>14766.459980</td>\n",
       "      <td>558.291909</td>\n",
       "      <td>0.000000</td>\n",
       "      <td>0.000000</td>\n",
       "      <td>-0.000000</td>\n",
       "      <td>90153.092902</td>\n",
       "      <td>0.000000</td>\n",
       "    </tr>\n",
       "  </tbody>\n",
       "</table>\n",
       "</div>"
      ],
      "text/plain": [
       "          day  rate_ETH_USD           ETH          DAI        Enzyme  \\\n",
       "5  2024-05-31   3768.002500  14114.203758   272.782221  13375.244704   \n",
       "6  2024-05-30   3764.666424  14179.539108   272.996356  13374.656072   \n",
       "7  2024-05-29   3807.424618  14273.446195   269.923308  13374.067454   \n",
       "8  2024-05-28   3858.581632  14380.646585   266.490411  13373.478814   \n",
       "9  2024-05-27   3908.719097  14456.226492   262.913702  13372.890182   \n",
       "10 2024-05-26   3805.207292  14582.934974   265.408984  13372.301543   \n",
       "11 2024-05-25   3746.725069  14676.272069   266.027525  13371.712926   \n",
       "12 2024-05-24   3731.738299  14738.056715   267.098249  13371.124287   \n",
       "13 2024-05-23   3796.578924  14846.316953   262.554762  13370.535656   \n",
       "14 2024-05-22   3750.135868  24292.654194  1357.988506  13369.947024   \n",
       "15 2024-05-21   3725.417604  24416.023764  1367.312296  13369.358386   \n",
       "16 2024-05-20   3188.449063  24534.708586  1597.028983  13368.769763   \n",
       "17 2024-05-19   3097.412812  24663.714995  1644.182907  13368.181133   \n",
       "18 2024-05-18   3114.346181  24742.538814  1634.840339  13367.592502   \n",
       "19 2024-05-17   3034.288125  24802.653232  1677.837000  13367.003872   \n",
       "20 2024-05-16   2984.430694  24919.794081  1705.723673  13366.415250   \n",
       "21 2024-05-15   2945.593958  25017.561103  1728.223394  13365.826628   \n",
       "22 2024-05-14   2912.653160  25078.637057  1747.105882  13365.237998   \n",
       "23 2024-05-13   2943.247222  25156.431640  1729.222947  13364.649369   \n",
       "24 2024-05-12   2928.118785  25315.219328  1737.480594  13364.060755   \n",
       "25 2024-05-11   2918.454097  25446.090267  1743.418271  13363.472111   \n",
       "26 2024-05-10   2984.913993  25496.967055  1704.771636  13362.883497   \n",
       "27 2024-05-09   2999.826007  25531.419203  1696.329802  13362.294876   \n",
       "28 2024-05-08   3005.005938  25634.141538  1693.168118  13361.706248   \n",
       "29 2024-05-07   3071.926458  25717.145035  1648.176960  13361.117613   \n",
       "30 2024-05-06   3127.237951  25806.170649  1618.424995  13360.528978   \n",
       "31 2024-05-05   3127.360312  25890.761914  1618.088980  13359.940350   \n",
       "32 2024-05-04   3122.184375  25978.400181  1620.177623  13359.351716   \n",
       "33 2024-05-03   3035.316389  26068.126868  1665.931841  13358.763089   \n",
       "34 2024-05-02   2964.444097  26127.247439  1703.794456  13358.174454   \n",
       "35 2024-05-01   2938.720174  26239.532431  1717.866934  13357.585828   \n",
       "36 2024-04-30   3069.918299  26291.552966  1643.925374  13356.997194   \n",
       "\n",
       "           stETH          rETH        USDC     Cover Re     aEthWETH  \\\n",
       "5   33623.618159  14795.686450    1.274981  3187.407884  9343.003483   \n",
       "6   33620.602905  14795.279748    1.276138  3190.300731  9342.627698   \n",
       "7   33617.623023  14798.960869    1.262029  3155.028058  9342.257346   \n",
       "8   33614.722311  14796.413023    1.245253  3113.089229  9341.914320   \n",
       "9   33611.757101  14791.820382    1.228849  3072.079773  9341.557796   \n",
       "10  33608.901536  14788.725058    1.262200  3155.455361  9341.207628   \n",
       "11  33606.178677  14789.143027    1.282098  3205.199448  9340.843772   \n",
       "12  33603.397467  14791.515844    1.287388  3218.425871  9340.476737   \n",
       "13  33599.496783  14782.611821    1.265181  3162.909784  9340.152590   \n",
       "14  33596.561158  14799.739213  456.817000     0.000000     0.000000   \n",
       "15  33593.633350  14772.639603  459.935545     0.000000     0.000000   \n",
       "16  33590.013076  14765.692319  537.251667     0.000000     0.000000   \n",
       "17  33587.364348  14783.062524  553.103341     0.000000     0.000000   \n",
       "18  33584.740795  14777.575031  550.045463     0.000000     0.000000   \n",
       "19  33582.187784  14774.976404  564.582792     0.000000     0.000000   \n",
       "20  33579.515920  14775.948205  574.057362     0.000000     0.000000   \n",
       "21  33576.718181  14774.843700  581.725054     0.000000     0.000000   \n",
       "22  33573.962795  14774.630398  588.288623     0.000000     0.000000   \n",
       "23  33571.124537  14766.012853  582.297063     0.000000     0.000000   \n",
       "24  33568.469728  14771.192568  585.399100     0.000000     0.000000   \n",
       "25  33565.885258  14770.364239  587.207722     0.000000     0.000000   \n",
       "26  33563.225742  14772.917892  574.026492     0.000000     0.000000   \n",
       "27  33560.529817  14771.211794  571.208403     0.000000     0.000000   \n",
       "28  33557.855295  14773.798203  570.215885     0.000000     0.000000   \n",
       "29  33555.140479  14790.083408  557.834334     0.000000     0.000000   \n",
       "30  33552.455448  14771.238164  547.920198     0.000000     0.000000   \n",
       "31  33549.802933  14764.312090  547.884598     0.000000     0.000000   \n",
       "32  33547.204414  14763.552113  548.819561     0.000000     0.000000   \n",
       "33  33544.449883  14762.935082  564.613473     0.000000     0.000000   \n",
       "34  33541.754930  14764.548343  578.162384     0.000000     0.000000   \n",
       "35  33538.905168  14769.488691  583.347238     0.000000     0.000000   \n",
       "36  33535.865479  14766.459980  558.291909     0.000000     0.000000   \n",
       "\n",
       "    variableDebtEthUSDC           sum   Aave (net)  \n",
       "5          -1651.115935  87062.105703  7691.887548  \n",
       "6          -1652.111208  87125.167548  7690.516490  \n",
       "7          -1633.380843  87199.187439  7708.876503  \n",
       "8          -1611.143786  87276.856160  7730.770535  \n",
       "9          -1589.538164  87320.936112  7752.019631  \n",
       "10         -1632.286277  87483.911008  7708.921351  \n",
       "11         -1657.620753  87599.038787  7683.223019  \n",
       "12         -1664.060905  87667.321654  7676.415832  \n",
       "13         -1634.893145  87730.950386  7705.259445  \n",
       "14            -0.000000  87873.707096     0.000000  \n",
       "15            -0.000000  87978.902945     0.000000  \n",
       "16            -0.000000  88393.464395     0.000000  \n",
       "17            -0.000000  88599.609248     0.000000  \n",
       "18            -0.000000  88657.332944     0.000000  \n",
       "19            -0.000000  88769.241084     0.000000  \n",
       "20            -0.000000  88921.454491     0.000000  \n",
       "21            -0.000000  89044.898060     0.000000  \n",
       "22            -0.000000  89127.862753     0.000000  \n",
       "23            -0.000000  89169.738408     0.000000  \n",
       "24            -0.000000  89341.822072     0.000000  \n",
       "25            -0.000000  89476.437867     0.000000  \n",
       "26            -0.000000  89474.792315     0.000000  \n",
       "27            -0.000000  89492.993895     0.000000  \n",
       "28            -0.000000  89590.885287     0.000000  \n",
       "29            -0.000000  89629.497829     0.000000  \n",
       "30            -0.000000  89656.738433     0.000000  \n",
       "31            -0.000000  89730.790865     0.000000  \n",
       "32            -0.000000  89817.505608     0.000000  \n",
       "33            -0.000000  89964.820236     0.000000  \n",
       "34            -0.000000  90073.682007     0.000000  \n",
       "35            -0.000000  90206.726289     0.000000  \n",
       "36            -0.000000  90153.092902     0.000000  "
      ]
     },
     "execution_count": 10,
     "metadata": {},
     "output_type": "execute_result"
    }
   ],
   "source": [
    "df_cap.loc[(df_cap['day'] <= valn_date) & (df_cap['day'] >= eom_before_valn_date)]"
   ]
  },
  {
   "cell_type": "markdown",
   "id": "b95f519c",
   "metadata": {},
   "source": [
    "## Pie Chart of Assets at Valuation Date"
   ]
  },
  {
   "cell_type": "code",
   "execution_count": 11,
   "id": "ff85e094",
   "metadata": {
    "ExecuteTime": {
     "end_time": "2024-06-05T11:57:25.500140Z",
     "start_time": "2024-06-05T11:57:25.248897Z"
    }
   },
   "outputs": [
    {
     "data": {
      "image/png": "[encoded data removed]",
      "text/plain": [
       "<Figure size 640x480 with 1 Axes>"
      ]
     },
     "metadata": {},
     "output_type": "display_data"
    }
   ],
   "source": [
    "# pie chart of assets\n",
    "asset_list = ['ETH', 'DAI', 'stETH', 'rETH', 'Enzyme', 'Cover Re', 'Aave (net)', 'USDC']\n",
    "valn_date_row = df_cap.loc[df_cap['day'] == valn_date][asset_list]\n",
    "\n",
    "# add formatted ETH values to labels\n",
    "labels = []\n",
    "for n, i in enumerate(asset_list):\n",
    "    formatted_value = '{:,.0f}'.format(valn_date_row.values[0][n])\n",
    "    labels.append(f'{i} - {formatted_value}')\n",
    "\n",
    "# create chart\n",
    "plt.pie(valn_date_row.values[0], labels=labels, autopct='%1.2f%%')\n",
    "plt.title(f'{valn_date_str} Capital Pool Split in ETH');"
   ]
  },
  {
   "cell_type": "markdown",
   "id": "210d6c9b",
   "metadata": {},
   "source": [
    "## Monthly Changes in Capital Pool"
   ]
  },
  {
   "cell_type": "markdown",
   "id": "580c9e0e",
   "metadata": {},
   "source": [
    "### RAMM Net Withdrawals"
   ]
  },
  {
   "cell_type": "code",
   "execution_count": 12,
   "id": "f55a9ce8",
   "metadata": {
    "ExecuteTime": {
     "end_time": "2024-06-05T11:57:29.873805Z",
     "start_time": "2024-06-05T11:57:29.804653Z"
    }
   },
   "outputs": [
    {
     "data": {
      "text/plain": [
       "-2860.5967324089215"
      ]
     },
     "execution_count": 12,
     "metadata": {},
     "output_type": "execute_result"
    }
   ],
   "source": [
    "# RAMM Net Withdrawals\n",
    "df_ramm = ramm_volume_result\n",
    "\n",
    "# change timestamp to datetime format and normalise all dates to midnight\n",
    "df_ramm['ts'] = pd.to_datetime(df_ramm['ts']).dt.floor('D')\n",
    "\n",
    "# group by date, take the latest value and re-sort into descending order\n",
    "df_ramm = df_ramm.groupby(by=df_ramm['ts'].dt.date, as_index=False).first().\\\n",
    "            sort_values(['ts'], ascending=False).reset_index(drop=True)\n",
    "\n",
    "# determine net ramm flows 30 days before and on the valuation date by subtracting redemptions from mints\n",
    "ramm_flows_monthly_opening = df_ramm.loc[df_ramm['ts'] == eom_before_valn_date]['cummulative_eth_in'].values[0] - df_ramm.loc[df_ramm['ts'] == eom_before_valn_date]['cummulative_eth_out'].values[0]\n",
    "ramm_flows_monthly_closing = df_ramm.loc[df_ramm['ts'] == valn_date]['cummulative_eth_in'].values[0] - df_ramm.loc[df_ramm['ts'] == valn_date]['cummulative_eth_out'].values[0]\n",
    "\n",
    "# determine net flows from ramm in 30 days before valuation date \n",
    "ramm_flow_monthly_change = ramm_flows_monthly_closing - ramm_flows_monthly_opening\n",
    "ramm_flow_monthly_change"
   ]
  },
  {
   "cell_type": "markdown",
   "id": "657486ee",
   "metadata": {},
   "source": [
    "### Cover Fees"
   ]
  },
  {
   "cell_type": "code",
   "execution_count": 13,
   "id": "99c09c5f",
   "metadata": {
    "ExecuteTime": {
     "end_time": "2024-06-05T11:57:32.838599Z",
     "start_time": "2024-06-05T11:57:32.726033Z"
    }
   },
   "outputs": [
    {
     "name": "stdout",
     "output_type": "stream",
     "text": [
      "ETH Cover Fees = 22.706859595283788\n",
      "DAI Cover Fees = 19.084634753500968\n",
      "Total Cover Fees = 41.79149434878475\n"
     ]
    }
   ],
   "source": [
    "df_covers = covers_list_result\n",
    "net_of_commission_ratio = 0.85\n",
    "eth_usd_closing = df_cap.loc[df_cap['day'] == valn_date]['rate_ETH_USD'].values[0]\n",
    "\n",
    "# change timestamp to datetime format and normalise all dates to midnight\n",
    "df_covers['cover_start_time'] = pd.to_datetime(df_covers['cover_start_time']).dt.floor('D').dt.tz_localize(None)\n",
    "\n",
    "# filter for covers that were bought the month of the valn date\n",
    "df_covers_30_days = df_covers[(df_covers['cover_start_time'] > eom_before_valn_date) & (df_covers['cover_start_time']<=valn_date)]\n",
    "\n",
    "# filter for covers that were paid for in ETH\n",
    "df_covers_30_days_eth = df_covers_30_days[df_covers_30_days['premium_asset'] == 'ETH']\n",
    "# work out cover fees denominated in ETH, allowing for 15% commission\n",
    "monthly_cover_fees_eth = df_covers_30_days_eth['premium_native'].sum() * net_of_commission_ratio\n",
    "print(f'ETH Cover Fees = {monthly_cover_fees_eth}')\n",
    "\n",
    "# filter for covers that were paid for in DAI\n",
    "df_covers_30_days_dai = df_covers_30_days[df_covers_30_days['premium_asset'] == 'DAI']\n",
    "# work out cover fees denominated in ETH, allowing for 15% commission\n",
    "monthly_cover_fees_dai = df_covers_30_days_dai['premium_native'].sum() * net_of_commission_ratio\n",
    "monthly_cover_fees_dai_in_eth = monthly_cover_fees_dai / eth_usd_closing\n",
    "print(f'DAI Cover Fees = {monthly_cover_fees_dai_in_eth}')\n",
    "\n",
    "monthly_cover_fees = monthly_cover_fees_eth + monthly_cover_fees_dai_in_eth\n",
    "print(f'Total Cover Fees = {monthly_cover_fees}')"
   ]
  },
  {
   "cell_type": "markdown",
   "id": "d586e094",
   "metadata": {},
   "source": [
    "### FX Impacts"
   ]
  },
  {
   "cell_type": "code",
   "execution_count": 14,
   "id": "fb00444b",
   "metadata": {
    "ExecuteTime": {
     "end_time": "2024-06-05T11:57:34.866006Z",
     "start_time": "2024-06-05T11:57:34.849553Z"
    }
   },
   "outputs": [
    {
     "name": "stdout",
     "output_type": "stream",
     "text": [
      "DAI FX Impact = -304.5641110352801\n"
     ]
    }
   ],
   "source": [
    "# exchange rate changes\n",
    "eth_usd_opening = df_cap.loc[df_cap['day'] == eom_before_valn_date]['rate_ETH_USD'].values[0]\n",
    "\n",
    "# get net monthly change from opening DAI\n",
    "dai_monthly_opening = df_cap.loc[df_cap['day'] == eom_before_valn_date]['DAI'].values[0]\n",
    "\n",
    "# dai_monthly_closing = df_cap.loc[df_cap['day'] == valn_date]['DAI'].values[0]\n",
    "# dai_monthly_closing_less_fees = dai_monthly_closing - monthly_cover_fees_dai_in_eth\n",
    "\n",
    "# # allow for withdrawals\n",
    "# dai_withdrawals_eth = dai_cover_re_withdrawals / eth_usd_opening\n",
    "\n",
    "# dai_change = dai_monthly_opening - dai_withdrawals_eth - dai_monthly_closing_less_fees\n",
    "dai_fx_change = dai_monthly_opening * eth_usd_opening / eth_usd_closing - dai_monthly_opening\n",
    "\n",
    "print(f'DAI FX Impact = {dai_fx_change}')"
   ]
  },
  {
   "cell_type": "code",
   "execution_count": 15,
   "id": "2276bd0e",
   "metadata": {
    "ExecuteTime": {
     "end_time": "2024-06-05T11:57:36.054116Z",
     "start_time": "2024-06-05T11:57:36.043935Z"
    }
   },
   "outputs": [
    {
     "name": "stdout",
     "output_type": "stream",
     "text": [
      "USDC FX Impact = -103.43272362974147\n"
     ]
    }
   ],
   "source": [
    "usdc_monthly_opening = df_cap.loc[df_cap['day'] == eom_before_valn_date]['USDC'].values[0]\n",
    "\n",
    "usdc_fx_change = usdc_monthly_opening * eth_usd_opening / eth_usd_closing - usdc_monthly_opening\n",
    "\n",
    "print(f'USDC FX Impact = {usdc_fx_change}')"
   ]
  },
  {
   "cell_type": "markdown",
   "id": "b6bfce7a",
   "metadata": {},
   "source": [
    "#### TEMPORARY For New Investment - FX Impacts Allowing for Cover Re investment\n",
    "\n",
    "Next time treat Cover Re, Aave Debt, USDC and DAI as per above."
   ]
  },
  {
   "cell_type": "code",
   "execution_count": 16,
   "id": "0edc0a23",
   "metadata": {
    "ExecuteTime": {
     "end_time": "2024-06-05T11:57:38.124622Z",
     "start_time": "2024-06-05T11:57:38.115893Z"
    }
   },
   "outputs": [],
   "source": [
    "cover_re_date_str = '23-05-2024'\n",
    "cover_re_date = datetime.strptime(cover_re_date_str, '%d-%m-%Y')\n",
    "eth_usd_cover_re_date = df_cap.loc[df_cap['day'] == cover_re_date]['rate_ETH_USD'].values[0]"
   ]
  },
  {
   "cell_type": "code",
   "execution_count": 17,
   "id": "b82b8b29",
   "metadata": {
    "ExecuteTime": {
     "end_time": "2024-06-05T11:57:38.512966Z",
     "start_time": "2024-06-05T11:57:38.500689Z"
    }
   },
   "outputs": [
    {
     "name": "stdout",
     "output_type": "stream",
     "text": [
      "USDC FX Impact Pre Cover Re = -106.85639768398295\n",
      "USDC FX Impact Post Cover Re = 0.009595099938464413\n"
     ]
    }
   ],
   "source": [
    "# USDC Split into before and after Cover Re\n",
    "usdc_monthly_opening = df_cap.loc[df_cap['day'] == eom_before_valn_date]['USDC'].values[0]\n",
    "usdc_cover_re_opening = df_cap.loc[df_cap['day'] == cover_re_date]['USDC'].values[0]\n",
    "# Before Cover Re\n",
    "usdc_fx_change_pre_cover_re = usdc_monthly_opening * eth_usd_opening / eth_usd_cover_re_date - usdc_monthly_opening\n",
    "print(f'USDC FX Impact Pre Cover Re = {usdc_fx_change_pre_cover_re}')\n",
    "# After Cover Re\n",
    "usdc_fx_change_post_cover_re = usdc_cover_re_opening * eth_usd_cover_re_date / eth_usd_closing - usdc_cover_re_opening\n",
    "print(f'USDC FX Impact Post Cover Re = {usdc_fx_change_post_cover_re}')"
   ]
  },
  {
   "cell_type": "code",
   "execution_count": 18,
   "id": "e7a72d1b",
   "metadata": {
    "ExecuteTime": {
     "end_time": "2024-06-05T11:57:39.920673Z",
     "start_time": "2024-06-05T11:57:39.906266Z"
    }
   },
   "outputs": [
    {
     "name": "stdout",
     "output_type": "stream",
     "text": [
      "DAI FX Impact Pre Cover Re = -314.64533299494997\n",
      "DAI FX Impact Post Cover Re = 1.9912078346272892\n"
     ]
    }
   ],
   "source": [
    "# DAI Split into before and after Cover Re\n",
    "dai_monthly_opening = df_cap.loc[df_cap['day'] == eom_before_valn_date]['DAI'].values[0]\n",
    "dai_cover_re_opening = df_cap.loc[df_cap['day'] == cover_re_date]['DAI'].values[0]\n",
    "# Before Cover Re\n",
    "dai_fx_change_pre_cover_re = dai_monthly_opening * eth_usd_opening / eth_usd_cover_re_date - dai_monthly_opening\n",
    "print(f'DAI FX Impact Pre Cover Re = {dai_fx_change_pre_cover_re}')\n",
    "# After Cover Re\n",
    "dai_fx_change_post_cover_re = dai_cover_re_opening * eth_usd_cover_re_date / eth_usd_closing - dai_cover_re_opening\n",
    "print(f'DAI FX Impact Post Cover Re = {dai_fx_change_post_cover_re}')"
   ]
  },
  {
   "cell_type": "code",
   "execution_count": 19,
   "id": "995eab26",
   "metadata": {
    "ExecuteTime": {
     "end_time": "2024-06-05T11:57:40.435595Z",
     "start_time": "2024-06-05T11:57:40.422713Z"
    }
   },
   "outputs": [
    {
     "name": "stdout",
     "output_type": "stream",
     "text": [
      "Cover Re FX Impact = 23.987417695385375\n"
     ]
    }
   ],
   "source": [
    "# Cover Re FX impact\n",
    "cover_re_opening = df_cap.loc[df_cap['day'] == cover_re_date]['Cover Re'].values[0]\n",
    "\n",
    "# FX Impact\n",
    "cover_re_fx_change = cover_re_opening * eth_usd_cover_re_date / eth_usd_closing - cover_re_opening\n",
    "print(f'Cover Re FX Impact = {cover_re_fx_change}')"
   ]
  },
  {
   "cell_type": "code",
   "execution_count": 20,
   "id": "16e4ac15",
   "metadata": {
    "ExecuteTime": {
     "end_time": "2024-06-05T11:57:41.742872Z",
     "start_time": "2024-06-05T11:57:41.729978Z"
    }
   },
   "outputs": [
    {
     "name": "stdout",
     "output_type": "stream",
     "text": [
      "debtUSDC FX Impact = -12.398983033101558\n"
     ]
    }
   ],
   "source": [
    "# debtUSDC FX impact\n",
    "debtUSDC_opening = df_cap.loc[df_cap['day'] == cover_re_date]['variableDebtEthUSDC'].values[0]\n",
    "\n",
    "# FX Impact\n",
    "debtUSDC_fx_change = debtUSDC_opening * eth_usd_cover_re_date / eth_usd_closing - debtUSDC_opening\n",
    "print(f'debtUSDC FX Impact = {debtUSDC_fx_change}')"
   ]
  },
  {
   "cell_type": "code",
   "execution_count": 21,
   "id": "91b26243",
   "metadata": {
    "ExecuteTime": {
     "end_time": "2024-06-05T11:57:42.198986Z",
     "start_time": "2024-06-05T11:57:42.190363Z"
    }
   },
   "outputs": [
    {
     "name": "stdout",
     "output_type": "stream",
     "text": [
      "Total FX Impact = -407.91249308208336\n"
     ]
    }
   ],
   "source": [
    "# Total FX Impacts\n",
    "fx_change = dai_fx_change_pre_cover_re + dai_fx_change_post_cover_re + \\\n",
    "            usdc_fx_change_pre_cover_re + usdc_fx_change_post_cover_re + \\\n",
    "            cover_re_fx_change + debtUSDC_fx_change\n",
    "\n",
    "print(f'Total FX Impact = {fx_change}')"
   ]
  },
  {
   "cell_type": "markdown",
   "id": "792f1503",
   "metadata": {},
   "source": [
    "## Monthly Returns on Investments"
   ]
  },
  {
   "cell_type": "code",
   "execution_count": 22,
   "id": "fb570949",
   "metadata": {
    "ExecuteTime": {
     "end_time": "2024-06-05T11:57:45.715405Z",
     "start_time": "2024-06-05T11:57:45.690279Z"
    }
   },
   "outputs": [
    {
     "name": "stdout",
     "output_type": "stream",
     "text": [
      "stETH Monthly APY: 3.186%\n",
      "stETH Monthly Return: 87.753\n",
      "rETH Monthly APY: 2.401%\n",
      "rETH Monthly Return: 29.226\n",
      "Enzyme Monthly APY: 1.502%; Kiln Portion Monthly APY: 3.132%\n",
      "Kiln Monthly Return: 18.248\n"
     ]
    }
   ],
   "source": [
    "# Full Monthly Returns\n",
    "\n",
    "# ETH denominated monthly returns on individual investments\n",
    "\n",
    "# stETH metrics in ETH\n",
    "stETH_monthly_opening = df_cap.loc[df_cap['day'] == eom_before_valn_date]['stETH'].values[0]\n",
    "stETH_closing = df_cap.loc[df_cap['day'] == valn_date]['stETH'].values[0]\n",
    "stETH_monthly_return = stETH_closing - stETH_monthly_opening\n",
    "# stETH monthly percentage\n",
    "stETH_monthly_percentage = stETH_monthly_return / stETH_monthly_opening\n",
    "# stETH annualised return last month\n",
    "stETH_monthly_APY = (1 + stETH_monthly_percentage) ** 12 - 1\n",
    "print(f'stETH Monthly APY: {round(stETH_monthly_APY * 100, 3)}%')\n",
    "print(f'stETH Monthly Return: {round(stETH_monthly_return, 3)}')\n",
    "\n",
    "# rETH metrics in ETH\n",
    "rETH_monthly_opening = df_cap.loc[df_cap['day'] == eom_before_valn_date]['rETH'].values[0]\n",
    "rETH_closing = df_cap.loc[df_cap['day'] == valn_date]['rETH'].values[0]\n",
    "rETH_monthly_return = rETH_closing - rETH_monthly_opening\n",
    "# rETH monthly percentage\n",
    "rETH_monthly_percentage = rETH_monthly_return / rETH_monthly_opening\n",
    "# rETH annualised return last month\n",
    "rETH_monthly_APY = (1 + rETH_monthly_percentage) ** 12 - 1\n",
    "print(f'rETH Monthly APY: {round(rETH_monthly_APY * 100, 3)}%')\n",
    "print(f'rETH Monthly Return: {round(rETH_monthly_return, 3)}')\n",
    "\n",
    "## Enzyme\n",
    "Enzyme_fee = 0.0015\n",
    "# Enzyme overall metrics in ETH\n",
    "Enzyme_monthly_opening = df_cap.loc[df_cap['day'] == eom_before_valn_date]['Enzyme'].values[0]\n",
    "Enzyme_closing = df_cap.loc[df_cap['day'] == valn_date]['Enzyme'].values[0]\n",
    "Enzyme_monthly_return = Enzyme_closing - Enzyme_monthly_opening\n",
    "# Enzyme monthly percentage\n",
    "Enzyme_monthly_percentage = Enzyme_monthly_return / Enzyme_monthly_opening\n",
    "# Enzyme annualised return last month\n",
    "Enzyme_monthly_APY = (1 + Enzyme_monthly_percentage) ** 12 - 1\n",
    "Enzyme_monthly_APY_after_fees = Enzyme_monthly_APY - Enzyme_fee\n",
    "    \n",
    "# Kiln standalone metrics in ETH\n",
    "Kiln_monthly_opening = Enzyme_monthly_opening - Enzyme_idle_portion\n",
    "Kiln_closing = Enzyme_closing - Enzyme_idle_portion\n",
    "Kiln_monthly_return = Kiln_closing - Kiln_monthly_opening\n",
    "# Kiln monthly percentage\n",
    "Kiln_monthly_percentage = Kiln_monthly_return / Kiln_monthly_opening\n",
    "# Kiln annualised return last month\n",
    "Kiln_monthly_APY = (1 + Kiln_monthly_percentage) ** 12 - 1\n",
    "Kiln_monthly_APY_after_fees = Kiln_monthly_APY - Enzyme_fee\n",
    "\n",
    "print(f'Enzyme Monthly APY: {round(Enzyme_monthly_APY_after_fees * 100, 3)}%; Kiln Portion Monthly APY: {round(Kiln_monthly_APY_after_fees * 100, 3)}%')\n",
    "print(f'Kiln Monthly Return: {round(Kiln_monthly_return, 3)}')"
   ]
  },
  {
   "cell_type": "code",
   "execution_count": 23,
   "id": "2891e8e6",
   "metadata": {
    "ExecuteTime": {
     "end_time": "2024-06-05T11:57:52.430329Z",
     "start_time": "2024-06-05T11:57:52.404297Z"
    }
   },
   "outputs": [
    {
     "name": "stdout",
     "output_type": "stream",
     "text": [
      "aEthWETH APY: 1.403%\n",
      "aEthWETH Return: 2.851\n",
      "debtUSDC APY: 11.255%\n",
      "debtUSDC Return: -3.824\n",
      "Aave Net APY: -0.474%\n",
      "Aave Net Return: -0.973\n"
     ]
    }
   ],
   "source": [
    "# Partial Returns\n",
    "\n",
    "# aEthWETH metrics in ETH\n",
    "aEthWETH_opening = df_cap.loc[df_cap['day'] == cover_re_date]['aEthWETH'].values[0]\n",
    "aEthWETH_closing = df_cap.loc[df_cap['day'] == valn_date]['aEthWETH'].values[0]\n",
    "aEthWETH_return = aEthWETH_closing - aEthWETH_opening\n",
    "\n",
    "# days active\n",
    "aEthWETH_active_days = (valn_date - cover_re_date) / timedelta(days=1)\n",
    "\n",
    "# aEthWETH monthly percentage\n",
    "aEthWETH_monthly_percentage = (1 + aEthWETH_return / aEthWETH_opening) ** (avg_days_in_month / aEthWETH_active_days) - 1\n",
    "# aEthWETH annualised return last month\n",
    "aEthWETH_APY = (1 + aEthWETH_monthly_percentage) ** 12 - 1\n",
    "print(f'aEthWETH APY: {round(aEthWETH_APY * 100, 3)}%')\n",
    "print(f'aEthWETH Return: {round(aEthWETH_return, 3)}')\n",
    "\n",
    "# debtUSDC metrics in ETH\n",
    "debtUSDC_opening = df_cap.loc[df_cap['day'] == cover_re_date]['variableDebtEthUSDC'].values[0]\n",
    "debtUSDC_closing = df_cap.loc[df_cap['day'] == valn_date]['variableDebtEthUSDC'].values[0]\n",
    "debtUSDC_return = debtUSDC_closing - (debtUSDC_opening + debtUSDC_fx_change)\n",
    "\n",
    "# days active\n",
    "debtUSDC_active_days = (valn_date - cover_re_date) / timedelta(days=1)\n",
    "\n",
    "# debtUSDC monthly percentage\n",
    "debtUSDC_monthly_percentage = (1 + debtUSDC_return / debtUSDC_opening) ** (avg_days_in_month / debtUSDC_active_days) - 1\n",
    "# debtUSDC annualised return last month\n",
    "debtUSDC_APY = (1 + debtUSDC_monthly_percentage) ** 12 - 1\n",
    "print(f'debtUSDC APY: {round(debtUSDC_APY * 100, 3)}%')\n",
    "print(f'debtUSDC Return: {round(debtUSDC_return, 3)}')\n",
    "\n",
    "# Aave Net\n",
    "aave_net_return = aEthWETH_return + debtUSDC_return\n",
    "\n",
    "# Aave net monthly percentage\n",
    "aave_net_monthly_percentage = (1 + aave_net_return / aEthWETH_opening) ** (avg_days_in_month / aEthWETH_active_days) - 1\n",
    "# Aave net annualised return last month\n",
    "aave_net_APY = (1 + aave_net_monthly_percentage) ** 12 - 1\n",
    "print(f'Aave Net APY: {round(aave_net_APY * 100, 3)}%')\n",
    "print(f'Aave Net Return: {round(aave_net_return, 3)}')"
   ]
  },
  {
   "cell_type": "code",
   "execution_count": 24,
   "id": "58aece89",
   "metadata": {
    "ExecuteTime": {
     "end_time": "2024-06-05T11:57:54.439857Z",
     "start_time": "2024-06-05T11:57:54.059007Z"
    }
   },
   "outputs": [
    {
     "name": "stderr",
     "output_type": "stream",
     "text": [
      "/tmp/ipykernel_651/2706178178.py:17: UserWarning: set_ticklabels() should only be used with a fixed number of ticks, i.e. after set_ticks() or using a FixedLocator.\n",
      "  axs[0].set_yticklabels(['{:,.1%}'.format(x) for x in tick_vals])\n"
     ]
    },
    {
     "data": {
      "image/png": "[encoded data removed]",
      "text/plain": [
       "<Figure size 1000x500 with 2 Axes>"
      ]
     },
     "metadata": {},
     "output_type": "display_data"
    }
   ],
   "source": [
    "# MONTHLY RETURN GRAPHS FOR INDIVIDUAL INVESTMENTS\n",
    "\n",
    "labels = ['stETH', 'rETH', 'Kiln', 'Aave (net)']\n",
    "colors = ['#00a3ff', '#f26e34', '#202020', '#b6509e']\n",
    "\n",
    "# Destructuring initialization\n",
    "fig, axs = plt.subplots(1, 2, figsize=(10,5))\n",
    "fig.suptitle(f'Investment Monthly Returns', fontsize=16)\n",
    "fig.tight_layout()\n",
    "fig.subplots_adjust(top=0.88)\n",
    "\n",
    "# Subplot\n",
    "axs[0].bar(labels, [stETH_monthly_APY, rETH_monthly_APY, Kiln_monthly_APY_after_fees, aave_net_APY], color=colors)\n",
    "axs[0].set_title('APY')\n",
    "axs[0].set_ylabel('APY')\n",
    "tick_vals = axs[0].get_yticks()\n",
    "axs[0].set_yticklabels(['{:,.1%}'.format(x) for x in tick_vals])\n",
    "\n",
    "# Subplot\n",
    "axs[1].bar(labels, [stETH_monthly_return, rETH_monthly_return, Kiln_monthly_return*(1-0.0015), aave_net_return], color=colors);\n",
    "axs[1].set_title('Absolute Return')\n",
    "axs[1].set_ylabel('ETH')\n",
    "\n",
    "plt.show();"
   ]
  },
  {
   "cell_type": "code",
   "execution_count": 25,
   "id": "ae93d401",
   "metadata": {
    "ExecuteTime": {
     "end_time": "2024-06-05T11:57:56.011452Z",
     "start_time": "2024-06-05T11:57:55.994949Z"
    }
   },
   "outputs": [
    {
     "name": "stdout",
     "output_type": "stream",
     "text": [
      "Total Monthly APY: 1.833%\n",
      "Based on average Capital Pool amount over the monthly period\n",
      "Total ETH Earned: 134.254\n"
     ]
    }
   ],
   "source": [
    "# Total Monthly APY on the Capital Pool\n",
    "\n",
    "# Total ETH earned\n",
    "total_monthly_inv_earnings = round(stETH_monthly_return + rETH_monthly_return + Kiln_monthly_return + aave_net_return, 3)\n",
    "\n",
    "# averaging the total ETH value of capital pool over the monthly period\n",
    "total_cap_monthly_opening = df_cap.loc[df_cap['day'] == eom_before_valn_date]['sum'].values[0]\n",
    "total_cap_monthly_closing = df_cap.loc[df_cap['day'] == valn_date]['sum'].values[0]\n",
    "avg_total_cap_pool = (total_cap_monthly_closing + total_cap_monthly_opening) / 2\n",
    "\n",
    "# monthly apy based on total earning\n",
    "total_monthly_percentage = total_monthly_inv_earnings / avg_total_cap_pool\n",
    "total_monthly_APY = ((1 + total_monthly_percentage) ** 12 - 1)\n",
    "\n",
    "print(f'Total Monthly APY: {round(total_monthly_APY * 100, 3)}%')\n",
    "print('Based on average Capital Pool amount over the monthly period')\n",
    "print(f'Total ETH Earned: {total_monthly_inv_earnings}')"
   ]
  },
  {
   "cell_type": "code",
   "execution_count": 26,
   "id": "8f17ffb5",
   "metadata": {
    "ExecuteTime": {
     "end_time": "2024-06-05T11:57:58.696864Z",
     "start_time": "2024-06-05T11:57:58.683694Z"
    }
   },
   "outputs": [
    {
     "name": "stdout",
     "output_type": "stream",
     "text": [
      "stETH Monthly Return: 87.753\n",
      "stETH Monthly APY: 3.186%\n",
      "\n",
      "rETH Monthly Return: 29.226\n",
      "rETH Monthly APY: 2.401%\n",
      "\n",
      "Kiln Monthly Return: 18.248\n",
      "Enzyme Monthly APY: 1.502%; Kiln Portion Monthly APY: 3.132%\n",
      "\n",
      "aEthWETH Return: 2.851\n",
      "aEthWETH APY: 1.403%\n",
      "debtUSDC Return: -3.824\n",
      "debtUSDC APY: 11.255%\n",
      "Aave Net Return: -0.973\n",
      "Aave Net APY: -0.474%\n",
      "\n",
      "Total ETH Earned: 134.254\n",
      "Total Monthly APY: 1.833%\n",
      "Based on average Capital Pool amount over the monthly period\n",
      "\n",
      "All returns after fees\n"
     ]
    }
   ],
   "source": [
    "# Printout\n",
    "\n",
    "print(f'stETH Monthly Return: {round(stETH_monthly_return, 3)}')\n",
    "print(f'stETH Monthly APY: {round(stETH_monthly_APY * 100, 3)}%\\n')\n",
    "print(f'rETH Monthly Return: {round(rETH_monthly_return, 3)}')\n",
    "print(f'rETH Monthly APY: {round(rETH_monthly_APY * 100, 3)}%\\n')\n",
    "print(f'Kiln Monthly Return: {round(Kiln_monthly_return, 3)}')\n",
    "print(f'Enzyme Monthly APY: {round(Enzyme_monthly_APY_after_fees * 100, 3)}%; Kiln Portion Monthly APY: {round(Kiln_monthly_APY_after_fees * 100, 3)}%\\n')\n",
    "print(f'aEthWETH Return: {round(aEthWETH_return, 3)}')\n",
    "print(f'aEthWETH APY: {round(aEthWETH_APY * 100, 3)}%')\n",
    "print(f'debtUSDC Return: {round(debtUSDC_return, 3)}')\n",
    "print(f'debtUSDC APY: {round(debtUSDC_APY * 100, 3)}%')\n",
    "print(f'Aave Net Return: {round(aave_net_return, 3)}')\n",
    "print(f'Aave Net APY: {round(aave_net_APY * 100, 3)}%\\n')\n",
    "print(f'Total ETH Earned: {total_monthly_inv_earnings}')\n",
    "print(f'Total Monthly APY: {round(total_monthly_APY * 100, 3)}%')\n",
    "print('Based on average Capital Pool amount over the monthly period\\n')\n",
    "\n",
    "print ('All returns after fees')"
   ]
  },
  {
   "cell_type": "markdown",
   "id": "e3bba312",
   "metadata": {},
   "source": [
    "## Monthly Changes in Capital Pool "
   ]
  },
  {
   "cell_type": "code",
   "execution_count": 27,
   "id": "87b4c553",
   "metadata": {
    "ExecuteTime": {
     "end_time": "2024-06-05T11:58:08.621315Z",
     "start_time": "2024-06-05T11:58:08.248206Z"
    }
   },
   "outputs": [
    {
     "name": "stderr",
     "output_type": "stream",
     "text": [
      "/tmp/ipykernel_651/875067302.py:30: UserWarning: set_ticklabels() should only be used with a fixed number of ticks, i.e. after set_ticks() or using a FixedLocator.\n",
      "  waterfall_plot.set_yticklabels(['{:,.0f}'.format(x) for x in tick_vals])\n",
      "/tmp/ipykernel_651/875067302.py:41: FutureWarning: Series.__getitem__ treating keys as positions is deprecated. In a future version, integer keys will always be treated as labels (consistent with DataFrame behavior). To access a value by position, use `ser.iloc[pos]`\n",
      "  y = y_height[loop] + row['amount']\n",
      "/home/rei/.pyenv/versions/3.10.6/envs/investment_monitoring/lib/python3.10/site-packages/matplotlib/text.py:1463: FutureWarning: Calling float on a single element Series is deprecated and will raise a TypeError in the future. Use float(ser.iloc[0]) instead\n",
      "  y = float(self.convert_yunits(y))\n",
      "/home/rei/.pyenv/versions/3.10.6/envs/investment_monitoring/lib/python3.10/site-packages/matplotlib/text.py:754: FutureWarning: Calling float on a single element Series is deprecated and will raise a TypeError in the future. Use float(ser.iloc[0]) instead\n",
      "  posy = float(self.convert_yunits(self._y))\n",
      "/home/rei/.pyenv/versions/3.10.6/envs/investment_monitoring/lib/python3.10/site-packages/matplotlib/text.py:895: FutureWarning: Calling float on a single element Series is deprecated and will raise a TypeError in the future. Use float(ser.iloc[0]) instead\n",
      "  y = float(self.convert_yunits(self._y))\n"
     ]
    },
    {
     "data": {
      "image/png": "[encoded data removed]",
      "text/plain": [
       "<Figure size 640x480 with 1 Axes>"
      ]
     },
     "metadata": {},
     "output_type": "display_data"
    }
   ],
   "source": [
    "# waterfall chart for changes in the capital pool\n",
    "\n",
    "# set limits on chart manually\n",
    "bottom = 84_000\n",
    "top = 91_000\n",
    "\n",
    "# create dataframe with relevant categories\n",
    "index = ['opening capital pool', 'cover fee income', 'investment returns', 'stablecoin impact', 'ramm net redemptions']\n",
    "data = {'amount': [total_cap_monthly_opening, monthly_cover_fees, total_monthly_inv_earnings, fx_change, ramm_flow_monthly_change]}\n",
    "df_waterfall = pd.DataFrame(data=data, index=index)\n",
    "\n",
    "# create a shifted dataframe by one space and fill the empty space with zero\n",
    "df_shift = df_waterfall.amount.cumsum().shift(1).fillna(0)\n",
    "\n",
    "# add the 'closing' line to both dataframes\n",
    "total = df_waterfall.sum().amount\n",
    "df_waterfall.loc['closing capital pool'] = total\n",
    "df_shift.loc['closing capital pool'] = 0\n",
    "\n",
    "# define the Nexus Mutual green color\n",
    "color = '#0AB682'\n",
    "\n",
    "# create waterfall plot\n",
    "waterfall_plot = df_waterfall.plot.bar(stacked=True, bottom=df_shift,\n",
    "                                   legend=None, color=color, title=f'{valn_date_str[-7:]} Capital Pool Waterfall')\n",
    "waterfall_plot.set_ylim(bottom=bottom, top=top)\n",
    "\n",
    "# change format of tick values\n",
    "tick_vals = waterfall_plot.get_yticks()\n",
    "waterfall_plot.set_yticklabels(['{:,.0f}'.format(x) for x in tick_vals])\n",
    "\n",
    "# label loop for individual items\n",
    "maximum = df_waterfall.max()\n",
    "neg_offset = maximum / 400\n",
    "pos_offset = maximum / 800\n",
    "\n",
    "y_height = df_shift\n",
    "\n",
    "loop = 0\n",
    "for index, row in df_waterfall.iterrows():\n",
    "    y = y_height[loop] + row['amount']\n",
    "    # determine negative or positive offset\n",
    "    if row['amount'] > 0:\n",
    "        y += pos_offset\n",
    "    else:\n",
    "        y -= neg_offset\n",
    "    waterfall_plot.annotate(\"{:,.0f}\".format(row['amount']), (loop, y), ha=\"center\")\n",
    "    loop+=1"
   ]
  },
  {
   "cell_type": "code",
   "execution_count": 28,
   "id": "f0dd7464",
   "metadata": {
    "ExecuteTime": {
     "end_time": "2024-06-05T11:58:23.679026Z",
     "start_time": "2024-06-05T11:58:23.670951Z"
    }
   },
   "outputs": [
    {
     "name": "stdout",
     "output_type": "stream",
     "text": [
      "Capital Pool Total Change - -3092.46\n",
      "Capital Pool Percentage Change - -3.43%\n"
     ]
    }
   ],
   "source": [
    "# Total change in capital pool\n",
    "capital_pool_change = df_waterfall.loc['closing capital pool'].values[0] - df_waterfall.loc['opening capital pool'].values[0]\n",
    "print(f'Capital Pool Total Change - {round(capital_pool_change, 2)}')\n",
    "print(f'Capital Pool Percentage Change - {round(100 * capital_pool_change / (df_waterfall.loc[\"opening capital pool\"].values[0]), 2)}%')"
   ]
  },
  {
   "cell_type": "markdown",
   "id": "b6513f9c",
   "metadata": {},
   "source": [
    "# Divestment Plan"
   ]
  },
  {
   "cell_type": "markdown",
   "id": "d22e9598",
   "metadata": {},
   "source": [
    "## Pie Chart of Assets Today"
   ]
  },
  {
   "cell_type": "code",
   "execution_count": 57,
   "id": "accbd19d",
   "metadata": {
    "ExecuteTime": {
     "end_time": "2024-06-04T16:01:16.288921Z",
     "start_time": "2024-06-04T16:01:16.074993Z"
    }
   },
   "outputs": [
    {
     "data": {
      "image/png": "[encoded data removed]",
      "text/plain": [
       "<Figure size 640x480 with 1 Axes>"
      ]
     },
     "metadata": {},
     "output_type": "display_data"
    }
   ],
   "source": [
    "# pie chart of assets\n",
    "asset_list = ['ETH', 'DAI', 'stETH', 'rETH', 'Enzyme']\n",
    "today_row = df_cap.iloc[0][asset_list]\n",
    "\n",
    "# add formatted ETH values to labels\n",
    "labels = []\n",
    "for n, i in enumerate(asset_list):\n",
    "    formatted_value = '{:,.0f}'.format(today_row.values[n])\n",
    "    labels.append(f'{i} - {formatted_value}')\n",
    "\n",
    "# create chart\n",
    "# extract latest date in string format\n",
    "today_date_str = df_cap.iloc[0]['day'].strftime('%d-%m-%Y')\n",
    "# create chart\n",
    "plt.pie(today_row.values, labels=labels, autopct='%1.2f%%')\n",
    "plt.title(f'{today_date_str} Capital Pool Split in ETH');"
   ]
  },
  {
   "cell_type": "markdown",
   "id": "38ac23c0",
   "metadata": {},
   "source": [
    "## Monthly Averages Since Start of 2024 "
   ]
  },
  {
   "cell_type": "code",
   "execution_count": 61,
   "id": "844332a5",
   "metadata": {
    "ExecuteTime": {
     "end_time": "2024-06-04T16:02:02.628012Z",
     "start_time": "2024-06-04T16:02:02.405350Z"
    }
   },
   "outputs": [],
   "source": [
    "# set dates\n",
    "\n",
    "day_today = datetime.now().day\n",
    "month_today = datetime.now().month\n",
    "year_today = datetime.now().year\n",
    "\n",
    "# extract latest date in string format\n",
    "today_date_str = df_cap.iloc[0]['day'].strftime('%d-%m-%Y')\n",
    "# get eth price today\n",
    "eth_price_params_today = {'date': today_date_str}\n",
    "eth_usd_today = requests.get(url, params=eth_price_params_today).json()['market_data']['current_price']['usd']\n",
    "\n",
    "# input start date\n",
    "averages_start_date_str = '01-08-2023'\n",
    "# create start datetime\n",
    "averages_start_date = datetime.strptime(averages_start_date_str, '%d-%m-%Y')"
   ]
  },
  {
   "cell_type": "code",
   "execution_count": 63,
   "id": "f5874d68",
   "metadata": {
    "ExecuteTime": {
     "end_time": "2024-06-04T16:02:31.297005Z",
     "start_time": "2024-06-04T16:02:31.204229Z"
    }
   },
   "outputs": [
    {
     "name": "stdout",
     "output_type": "stream",
     "text": [
      "Average monthly stETH returns = 98.15506824058976\n",
      "Average monthly rETH returns = 36.492883790833915\n",
      "Average monthly kiln returns = 22.115662469758067\n",
      "Average monthly net ETH cover fees = 3.3141284234282375\n",
      "Average monthly RAMM flows = -2975.093028385013\n"
     ]
    }
   ],
   "source": [
    "# loop through months since the start date and obtain averages\n",
    "\n",
    "date = averages_start_date\n",
    "ramm_flows = []\n",
    "net_eth_fees = []\n",
    "claim_ratio = 0.7\n",
    "stETH_returns = []\n",
    "rETH_returns = []\n",
    "\n",
    "while date < datetime(year_today, month_today, 1):\n",
    "    next_month = datetime(year = date.year + int(date.month / 12), month = (date.month % 12) + 1, day=date.day)\n",
    "    \n",
    "    # RAMM FLOWS\n",
    "    # determine net ramm flows in month in 2024\n",
    "    if date.year >= 2024:\n",
    "        ramm_flows_opening = df_ramm.loc[df_ramm['ts'] == date]['cummulative_eth_in'].values[0] - df_ramm.loc[df_ramm['ts'] == date]['cummulative_eth_out'].values[0]\n",
    "        ramm_flows_closing = df_ramm.loc[df_ramm['ts'] == next_month]['cummulative_eth_in'].values[0] - df_ramm.loc[df_ramm['ts'] == next_month]['cummulative_eth_out'].values[0]\n",
    "        ramm_flows_change = ramm_flows_closing - ramm_flows_opening\n",
    "        ramm_flows.append(ramm_flows_change)\n",
    "    \n",
    "    # COVERS\n",
    "    # filter for covers that were bought in the relevant month\n",
    "    df_cover_flows = df_covers[(df_covers['cover_start_time']>=date) & (df_covers['cover_start_time']<next_month)]\n",
    "\n",
    "    # filter for covers that were paid for in ETH\n",
    "    # (note covers paid in NXM don't generate assets and covers paid for in DAI/USDC will be used to pay off the Cover Re loan)\n",
    "    df_cover_flows = df_cover_flows[df_cover_flows['premium_asset'] == 'ETH']\n",
    "\n",
    "    # work out cover fees, allowing for 15% commission\n",
    "    eth_cover_fees = df_cover_flows['premium_native'].sum() * 0.85\n",
    "    # append to list, allowing for 70% claim ratio\n",
    "    net_eth_monthly_fees = eth_cover_fees * (1 - claim_ratio)\n",
    "    net_eth_fees.append(net_eth_monthly_fees)\n",
    "    \n",
    "    # INVESTMENT INCOME\n",
    "    # stETH\n",
    "    stETH_opening = df_cap.loc[df_cap['day'] == date]['stETH'].values[0]\n",
    "    stETH_closing = df_cap.loc[df_cap['day'] == next_month]['stETH'].values[0]\n",
    "    stETH_returns.append(stETH_closing - stETH_opening)\n",
    "    # rETH\n",
    "    rETH_opening = df_cap.loc[df_cap['day'] == date]['rETH'].values[0]\n",
    "    rETH_closing = df_cap.loc[df_cap['day'] == next_month]['rETH'].values[0]\n",
    "    rETH_returns.append(rETH_closing - rETH_opening) \n",
    "    \n",
    "    # move date along\n",
    "    date = next_month\n",
    "\n",
    "# Average Kiln rewards in month\n",
    "days_total_kiln_rewards = (df_cap.iloc[0]['day'] - kiln_deposit_date)/timedelta(days=1)\n",
    "daily_total_kiln_rewards = kiln_total_rewards / days_total_kiln_rewards\n",
    "avg_monthly_kiln_returns = daily_total_kiln_rewards * avg_days_in_month\n",
    "\n",
    "# Average RAMM flows\n",
    "avg_monthly_ramm_flows = sum(ramm_flows)/len(ramm_flows)\n",
    "\n",
    "# Average ETH Cover Fees\n",
    "avg_monthly_net_eth_fees = sum(net_eth_fees)/len(net_eth_fees)\n",
    "\n",
    "# Average stETH returns\n",
    "avg_monthly_stETH_returns = sum(stETH_returns)/len(stETH_returns)\n",
    "\n",
    "# Average rETH returns\n",
    "avg_monthly_rETH_returns = sum(rETH_returns)/len(rETH_returns)\n",
    "\n",
    "print(f'Average monthly stETH returns = {avg_monthly_stETH_returns}')\n",
    "print(f'Average monthly rETH returns = {avg_monthly_rETH_returns}')\n",
    "print(f'Average monthly kiln returns = {avg_monthly_kiln_returns}')\n",
    "print(f'Average monthly net ETH cover fees = {avg_monthly_net_eth_fees}')\n",
    "print(f'Average monthly RAMM flows = {avg_monthly_ramm_flows}')"
   ]
  },
  {
   "cell_type": "markdown",
   "id": "dc4ca8d7",
   "metadata": {},
   "source": [
    "## Pie Chart of Assets After Cover Re Loan"
   ]
  },
  {
   "cell_type": "code",
   "execution_count": 64,
   "id": "92adc337",
   "metadata": {
    "ExecuteTime": {
     "end_time": "2024-06-04T16:02:37.970800Z",
     "start_time": "2024-06-04T16:02:37.951532Z"
    }
   },
   "outputs": [],
   "source": [
    "today_row = df_cap.iloc[0][asset_list]\n",
    "\n",
    "new_idle_enzyme_eth = 6585\n",
    "cover_re_eth = 9389\n",
    "cover_re_usdc = 6_234_305\n",
    "dai_buffer = 1_000_000\n",
    "\n",
    "asset_list_new = ['ETH', 'DAI', 'stETH', 'rETH', 'Kiln', 'Enzyme Idle', 'Cover Re Collateral']\n",
    "\n",
    "today_row['Enzyme'] = today_row['Enzyme'] - new_idle_enzyme_eth\n",
    "today_row['Enzyme Idle'] = new_idle_enzyme_eth\n",
    "today_row.rename({'Enzyme': 'Kiln'}, inplace=True)\n",
    "today_row['ETH'] = today_row['ETH'] - cover_re_eth\n",
    "today_row['Cover Re Loan Collateral'] = cover_re_eth\n",
    "today_row['DAI'] = dai_buffer / eth_usd_today"
   ]
  },
  {
   "cell_type": "code",
   "execution_count": 65,
   "id": "9527cd96",
   "metadata": {
    "ExecuteTime": {
     "end_time": "2024-06-04T16:02:39.529283Z",
     "start_time": "2024-06-04T16:02:38.560347Z"
    }
   },
   "outputs": [
    {
     "ename": "ValueError",
     "evalue": "Wedge sizes 'x' must be non negative values",
     "output_type": "error",
     "traceback": [
      "\u001b[0;31m---------------------------------------------------------------------------\u001b[0m",
      "\u001b[0;31mValueError\u001b[0m                                Traceback (most recent call last)",
      "Cell \u001b[0;32mIn[65], line 8\u001b[0m\n\u001b[1;32m      5\u001b[0m     labels\u001b[38;5;241m.\u001b[39mappend(\u001b[38;5;124mf\u001b[39m\u001b[38;5;124m'\u001b[39m\u001b[38;5;132;01m{\u001b[39;00mi\u001b[38;5;132;01m}\u001b[39;00m\u001b[38;5;124m - \u001b[39m\u001b[38;5;132;01m{\u001b[39;00mformatted_value\u001b[38;5;132;01m}\u001b[39;00m\u001b[38;5;124m'\u001b[39m)\n\u001b[1;32m      7\u001b[0m \u001b[38;5;66;03m# create chart\u001b[39;00m\n\u001b[0;32m----> 8\u001b[0m \u001b[43mplt\u001b[49m\u001b[38;5;241;43m.\u001b[39;49m\u001b[43mpie\u001b[49m\u001b[43m(\u001b[49m\u001b[43mtoday_row\u001b[49m\u001b[38;5;241;43m.\u001b[39;49m\u001b[43mvalues\u001b[49m\u001b[43m,\u001b[49m\u001b[43m \u001b[49m\u001b[43mlabels\u001b[49m\u001b[38;5;241;43m=\u001b[39;49m\u001b[43mlabels\u001b[49m\u001b[43m,\u001b[49m\u001b[43m \u001b[49m\u001b[43mautopct\u001b[49m\u001b[38;5;241;43m=\u001b[39;49m\u001b[38;5;124;43m'\u001b[39;49m\u001b[38;5;132;43;01m%1.2f\u001b[39;49;00m\u001b[38;5;132;43;01m%%\u001b[39;49;00m\u001b[38;5;124;43m'\u001b[39;49m\u001b[43m)\u001b[49m\n\u001b[1;32m      9\u001b[0m plt\u001b[38;5;241m.\u001b[39mtitle(\u001b[38;5;124mf\u001b[39m\u001b[38;5;124m'\u001b[39m\u001b[38;5;132;01m{\u001b[39;00mtoday_date_str\u001b[38;5;132;01m}\u001b[39;00m\u001b[38;5;124m Capital Pool Split in ETH\u001b[39m\u001b[38;5;124m'\u001b[39m);\n",
      "File \u001b[0;32m~/.pyenv/versions/3.10.6/envs/investment_monitoring/lib/python3.10/site-packages/matplotlib/pyplot.py:3558\u001b[0m, in \u001b[0;36mpie\u001b[0;34m(x, explode, labels, colors, autopct, pctdistance, shadow, labeldistance, startangle, radius, counterclock, wedgeprops, textprops, center, frame, rotatelabels, normalize, hatch, data)\u001b[0m\n\u001b[1;32m   3535\u001b[0m \u001b[38;5;129m@_copy_docstring_and_deprecators\u001b[39m(Axes\u001b[38;5;241m.\u001b[39mpie)\n\u001b[1;32m   3536\u001b[0m \u001b[38;5;28;01mdef\u001b[39;00m \u001b[38;5;21mpie\u001b[39m(\n\u001b[1;32m   3537\u001b[0m     x: ArrayLike,\n\u001b[0;32m   (...)\u001b[0m\n\u001b[1;32m   3556\u001b[0m     data\u001b[38;5;241m=\u001b[39m\u001b[38;5;28;01mNone\u001b[39;00m,\n\u001b[1;32m   3557\u001b[0m ) \u001b[38;5;241m-\u001b[39m\u001b[38;5;241m>\u001b[39m \u001b[38;5;28mtuple\u001b[39m[\u001b[38;5;28mlist\u001b[39m[Wedge], \u001b[38;5;28mlist\u001b[39m[Text]] \u001b[38;5;241m|\u001b[39m \u001b[38;5;28mtuple\u001b[39m[\u001b[38;5;28mlist\u001b[39m[Wedge], \u001b[38;5;28mlist\u001b[39m[Text], \u001b[38;5;28mlist\u001b[39m[Text]]:\n\u001b[0;32m-> 3558\u001b[0m     \u001b[38;5;28;01mreturn\u001b[39;00m \u001b[43mgca\u001b[49m\u001b[43m(\u001b[49m\u001b[43m)\u001b[49m\u001b[38;5;241;43m.\u001b[39;49m\u001b[43mpie\u001b[49m\u001b[43m(\u001b[49m\n\u001b[1;32m   3559\u001b[0m \u001b[43m        \u001b[49m\u001b[43mx\u001b[49m\u001b[43m,\u001b[49m\n\u001b[1;32m   3560\u001b[0m \u001b[43m        \u001b[49m\u001b[43mexplode\u001b[49m\u001b[38;5;241;43m=\u001b[39;49m\u001b[43mexplode\u001b[49m\u001b[43m,\u001b[49m\n\u001b[1;32m   3561\u001b[0m \u001b[43m        \u001b[49m\u001b[43mlabels\u001b[49m\u001b[38;5;241;43m=\u001b[39;49m\u001b[43mlabels\u001b[49m\u001b[43m,\u001b[49m\n\u001b[1;32m   3562\u001b[0m \u001b[43m        \u001b[49m\u001b[43mcolors\u001b[49m\u001b[38;5;241;43m=\u001b[39;49m\u001b[43mcolors\u001b[49m\u001b[43m,\u001b[49m\n\u001b[1;32m   3563\u001b[0m \u001b[43m        \u001b[49m\u001b[43mautopct\u001b[49m\u001b[38;5;241;43m=\u001b[39;49m\u001b[43mautopct\u001b[49m\u001b[43m,\u001b[49m\n\u001b[1;32m   3564\u001b[0m \u001b[43m        \u001b[49m\u001b[43mpctdistance\u001b[49m\u001b[38;5;241;43m=\u001b[39;49m\u001b[43mpctdistance\u001b[49m\u001b[43m,\u001b[49m\n\u001b[1;32m   3565\u001b[0m \u001b[43m        \u001b[49m\u001b[43mshadow\u001b[49m\u001b[38;5;241;43m=\u001b[39;49m\u001b[43mshadow\u001b[49m\u001b[43m,\u001b[49m\n\u001b[1;32m   3566\u001b[0m \u001b[43m        \u001b[49m\u001b[43mlabeldistance\u001b[49m\u001b[38;5;241;43m=\u001b[39;49m\u001b[43mlabeldistance\u001b[49m\u001b[43m,\u001b[49m\n\u001b[1;32m   3567\u001b[0m \u001b[43m        \u001b[49m\u001b[43mstartangle\u001b[49m\u001b[38;5;241;43m=\u001b[39;49m\u001b[43mstartangle\u001b[49m\u001b[43m,\u001b[49m\n\u001b[1;32m   3568\u001b[0m \u001b[43m        \u001b[49m\u001b[43mradius\u001b[49m\u001b[38;5;241;43m=\u001b[39;49m\u001b[43mradius\u001b[49m\u001b[43m,\u001b[49m\n\u001b[1;32m   3569\u001b[0m \u001b[43m        \u001b[49m\u001b[43mcounterclock\u001b[49m\u001b[38;5;241;43m=\u001b[39;49m\u001b[43mcounterclock\u001b[49m\u001b[43m,\u001b[49m\n\u001b[1;32m   3570\u001b[0m \u001b[43m        \u001b[49m\u001b[43mwedgeprops\u001b[49m\u001b[38;5;241;43m=\u001b[39;49m\u001b[43mwedgeprops\u001b[49m\u001b[43m,\u001b[49m\n\u001b[1;32m   3571\u001b[0m \u001b[43m        \u001b[49m\u001b[43mtextprops\u001b[49m\u001b[38;5;241;43m=\u001b[39;49m\u001b[43mtextprops\u001b[49m\u001b[43m,\u001b[49m\n\u001b[1;32m   3572\u001b[0m \u001b[43m        \u001b[49m\u001b[43mcenter\u001b[49m\u001b[38;5;241;43m=\u001b[39;49m\u001b[43mcenter\u001b[49m\u001b[43m,\u001b[49m\n\u001b[1;32m   3573\u001b[0m \u001b[43m        \u001b[49m\u001b[43mframe\u001b[49m\u001b[38;5;241;43m=\u001b[39;49m\u001b[43mframe\u001b[49m\u001b[43m,\u001b[49m\n\u001b[1;32m   3574\u001b[0m \u001b[43m        \u001b[49m\u001b[43mrotatelabels\u001b[49m\u001b[38;5;241;43m=\u001b[39;49m\u001b[43mrotatelabels\u001b[49m\u001b[43m,\u001b[49m\n\u001b[1;32m   3575\u001b[0m \u001b[43m        \u001b[49m\u001b[43mnormalize\u001b[49m\u001b[38;5;241;43m=\u001b[39;49m\u001b[43mnormalize\u001b[49m\u001b[43m,\u001b[49m\n\u001b[1;32m   3576\u001b[0m \u001b[43m        \u001b[49m\u001b[43mhatch\u001b[49m\u001b[38;5;241;43m=\u001b[39;49m\u001b[43mhatch\u001b[49m\u001b[43m,\u001b[49m\n\u001b[1;32m   3577\u001b[0m \u001b[43m        \u001b[49m\u001b[38;5;241;43m*\u001b[39;49m\u001b[38;5;241;43m*\u001b[39;49m\u001b[43m(\u001b[49m\u001b[43m{\u001b[49m\u001b[38;5;124;43m\"\u001b[39;49m\u001b[38;5;124;43mdata\u001b[39;49m\u001b[38;5;124;43m\"\u001b[39;49m\u001b[43m:\u001b[49m\u001b[43m \u001b[49m\u001b[43mdata\u001b[49m\u001b[43m}\u001b[49m\u001b[43m \u001b[49m\u001b[38;5;28;43;01mif\u001b[39;49;00m\u001b[43m \u001b[49m\u001b[43mdata\u001b[49m\u001b[43m \u001b[49m\u001b[38;5;129;43;01mis\u001b[39;49;00m\u001b[43m \u001b[49m\u001b[38;5;129;43;01mnot\u001b[39;49;00m\u001b[43m \u001b[49m\u001b[38;5;28;43;01mNone\u001b[39;49;00m\u001b[43m \u001b[49m\u001b[38;5;28;43;01melse\u001b[39;49;00m\u001b[43m \u001b[49m\u001b[43m{\u001b[49m\u001b[43m}\u001b[49m\u001b[43m)\u001b[49m\u001b[43m,\u001b[49m\n\u001b[1;32m   3578\u001b[0m \u001b[43m    \u001b[49m\u001b[43m)\u001b[49m\n",
      "File \u001b[0;32m~/.pyenv/versions/3.10.6/envs/investment_monitoring/lib/python3.10/site-packages/matplotlib/__init__.py:1465\u001b[0m, in \u001b[0;36m_preprocess_data.<locals>.inner\u001b[0;34m(ax, data, *args, **kwargs)\u001b[0m\n\u001b[1;32m   1462\u001b[0m \u001b[38;5;129m@functools\u001b[39m\u001b[38;5;241m.\u001b[39mwraps(func)\n\u001b[1;32m   1463\u001b[0m \u001b[38;5;28;01mdef\u001b[39;00m \u001b[38;5;21minner\u001b[39m(ax, \u001b[38;5;241m*\u001b[39margs, data\u001b[38;5;241m=\u001b[39m\u001b[38;5;28;01mNone\u001b[39;00m, \u001b[38;5;241m*\u001b[39m\u001b[38;5;241m*\u001b[39mkwargs):\n\u001b[1;32m   1464\u001b[0m     \u001b[38;5;28;01mif\u001b[39;00m data \u001b[38;5;129;01mis\u001b[39;00m \u001b[38;5;28;01mNone\u001b[39;00m:\n\u001b[0;32m-> 1465\u001b[0m         \u001b[38;5;28;01mreturn\u001b[39;00m \u001b[43mfunc\u001b[49m\u001b[43m(\u001b[49m\u001b[43max\u001b[49m\u001b[43m,\u001b[49m\u001b[43m \u001b[49m\u001b[38;5;241;43m*\u001b[39;49m\u001b[38;5;28;43mmap\u001b[39;49m\u001b[43m(\u001b[49m\u001b[43msanitize_sequence\u001b[49m\u001b[43m,\u001b[49m\u001b[43m \u001b[49m\u001b[43margs\u001b[49m\u001b[43m)\u001b[49m\u001b[43m,\u001b[49m\u001b[43m \u001b[49m\u001b[38;5;241;43m*\u001b[39;49m\u001b[38;5;241;43m*\u001b[39;49m\u001b[43mkwargs\u001b[49m\u001b[43m)\u001b[49m\n\u001b[1;32m   1467\u001b[0m     bound \u001b[38;5;241m=\u001b[39m new_sig\u001b[38;5;241m.\u001b[39mbind(ax, \u001b[38;5;241m*\u001b[39margs, \u001b[38;5;241m*\u001b[39m\u001b[38;5;241m*\u001b[39mkwargs)\n\u001b[1;32m   1468\u001b[0m     auto_label \u001b[38;5;241m=\u001b[39m (bound\u001b[38;5;241m.\u001b[39marguments\u001b[38;5;241m.\u001b[39mget(label_namer)\n\u001b[1;32m   1469\u001b[0m                   \u001b[38;5;129;01mor\u001b[39;00m bound\u001b[38;5;241m.\u001b[39mkwargs\u001b[38;5;241m.\u001b[39mget(label_namer))\n",
      "File \u001b[0;32m~/.pyenv/versions/3.10.6/envs/investment_monitoring/lib/python3.10/site-packages/matplotlib/axes/_axes.py:3227\u001b[0m, in \u001b[0;36mAxes.pie\u001b[0;34m(self, x, explode, labels, colors, autopct, pctdistance, shadow, labeldistance, startangle, radius, counterclock, wedgeprops, textprops, center, frame, rotatelabels, normalize, hatch)\u001b[0m\n\u001b[1;32m   3224\u001b[0m     \u001b[38;5;28;01mraise\u001b[39;00m \u001b[38;5;167;01mValueError\u001b[39;00m(\u001b[38;5;124m\"\u001b[39m\u001b[38;5;124mx must be 1D\u001b[39m\u001b[38;5;124m\"\u001b[39m)\n\u001b[1;32m   3226\u001b[0m \u001b[38;5;28;01mif\u001b[39;00m np\u001b[38;5;241m.\u001b[39many(x \u001b[38;5;241m<\u001b[39m \u001b[38;5;241m0\u001b[39m):\n\u001b[0;32m-> 3227\u001b[0m     \u001b[38;5;28;01mraise\u001b[39;00m \u001b[38;5;167;01mValueError\u001b[39;00m(\u001b[38;5;124m\"\u001b[39m\u001b[38;5;124mWedge sizes \u001b[39m\u001b[38;5;124m'\u001b[39m\u001b[38;5;124mx\u001b[39m\u001b[38;5;124m'\u001b[39m\u001b[38;5;124m must be non negative values\u001b[39m\u001b[38;5;124m\"\u001b[39m)\n\u001b[1;32m   3229\u001b[0m sx \u001b[38;5;241m=\u001b[39m x\u001b[38;5;241m.\u001b[39msum()\n\u001b[1;32m   3231\u001b[0m \u001b[38;5;28;01mif\u001b[39;00m normalize:\n",
      "\u001b[0;31mValueError\u001b[0m: Wedge sizes 'x' must be non negative values"
     ]
    },
    {
     "data": {
      "image/png": "[encoded data removed]",
      "text/plain": [
       "<Figure size 640x480 with 1 Axes>"
      ]
     },
     "metadata": {},
     "output_type": "display_data"
    }
   ],
   "source": [
    "# add formatted ETH values to labels\n",
    "labels = []\n",
    "for n, i in enumerate(asset_list_new):\n",
    "    formatted_value = '{:,.0f}'.format(today_row.values[n])\n",
    "    labels.append(f'{i} - {formatted_value}')\n",
    "\n",
    "# create chart\n",
    "plt.pie(today_row.values, labels=labels, autopct='%1.2f%%')\n",
    "plt.title(f'{today_date_str} Capital Pool Split in ETH');"
   ]
  },
  {
   "cell_type": "code",
   "execution_count": null,
   "id": "b1258180",
   "metadata": {
    "ExecuteTime": {
     "end_time": "2024-05-30T12:58:25.412040Z",
     "start_time": "2024-05-30T12:58:25.326410Z"
    }
   },
   "outputs": [],
   "source": [
    "asset_df = pd.DataFrame(today_row).T\n",
    "asset_df['Cover Re Loan Outstanding'] = -cover_re_usdc / eth_usd_today\n",
    "\n",
    "projection_months = 12\n",
    "aave_eth_supply_apy = 0.0159\n",
    "aave_usdc_borrow_apy = 0.0791\n",
    "\n",
    "for i in range(projection_months):\n",
    "    \n",
    "    next_row = {}\n",
    "    next_row['ETH'] = asset_df['ETH'].values[-1] + avg_monthly_ramm_flows + avg_monthly_net_eth_fees\n",
    "    next_row['DAI'] = asset_df['DAI'].values[-1]\n",
    "    next_row['stETH'] = asset_df['stETH'].values[-1] + avg_monthly_stETH_returns\n",
    "    next_row['rETH'] = asset_df['rETH'].values[-1] + avg_monthly_rETH_returns\n",
    "    next_row['Kiln'] = asset_df['Kiln'].values[-1] + avg_monthly_kiln_returns\n",
    "    next_row['Enzyme Idle'] = asset_df['Enzyme Idle'].values[-1]\n",
    "    next_row['Cover Re Loan Collateral'] = asset_df['Cover Re Loan Collateral'].values[-1] * ((1 + aave_eth_supply_apy)**(1/12))\n",
    "    next_row['Cover Re Loan Outstanding'] = asset_df['Cover Re Loan Outstanding'].values[-1] * ((1 + aave_usdc_borrow_apy)**(1/12))\n",
    "    \n",
    "    asset_df.loc[len(asset_df)] = next_row\n",
    "\n",
    "asset_df"
   ]
  },
  {
   "cell_type": "code",
   "execution_count": null,
   "id": "65c5775e",
   "metadata": {
    "ExecuteTime": {
     "end_time": "2024-05-30T12:58:25.421772Z",
     "start_time": "2024-05-30T12:58:25.414573Z"
    }
   },
   "outputs": [],
   "source": [
    "asset_df_6_mo = asset_df[:6].astype(float)\n",
    "asset_df_6_mo_pos = asset_df_6_mo.drop(columns=['Cover Re Loan Outstanding'])"
   ]
  },
  {
   "cell_type": "code",
   "execution_count": null,
   "id": "e1250a04",
   "metadata": {
    "ExecuteTime": {
     "end_time": "2024-05-30T12:58:25.814864Z",
     "start_time": "2024-05-30T12:58:25.425989Z"
    }
   },
   "outputs": [],
   "source": [
    "projection_plot = asset_df_6_mo.plot(title=f'Capital Pool Projection from {today_date_str}',\n",
    "                                    figsize=(10, 7), legend=True, ylabel='ETH', xlabel='Months in Future')\n",
    "\n",
    "tick_vals = projection_plot.get_yticks()\n",
    "projection_plot.set_yticklabels(['{:,.0f}'.format(x) for x in tick_vals]);"
   ]
  },
  {
   "cell_type": "code",
   "execution_count": null,
   "id": "8f64e944",
   "metadata": {
    "ExecuteTime": {
     "end_time": "2024-05-30T12:58:26.269930Z",
     "start_time": "2024-05-30T12:58:25.821060Z"
    }
   },
   "outputs": [],
   "source": [
    "projection_bar_plot = asset_df_6_mo_pos.plot(kind='bar', stacked=True, title=f'Capital Pool Projection from {today_date_str}',\n",
    "                                    figsize=(10, 7), legend=True, ylabel='ETH', xlabel='Months in Future')\n",
    "\n",
    "tick_vals = projection_bar_plot.get_yticks()\n",
    "projection_bar_plot.set_yticklabels(['{:,.0f}'.format(x) for x in tick_vals]);"
   ]
  },
  {
   "cell_type": "code",
   "execution_count": null,
   "id": "c68d1a95",
   "metadata": {
    "ExecuteTime": {
     "end_time": "2024-05-30T12:58:26.299111Z",
     "start_time": "2024-05-30T12:58:26.277101Z"
    }
   },
   "outputs": [],
   "source": [
    "df_sum = asset_df_6_mo_pos.sum(axis=1)\n",
    "df_rel = asset_df_6_mo_pos.div(df_sum, 0)*100\n",
    "df_rel"
   ]
  },
  {
   "cell_type": "code",
   "execution_count": null,
   "id": "e1e64856",
   "metadata": {
    "ExecuteTime": {
     "end_time": "2024-05-30T12:58:26.356003Z",
     "start_time": "2024-05-30T12:58:26.309396Z"
    }
   },
   "outputs": [],
   "source": [
    "for n in df_rel: \n",
    "    for i, (cs, ab, pc) in enumerate(zip(asset_df_6_mo_pos.cumsum(1)[n],  \n",
    "                                         asset_df_6_mo_pos[n], df_rel[n])): \n",
    "        print(cs - ab / 2, i, str(np.round(pc, 1)) + '%')"
   ]
  },
  {
   "cell_type": "code",
   "execution_count": null,
   "id": "eb084695",
   "metadata": {
    "ExecuteTime": {
     "end_time": "2024-05-30T12:58:26.864438Z",
     "start_time": "2024-05-30T12:58:26.360248Z"
    }
   },
   "outputs": [],
   "source": [
    "projection_bar_perc_plot = asset_df_6_mo_pos.plot(kind='bar', stacked=True, title=f'Capital Pool Projection from {today_date_str}',\n",
    "                                    figsize=(10, 7), legend=True, ylabel='ETH', xlabel='Months in Future')\n",
    "\n",
    "tick_vals = projection_bar_perc_plot.get_yticks()\n",
    "projection_bar_perc_plot.set_yticklabels(['{:,.0f}'.format(x) for x in tick_vals])\n",
    "\n",
    "for n in df_rel: \n",
    "     for i, (cs, ab, pc) in enumerate(zip(asset_df_6_mo_pos.cumsum(1)[n],  \n",
    "                                         asset_df_6_mo_pos[n], df_rel[n])): \n",
    "         projection_bar_perc_plot.text(y= cs - ab / 2, x=i, s=str(np.round(pc, 1)) + '%',\n",
    "                             va = 'center', ha = 'center', size = 'small')"
   ]
  },
  {
   "cell_type": "code",
   "execution_count": null,
   "id": "15d227c6",
   "metadata": {
    "ExecuteTime": {
     "end_time": "2024-05-30T12:58:26.877975Z",
     "start_time": "2024-05-30T12:58:26.869106Z"
    }
   },
   "outputs": [],
   "source": [
    "tick_vals = np.fromfunction(lambda i: 10000*i, (11, ), dtype=float)\n",
    "tick_vals"
   ]
  },
  {
   "cell_type": "code",
   "execution_count": null,
   "id": "fea310f2",
   "metadata": {
    "ExecuteTime": {
     "end_time": "2024-05-30T12:58:26.917513Z",
     "start_time": "2024-05-30T12:58:26.882938Z"
    }
   },
   "outputs": [],
   "source": [
    "tick_vals/2"
   ]
  },
  {
   "cell_type": "code",
   "execution_count": null,
   "id": "b8991abf",
   "metadata": {
    "ExecuteTime": {
     "end_time": "2024-05-30T12:58:26.946917Z",
     "start_time": "2024-05-30T12:58:26.922254Z"
    }
   },
   "outputs": [],
   "source": [
    "np.union1d(tick_vals, tick_vals/2)"
   ]
  },
  {
   "cell_type": "code",
   "execution_count": null,
   "id": "8ac03af3",
   "metadata": {},
   "outputs": [],
   "source": []
  }
 ],
 "metadata": {
  "kernelspec": {
   "display_name": "Python 3 (ipykernel)",
   "language": "python",
   "name": "python3"
  },
  "language_info": {
   "codemirror_mode": {
    "name": "ipython",
    "version": 3
   },
   "file_extension": ".py",
   "mimetype": "text/x-python",
   "name": "python",
   "nbconvert_exporter": "python",
   "pygments_lexer": "ipython3",
   "version": "3.10.6"
  },
  "toc": {
   "base_numbering": 1,
   "nav_menu": {},
   "number_sections": true,
   "sideBar": true,
   "skip_h1_title": false,
   "title_cell": "Table of Contents",
   "title_sidebar": "Contents",
   "toc_cell": false,
   "toc_position": {},
   "toc_section_display": true,
   "toc_window_display": false
  }
 },
 "nbformat": 4,
 "nbformat_minor": 5
}
