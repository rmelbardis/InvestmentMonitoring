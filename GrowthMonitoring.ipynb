{
 "cells": [
  {
   "cell_type": "markdown",
   "id": "374372ea",
   "metadata": {},
   "source": [
    "## Imports and Inputs"
   ]
  },
  {
   "cell_type": "code",
   "execution_count": 2,
   "id": "4dc24827",
   "metadata": {
    "ExecuteTime": {
     "end_time": "2024-04-16T09:36:51.495288Z",
     "start_time": "2024-04-16T09:36:50.812927Z"
    }
   },
   "outputs": [
    {
     "name": "stderr",
     "output_type": "stream",
     "text": [
      "/tmp/ipykernel_640/2591426926.py:1: DeprecationWarning: \n",
      "Pyarrow will become a required dependency of pandas in the next major release of pandas (pandas 3.0),\n",
      "(to allow more performant data types, such as the Arrow string type, and better interoperability with other libraries)\n",
      "but was not found to be installed on your system.\n",
      "If this would cause problems for you,\n",
      "please provide us feedback at https://github.com/pandas-dev/pandas/issues/54466\n",
      "        \n",
      "  import pandas as pd\n"
     ]
    }
   ],
   "source": [
    "import pandas as pd\n",
    "import requests\n",
    "import matplotlib.pyplot as plt\n",
    "# import seaborn as sns\n",
    "from datetime import datetime, timedelta, timezone\n",
    "\n",
    "from dune_client.client import DuneClient\n",
    "from config import key"
   ]
  },
  {
   "cell_type": "code",
   "execution_count": 3,
   "id": "09516829",
   "metadata": {
    "ExecuteTime": {
     "end_time": "2024-04-16T09:36:53.048456Z",
     "start_time": "2024-04-16T09:36:52.110887Z"
    }
   },
   "outputs": [],
   "source": [
    "# import json of covers from dune api \n",
    "dune = DuneClient(key)\n",
    "covers_list_result = dune.get_latest_result_dataframe(2303588)"
   ]
  },
  {
   "cell_type": "code",
   "execution_count": 37,
   "id": "8584c342",
   "metadata": {
    "ExecuteTime": {
     "end_time": "2024-04-17T12:46:43.491554Z",
     "start_time": "2024-04-17T12:46:43.135616Z"
    }
   },
   "outputs": [],
   "source": [
    "# coingecko ETH Market Chart API for ETH-USD for last year\n",
    "url = 'https://api.coingecko.com/api/v3/coins/ethereum/market_chart'\n",
    "eth_price_params = {'vs_currency': 'usd', \n",
    "                   'days': '365',\n",
    "                   'interval': 'daily'}\n",
    "eth_usd_prices = requests.get(url, params=eth_price_params).json()['prices']\n",
    "\n",
    "# create a dataframe with an index of dates and the corresponding ETH prices\n",
    "price_df = pd.DataFrame(eth_usd_prices, columns = ['Date', 'EthUsd'])\n",
    "price_df['Date'] = pd.to_datetime(price_df['Date'], utc=True, unit='ms', origin='unix')\n",
    "price_df.set_index('Date', inplace=True)"
   ]
  },
  {
   "cell_type": "markdown",
   "id": "e3bba312",
   "metadata": {},
   "source": [
    "## Covers Table Processing"
   ]
  },
  {
   "cell_type": "code",
   "execution_count": 75,
   "id": "0c578faa",
   "metadata": {
    "ExecuteTime": {
     "end_time": "2024-04-17T15:15:47.918027Z",
     "start_time": "2024-04-17T15:15:47.897374Z"
    }
   },
   "outputs": [],
   "source": [
    "# process covers dataframe and select only current and 11 previous months \n",
    "df_covers = covers_list_result\n",
    "\n",
    "# change timestamp to datetime format and normalise all dates to midnight\n",
    "df_covers['cover_start_time'] = pd.to_datetime(df_covers['cover_start_time']).dt.floor('D')\n",
    "\n",
    "# add ETHUSD prices daily\n",
    "df_covers = df_covers.join(price_df, on='cover_start_time')\n",
    "\n",
    "# add premium cost in ETH, dividing dollar prices by the ETH value\n",
    "df_covers['premium_eth'] = df_covers['premium_dollar'] / df_covers['EthUsd']\n",
    "\n",
    "# cut off from 11 months from start of current month\n",
    "month = datetime.now().month\n",
    "year = datetime.now().year\n",
    "df_covers_sold_last_year = df_covers[df_covers['cover_start_time'] >= datetime(year-1, month+1, 1, tzinfo=timezone.utc)]\n",
    "\n",
    "# create month and quarter columns\n",
    "df_covers_sold_last_year['cover_start_month'] = df_covers_sold_last_year['cover_start_time'].dt.to_period('M')\n",
    "df_covers_sold_last_year['cover_start_quarter'] = df_covers_sold_last_year['cover_start_time'].dt.to_period('Q')"
   ]
  },
  {
   "cell_type": "markdown",
   "id": "eebc59c0",
   "metadata": {},
   "source": [
    "## Monthly Premiums"
   ]
  },
  {
   "cell_type": "markdown",
   "id": "54d7c8b2",
   "metadata": {},
   "source": [
    "### USD"
   ]
  },
  {
   "cell_type": "code",
   "execution_count": 83,
   "id": "f7c9cb83",
   "metadata": {
    "ExecuteTime": {
     "end_time": "2024-04-17T15:58:07.135429Z",
     "start_time": "2024-04-17T15:58:07.082223Z"
    }
   },
   "outputs": [
    {
     "data": {
      "text/html": [
       "<div>\n",
       "<style scoped>\n",
       "    .dataframe tbody tr th:only-of-type {\n",
       "        vertical-align: middle;\n",
       "    }\n",
       "\n",
       "    .dataframe tbody tr th {\n",
       "        vertical-align: top;\n",
       "    }\n",
       "\n",
       "    .dataframe thead th {\n",
       "        text-align: right;\n",
       "    }\n",
       "</style>\n",
       "<table border=\"1\" class=\"dataframe\">\n",
       "  <thead>\n",
       "    <tr style=\"text-align: right;\">\n",
       "      <th></th>\n",
       "      <th>cover_id</th>\n",
       "      <th>active</th>\n",
       "      <th>cover_asset</th>\n",
       "      <th>native_cover_amount</th>\n",
       "      <th>dollar_value</th>\n",
       "      <th>eth_value</th>\n",
       "      <th>partial_cover_amount_in_nxm</th>\n",
       "      <th>cover_percentage</th>\n",
       "      <th>partial_cover_amount_in_eth</th>\n",
       "      <th>partial_cover_amount_in_dollar</th>\n",
       "      <th>...</th>\n",
       "      <th>product_name</th>\n",
       "      <th>cover_start_time</th>\n",
       "      <th>cover_end_time</th>\n",
       "      <th>owner</th>\n",
       "      <th>cover_period</th>\n",
       "      <th>call_tx_hash</th>\n",
       "      <th>EthUsd</th>\n",
       "      <th>premium_eth</th>\n",
       "      <th>cover_start_month</th>\n",
       "      <th>cover_start_quarter</th>\n",
       "    </tr>\n",
       "  </thead>\n",
       "  <tbody>\n",
       "    <tr>\n",
       "      <th>0</th>\n",
       "      <td>678</td>\n",
       "      <td>Active</td>\n",
       "      <td>ETH</td>\n",
       "      <td>180.0</td>\n",
       "      <td>4.622389e+05</td>\n",
       "      <td>180.000000</td>\n",
       "      <td>8484.49</td>\n",
       "      <td>0.037980</td>\n",
       "      <td>175.559467</td>\n",
       "      <td>450835.651942</td>\n",
       "      <td>...</td>\n",
       "      <td>EigenLayer + Ether.fi + Pendle</td>\n",
       "      <td>2024-04-16 00:00:00+00:00</td>\n",
       "      <td>2024-05-16 05:53:59.000 UTC</td>\n",
       "      <td>0xfa9ccb4e04fb69a07366b75510ca5a31ad6f95a3</td>\n",
       "      <td>30</td>\n",
       "      <td>0x34bc9ffe3a3f54e158ddb655cfdde587805783d648dc...</td>\n",
       "      <td>3101.190736</td>\n",
       "      <td>0.961865</td>\n",
       "      <td>2024-04</td>\n",
       "      <td>2024Q2</td>\n",
       "    </tr>\n",
       "    <tr>\n",
       "      <th>1</th>\n",
       "      <td>678</td>\n",
       "      <td>Active</td>\n",
       "      <td>ETH</td>\n",
       "      <td>180.0</td>\n",
       "      <td>4.622389e+05</td>\n",
       "      <td>180.000000</td>\n",
       "      <td>214.61</td>\n",
       "      <td>0.000961</td>\n",
       "      <td>4.440670</td>\n",
       "      <td>11403.612859</td>\n",
       "      <td>...</td>\n",
       "      <td>EigenLayer + Ether.fi + Pendle</td>\n",
       "      <td>2024-04-16 00:00:00+00:00</td>\n",
       "      <td>2024-05-16 05:53:59.000 UTC</td>\n",
       "      <td>0xfa9ccb4e04fb69a07366b75510ca5a31ad6f95a3</td>\n",
       "      <td>30</td>\n",
       "      <td>0x34bc9ffe3a3f54e158ddb655cfdde587805783d648dc...</td>\n",
       "      <td>3101.190736</td>\n",
       "      <td>0.038886</td>\n",
       "      <td>2024-04</td>\n",
       "      <td>2024Q2</td>\n",
       "    </tr>\n",
       "    <tr>\n",
       "      <th>2</th>\n",
       "      <td>677</td>\n",
       "      <td>Active</td>\n",
       "      <td>ETH</td>\n",
       "      <td>200.0</td>\n",
       "      <td>5.135988e+05</td>\n",
       "      <td>200.000000</td>\n",
       "      <td>9668.87</td>\n",
       "      <td>0.038941</td>\n",
       "      <td>200.000172</td>\n",
       "      <td>513599.235630</td>\n",
       "      <td>...</td>\n",
       "      <td>EigenLayer</td>\n",
       "      <td>2024-04-16 00:00:00+00:00</td>\n",
       "      <td>2024-05-16 05:42:47.000 UTC</td>\n",
       "      <td>0xfa9ccb4e04fb69a07366b75510ca5a31ad6f95a3</td>\n",
       "      <td>30</td>\n",
       "      <td>0x2f336c5f506ec1ecab6ccbe63bd9b102ec9c67301c60...</td>\n",
       "      <td>3101.190736</td>\n",
       "      <td>0.673117</td>\n",
       "      <td>2024-04</td>\n",
       "      <td>2024Q2</td>\n",
       "    </tr>\n",
       "    <tr>\n",
       "      <th>3</th>\n",
       "      <td>676</td>\n",
       "      <td>Active</td>\n",
       "      <td>ETH</td>\n",
       "      <td>20.0</td>\n",
       "      <td>5.280699e+04</td>\n",
       "      <td>20.000000</td>\n",
       "      <td>969.51</td>\n",
       "      <td>0.037874</td>\n",
       "      <td>20.000190</td>\n",
       "      <td>52807.489861</td>\n",
       "      <td>...</td>\n",
       "      <td>KelpDAO (Zircuit) Pendle</td>\n",
       "      <td>2024-04-15 00:00:00+00:00</td>\n",
       "      <td>2024-06-26 18:18:35.000 UTC</td>\n",
       "      <td>0x51d9c4b3f86d64c3ef0b5996d1365f3e1a1a47b5</td>\n",
       "      <td>72</td>\n",
       "      <td>0x4e99a36064c8f7f77cfa310fb802e905a980bf7ad05a...</td>\n",
       "      <td>3157.683766</td>\n",
       "      <td>0.307291</td>\n",
       "      <td>2024-04</td>\n",
       "      <td>2024Q2</td>\n",
       "    </tr>\n",
       "    <tr>\n",
       "      <th>4</th>\n",
       "      <td>675</td>\n",
       "      <td>Active</td>\n",
       "      <td>DAI</td>\n",
       "      <td>268000.0</td>\n",
       "      <td>2.683929e+05</td>\n",
       "      <td>101.650537</td>\n",
       "      <td>492.92</td>\n",
       "      <td>10.009789</td>\n",
       "      <td>10.175004</td>\n",
       "      <td>26865.566755</td>\n",
       "      <td>...</td>\n",
       "      <td>Gearbox v3</td>\n",
       "      <td>2024-04-15 00:00:00+00:00</td>\n",
       "      <td>2024-06-14 16:36:47.000 UTC</td>\n",
       "      <td>0x7814eb0920c3b46c44d5acaff7c651c4d8762cf2</td>\n",
       "      <td>60</td>\n",
       "      <td>0x1899a4a58d4b2dd2ec9dcc4c700e804f5a468b0ad925...</td>\n",
       "      <td>3157.683766</td>\n",
       "      <td>0.084439</td>\n",
       "      <td>2024-04</td>\n",
       "      <td>2024Q2</td>\n",
       "    </tr>\n",
       "    <tr>\n",
       "      <th>...</th>\n",
       "      <td>...</td>\n",
       "      <td>...</td>\n",
       "      <td>...</td>\n",
       "      <td>...</td>\n",
       "      <td>...</td>\n",
       "      <td>...</td>\n",
       "      <td>...</td>\n",
       "      <td>...</td>\n",
       "      <td>...</td>\n",
       "      <td>...</td>\n",
       "      <td>...</td>\n",
       "      <td>...</td>\n",
       "      <td>...</td>\n",
       "      <td>...</td>\n",
       "      <td>...</td>\n",
       "      <td>...</td>\n",
       "      <td>...</td>\n",
       "      <td>...</td>\n",
       "      <td>...</td>\n",
       "      <td>...</td>\n",
       "      <td>...</td>\n",
       "    </tr>\n",
       "    <tr>\n",
       "      <th>732</th>\n",
       "      <td>82</td>\n",
       "      <td>Expired</td>\n",
       "      <td>DAI</td>\n",
       "      <td>550000.0</td>\n",
       "      <td>5.507953e+05</td>\n",
       "      <td>296.162296</td>\n",
       "      <td>10746.08</td>\n",
       "      <td>99.417655</td>\n",
       "      <td>294.437609</td>\n",
       "      <td>547587.775083</td>\n",
       "      <td>...</td>\n",
       "      <td>Ease</td>\n",
       "      <td>2023-05-08 00:00:00+00:00</td>\n",
       "      <td>2023-06-07 23:30:11.000 UTC</td>\n",
       "      <td>0xfa760444a229e78a50ca9b3779f4ce4cce10e170</td>\n",
       "      <td>30</td>\n",
       "      <td>0xf9e1c57f42f0717effd2fa526b1ba26517617d0b26ca...</td>\n",
       "      <td>1895.230148</td>\n",
       "      <td>0.832585</td>\n",
       "      <td>2023-05</td>\n",
       "      <td>2023Q2</td>\n",
       "    </tr>\n",
       "    <tr>\n",
       "      <th>733</th>\n",
       "      <td>81</td>\n",
       "      <td>Expired</td>\n",
       "      <td>ETH</td>\n",
       "      <td>240.0</td>\n",
       "      <td>4.547624e+05</td>\n",
       "      <td>240.000000</td>\n",
       "      <td>8661.52</td>\n",
       "      <td>0.052180</td>\n",
       "      <td>237.296888</td>\n",
       "      <td>449640.402226</td>\n",
       "      <td>...</td>\n",
       "      <td>Liquid Collective</td>\n",
       "      <td>2023-05-04 00:00:00+00:00</td>\n",
       "      <td>2023-08-02 15:53:47.000 UTC</td>\n",
       "      <td>0x5b453a19845e7492ee3a0df4ef085d4c75e5752b</td>\n",
       "      <td>90</td>\n",
       "      <td>0xe66d3b359119549c85094071bd7c5dc1e9d5c4f50a40...</td>\n",
       "      <td>1903.728211</td>\n",
       "      <td>1.308686</td>\n",
       "      <td>2023-05</td>\n",
       "      <td>2023Q2</td>\n",
       "    </tr>\n",
       "    <tr>\n",
       "      <th>734</th>\n",
       "      <td>80</td>\n",
       "      <td>Expired</td>\n",
       "      <td>DAI</td>\n",
       "      <td>80000.0</td>\n",
       "      <td>8.003627e+04</td>\n",
       "      <td>42.798501</td>\n",
       "      <td>1520.84</td>\n",
       "      <td>97.378325</td>\n",
       "      <td>41.676463</td>\n",
       "      <td>77937.976438</td>\n",
       "      <td>...</td>\n",
       "      <td>Liquity</td>\n",
       "      <td>2023-05-03 00:00:00+00:00</td>\n",
       "      <td>2023-08-31 22:59:35.000 UTC</td>\n",
       "      <td>0xae076a41b227e7ba07ca7c5791df168de7e16646</td>\n",
       "      <td>120</td>\n",
       "      <td>0x43a1701e6416484c2f3ca08ec287ed7c908319312bfa...</td>\n",
       "      <td>1870.828573</td>\n",
       "      <td>0.206255</td>\n",
       "      <td>2023-05</td>\n",
       "      <td>2023Q2</td>\n",
       "    </tr>\n",
       "    <tr>\n",
       "      <th>735</th>\n",
       "      <td>79</td>\n",
       "      <td>Expired</td>\n",
       "      <td>DAI</td>\n",
       "      <td>400000.0</td>\n",
       "      <td>4.002525e+05</td>\n",
       "      <td>216.764230</td>\n",
       "      <td>7767.80</td>\n",
       "      <td>98.225970</td>\n",
       "      <td>212.918767</td>\n",
       "      <td>393151.857456</td>\n",
       "      <td>...</td>\n",
       "      <td>Uniswap v3</td>\n",
       "      <td>2023-05-02 00:00:00+00:00</td>\n",
       "      <td>2023-06-01 15:02:59.000 UTC</td>\n",
       "      <td>0x209b94e5206bdaa8600f7620006ca972b47af011</td>\n",
       "      <td>30</td>\n",
       "      <td>0x4a2cb3408e5e247611ee168861c77e8153471fa60bc8...</td>\n",
       "      <td>1832.725799</td>\n",
       "      <td>0.211584</td>\n",
       "      <td>2023-05</td>\n",
       "      <td>2023Q2</td>\n",
       "    </tr>\n",
       "    <tr>\n",
       "      <th>736</th>\n",
       "      <td>78</td>\n",
       "      <td>Expired</td>\n",
       "      <td>DAI</td>\n",
       "      <td>1000000.0</td>\n",
       "      <td>1.000631e+06</td>\n",
       "      <td>541.910574</td>\n",
       "      <td>19619.90</td>\n",
       "      <td>99.239615</td>\n",
       "      <td>537.789970</td>\n",
       "      <td>993022.493898</td>\n",
       "      <td>...</td>\n",
       "      <td>Aave v2</td>\n",
       "      <td>2023-05-02 00:00:00+00:00</td>\n",
       "      <td>2023-07-01 13:58:23.000 UTC</td>\n",
       "      <td>0xe5379345675132653bd303030c6e456034ed1961</td>\n",
       "      <td>60</td>\n",
       "      <td>0x6d0c7b739f4a55c87cb763d19a7c154be639c89ac992...</td>\n",
       "      <td>1832.725799</td>\n",
       "      <td>3.667583</td>\n",
       "      <td>2023-05</td>\n",
       "      <td>2023Q2</td>\n",
       "    </tr>\n",
       "  </tbody>\n",
       "</table>\n",
       "<p>731 rows × 26 columns</p>\n",
       "</div>"
      ],
      "text/plain": [
       "     cover_id   active cover_asset  native_cover_amount  dollar_value  \\\n",
       "0         678   Active         ETH                180.0  4.622389e+05   \n",
       "1         678   Active         ETH                180.0  4.622389e+05   \n",
       "2         677   Active         ETH                200.0  5.135988e+05   \n",
       "3         676   Active         ETH                 20.0  5.280699e+04   \n",
       "4         675   Active         DAI             268000.0  2.683929e+05   \n",
       "..        ...      ...         ...                  ...           ...   \n",
       "732        82  Expired         DAI             550000.0  5.507953e+05   \n",
       "733        81  Expired         ETH                240.0  4.547624e+05   \n",
       "734        80  Expired         DAI              80000.0  8.003627e+04   \n",
       "735        79  Expired         DAI             400000.0  4.002525e+05   \n",
       "736        78  Expired         DAI            1000000.0  1.000631e+06   \n",
       "\n",
       "      eth_value  partial_cover_amount_in_nxm  cover_percentage  \\\n",
       "0    180.000000                      8484.49          0.037980   \n",
       "1    180.000000                       214.61          0.000961   \n",
       "2    200.000000                      9668.87          0.038941   \n",
       "3     20.000000                       969.51          0.037874   \n",
       "4    101.650537                       492.92         10.009789   \n",
       "..          ...                          ...               ...   \n",
       "732  296.162296                     10746.08         99.417655   \n",
       "733  240.000000                      8661.52          0.052180   \n",
       "734   42.798501                      1520.84         97.378325   \n",
       "735  216.764230                      7767.80         98.225970   \n",
       "736  541.910574                     19619.90         99.239615   \n",
       "\n",
       "     partial_cover_amount_in_eth  partial_cover_amount_in_dollar  ...  \\\n",
       "0                     175.559467                   450835.651942  ...   \n",
       "1                       4.440670                    11403.612859  ...   \n",
       "2                     200.000172                   513599.235630  ...   \n",
       "3                      20.000190                    52807.489861  ...   \n",
       "4                      10.175004                    26865.566755  ...   \n",
       "..                           ...                             ...  ...   \n",
       "732                   294.437609                   547587.775083  ...   \n",
       "733                   237.296888                   449640.402226  ...   \n",
       "734                    41.676463                    77937.976438  ...   \n",
       "735                   212.918767                   393151.857456  ...   \n",
       "736                   537.789970                   993022.493898  ...   \n",
       "\n",
       "                       product_name          cover_start_time  \\\n",
       "0    EigenLayer + Ether.fi + Pendle 2024-04-16 00:00:00+00:00   \n",
       "1    EigenLayer + Ether.fi + Pendle 2024-04-16 00:00:00+00:00   \n",
       "2                        EigenLayer 2024-04-16 00:00:00+00:00   \n",
       "3          KelpDAO (Zircuit) Pendle 2024-04-15 00:00:00+00:00   \n",
       "4                        Gearbox v3 2024-04-15 00:00:00+00:00   \n",
       "..                              ...                       ...   \n",
       "732                            Ease 2023-05-08 00:00:00+00:00   \n",
       "733               Liquid Collective 2023-05-04 00:00:00+00:00   \n",
       "734                         Liquity 2023-05-03 00:00:00+00:00   \n",
       "735                      Uniswap v3 2023-05-02 00:00:00+00:00   \n",
       "736                         Aave v2 2023-05-02 00:00:00+00:00   \n",
       "\n",
       "                  cover_end_time                                       owner  \\\n",
       "0    2024-05-16 05:53:59.000 UTC  0xfa9ccb4e04fb69a07366b75510ca5a31ad6f95a3   \n",
       "1    2024-05-16 05:53:59.000 UTC  0xfa9ccb4e04fb69a07366b75510ca5a31ad6f95a3   \n",
       "2    2024-05-16 05:42:47.000 UTC  0xfa9ccb4e04fb69a07366b75510ca5a31ad6f95a3   \n",
       "3    2024-06-26 18:18:35.000 UTC  0x51d9c4b3f86d64c3ef0b5996d1365f3e1a1a47b5   \n",
       "4    2024-06-14 16:36:47.000 UTC  0x7814eb0920c3b46c44d5acaff7c651c4d8762cf2   \n",
       "..                           ...                                         ...   \n",
       "732  2023-06-07 23:30:11.000 UTC  0xfa760444a229e78a50ca9b3779f4ce4cce10e170   \n",
       "733  2023-08-02 15:53:47.000 UTC  0x5b453a19845e7492ee3a0df4ef085d4c75e5752b   \n",
       "734  2023-08-31 22:59:35.000 UTC  0xae076a41b227e7ba07ca7c5791df168de7e16646   \n",
       "735  2023-06-01 15:02:59.000 UTC  0x209b94e5206bdaa8600f7620006ca972b47af011   \n",
       "736  2023-07-01 13:58:23.000 UTC  0xe5379345675132653bd303030c6e456034ed1961   \n",
       "\n",
       "    cover_period                                       call_tx_hash  \\\n",
       "0             30  0x34bc9ffe3a3f54e158ddb655cfdde587805783d648dc...   \n",
       "1             30  0x34bc9ffe3a3f54e158ddb655cfdde587805783d648dc...   \n",
       "2             30  0x2f336c5f506ec1ecab6ccbe63bd9b102ec9c67301c60...   \n",
       "3             72  0x4e99a36064c8f7f77cfa310fb802e905a980bf7ad05a...   \n",
       "4             60  0x1899a4a58d4b2dd2ec9dcc4c700e804f5a468b0ad925...   \n",
       "..           ...                                                ...   \n",
       "732           30  0xf9e1c57f42f0717effd2fa526b1ba26517617d0b26ca...   \n",
       "733           90  0xe66d3b359119549c85094071bd7c5dc1e9d5c4f50a40...   \n",
       "734          120  0x43a1701e6416484c2f3ca08ec287ed7c908319312bfa...   \n",
       "735           30  0x4a2cb3408e5e247611ee168861c77e8153471fa60bc8...   \n",
       "736           60  0x6d0c7b739f4a55c87cb763d19a7c154be639c89ac992...   \n",
       "\n",
       "          EthUsd premium_eth cover_start_month cover_start_quarter  \n",
       "0    3101.190736    0.961865           2024-04              2024Q2  \n",
       "1    3101.190736    0.038886           2024-04              2024Q2  \n",
       "2    3101.190736    0.673117           2024-04              2024Q2  \n",
       "3    3157.683766    0.307291           2024-04              2024Q2  \n",
       "4    3157.683766    0.084439           2024-04              2024Q2  \n",
       "..           ...         ...               ...                 ...  \n",
       "732  1895.230148    0.832585           2023-05              2023Q2  \n",
       "733  1903.728211    1.308686           2023-05              2023Q2  \n",
       "734  1870.828573    0.206255           2023-05              2023Q2  \n",
       "735  1832.725799    0.211584           2023-05              2023Q2  \n",
       "736  1832.725799    3.667583           2023-05              2023Q2  \n",
       "\n",
       "[731 rows x 26 columns]"
      ]
     },
     "execution_count": 83,
     "metadata": {},
     "output_type": "execute_result"
    }
   ],
   "source": [
    "df_covers_sold_last_year"
   ]
  },
  {
   "cell_type": "code",
   "execution_count": 76,
   "id": "b5008554",
   "metadata": {
    "ExecuteTime": {
     "end_time": "2024-04-17T15:18:38.464655Z",
     "start_time": "2024-04-17T15:18:38.136606Z"
    }
   },
   "outputs": [
    {
     "data": {
      "text/plain": [
       "cover_start_month\n",
       "2023-05    117050.226009\n",
       "2023-06     98451.461209\n",
       "2023-07     88975.500422\n",
       "2023-08     53305.803939\n",
       "2023-09     47161.569566\n",
       "2023-10     63041.192532\n",
       "2023-11     73194.145246\n",
       "2023-12     45677.816811\n",
       "2024-01     58925.241274\n",
       "2024-02     90801.694768\n",
       "2024-03    308375.800319\n",
       "2024-04    393388.598144\n",
       "Freq: M, Name: premium_dollar, dtype: float64"
      ]
     },
     "metadata": {},
     "output_type": "display_data"
    },
    {
     "data": {
      "image/png": "[encoded data removed]",
      "text/plain": [
       "<Figure size 640x480 with 1 Axes>"
      ]
     },
     "metadata": {},
     "output_type": "display_data"
    }
   ],
   "source": [
    "monthly_cover_fees_usd = df_covers_sold_last_year.groupby(by='cover_start_month')['premium_dollar'].sum()\n",
    "display(monthly_cover_fees_usd)\n",
    "monthly_cover_fees_usd.plot(kind='bar', ylabel='USD', xlabel='Month', title='Monthly Premium Income USD');"
   ]
  },
  {
   "cell_type": "markdown",
   "id": "95e06211",
   "metadata": {},
   "source": [
    "### ETH"
   ]
  },
  {
   "cell_type": "code",
   "execution_count": 77,
   "id": "d64f42a1",
   "metadata": {
    "ExecuteTime": {
     "end_time": "2024-04-17T15:18:48.629944Z",
     "start_time": "2024-04-17T15:18:48.331591Z"
    }
   },
   "outputs": [
    {
     "data": {
      "text/plain": [
       "cover_start_month\n",
       "2023-05     63.549741\n",
       "2023-06     55.703824\n",
       "2023-07     46.810058\n",
       "2023-08     30.451598\n",
       "2023-09     28.957952\n",
       "2023-10     38.458809\n",
       "2023-11     38.417020\n",
       "2023-12     20.055998\n",
       "2024-01     25.400237\n",
       "2024-02     35.012024\n",
       "2024-03     86.737514\n",
       "2024-04    114.269465\n",
       "Freq: M, Name: premium_eth, dtype: float64"
      ]
     },
     "metadata": {},
     "output_type": "display_data"
    },
    {
     "data": {
      "image/png": "[encoded data removed]",
      "text/plain": [
       "<Figure size 640x480 with 1 Axes>"
      ]
     },
     "metadata": {},
     "output_type": "display_data"
    }
   ],
   "source": [
    "monthly_cover_fees_eth = df_covers_sold_last_year.groupby(by='cover_start_month')['premium_eth'].sum()\n",
    "display(monthly_cover_fees_eth)\n",
    "monthly_cover_fees_eth.plot(kind='bar', ylabel='ETH', xlabel='Month', title='Monthly Premium Income ETH');"
   ]
  },
  {
   "cell_type": "markdown",
   "id": "0e18720b",
   "metadata": {},
   "source": [
    "## Quarterly Premiums"
   ]
  },
  {
   "cell_type": "markdown",
   "id": "f78ffd22",
   "metadata": {},
   "source": [
    "### USD"
   ]
  },
  {
   "cell_type": "code",
   "execution_count": 79,
   "id": "74f72c51",
   "metadata": {
    "ExecuteTime": {
     "end_time": "2024-04-17T15:21:04.543848Z",
     "start_time": "2024-04-17T15:21:04.276812Z"
    }
   },
   "outputs": [
    {
     "data": {
      "text/plain": [
       "cover_start_quarter\n",
       "2023Q2    215501.687218\n",
       "2023Q3    189442.873928\n",
       "2023Q4    181913.154589\n",
       "2024Q1    458102.736361\n",
       "2024Q2    393388.598144\n",
       "Freq: Q-DEC, Name: premium_dollar, dtype: float64"
      ]
     },
     "metadata": {},
     "output_type": "display_data"
    },
    {
     "data": {
      "image/png": "[encoded data removed]",
      "text/plain": [
       "<Figure size 640x480 with 1 Axes>"
      ]
     },
     "metadata": {},
     "output_type": "display_data"
    }
   ],
   "source": [
    "quarterly_cover_fees_usd = df_covers_sold_last_year.groupby(by='cover_start_quarter')['premium_dollar'].sum()\n",
    "display(quarterly_cover_fees_usd)\n",
    "quarterly_cover_fees_usd.plot(kind='bar', ylabel='USD', xlabel='Quarter', title='Quarterly Premium Income USD');"
   ]
  },
  {
   "cell_type": "markdown",
   "id": "faca7d2d",
   "metadata": {},
   "source": [
    "### ETH"
   ]
  },
  {
   "cell_type": "code",
   "execution_count": 80,
   "id": "1470df6c",
   "metadata": {
    "ExecuteTime": {
     "end_time": "2024-04-17T15:51:41.222481Z",
     "start_time": "2024-04-17T15:51:40.933779Z"
    }
   },
   "outputs": [
    {
     "data": {
      "text/plain": [
       "cover_start_quarter\n",
       "2023Q2    119.253565\n",
       "2023Q3    106.219609\n",
       "2023Q4     96.931827\n",
       "2024Q1    147.149775\n",
       "2024Q2    114.269465\n",
       "Freq: Q-DEC, Name: premium_eth, dtype: float64"
      ]
     },
     "metadata": {},
     "output_type": "display_data"
    },
    {
     "data": {
      "image/png": "[encoded data removed]",
      "text/plain": [
       "<Figure size 640x480 with 1 Axes>"
      ]
     },
     "metadata": {},
     "output_type": "display_data"
    }
   ],
   "source": [
    "quarterly_cover_fees_eth = df_covers_sold_last_year.groupby(by='cover_start_quarter')['premium_eth'].sum()\n",
    "display(quarterly_cover_fees_eth)\n",
    "quarterly_cover_fees_eth.plot(kind='bar', ylabel='ETH', xlabel='Quarter', title='Quarterly Premium Income ETH');"
   ]
  },
  {
   "cell_type": "markdown",
   "id": "cf6e2b4a",
   "metadata": {},
   "source": [
    "## Covers Bought"
   ]
  },
  {
   "cell_type": "markdown",
   "id": "5274eed2",
   "metadata": {},
   "source": [
    "### Monhtly"
   ]
  },
  {
   "cell_type": "code",
   "execution_count": 84,
   "id": "01f56fb9",
   "metadata": {
    "ExecuteTime": {
     "end_time": "2024-04-17T15:59:15.087926Z",
     "start_time": "2024-04-17T15:59:14.770479Z"
    }
   },
   "outputs": [
    {
     "data": {
      "text/plain": [
       "cover_start_month\n",
       "2023-05    39\n",
       "2023-06    34\n",
       "2023-07    36\n",
       "2023-08    31\n",
       "2023-09    61\n",
       "2023-10    29\n",
       "2023-11    35\n",
       "2023-12    49\n",
       "2024-01    60\n",
       "2024-02    47\n",
       "2024-03    92\n",
       "2024-04    82\n",
       "Freq: M, Name: cover_id, dtype: int64"
      ]
     },
     "metadata": {},
     "output_type": "display_data"
    },
    {
     "data": {
      "image/png": "[encoded data removed]",
      "text/plain": [
       "<Figure size 640x480 with 1 Axes>"
      ]
     },
     "metadata": {},
     "output_type": "display_data"
    }
   ],
   "source": [
    "monthly_cover_count = df_covers_sold_last_year.groupby(by='cover_start_month')['cover_id'].nunique()\n",
    "display(monthly_cover_count)\n",
    "monthly_cover_count.plot(kind='bar', ylabel='Covers Bought', xlabel='Month', title='Monthly Covers Bought');"
   ]
  },
  {
   "cell_type": "markdown",
   "id": "b00716c5",
   "metadata": {},
   "source": [
    "### Quarterly"
   ]
  },
  {
   "cell_type": "code",
   "execution_count": 85,
   "id": "aa050e70",
   "metadata": {
    "ExecuteTime": {
     "end_time": "2024-04-17T15:59:39.993806Z",
     "start_time": "2024-04-17T15:59:39.711033Z"
    }
   },
   "outputs": [
    {
     "data": {
      "text/plain": [
       "cover_start_quarter\n",
       "2023Q2     73\n",
       "2023Q3    128\n",
       "2023Q4    113\n",
       "2024Q1    199\n",
       "2024Q2     82\n",
       "Freq: Q-DEC, Name: cover_id, dtype: int64"
      ]
     },
     "metadata": {},
     "output_type": "display_data"
    },
    {
     "data": {
      "image/png": "[encoded data removed]",
      "text/plain": [
       "<Figure size 640x480 with 1 Axes>"
      ]
     },
     "metadata": {},
     "output_type": "display_data"
    }
   ],
   "source": [
    "quarterly_cover_count = df_covers_sold_last_year.groupby(by='cover_start_quarter')['cover_id'].nunique()\n",
    "display(quarterly_cover_count)\n",
    "quarterly_cover_count.plot(kind='bar', ylabel='Covers Bought', xlabel='Quarter', title='Quarterly Covers Bought');"
   ]
  },
  {
   "cell_type": "code",
   "execution_count": 14,
   "id": "f4a0a971",
   "metadata": {
    "ExecuteTime": {
     "end_time": "2024-04-15T15:07:26.575660Z",
     "start_time": "2024-04-15T15:07:26.529795Z"
    }
   },
   "outputs": [
    {
     "data": {
      "text/plain": [
       "39.58797846624159"
      ]
     },
     "execution_count": 14,
     "metadata": {},
     "output_type": "execute_result"
    }
   ],
   "source": [
    "# work out cover fees denominated in ETH, allowing for 15% commission\n",
    "commission_share = 0.15\n",
    "\n",
    "monthly_cover_fees_usd = df_covers_30_days['premium_dollar'].sum()\n",
    "monthly_cover_fees_after_commission = monthly_cover_fees_usd * (1 - commission_share)\n",
    "monthly_commission = monthly_cover_fees_usd * commission_share\n",
    "\n",
    "monthly_cover_fees_eth = monthly_cover_fees_usd / eth_usd\n",
    "monthly_cover_fees_eth"
   ]
  },
  {
   "cell_type": "code",
   "execution_count": null,
   "id": "3b72a763",
   "metadata": {},
   "outputs": [],
   "source": []
  }
 ],
 "metadata": {
  "kernelspec": {
   "display_name": "Python 3 (ipykernel)",
   "language": "python",
   "name": "python3"
  },
  "language_info": {
   "codemirror_mode": {
    "name": "ipython",
    "version": 3
   },
   "file_extension": ".py",
   "mimetype": "text/x-python",
   "name": "python",
   "nbconvert_exporter": "python",
   "pygments_lexer": "ipython3",
   "version": "3.10.6"
  },
  "toc": {
   "base_numbering": 1,
   "nav_menu": {},
   "number_sections": true,
   "sideBar": true,
   "skip_h1_title": false,
   "title_cell": "Table of Contents",
   "title_sidebar": "Contents",
   "toc_cell": false,
   "toc_position": {},
   "toc_section_display": true,
   "toc_window_display": false
  }
 },
 "nbformat": 4,
 "nbformat_minor": 5
}
