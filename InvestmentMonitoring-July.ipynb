{
 "cells": [
  {
   "cell_type": "markdown",
   "id": "374372ea",
   "metadata": {},
   "source": [
    "# Imports and Inputs"
   ]
  },
  {
   "cell_type": "code",
   "execution_count": 1,
   "id": "4dc24827",
   "metadata": {
    "ExecuteTime": {
     "end_time": "2024-08-28T08:59:45.159301Z",
     "start_time": "2024-08-28T08:59:44.038336Z"
    }
   },
   "outputs": [
    {
     "name": "stderr",
     "output_type": "stream",
     "text": [
      "/tmp/ipykernel_691/2707571157.py:3: DeprecationWarning: \n",
      "Pyarrow will become a required dependency of pandas in the next major release of pandas (pandas 3.0),\n",
      "(to allow more performant data types, such as the Arrow string type, and better interoperability with other libraries)\n",
      "but was not found to be installed on your system.\n",
      "If this would cause problems for you,\n",
      "please provide us feedback at https://github.com/pandas-dev/pandas/issues/54466\n",
      "        \n",
      "  import pandas as pd\n"
     ]
    }
   ],
   "source": [
    "### Imports of relevant python packages and Dune API Key\n",
    "\n",
    "import pandas as pd\n",
    "import requests\n",
    "import matplotlib.pyplot as plt\n",
    "# import seaborn as sns\n",
    "from datetime import datetime, timedelta, timezone\n",
    "\n",
    "from dune_client.client import DuneClient\n",
    "from config import key\n",
    "\n",
    "# pd.set_option('display.max_rows', None)\n",
    "pd.set_option('display.max_columns', None)"
   ]
  },
  {
   "cell_type": "markdown",
   "id": "27ca9291",
   "metadata": {},
   "source": [
    "Links to dune queries to refresh before importing latest result in cell below:\n",
    "\n",
    "[Capital Pool in ETH](https://dune.com/queries/3773645/6345766?display_currency_e15077=ETH)\n",
    "\n",
    "[RAMM Volumes](https://dune.com/queries/3219988/5394288)\n",
    "\n",
    "[Full List Of Covers V2](https://dune.com/queries/3810247)"
   ]
  },
  {
   "cell_type": "code",
   "execution_count": 2,
   "id": "09516829",
   "metadata": {
    "ExecuteTime": {
     "end_time": "2024-08-28T08:59:51.961758Z",
     "start_time": "2024-08-28T08:59:45.164533Z"
    }
   },
   "outputs": [],
   "source": [
    "# import jsons of capital pool, ramm volume and covers from dune api \n",
    "dune = DuneClient(key)\n",
    "cap_pool_result = dune.get_latest_result_dataframe(3773645) # ensure that the ETH values are latest to be run\n",
    "ramm_volume_result = dune.get_latest_result_dataframe(3219988)\n",
    "covers_list_result = dune.get_latest_result_dataframe(3810247)"
   ]
  },
  {
   "cell_type": "markdown",
   "id": "7afdf7c6",
   "metadata": {},
   "source": [
    "# Investment Newsletter Data"
   ]
  },
  {
   "cell_type": "markdown",
   "id": "b6bc40a9",
   "metadata": {},
   "source": [
    "The following steps and the reasons for them were taken for the July metrics:\n",
    "1. Update the valuation date string (standard each month)"
   ]
  },
  {
   "cell_type": "code",
   "execution_count": 3,
   "id": "1287d51a",
   "metadata": {
    "ExecuteTime": {
     "end_time": "2024-08-28T08:59:52.015794Z",
     "start_time": "2024-08-28T08:59:51.987194Z"
    }
   },
   "outputs": [],
   "source": [
    "# manually input the valuation date as a string in the format 'dd-mm-yyyy'\n",
    "# the valuation date is the final day of the month for which the results are being produced\n",
    "valn_date_str = '31-07-2024'\n",
    "\n",
    "# average days in month\n",
    "avg_days_in_month = 30.436875"
   ]
  },
  {
   "cell_type": "markdown",
   "id": "49eb3223",
   "metadata": {},
   "source": [
    "**Kiln reward calculation**\n",
    "\n",
    "The Kiln rewards are not currently picked up by the Enzyme chainlink oracle and so the metrics are calculated manually in this notebook.\n",
    "\n",
    "Currently the monthly rewards are estimated by inputting the known unclaimed reward amount as at the date of updating the notebook and assuming that the rewards are evenly spread through the days since the last withdrawal.\n",
    "\n",
    "Kiln Rewards - [AB Safe Enzyme App](https://app.safe.global/apps/open?safe=eth:0x51ad1265C8702c9e96Ea61Fe4088C2e22eD4418e&appUrl=https%3A%2F%2Fapp.enzyme.finance)\n",
    "\n",
    "Click Vaults (left sidebar) -> Nexus Mutual Treasury Yield -> 'Portfolio' tab -> Click into Kiln Staking Positions. The relevant value is under 'Total Accrued Rewards'\n",
    "\n",
    "Steps taken to update notebook:\n",
    "\n",
    "2. The Enzyme idle portion was not updated, as the uninvested amount did not change in July. Note that new investments were made from the Enzyme vault in August, where the idle portion was allocated between weETH and the Stakewise/Chorus One position. The rewards from these will need to be allowed for in August.\n",
    "3. The Enzyme_monthly_change amount was removed. There were no additional deposits into the vault in July, unlike June.\n",
    "4. The kiln_current_rewards were updated for the Total Accrued Rewards value read from the instructions above.\n",
    "5. The kiln_first_round rewards represent the amount of rewards earned in the Kiln position before the initial withdrawal of staking rewards between 2024-04-24 and 2024-04-26. This amount, and the kiln_claim_start_date and kiln_claim_end_date will remain unchanged.\n",
    "6. The kiln_deposit_date represents the first deposit into Kiln and will be unchanged."
   ]
  },
  {
   "cell_type": "code",
   "execution_count": 4,
   "id": "8496b4d6",
   "metadata": {
    "ExecuteTime": {
     "end_time": "2024-08-28T08:59:52.082308Z",
     "start_time": "2024-08-28T08:59:52.042286Z"
    }
   },
   "outputs": [],
   "source": [
    "# manually input idle Enzyme Portion\n",
    "Enzyme_idle_portion = 6575.67\n",
    "\n",
    "# manually input kiln rewards\n",
    "\n",
    "# fixed amount representing rewards claimed in April '24 and staked afresh in Kiln\n",
    "kiln_first_round = 181.45\n",
    "\n",
    "# TO UPDATE - current rewards pulled in from Enzyme UI\n",
    "kiln_current = 72.5377\n",
    "\n",
    "# FIXED\n",
    "# create datetime object of 2023/08/30 when the Kiln validators were activated \n",
    "# kiln_deposit_date = datetime(year=2023, month=8, day=30, tzinfo=timezone.utc)\n",
    "kiln_deposit_date = datetime(year=2023, month=8, day=30)\n",
    "# create datetime objects of 2024/04/24 and 2024/04/26 when the Kiln rewards were first claimed.\n",
    "    # Note that the values for 2024/04/25 will be inaccurate\n",
    "# kiln_claim_start_date = datetime(year=2024, month=4, day=24, tzinfo=timezone.utc)\n",
    "# kiln_claim_end_date = datetime(year=2024, month=4, day=26, tzinfo=timezone.utc)\n",
    "kiln_claim_start_date = datetime(year=2024, month=4, day=24)\n",
    "kiln_claim_end_date = datetime(year=2024, month=4, day=26)\n",
    "\n",
    "kiln_total_rewards = kiln_first_round + kiln_current"
   ]
  },
  {
   "cell_type": "markdown",
   "id": "a73e96d1",
   "metadata": {},
   "source": [
    "**Aave USDC Debt Repayments**\n",
    "\n",
    "The below cell takes in the manual inputs related to any USDC debt repayments in the month, to allow for accurately working out the interest on the debt.\n",
    "\n",
    "The relevant values can be found by looking at the historic transactions in the [AB Multisig](https://app.safe.global/transactions/history?safe=eth:0x51ad1265C8702c9e96Ea61Fe4088C2e22eD4418e).\n",
    "* If there is one payment in the valuation month, simply update the information below.\n",
    "* If there are no repayments, comment out the section below and update the calculations in section 2.4.\n",
    "* If there is more than one repayment, then an update to the relevant calculations below and in section 2.4. to include additional payments will be required.\n",
    "\n",
    "Steps taken to update notebook:\n",
    "\n",
    "7. Updated the debtUSDC_monthly_repayment as per the relevant July [transaction](https://etherscan.io/tx/0x181d37cd7a8fcfe5c899142e2d1b0e73b81fd84f639f1c353222fc5dc4da74f0). Note that the USDC amount is used.\n",
    "8. Updated the repayment_date_str to match the day the repayment was made in July '24"
   ]
  },
  {
   "cell_type": "code",
   "execution_count": 5,
   "id": "530eeccc",
   "metadata": {
    "ExecuteTime": {
     "end_time": "2024-08-28T08:59:52.118287Z",
     "start_time": "2024-08-28T08:59:52.090940Z"
    }
   },
   "outputs": [],
   "source": [
    "# manually input debtUSDC repayment size and date of repayment\n",
    "\n",
    "# TO UPDATE from any repayment tx's in month\n",
    "debtUSDC_monthly_repayment = 242_991.668605\n",
    "repayment_date_str = '02-07-2024'\n",
    "\n",
    "# FIXED\n",
    "debtUSDC_repayment_date = datetime.strptime(repayment_date_str, '%d-%m-%Y')"
   ]
  },
  {
   "cell_type": "code",
   "execution_count": 6,
   "id": "e9408efe",
   "metadata": {
    "ExecuteTime": {
     "end_time": "2024-08-28T08:59:52.164122Z",
     "start_time": "2024-08-28T08:59:52.124319Z"
    }
   },
   "outputs": [],
   "source": [
    "# create valuation datetime\n",
    "\n",
    "# valn_date = datetime.strptime(valn_date_str, '%d-%m-%Y').replace(tzinfo=timezone.utc) - timezone UTC if required\n",
    "valn_date = datetime.strptime(valn_date_str, '%d-%m-%Y')\n",
    "\n",
    "# create datetime for the final day in month before valuation month\n",
    "\n",
    "# eom_before_valn_date = datetime(year=valn_date.year, month=valn_date.month, day=1, tzinfo=timezone.utc) - timedelta(days=1) - timezone UTC if required\n",
    "eom_before_valn_date = datetime(year=valn_date.year, month=valn_date.month, day=1) - timedelta(days=1)"
   ]
  },
  {
   "cell_type": "markdown",
   "id": "1cc75bbb",
   "metadata": {},
   "source": [
    "Commented out the coingecko ETH-USD API as it is not used downstream since updating the Dune queries."
   ]
  },
  {
   "cell_type": "code",
   "execution_count": 7,
   "id": "91054a2f",
   "metadata": {
    "ExecuteTime": {
     "end_time": "2024-08-28T08:59:52.211085Z",
     "start_time": "2024-08-28T08:59:52.169094Z"
    }
   },
   "outputs": [],
   "source": [
    "# # coingecko ETH API for ETH-USD at valuation date\n",
    "# url = 'https://api.coingecko.com/api/v3/coins/ethereum/history'\n",
    "# eth_price_params_valn = {'date': valn_date_str}\n",
    "# eth_usd_valn = requests.get(url, params=eth_price_params_valn).json()['market_data']['current_price']['usd']"
   ]
  },
  {
   "cell_type": "markdown",
   "id": "c05ea3f7",
   "metadata": {},
   "source": [
    "## Processing Capital Pool Table"
   ]
  },
  {
   "cell_type": "code",
   "execution_count": 8,
   "id": "e9b7aed8",
   "metadata": {
    "ExecuteTime": {
     "end_time": "2024-08-28T08:59:52.278438Z",
     "start_time": "2024-08-28T08:59:52.215758Z"
    }
   },
   "outputs": [
    {
     "data": {
      "text/html": [
       "<div>\n",
       "<style scoped>\n",
       "    .dataframe tbody tr th:only-of-type {\n",
       "        vertical-align: middle;\n",
       "    }\n",
       "\n",
       "    .dataframe tbody tr th {\n",
       "        vertical-align: top;\n",
       "    }\n",
       "\n",
       "    .dataframe thead th {\n",
       "        text-align: right;\n",
       "    }\n",
       "</style>\n",
       "<table border=\"1\" class=\"dataframe\">\n",
       "  <thead>\n",
       "    <tr style=\"text-align: right;\">\n",
       "      <th></th>\n",
       "      <th>block_date</th>\n",
       "      <th>avg_eth_usd_price</th>\n",
       "      <th>capital_pool_display_curr</th>\n",
       "      <th>eth_display_curr</th>\n",
       "      <th>dai_display_curr</th>\n",
       "      <th>nxmty_display_curr</th>\n",
       "      <th>steth_display_curr</th>\n",
       "      <th>reth_display_curr</th>\n",
       "      <th>usdc_display_curr</th>\n",
       "      <th>cover_re_usdc_display_curr</th>\n",
       "      <th>aave_collateral_weth_display_curr</th>\n",
       "      <th>aave_debt_usdc_display_curr</th>\n",
       "    </tr>\n",
       "  </thead>\n",
       "  <tbody>\n",
       "    <tr>\n",
       "      <th>0</th>\n",
       "      <td>2024-08-28 00:00:00.000 UTC</td>\n",
       "      <td>2459.633676</td>\n",
       "      <td>82074.661647</td>\n",
       "      <td>11932.034443</td>\n",
       "      <td>250.012988</td>\n",
       "      <td>13364.667090</td>\n",
       "      <td>29481.631248</td>\n",
       "      <td>14912.640009</td>\n",
       "      <td>191.676722</td>\n",
       "      <td>4881.237277</td>\n",
       "      <td>9389.971047</td>\n",
       "      <td>-2329.209176</td>\n",
       "    </tr>\n",
       "    <tr>\n",
       "      <th>1</th>\n",
       "      <td>2024-08-27 00:00:00.000 UTC</td>\n",
       "      <td>2624.148681</td>\n",
       "      <td>81889.196546</td>\n",
       "      <td>11939.049229</td>\n",
       "      <td>234.312376</td>\n",
       "      <td>13364.667090</td>\n",
       "      <td>29481.631248</td>\n",
       "      <td>14907.739934</td>\n",
       "      <td>179.670879</td>\n",
       "      <td>4575.496619</td>\n",
       "      <td>9389.858782</td>\n",
       "      <td>-2183.229612</td>\n",
       "    </tr>\n",
       "    <tr>\n",
       "      <th>2</th>\n",
       "      <td>2024-08-26 00:00:00.000 UTC</td>\n",
       "      <td>2727.080104</td>\n",
       "      <td>81881.127923</td>\n",
       "      <td>12051.625548</td>\n",
       "      <td>225.474372</td>\n",
       "      <td>13364.418989</td>\n",
       "      <td>29479.383185</td>\n",
       "      <td>14896.049403</td>\n",
       "      <td>172.833457</td>\n",
       "      <td>4402.123456</td>\n",
       "      <td>9389.380088</td>\n",
       "      <td>-2100.160575</td>\n",
       "    </tr>\n",
       "    <tr>\n",
       "      <th>3</th>\n",
       "      <td>2024-08-25 00:00:00.000 UTC</td>\n",
       "      <td>2765.225937</td>\n",
       "      <td>81916.235196</td>\n",
       "      <td>12133.917858</td>\n",
       "      <td>222.352282</td>\n",
       "      <td>13363.819727</td>\n",
       "      <td>29477.178704</td>\n",
       "      <td>14890.457486</td>\n",
       "      <td>169.336815</td>\n",
       "      <td>4340.845611</td>\n",
       "      <td>9388.921578</td>\n",
       "      <td>-2070.594866</td>\n",
       "    </tr>\n",
       "    <tr>\n",
       "      <th>4</th>\n",
       "      <td>2024-08-24 00:00:00.000 UTC</td>\n",
       "      <td>2768.332083</td>\n",
       "      <td>81991.722879</td>\n",
       "      <td>12215.603906</td>\n",
       "      <td>222.128109</td>\n",
       "      <td>13363.269085</td>\n",
       "      <td>29474.987074</td>\n",
       "      <td>14890.567037</td>\n",
       "      <td>169.113148</td>\n",
       "      <td>4335.112042</td>\n",
       "      <td>9388.468733</td>\n",
       "      <td>-2067.526254</td>\n",
       "    </tr>\n",
       "    <tr>\n",
       "      <th>...</th>\n",
       "      <td>...</td>\n",
       "      <td>...</td>\n",
       "      <td>...</td>\n",
       "      <td>...</td>\n",
       "      <td>...</td>\n",
       "      <td>...</td>\n",
       "      <td>...</td>\n",
       "      <td>...</td>\n",
       "      <td>...</td>\n",
       "      <td>...</td>\n",
       "      <td>...</td>\n",
       "      <td>...</td>\n",
       "    </tr>\n",
       "    <tr>\n",
       "      <th>1920</th>\n",
       "      <td>2019-05-27 00:00:00.000 UTC</td>\n",
       "      <td>268.692708</td>\n",
       "      <td>23.625751</td>\n",
       "      <td>23.625751</td>\n",
       "      <td>0.000000</td>\n",
       "      <td>0.000000</td>\n",
       "      <td>0.000000</td>\n",
       "      <td>0.000000</td>\n",
       "      <td>0.000000</td>\n",
       "      <td>0.000000</td>\n",
       "      <td>0.000000</td>\n",
       "      <td>-0.000000</td>\n",
       "    </tr>\n",
       "    <tr>\n",
       "      <th>1921</th>\n",
       "      <td>2019-05-26 00:00:00.000 UTC</td>\n",
       "      <td>252.561806</td>\n",
       "      <td>23.629793</td>\n",
       "      <td>23.629793</td>\n",
       "      <td>0.000000</td>\n",
       "      <td>0.000000</td>\n",
       "      <td>0.000000</td>\n",
       "      <td>0.000000</td>\n",
       "      <td>0.000000</td>\n",
       "      <td>0.000000</td>\n",
       "      <td>0.000000</td>\n",
       "      <td>-0.000000</td>\n",
       "    </tr>\n",
       "    <tr>\n",
       "      <th>1922</th>\n",
       "      <td>2019-05-25 00:00:00.000 UTC</td>\n",
       "      <td>251.959896</td>\n",
       "      <td>22.633834</td>\n",
       "      <td>22.633834</td>\n",
       "      <td>0.000000</td>\n",
       "      <td>0.000000</td>\n",
       "      <td>0.000000</td>\n",
       "      <td>0.000000</td>\n",
       "      <td>0.000000</td>\n",
       "      <td>0.000000</td>\n",
       "      <td>0.000000</td>\n",
       "      <td>-0.000000</td>\n",
       "    </tr>\n",
       "    <tr>\n",
       "      <th>1923</th>\n",
       "      <td>2019-05-24 00:00:00.000 UTC</td>\n",
       "      <td>249.477361</td>\n",
       "      <td>21.537876</td>\n",
       "      <td>21.537876</td>\n",
       "      <td>0.000000</td>\n",
       "      <td>0.000000</td>\n",
       "      <td>0.000000</td>\n",
       "      <td>0.000000</td>\n",
       "      <td>0.000000</td>\n",
       "      <td>0.000000</td>\n",
       "      <td>0.000000</td>\n",
       "      <td>-0.000000</td>\n",
       "    </tr>\n",
       "    <tr>\n",
       "      <th>1924</th>\n",
       "      <td>2019-05-23 00:00:00.000 UTC</td>\n",
       "      <td>241.129757</td>\n",
       "      <td>0.095959</td>\n",
       "      <td>0.095959</td>\n",
       "      <td>0.000000</td>\n",
       "      <td>0.000000</td>\n",
       "      <td>0.000000</td>\n",
       "      <td>0.000000</td>\n",
       "      <td>0.000000</td>\n",
       "      <td>0.000000</td>\n",
       "      <td>0.000000</td>\n",
       "      <td>-0.000000</td>\n",
       "    </tr>\n",
       "  </tbody>\n",
       "</table>\n",
       "<p>1925 rows × 12 columns</p>\n",
       "</div>"
      ],
      "text/plain": [
       "                       block_date  avg_eth_usd_price  \\\n",
       "0     2024-08-28 00:00:00.000 UTC        2459.633676   \n",
       "1     2024-08-27 00:00:00.000 UTC        2624.148681   \n",
       "2     2024-08-26 00:00:00.000 UTC        2727.080104   \n",
       "3     2024-08-25 00:00:00.000 UTC        2765.225937   \n",
       "4     2024-08-24 00:00:00.000 UTC        2768.332083   \n",
       "...                           ...                ...   \n",
       "1920  2019-05-27 00:00:00.000 UTC         268.692708   \n",
       "1921  2019-05-26 00:00:00.000 UTC         252.561806   \n",
       "1922  2019-05-25 00:00:00.000 UTC         251.959896   \n",
       "1923  2019-05-24 00:00:00.000 UTC         249.477361   \n",
       "1924  2019-05-23 00:00:00.000 UTC         241.129757   \n",
       "\n",
       "      capital_pool_display_curr  eth_display_curr  dai_display_curr  \\\n",
       "0                  82074.661647      11932.034443        250.012988   \n",
       "1                  81889.196546      11939.049229        234.312376   \n",
       "2                  81881.127923      12051.625548        225.474372   \n",
       "3                  81916.235196      12133.917858        222.352282   \n",
       "4                  81991.722879      12215.603906        222.128109   \n",
       "...                         ...               ...               ...   \n",
       "1920                  23.625751         23.625751          0.000000   \n",
       "1921                  23.629793         23.629793          0.000000   \n",
       "1922                  22.633834         22.633834          0.000000   \n",
       "1923                  21.537876         21.537876          0.000000   \n",
       "1924                   0.095959          0.095959          0.000000   \n",
       "\n",
       "      nxmty_display_curr  steth_display_curr  reth_display_curr  \\\n",
       "0           13364.667090        29481.631248       14912.640009   \n",
       "1           13364.667090        29481.631248       14907.739934   \n",
       "2           13364.418989        29479.383185       14896.049403   \n",
       "3           13363.819727        29477.178704       14890.457486   \n",
       "4           13363.269085        29474.987074       14890.567037   \n",
       "...                  ...                 ...                ...   \n",
       "1920            0.000000            0.000000           0.000000   \n",
       "1921            0.000000            0.000000           0.000000   \n",
       "1922            0.000000            0.000000           0.000000   \n",
       "1923            0.000000            0.000000           0.000000   \n",
       "1924            0.000000            0.000000           0.000000   \n",
       "\n",
       "      usdc_display_curr  cover_re_usdc_display_curr  \\\n",
       "0            191.676722                 4881.237277   \n",
       "1            179.670879                 4575.496619   \n",
       "2            172.833457                 4402.123456   \n",
       "3            169.336815                 4340.845611   \n",
       "4            169.113148                 4335.112042   \n",
       "...                 ...                         ...   \n",
       "1920           0.000000                    0.000000   \n",
       "1921           0.000000                    0.000000   \n",
       "1922           0.000000                    0.000000   \n",
       "1923           0.000000                    0.000000   \n",
       "1924           0.000000                    0.000000   \n",
       "\n",
       "      aave_collateral_weth_display_curr  aave_debt_usdc_display_curr  \n",
       "0                           9389.971047                 -2329.209176  \n",
       "1                           9389.858782                 -2183.229612  \n",
       "2                           9389.380088                 -2100.160575  \n",
       "3                           9388.921578                 -2070.594866  \n",
       "4                           9388.468733                 -2067.526254  \n",
       "...                                 ...                          ...  \n",
       "1920                           0.000000                    -0.000000  \n",
       "1921                           0.000000                    -0.000000  \n",
       "1922                           0.000000                    -0.000000  \n",
       "1923                           0.000000                    -0.000000  \n",
       "1924                           0.000000                    -0.000000  \n",
       "\n",
       "[1925 rows x 12 columns]"
      ]
     },
     "execution_count": 8,
     "metadata": {},
     "output_type": "execute_result"
    }
   ],
   "source": [
    "cap_pool_result"
   ]
  },
  {
   "cell_type": "code",
   "execution_count": 9,
   "id": "21a3ea42",
   "metadata": {
    "ExecuteTime": {
     "end_time": "2024-08-28T08:59:52.418557Z",
     "start_time": "2024-08-28T08:59:52.286843Z"
    }
   },
   "outputs": [
    {
     "name": "stderr",
     "output_type": "stream",
     "text": [
      "/tmp/ipykernel_691/3482859299.py:38: FutureWarning: Setting an item of incompatible dtype is deprecated and will raise an error in a future version of pandas. Value '[  181.45         180.68760504   179.92521008 ... -1187.81134454\n",
      " -1188.5737395  -1189.33613445]' has dtype incompatible with int64, please explicitly cast to a compatible dtype first.\n",
      "  df_cap.loc[df_cap['day'] <= kiln_claim_start_date, 'kiln_rewards'] = daily_first_kiln_rewards * ((df_cap['day'] - kiln_deposit_date) / timedelta(days=1))\n"
     ]
    }
   ],
   "source": [
    "# process capital pool table\n",
    "\n",
    "df_cap_raw = cap_pool_result\n",
    "\n",
    "# drop moving average columns\n",
    "df_cap = df_cap_raw.drop(columns=['capital_pool_display_curr'])\n",
    "# rename columns\n",
    "df_cap.rename(columns={'eth_display_curr': 'ETH',\n",
    "                       'dai_display_curr': 'DAI',\n",
    "                       'reth_display_curr': 'rETH',\n",
    "                       'steth_display_curr': 'stETH',\n",
    "                       'nxmty_display_curr': 'Enzyme',\n",
    "                       'usdc_display_curr': 'USDC',\n",
    "                       'cover_re_usdc_display_curr': 'Cover Re',\n",
    "                       'aave_collateral_weth_display_curr': 'aEthWETH',\n",
    "                       'aave_debt_usdc_display_curr': 'variableDebtEthUSDC',\n",
    "                       'avg_eth_usd_price': 'rate_ETH_USD',\n",
    "                       'block_date': 'day'\n",
    "                  }, inplace=True)\n",
    "\n",
    "\n",
    "# change day to a datetime, and remove timezone\n",
    "df_cap['day'] = pd.to_datetime(df_cap['day']).dt.tz_localize(None)\n",
    "\n",
    "# Adjust Enzyme for unclaimed Kiln returns\n",
    "    # work out days since kiln deposit from the latest day and work out the rewards per day\n",
    "days_first_kiln_rewards = (kiln_claim_start_date - kiln_deposit_date)/timedelta(days=1)\n",
    "daily_first_kiln_rewards = kiln_first_round/days_first_kiln_rewards\n",
    "\n",
    "days_current_kiln_rewards = (df_cap.iloc[0]['day'] - kiln_claim_end_date)/timedelta(days=1)\n",
    "daily_current_kiln_rewards = kiln_current/days_current_kiln_rewards\n",
    "\n",
    "days_total_kiln_rewards = (df_cap.iloc[0]['day'] - kiln_deposit_date)/timedelta(days=1)\n",
    "daily_total_kiln_rewards = kiln_total_rewards / days_total_kiln_rewards\n",
    "\n",
    "    # create a column for kiln rewards based on the daily values since validators went live\n",
    "df_cap['kiln_rewards'] = 0\n",
    "df_cap.loc[df_cap['day'] <= kiln_claim_start_date, 'kiln_rewards'] = daily_first_kiln_rewards * ((df_cap['day'] - kiln_deposit_date) / timedelta(days=1))\n",
    "df_cap.loc[df_cap['day'] >= kiln_claim_end_date, 'kiln_rewards'] = daily_current_kiln_rewards * ((df_cap['day'] - kiln_claim_end_date) / timedelta(days=1))\n",
    "df_cap.loc[df_cap['kiln_rewards'] < 0, 'kiln_rewards'] = 0\n",
    "\n",
    "    # Add Kiln rewards to Enzyme column and then drop the Kiln rewards column\n",
    "df_cap['Enzyme'] = df_cap['Enzyme'] + df_cap['kiln_rewards']\n",
    "df_cap.drop(columns=['kiln_rewards'], inplace=True)\n",
    "\n",
    "# add all the columns except day and the exchange rate together to get numeric total\n",
    "df_cap['sum'] = df_cap.drop(columns=['day', 'rate_ETH_USD']).sum(axis=1)\n",
    "\n",
    "# work out net aave position\n",
    "df_cap['Aave (net)'] = df_cap['aEthWETH'] + df_cap['variableDebtEthUSDC']"
   ]
  },
  {
   "cell_type": "code",
   "execution_count": 10,
   "id": "201aae9f",
   "metadata": {
    "ExecuteTime": {
     "end_time": "2024-08-28T08:59:52.471724Z",
     "start_time": "2024-08-28T08:59:52.424281Z"
    }
   },
   "outputs": [
    {
     "data": {
      "text/html": [
       "<div>\n",
       "<style scoped>\n",
       "    .dataframe tbody tr th:only-of-type {\n",
       "        vertical-align: middle;\n",
       "    }\n",
       "\n",
       "    .dataframe tbody tr th {\n",
       "        vertical-align: top;\n",
       "    }\n",
       "\n",
       "    .dataframe thead th {\n",
       "        text-align: right;\n",
       "    }\n",
       "</style>\n",
       "<table border=\"1\" class=\"dataframe\">\n",
       "  <thead>\n",
       "    <tr style=\"text-align: right;\">\n",
       "      <th></th>\n",
       "      <th>day</th>\n",
       "      <th>rate_ETH_USD</th>\n",
       "      <th>ETH</th>\n",
       "      <th>DAI</th>\n",
       "      <th>Enzyme</th>\n",
       "      <th>stETH</th>\n",
       "      <th>rETH</th>\n",
       "      <th>USDC</th>\n",
       "      <th>Cover Re</th>\n",
       "      <th>aEthWETH</th>\n",
       "      <th>variableDebtEthUSDC</th>\n",
       "      <th>sum</th>\n",
       "      <th>Aave (net)</th>\n",
       "    </tr>\n",
       "  </thead>\n",
       "  <tbody>\n",
       "    <tr>\n",
       "      <th>28</th>\n",
       "      <td>2024-07-31</td>\n",
       "      <td>3294.723889</td>\n",
       "      <td>10088.430440</td>\n",
       "      <td>265.647244</td>\n",
       "      <td>13412.351744</td>\n",
       "      <td>33797.130644</td>\n",
       "      <td>14940.849537</td>\n",
       "      <td>88.406994</td>\n",
       "      <td>3644.911502</td>\n",
       "      <td>9376.283703</td>\n",
       "      <td>-1814.404930</td>\n",
       "      <td>83799.606879</td>\n",
       "      <td>7561.878773</td>\n",
       "    </tr>\n",
       "    <tr>\n",
       "      <th>29</th>\n",
       "      <td>2024-07-30</td>\n",
       "      <td>3314.470521</td>\n",
       "      <td>10097.995470</td>\n",
       "      <td>263.990272</td>\n",
       "      <td>13411.819835</td>\n",
       "      <td>33794.360984</td>\n",
       "      <td>14934.326317</td>\n",
       "      <td>87.879470</td>\n",
       "      <td>3623.162309</td>\n",
       "      <td>9375.774759</td>\n",
       "      <td>-1803.247196</td>\n",
       "      <td>83786.062223</td>\n",
       "      <td>7572.527564</td>\n",
       "    </tr>\n",
       "    <tr>\n",
       "      <th>30</th>\n",
       "      <td>2024-07-29</td>\n",
       "      <td>3338.016597</td>\n",
       "      <td>10102.460643</td>\n",
       "      <td>262.120590</td>\n",
       "      <td>13411.287920</td>\n",
       "      <td>33791.665278</td>\n",
       "      <td>14941.332128</td>\n",
       "      <td>87.198791</td>\n",
       "      <td>3595.098749</td>\n",
       "      <td>9375.256442</td>\n",
       "      <td>-1788.958169</td>\n",
       "      <td>83777.462370</td>\n",
       "      <td>7586.298272</td>\n",
       "    </tr>\n",
       "    <tr>\n",
       "      <th>31</th>\n",
       "      <td>2024-07-28</td>\n",
       "      <td>3254.711215</td>\n",
       "      <td>10119.162008</td>\n",
       "      <td>268.852144</td>\n",
       "      <td>13410.756009</td>\n",
       "      <td>33789.064763</td>\n",
       "      <td>14950.382520</td>\n",
       "      <td>73.604658</td>\n",
       "      <td>3689.114793</td>\n",
       "      <td>9374.737096</td>\n",
       "      <td>-1835.422303</td>\n",
       "      <td>83840.251689</td>\n",
       "      <td>7539.314793</td>\n",
       "    </tr>\n",
       "    <tr>\n",
       "      <th>32</th>\n",
       "      <td>2024-07-27</td>\n",
       "      <td>3271.976701</td>\n",
       "      <td>10149.045645</td>\n",
       "      <td>267.350750</td>\n",
       "      <td>13410.224105</td>\n",
       "      <td>33786.268033</td>\n",
       "      <td>14954.406398</td>\n",
       "      <td>73.201482</td>\n",
       "      <td>3668.907339</td>\n",
       "      <td>9374.215126</td>\n",
       "      <td>-1825.052411</td>\n",
       "      <td>83858.566466</td>\n",
       "      <td>7549.162715</td>\n",
       "    </tr>\n",
       "    <tr>\n",
       "      <th>33</th>\n",
       "      <td>2024-07-26</td>\n",
       "      <td>3249.729063</td>\n",
       "      <td>10162.475635</td>\n",
       "      <td>269.326295</td>\n",
       "      <td>13409.692198</td>\n",
       "      <td>33783.666787</td>\n",
       "      <td>14946.891879</td>\n",
       "      <td>73.711209</td>\n",
       "      <td>3694.455182</td>\n",
       "      <td>9373.694528</td>\n",
       "      <td>-1837.449751</td>\n",
       "      <td>83876.463962</td>\n",
       "      <td>7536.244777</td>\n",
       "    </tr>\n",
       "    <tr>\n",
       "      <th>34</th>\n",
       "      <td>2024-07-25</td>\n",
       "      <td>3175.670312</td>\n",
       "      <td>10163.703026</td>\n",
       "      <td>275.588677</td>\n",
       "      <td>13409.160279</td>\n",
       "      <td>33780.953616</td>\n",
       "      <td>14962.510270</td>\n",
       "      <td>71.033544</td>\n",
       "      <td>3781.248034</td>\n",
       "      <td>9373.165934</td>\n",
       "      <td>-1880.300375</td>\n",
       "      <td>83937.063005</td>\n",
       "      <td>7492.865558</td>\n",
       "    </tr>\n",
       "    <tr>\n",
       "      <th>35</th>\n",
       "      <td>2024-07-24</td>\n",
       "      <td>3428.500347</td>\n",
       "      <td>10169.084969</td>\n",
       "      <td>255.090635</td>\n",
       "      <td>13408.628383</td>\n",
       "      <td>33778.182955</td>\n",
       "      <td>14954.485192</td>\n",
       "      <td>65.757058</td>\n",
       "      <td>3501.523125</td>\n",
       "      <td>9372.469404</td>\n",
       "      <td>-1740.880106</td>\n",
       "      <td>83764.341615</td>\n",
       "      <td>7631.589297</td>\n",
       "    </tr>\n",
       "    <tr>\n",
       "      <th>36</th>\n",
       "      <td>2024-07-23</td>\n",
       "      <td>3473.101007</td>\n",
       "      <td>10438.761415</td>\n",
       "      <td>251.877939</td>\n",
       "      <td>13408.096473</td>\n",
       "      <td>33775.453178</td>\n",
       "      <td>14935.137775</td>\n",
       "      <td>64.899737</td>\n",
       "      <td>3455.871286</td>\n",
       "      <td>9371.942731</td>\n",
       "      <td>-1717.783692</td>\n",
       "      <td>83984.256841</td>\n",
       "      <td>7654.159039</td>\n",
       "    </tr>\n",
       "    <tr>\n",
       "      <th>37</th>\n",
       "      <td>2024-07-22</td>\n",
       "      <td>3488.918125</td>\n",
       "      <td>10454.387240</td>\n",
       "      <td>250.738478</td>\n",
       "      <td>13407.564556</td>\n",
       "      <td>33772.683826</td>\n",
       "      <td>14946.503915</td>\n",
       "      <td>63.451848</td>\n",
       "      <td>3440.361724</td>\n",
       "      <td>9371.452465</td>\n",
       "      <td>-1709.678618</td>\n",
       "      <td>83997.465432</td>\n",
       "      <td>7661.773846</td>\n",
       "    </tr>\n",
       "    <tr>\n",
       "      <th>38</th>\n",
       "      <td>2024-07-21</td>\n",
       "      <td>3505.056250</td>\n",
       "      <td>10467.302660</td>\n",
       "      <td>249.607210</td>\n",
       "      <td>13407.032649</td>\n",
       "      <td>33769.800243</td>\n",
       "      <td>14951.764626</td>\n",
       "      <td>63.167951</td>\n",
       "      <td>3424.968798</td>\n",
       "      <td>9370.983357</td>\n",
       "      <td>-1701.638903</td>\n",
       "      <td>84002.988592</td>\n",
       "      <td>7669.344454</td>\n",
       "    </tr>\n",
       "    <tr>\n",
       "      <th>39</th>\n",
       "      <td>2024-07-20</td>\n",
       "      <td>3504.683021</td>\n",
       "      <td>10505.250175</td>\n",
       "      <td>249.639190</td>\n",
       "      <td>13406.500743</td>\n",
       "      <td>33767.183720</td>\n",
       "      <td>14944.119542</td>\n",
       "      <td>63.167906</td>\n",
       "      <td>3424.966363</td>\n",
       "      <td>9370.519852</td>\n",
       "      <td>-1701.242307</td>\n",
       "      <td>84030.105182</td>\n",
       "      <td>7669.277544</td>\n",
       "    </tr>\n",
       "    <tr>\n",
       "      <th>40</th>\n",
       "      <td>2024-07-19</td>\n",
       "      <td>3448.571146</td>\n",
       "      <td>10525.295364</td>\n",
       "      <td>253.686974</td>\n",
       "      <td>13405.968830</td>\n",
       "      <td>33764.515780</td>\n",
       "      <td>14956.668387</td>\n",
       "      <td>64.165800</td>\n",
       "      <td>3481.316184</td>\n",
       "      <td>9370.059902</td>\n",
       "      <td>-1728.840052</td>\n",
       "      <td>84092.837168</td>\n",
       "      <td>7641.219850</td>\n",
       "    </tr>\n",
       "    <tr>\n",
       "      <th>41</th>\n",
       "      <td>2024-07-18</td>\n",
       "      <td>3429.033507</td>\n",
       "      <td>10532.236323</td>\n",
       "      <td>255.148920</td>\n",
       "      <td>13405.436924</td>\n",
       "      <td>33761.608976</td>\n",
       "      <td>14933.262824</td>\n",
       "      <td>53.874868</td>\n",
       "      <td>3501.009485</td>\n",
       "      <td>9369.577851</td>\n",
       "      <td>-1738.242689</td>\n",
       "      <td>84073.913482</td>\n",
       "      <td>7631.335161</td>\n",
       "    </tr>\n",
       "    <tr>\n",
       "      <th>42</th>\n",
       "      <td>2024-07-17</td>\n",
       "      <td>3455.856875</td>\n",
       "      <td>10531.922674</td>\n",
       "      <td>253.190911</td>\n",
       "      <td>13404.905015</td>\n",
       "      <td>33758.524209</td>\n",
       "      <td>14930.776634</td>\n",
       "      <td>53.439127</td>\n",
       "      <td>3472.693247</td>\n",
       "      <td>9369.093328</td>\n",
       "      <td>-1723.810025</td>\n",
       "      <td>84050.735121</td>\n",
       "      <td>7645.283303</td>\n",
       "    </tr>\n",
       "    <tr>\n",
       "      <th>43</th>\n",
       "      <td>2024-07-16</td>\n",
       "      <td>3437.831528</td>\n",
       "      <td>10837.601346</td>\n",
       "      <td>254.540048</td>\n",
       "      <td>13404.373103</td>\n",
       "      <td>33755.620433</td>\n",
       "      <td>14941.938787</td>\n",
       "      <td>53.718932</td>\n",
       "      <td>3490.876112</td>\n",
       "      <td>9368.613671</td>\n",
       "      <td>-1732.459564</td>\n",
       "      <td>84374.822867</td>\n",
       "      <td>7636.154107</td>\n",
       "    </tr>\n",
       "    <tr>\n",
       "      <th>44</th>\n",
       "      <td>2024-07-15</td>\n",
       "      <td>3364.209271</td>\n",
       "      <td>10833.372921</td>\n",
       "      <td>260.135229</td>\n",
       "      <td>13403.841194</td>\n",
       "      <td>33752.785907</td>\n",
       "      <td>14938.180646</td>\n",
       "      <td>54.901430</td>\n",
       "      <td>3567.719693</td>\n",
       "      <td>9368.127961</td>\n",
       "      <td>-1770.212122</td>\n",
       "      <td>84408.852859</td>\n",
       "      <td>7597.915839</td>\n",
       "    </tr>\n",
       "    <tr>\n",
       "      <th>45</th>\n",
       "      <td>2024-07-14</td>\n",
       "      <td>3199.488889</td>\n",
       "      <td>11041.245698</td>\n",
       "      <td>273.434155</td>\n",
       "      <td>13403.309289</td>\n",
       "      <td>33750.090492</td>\n",
       "      <td>14948.434506</td>\n",
       "      <td>53.856245</td>\n",
       "      <td>3750.998350</td>\n",
       "      <td>9367.630719</td>\n",
       "      <td>-1860.748457</td>\n",
       "      <td>84728.250996</td>\n",
       "      <td>7506.882263</td>\n",
       "    </tr>\n",
       "    <tr>\n",
       "      <th>46</th>\n",
       "      <td>2024-07-13</td>\n",
       "      <td>3149.293264</td>\n",
       "      <td>11042.146019</td>\n",
       "      <td>277.894532</td>\n",
       "      <td>13402.777381</td>\n",
       "      <td>33747.399445</td>\n",
       "      <td>14962.751601</td>\n",
       "      <td>54.731217</td>\n",
       "      <td>3811.938688</td>\n",
       "      <td>9367.112842</td>\n",
       "      <td>-1890.575697</td>\n",
       "      <td>84776.176028</td>\n",
       "      <td>7476.537146</td>\n",
       "    </tr>\n",
       "    <tr>\n",
       "      <th>47</th>\n",
       "      <td>2024-07-12</td>\n",
       "      <td>3103.268750</td>\n",
       "      <td>11251.923670</td>\n",
       "      <td>282.047622</td>\n",
       "      <td>13402.245473</td>\n",
       "      <td>33744.719030</td>\n",
       "      <td>14948.418123</td>\n",
       "      <td>55.559456</td>\n",
       "      <td>3869.624193</td>\n",
       "      <td>9366.589340</td>\n",
       "      <td>-1918.778964</td>\n",
       "      <td>85002.347942</td>\n",
       "      <td>7447.810376</td>\n",
       "    </tr>\n",
       "    <tr>\n",
       "      <th>48</th>\n",
       "      <td>2024-07-11</td>\n",
       "      <td>3121.922014</td>\n",
       "      <td>11252.559818</td>\n",
       "      <td>280.359221</td>\n",
       "      <td>13401.711531</td>\n",
       "      <td>33741.896268</td>\n",
       "      <td>14938.081800</td>\n",
       "      <td>55.230384</td>\n",
       "      <td>3846.704900</td>\n",
       "      <td>9366.068827</td>\n",
       "      <td>-1907.024930</td>\n",
       "      <td>84975.587820</td>\n",
       "      <td>7459.043897</td>\n",
       "    </tr>\n",
       "    <tr>\n",
       "      <th>49</th>\n",
       "      <td>2024-07-10</td>\n",
       "      <td>3098.210799</td>\n",
       "      <td>11252.559818</td>\n",
       "      <td>282.519939</td>\n",
       "      <td>13401.179619</td>\n",
       "      <td>33739.125612</td>\n",
       "      <td>14937.465138</td>\n",
       "      <td>47.441430</td>\n",
       "      <td>3876.356761</td>\n",
       "      <td>9365.546142</td>\n",
       "      <td>-1921.332657</td>\n",
       "      <td>84980.861803</td>\n",
       "      <td>7444.213485</td>\n",
       "    </tr>\n",
       "    <tr>\n",
       "      <th>50</th>\n",
       "      <td>2024-07-09</td>\n",
       "      <td>3066.851146</td>\n",
       "      <td>11642.081074</td>\n",
       "      <td>285.431498</td>\n",
       "      <td>13400.647716</td>\n",
       "      <td>33736.307317</td>\n",
       "      <td>14940.247460</td>\n",
       "      <td>47.930794</td>\n",
       "      <td>3916.341812</td>\n",
       "      <td>9364.809878</td>\n",
       "      <td>-1940.755105</td>\n",
       "      <td>85393.042444</td>\n",
       "      <td>7424.054773</td>\n",
       "    </tr>\n",
       "    <tr>\n",
       "      <th>51</th>\n",
       "      <td>2024-07-08</td>\n",
       "      <td>2977.059618</td>\n",
       "      <td>11667.934130</td>\n",
       "      <td>293.949347</td>\n",
       "      <td>13400.115812</td>\n",
       "      <td>33733.564280</td>\n",
       "      <td>14928.803988</td>\n",
       "      <td>49.375984</td>\n",
       "      <td>4034.425784</td>\n",
       "      <td>9364.273036</td>\n",
       "      <td>-1998.863385</td>\n",
       "      <td>85473.578977</td>\n",
       "      <td>7365.409651</td>\n",
       "    </tr>\n",
       "    <tr>\n",
       "      <th>52</th>\n",
       "      <td>2024-07-07</td>\n",
       "      <td>3009.160278</td>\n",
       "      <td>11695.956754</td>\n",
       "      <td>287.226539</td>\n",
       "      <td>13399.583901</td>\n",
       "      <td>33730.867476</td>\n",
       "      <td>14910.720762</td>\n",
       "      <td>47.548179</td>\n",
       "      <td>3992.956484</td>\n",
       "      <td>9363.743424</td>\n",
       "      <td>-1977.898027</td>\n",
       "      <td>85450.705493</td>\n",
       "      <td>7385.845397</td>\n",
       "    </tr>\n",
       "    <tr>\n",
       "      <th>53</th>\n",
       "      <td>2024-07-06</td>\n",
       "      <td>3017.241285</td>\n",
       "      <td>11743.518308</td>\n",
       "      <td>286.554869</td>\n",
       "      <td>13399.051998</td>\n",
       "      <td>33728.248563</td>\n",
       "      <td>14918.643381</td>\n",
       "      <td>47.400924</td>\n",
       "      <td>3980.590433</td>\n",
       "      <td>9363.198952</td>\n",
       "      <td>-1971.324263</td>\n",
       "      <td>85495.883166</td>\n",
       "      <td>7391.874690</td>\n",
       "    </tr>\n",
       "    <tr>\n",
       "      <th>54</th>\n",
       "      <td>2024-07-05</td>\n",
       "      <td>2958.859653</td>\n",
       "      <td>11775.097437</td>\n",
       "      <td>292.302046</td>\n",
       "      <td>13398.520088</td>\n",
       "      <td>33725.447282</td>\n",
       "      <td>14917.314940</td>\n",
       "      <td>48.342809</td>\n",
       "      <td>4059.687174</td>\n",
       "      <td>9362.404862</td>\n",
       "      <td>-2010.064097</td>\n",
       "      <td>85569.052541</td>\n",
       "      <td>7352.340765</td>\n",
       "    </tr>\n",
       "    <tr>\n",
       "      <th>55</th>\n",
       "      <td>2024-07-04</td>\n",
       "      <td>3173.769271</td>\n",
       "      <td>11810.712838</td>\n",
       "      <td>272.497869</td>\n",
       "      <td>13397.988185</td>\n",
       "      <td>33721.674856</td>\n",
       "      <td>14921.393155</td>\n",
       "      <td>45.067498</td>\n",
       "      <td>3784.636164</td>\n",
       "      <td>9361.720635</td>\n",
       "      <td>-1873.470216</td>\n",
       "      <td>85442.220984</td>\n",
       "      <td>7488.250419</td>\n",
       "    </tr>\n",
       "    <tr>\n",
       "      <th>56</th>\n",
       "      <td>2024-07-03</td>\n",
       "      <td>3331.333056</td>\n",
       "      <td>11831.125135</td>\n",
       "      <td>259.584834</td>\n",
       "      <td>13397.456268</td>\n",
       "      <td>33718.534579</td>\n",
       "      <td>14847.629481</td>\n",
       "      <td>42.950579</td>\n",
       "      <td>3606.863494</td>\n",
       "      <td>9360.969637</td>\n",
       "      <td>-1785.053389</td>\n",
       "      <td>85280.060618</td>\n",
       "      <td>7575.916248</td>\n",
       "    </tr>\n",
       "    <tr>\n",
       "      <th>57</th>\n",
       "      <td>2024-07-02</td>\n",
       "      <td>3436.515174</td>\n",
       "      <td>11854.906196</td>\n",
       "      <td>251.583948</td>\n",
       "      <td>13396.924366</td>\n",
       "      <td>33715.727818</td>\n",
       "      <td>14839.098715</td>\n",
       "      <td>41.163116</td>\n",
       "      <td>3495.055655</td>\n",
       "      <td>9360.453379</td>\n",
       "      <td>-1729.309447</td>\n",
       "      <td>85225.603745</td>\n",
       "      <td>7631.143933</td>\n",
       "    </tr>\n",
       "    <tr>\n",
       "      <th>58</th>\n",
       "      <td>2024-07-01</td>\n",
       "      <td>3473.750903</td>\n",
       "      <td>11873.158217</td>\n",
       "      <td>317.516737</td>\n",
       "      <td>13396.392471</td>\n",
       "      <td>33712.981180</td>\n",
       "      <td>14832.388136</td>\n",
       "      <td>40.717497</td>\n",
       "      <td>3457.219325</td>\n",
       "      <td>9359.957564</td>\n",
       "      <td>-1780.181115</td>\n",
       "      <td>85210.150012</td>\n",
       "      <td>7579.776449</td>\n",
       "    </tr>\n",
       "    <tr>\n",
       "      <th>59</th>\n",
       "      <td>2024-06-30</td>\n",
       "      <td>3394.925833</td>\n",
       "      <td>11835.625263</td>\n",
       "      <td>325.006496</td>\n",
       "      <td>13395.860569</td>\n",
       "      <td>33710.214237</td>\n",
       "      <td>14830.813773</td>\n",
       "      <td>14.851334</td>\n",
       "      <td>3538.857746</td>\n",
       "      <td>9359.454448</td>\n",
       "      <td>-1821.780069</td>\n",
       "      <td>85188.903797</td>\n",
       "      <td>7537.674379</td>\n",
       "    </tr>\n",
       "  </tbody>\n",
       "</table>\n",
       "</div>"
      ],
      "text/plain": [
       "          day  rate_ETH_USD           ETH         DAI        Enzyme  \\\n",
       "28 2024-07-31   3294.723889  10088.430440  265.647244  13412.351744   \n",
       "29 2024-07-30   3314.470521  10097.995470  263.990272  13411.819835   \n",
       "30 2024-07-29   3338.016597  10102.460643  262.120590  13411.287920   \n",
       "31 2024-07-28   3254.711215  10119.162008  268.852144  13410.756009   \n",
       "32 2024-07-27   3271.976701  10149.045645  267.350750  13410.224105   \n",
       "33 2024-07-26   3249.729063  10162.475635  269.326295  13409.692198   \n",
       "34 2024-07-25   3175.670312  10163.703026  275.588677  13409.160279   \n",
       "35 2024-07-24   3428.500347  10169.084969  255.090635  13408.628383   \n",
       "36 2024-07-23   3473.101007  10438.761415  251.877939  13408.096473   \n",
       "37 2024-07-22   3488.918125  10454.387240  250.738478  13407.564556   \n",
       "38 2024-07-21   3505.056250  10467.302660  249.607210  13407.032649   \n",
       "39 2024-07-20   3504.683021  10505.250175  249.639190  13406.500743   \n",
       "40 2024-07-19   3448.571146  10525.295364  253.686974  13405.968830   \n",
       "41 2024-07-18   3429.033507  10532.236323  255.148920  13405.436924   \n",
       "42 2024-07-17   3455.856875  10531.922674  253.190911  13404.905015   \n",
       "43 2024-07-16   3437.831528  10837.601346  254.540048  13404.373103   \n",
       "44 2024-07-15   3364.209271  10833.372921  260.135229  13403.841194   \n",
       "45 2024-07-14   3199.488889  11041.245698  273.434155  13403.309289   \n",
       "46 2024-07-13   3149.293264  11042.146019  277.894532  13402.777381   \n",
       "47 2024-07-12   3103.268750  11251.923670  282.047622  13402.245473   \n",
       "48 2024-07-11   3121.922014  11252.559818  280.359221  13401.711531   \n",
       "49 2024-07-10   3098.210799  11252.559818  282.519939  13401.179619   \n",
       "50 2024-07-09   3066.851146  11642.081074  285.431498  13400.647716   \n",
       "51 2024-07-08   2977.059618  11667.934130  293.949347  13400.115812   \n",
       "52 2024-07-07   3009.160278  11695.956754  287.226539  13399.583901   \n",
       "53 2024-07-06   3017.241285  11743.518308  286.554869  13399.051998   \n",
       "54 2024-07-05   2958.859653  11775.097437  292.302046  13398.520088   \n",
       "55 2024-07-04   3173.769271  11810.712838  272.497869  13397.988185   \n",
       "56 2024-07-03   3331.333056  11831.125135  259.584834  13397.456268   \n",
       "57 2024-07-02   3436.515174  11854.906196  251.583948  13396.924366   \n",
       "58 2024-07-01   3473.750903  11873.158217  317.516737  13396.392471   \n",
       "59 2024-06-30   3394.925833  11835.625263  325.006496  13395.860569   \n",
       "\n",
       "           stETH          rETH       USDC     Cover Re     aEthWETH  \\\n",
       "28  33797.130644  14940.849537  88.406994  3644.911502  9376.283703   \n",
       "29  33794.360984  14934.326317  87.879470  3623.162309  9375.774759   \n",
       "30  33791.665278  14941.332128  87.198791  3595.098749  9375.256442   \n",
       "31  33789.064763  14950.382520  73.604658  3689.114793  9374.737096   \n",
       "32  33786.268033  14954.406398  73.201482  3668.907339  9374.215126   \n",
       "33  33783.666787  14946.891879  73.711209  3694.455182  9373.694528   \n",
       "34  33780.953616  14962.510270  71.033544  3781.248034  9373.165934   \n",
       "35  33778.182955  14954.485192  65.757058  3501.523125  9372.469404   \n",
       "36  33775.453178  14935.137775  64.899737  3455.871286  9371.942731   \n",
       "37  33772.683826  14946.503915  63.451848  3440.361724  9371.452465   \n",
       "38  33769.800243  14951.764626  63.167951  3424.968798  9370.983357   \n",
       "39  33767.183720  14944.119542  63.167906  3424.966363  9370.519852   \n",
       "40  33764.515780  14956.668387  64.165800  3481.316184  9370.059902   \n",
       "41  33761.608976  14933.262824  53.874868  3501.009485  9369.577851   \n",
       "42  33758.524209  14930.776634  53.439127  3472.693247  9369.093328   \n",
       "43  33755.620433  14941.938787  53.718932  3490.876112  9368.613671   \n",
       "44  33752.785907  14938.180646  54.901430  3567.719693  9368.127961   \n",
       "45  33750.090492  14948.434506  53.856245  3750.998350  9367.630719   \n",
       "46  33747.399445  14962.751601  54.731217  3811.938688  9367.112842   \n",
       "47  33744.719030  14948.418123  55.559456  3869.624193  9366.589340   \n",
       "48  33741.896268  14938.081800  55.230384  3846.704900  9366.068827   \n",
       "49  33739.125612  14937.465138  47.441430  3876.356761  9365.546142   \n",
       "50  33736.307317  14940.247460  47.930794  3916.341812  9364.809878   \n",
       "51  33733.564280  14928.803988  49.375984  4034.425784  9364.273036   \n",
       "52  33730.867476  14910.720762  47.548179  3992.956484  9363.743424   \n",
       "53  33728.248563  14918.643381  47.400924  3980.590433  9363.198952   \n",
       "54  33725.447282  14917.314940  48.342809  4059.687174  9362.404862   \n",
       "55  33721.674856  14921.393155  45.067498  3784.636164  9361.720635   \n",
       "56  33718.534579  14847.629481  42.950579  3606.863494  9360.969637   \n",
       "57  33715.727818  14839.098715  41.163116  3495.055655  9360.453379   \n",
       "58  33712.981180  14832.388136  40.717497  3457.219325  9359.957564   \n",
       "59  33710.214237  14830.813773  14.851334  3538.857746  9359.454448   \n",
       "\n",
       "    variableDebtEthUSDC           sum   Aave (net)  \n",
       "28         -1814.404930  83799.606879  7561.878773  \n",
       "29         -1803.247196  83786.062223  7572.527564  \n",
       "30         -1788.958169  83777.462370  7586.298272  \n",
       "31         -1835.422303  83840.251689  7539.314793  \n",
       "32         -1825.052411  83858.566466  7549.162715  \n",
       "33         -1837.449751  83876.463962  7536.244777  \n",
       "34         -1880.300375  83937.063005  7492.865558  \n",
       "35         -1740.880106  83764.341615  7631.589297  \n",
       "36         -1717.783692  83984.256841  7654.159039  \n",
       "37         -1709.678618  83997.465432  7661.773846  \n",
       "38         -1701.638903  84002.988592  7669.344454  \n",
       "39         -1701.242307  84030.105182  7669.277544  \n",
       "40         -1728.840052  84092.837168  7641.219850  \n",
       "41         -1738.242689  84073.913482  7631.335161  \n",
       "42         -1723.810025  84050.735121  7645.283303  \n",
       "43         -1732.459564  84374.822867  7636.154107  \n",
       "44         -1770.212122  84408.852859  7597.915839  \n",
       "45         -1860.748457  84728.250996  7506.882263  \n",
       "46         -1890.575697  84776.176028  7476.537146  \n",
       "47         -1918.778964  85002.347942  7447.810376  \n",
       "48         -1907.024930  84975.587820  7459.043897  \n",
       "49         -1921.332657  84980.861803  7444.213485  \n",
       "50         -1940.755105  85393.042444  7424.054773  \n",
       "51         -1998.863385  85473.578977  7365.409651  \n",
       "52         -1977.898027  85450.705493  7385.845397  \n",
       "53         -1971.324263  85495.883166  7391.874690  \n",
       "54         -2010.064097  85569.052541  7352.340765  \n",
       "55         -1873.470216  85442.220984  7488.250419  \n",
       "56         -1785.053389  85280.060618  7575.916248  \n",
       "57         -1729.309447  85225.603745  7631.143933  \n",
       "58         -1780.181115  85210.150012  7579.776449  \n",
       "59         -1821.780069  85188.903797  7537.674379  "
      ]
     },
     "execution_count": 10,
     "metadata": {},
     "output_type": "execute_result"
    }
   ],
   "source": [
    "df_cap.loc[(df_cap['day'] <= valn_date) & (df_cap['day'] >= eom_before_valn_date)]"
   ]
  },
  {
   "cell_type": "markdown",
   "id": "b95f519c",
   "metadata": {},
   "source": [
    "## Pie Chart of Assets at Valuation Date"
   ]
  },
  {
   "cell_type": "code",
   "execution_count": 11,
   "id": "ff85e094",
   "metadata": {
    "ExecuteTime": {
     "end_time": "2024-08-28T08:59:52.811860Z",
     "start_time": "2024-08-28T08:59:52.476965Z"
    }
   },
   "outputs": [
    {
     "data": {
      "image/png": "[encoded data removed]",
      "text/plain": [
       "<Figure size 640x480 with 1 Axes>"
      ]
     },
     "metadata": {},
     "output_type": "display_data"
    }
   ],
   "source": [
    "# pie chart of assets\n",
    "asset_list = ['ETH', 'DAI', 'stETH', 'rETH', 'Enzyme', 'Cover Re', 'Aave (net)', 'USDC']\n",
    "valn_date_row = df_cap.loc[df_cap['day'] == valn_date][asset_list]\n",
    "\n",
    "# add formatted ETH values to labels\n",
    "labels = []\n",
    "for n, i in enumerate(asset_list):\n",
    "    formatted_value = '{:,.0f}'.format(valn_date_row.values[0][n])\n",
    "    labels.append(f'{i} - {formatted_value}')\n",
    "\n",
    "# create chart\n",
    "plt.pie(valn_date_row.values[0], labels=labels, autopct='%1.2f%%')\n",
    "plt.title(f'{valn_date_str} Capital Pool Split in ETH');"
   ]
  },
  {
   "cell_type": "markdown",
   "id": "210d6c9b",
   "metadata": {},
   "source": [
    "## Monthly Changes in Capital Pool"
   ]
  },
  {
   "cell_type": "markdown",
   "id": "580c9e0e",
   "metadata": {},
   "source": [
    "### RAMM Net Withdrawals"
   ]
  },
  {
   "cell_type": "code",
   "execution_count": 12,
   "id": "f55a9ce8",
   "metadata": {
    "ExecuteTime": {
     "end_time": "2024-08-28T08:59:52.865683Z",
     "start_time": "2024-08-28T08:59:52.817200Z"
    }
   },
   "outputs": [
    {
     "data": {
      "text/plain": [
       "-1794.9111553612966"
      ]
     },
     "execution_count": 12,
     "metadata": {},
     "output_type": "execute_result"
    }
   ],
   "source": [
    "# RAMM Net Withdrawals\n",
    "df_ramm = ramm_volume_result\n",
    "\n",
    "# change timestamp to datetime format and normalise all dates to midnight\n",
    "df_ramm['ts'] = pd.to_datetime(df_ramm['ts']).dt.floor('D')\n",
    "\n",
    "# group by date, take the latest value and re-sort into descending order\n",
    "df_ramm = df_ramm.groupby(by=df_ramm['ts'].dt.date, as_index=False).first().\\\n",
    "            sort_values(['ts'], ascending=False).reset_index(drop=True)\n",
    "\n",
    "# determine net ramm flows 30 days before and on the valuation date by subtracting redemptions from mints\n",
    "ramm_flows_monthly_opening = df_ramm.loc[df_ramm['ts'] == eom_before_valn_date]['cummulative_eth_in'].values[0] - df_ramm.loc[df_ramm['ts'] == eom_before_valn_date]['cummulative_eth_out'].values[0]\n",
    "ramm_flows_monthly_closing = df_ramm.loc[df_ramm['ts'] == valn_date]['cummulative_eth_in'].values[0] - df_ramm.loc[df_ramm['ts'] == valn_date]['cummulative_eth_out'].values[0]\n",
    "\n",
    "# determine net flows from ramm in 30 days before valuation date \n",
    "ramm_flow_monthly_change = ramm_flows_monthly_closing - ramm_flows_monthly_opening\n",
    "ramm_flow_monthly_change"
   ]
  },
  {
   "cell_type": "markdown",
   "id": "657486ee",
   "metadata": {},
   "source": [
    "### Cover Fees"
   ]
  },
  {
   "cell_type": "code",
   "execution_count": 13,
   "id": "99c09c5f",
   "metadata": {
    "ExecuteTime": {
     "end_time": "2024-08-28T08:59:52.951740Z",
     "start_time": "2024-08-28T08:59:52.870200Z"
    }
   },
   "outputs": [
    {
     "name": "stdout",
     "output_type": "stream",
     "text": [
      "ETH Cover Fees = 45.156740488865076\n",
      "DAI Cover Fees = 4.634254426223723\n",
      "USDC Cover Fees = 70.02432359201276\n",
      "Total Cover Fees = 119.81531850710157\n"
     ]
    }
   ],
   "source": [
    "df_covers = covers_list_result\n",
    "\n",
    "# input commission ratio to obtain cover fees net of commission (representing inflows to Cap Pool)\n",
    "net_of_commission_ratio = 0.85\n",
    "\n",
    "# obtain closing ETH/USD price\n",
    "eth_usd_closing = df_cap.loc[df_cap['day'] == valn_date]['rate_ETH_USD'].values[0]\n",
    "\n",
    "# change timestamp to datetime format and normalise all dates to midnight\n",
    "df_covers['cover_start_time'] = pd.to_datetime(df_covers['cover_start_time']).dt.floor('D').dt.tz_localize(None)\n",
    "\n",
    "# filter for covers that were bought the month of the valn date\n",
    "df_covers_valn_month = df_covers[(df_covers['cover_start_time'] > eom_before_valn_date) & (df_covers['cover_start_time']<=valn_date)]\n",
    "\n",
    "# filter for covers that were paid for in ETH\n",
    "df_covers_valn_month_eth = df_covers_valn_month[df_covers_valn_month['premium_asset'] == 'ETH']\n",
    "# work out cover fees denominated in ETH, allowing for 15% commission\n",
    "monthly_cover_fees_eth = df_covers_valn_month_eth['premium_native'].sum() * net_of_commission_ratio\n",
    "print(f'ETH Cover Fees = {monthly_cover_fees_eth}')\n",
    "\n",
    "# filter for covers that were paid for in DAI\n",
    "df_covers_valn_month_dai = df_covers_valn_month[df_covers_valn_month['premium_asset'] == 'DAI']\n",
    "# work out cover fees denominated in ETH, allowing for 15% commission\n",
    "monthly_cover_fees_dai = df_covers_valn_month_dai['premium_native'].sum() * net_of_commission_ratio\n",
    "monthly_cover_fees_dai_in_eth = monthly_cover_fees_dai / eth_usd_closing\n",
    "print(f'DAI Cover Fees = {monthly_cover_fees_dai_in_eth}')\n",
    "\n",
    "# filter for covers that were paid for in USDC\n",
    "df_covers_valn_month_usdc = df_covers_valn_month[df_covers_valn_month['premium_asset'] == 'USDC']\n",
    "# work out cover fees denominated in ETH, allowing for 15% commission\n",
    "monthly_cover_fees_usdc = df_covers_valn_month_usdc['premium_native'].sum() * net_of_commission_ratio\n",
    "monthly_cover_fees_usdc_in_eth = monthly_cover_fees_usdc / eth_usd_closing\n",
    "print(f'USDC Cover Fees = {monthly_cover_fees_usdc_in_eth}')\n",
    "\n",
    "monthly_cover_fees = monthly_cover_fees_eth + monthly_cover_fees_dai_in_eth + monthly_cover_fees_usdc_in_eth\n",
    "print(f'Total Cover Fees = {monthly_cover_fees}')"
   ]
  },
  {
   "cell_type": "markdown",
   "id": "d586e094",
   "metadata": {},
   "source": [
    "### FX Impacts"
   ]
  },
  {
   "cell_type": "code",
   "execution_count": 14,
   "id": "fb00444b",
   "metadata": {
    "ExecuteTime": {
     "end_time": "2024-08-28T08:59:52.966331Z",
     "start_time": "2024-08-28T08:59:52.955880Z"
    }
   },
   "outputs": [
    {
     "name": "stdout",
     "output_type": "stream",
     "text": [
      "DAI FX Impact = 9.884373918775168\n"
     ]
    }
   ],
   "source": [
    "# exchange rate changes\n",
    "eth_usd_opening = df_cap.loc[df_cap['day'] == eom_before_valn_date]['rate_ETH_USD'].values[0]\n",
    "\n",
    "# get net monthly change from opening DAI\n",
    "dai_monthly_opening = df_cap.loc[df_cap['day'] == eom_before_valn_date]['DAI'].values[0]\n",
    "\n",
    "# dai_monthly_closing = df_cap.loc[df_cap['day'] == valn_date]['DAI'].values[0]\n",
    "# dai_monthly_closing_less_fees = dai_monthly_closing - monthly_cover_fees_dai_in_eth\n",
    "\n",
    "# # allow for withdrawals\n",
    "# dai_withdrawals_eth = dai_cover_re_withdrawals / eth_usd_opening\n",
    "\n",
    "# dai_change = dai_monthly_opening - dai_withdrawals_eth - dai_monthly_closing_less_fees\n",
    "dai_fx_change = dai_monthly_opening * eth_usd_opening / eth_usd_closing - dai_monthly_opening\n",
    "\n",
    "print(f'DAI FX Impact = {dai_fx_change}')"
   ]
  },
  {
   "cell_type": "code",
   "execution_count": 15,
   "id": "2276bd0e",
   "metadata": {
    "ExecuteTime": {
     "end_time": "2024-08-28T08:59:52.984378Z",
     "start_time": "2024-08-28T08:59:52.970611Z"
    }
   },
   "outputs": [
    {
     "name": "stdout",
     "output_type": "stream",
     "text": [
      "USDC FX Impact = 0.4516713851755991\n"
     ]
    }
   ],
   "source": [
    "# USDC FX Impact\n",
    "usdc_monthly_opening = df_cap.loc[df_cap['day'] == eom_before_valn_date]['USDC'].values[0]\n",
    "\n",
    "usdc_fx_change = usdc_monthly_opening * eth_usd_opening / eth_usd_closing - usdc_monthly_opening\n",
    "print(f'USDC FX Impact = {usdc_fx_change}')"
   ]
  },
  {
   "cell_type": "code",
   "execution_count": 16,
   "id": "995eab26",
   "metadata": {
    "ExecuteTime": {
     "end_time": "2024-08-28T08:59:53.010704Z",
     "start_time": "2024-08-28T08:59:52.988604Z"
    }
   },
   "outputs": [
    {
     "name": "stdout",
     "output_type": "stream",
     "text": [
      "Cover Re FX Impact = 107.62675090476478\n"
     ]
    }
   ],
   "source": [
    "# Cover Re FX impact\n",
    "cover_re_opening = df_cap.loc[df_cap['day'] == eom_before_valn_date]['Cover Re'].values[0]\n",
    "\n",
    "cover_re_fx_change = cover_re_opening * eth_usd_opening / eth_usd_closing - cover_re_opening\n",
    "print(f'Cover Re FX Impact = {cover_re_fx_change}')"
   ]
  },
  {
   "cell_type": "code",
   "execution_count": 17,
   "id": "6d8eec2e",
   "metadata": {
    "ExecuteTime": {
     "end_time": "2024-08-28T08:59:53.033954Z",
     "start_time": "2024-08-28T08:59:53.015585Z"
    }
   },
   "outputs": [
    {
     "name": "stdout",
     "output_type": "stream",
     "text": [
      "debtUSDC FX Impact = -55.40552453421037\n"
     ]
    }
   ],
   "source": [
    "# debtUSDC FX impact\n",
    "debtUSDC_opening = df_cap.loc[df_cap['day'] == eom_before_valn_date]['variableDebtEthUSDC'].values[0]\n",
    "\n",
    "# FX Impact\n",
    "debtUSDC_fx_change = debtUSDC_opening * eth_usd_opening / eth_usd_closing - debtUSDC_opening\n",
    "print(f'debtUSDC FX Impact = {debtUSDC_fx_change}')"
   ]
  },
  {
   "cell_type": "code",
   "execution_count": 18,
   "id": "91b26243",
   "metadata": {
    "ExecuteTime": {
     "end_time": "2024-08-28T08:59:53.053485Z",
     "start_time": "2024-08-28T08:59:53.038095Z"
    }
   },
   "outputs": [
    {
     "name": "stdout",
     "output_type": "stream",
     "text": [
      "Total FX Impact = 62.557271674505174\n"
     ]
    }
   ],
   "source": [
    "# Total FX Impacts\n",
    "fx_change = dai_fx_change + usdc_fx_change + cover_re_fx_change + debtUSDC_fx_change\n",
    "\n",
    "print(f'Total FX Impact = {fx_change}')"
   ]
  },
  {
   "cell_type": "markdown",
   "id": "b6bfce7a",
   "metadata": {
    "heading_collapsed": true
   },
   "source": [
    "#### TEMPORARY For New Investment in May - FX Impacts Allowing for Cover Re investment\n",
    "\n",
    "In future treat Cover Re, Aave Debt, USDC and DAI as per above."
   ]
  },
  {
   "cell_type": "code",
   "execution_count": 19,
   "id": "0edc0a23",
   "metadata": {
    "ExecuteTime": {
     "end_time": "2024-08-28T08:59:53.072615Z",
     "start_time": "2024-08-28T08:59:53.058028Z"
    },
    "hidden": true
   },
   "outputs": [],
   "source": [
    "# cover_re_date_str = '23-05-2024'\n",
    "# cover_re_date = datetime.strptime(cover_re_date_str, '%d-%m-%Y')\n",
    "# eth_usd_cover_re_date = df_cap.loc[df_cap['day'] == cover_re_date]['rate_ETH_USD'].values[0]"
   ]
  },
  {
   "cell_type": "code",
   "execution_count": 20,
   "id": "b82b8b29",
   "metadata": {
    "ExecuteTime": {
     "end_time": "2024-08-28T08:59:53.089611Z",
     "start_time": "2024-08-28T08:59:53.078405Z"
    },
    "hidden": true
   },
   "outputs": [],
   "source": [
    "# # USDC Split into before and after Cover Re\n",
    "# usdc_monthly_opening = df_cap.loc[df_cap['day'] == eom_before_valn_date]['USDC'].values[0]\n",
    "# usdc_cover_re_opening = df_cap.loc[df_cap['day'] == cover_re_date]['USDC'].values[0]\n",
    "# # Before Cover Re\n",
    "# usdc_fx_change_pre_cover_re = usdc_monthly_opening * eth_usd_opening / eth_usd_cover_re_date - usdc_monthly_opening\n",
    "# print(f'USDC FX Impact Pre Cover Re = {usdc_fx_change_pre_cover_re}')\n",
    "# # After Cover Re\n",
    "# usdc_fx_change_post_cover_re = usdc_cover_re_opening * eth_usd_cover_re_date / eth_usd_closing - usdc_cover_re_opening\n",
    "# print(f'USDC FX Impact Post Cover Re = {usdc_fx_change_post_cover_re}')"
   ]
  },
  {
   "cell_type": "code",
   "execution_count": 21,
   "id": "e7a72d1b",
   "metadata": {
    "ExecuteTime": {
     "end_time": "2024-08-28T08:59:53.125341Z",
     "start_time": "2024-08-28T08:59:53.093881Z"
    },
    "hidden": true
   },
   "outputs": [],
   "source": [
    "# # DAI Split into before and after Cover Re\n",
    "# dai_monthly_opening = df_cap.loc[df_cap['day'] == eom_before_valn_date]['DAI'].values[0]\n",
    "# dai_cover_re_opening = df_cap.loc[df_cap['day'] == cover_re_date]['DAI'].values[0]\n",
    "# # Before Cover Re\n",
    "# dai_fx_change_pre_cover_re = dai_monthly_opening * eth_usd_opening / eth_usd_cover_re_date - dai_monthly_opening\n",
    "# print(f'DAI FX Impact Pre Cover Re = {dai_fx_change_pre_cover_re}')\n",
    "# # After Cover Re\n",
    "# dai_fx_change_post_cover_re = dai_cover_re_opening * eth_usd_cover_re_date / eth_usd_closing - dai_cover_re_opening\n",
    "# print(f'DAI FX Impact Post Cover Re = {dai_fx_change_post_cover_re}')"
   ]
  },
  {
   "cell_type": "code",
   "execution_count": 22,
   "id": "16e4ac15",
   "metadata": {
    "ExecuteTime": {
     "end_time": "2024-08-28T08:59:53.144069Z",
     "start_time": "2024-08-28T08:59:53.131266Z"
    },
    "hidden": true
   },
   "outputs": [],
   "source": [
    "# # debtUSDC FX impact\n",
    "# debtUSDC_opening = df_cap.loc[df_cap['day'] == cover_re_date]['variableDebtEthUSDC'].values[0]\n",
    "\n",
    "# # FX Impact\n",
    "# debtUSDC_fx_change = debtUSDC_opening * eth_usd_cover_re_date / eth_usd_closing - debtUSDC_opening\n",
    "# print(f'debtUSDC FX Impact = {debtUSDC_fx_change}')"
   ]
  },
  {
   "cell_type": "markdown",
   "id": "792f1503",
   "metadata": {},
   "source": [
    "## Monthly Returns on Investments"
   ]
  },
  {
   "cell_type": "code",
   "execution_count": 23,
   "id": "fb570949",
   "metadata": {
    "ExecuteTime": {
     "end_time": "2024-08-28T08:59:53.207533Z",
     "start_time": "2024-08-28T08:59:53.147799Z"
    }
   },
   "outputs": [
    {
     "name": "stdout",
     "output_type": "stream",
     "text": [
      "stETH Monthly APY: 3.138%\n",
      "stETH Monthly Return: 86.916\n",
      "rETH Monthly APY: 9.276%\n",
      "rETH Monthly Return: 110.036\n",
      "Enzyme Monthly APY: 1.337%; Kiln Portion Monthly APY: 2.79%\n",
      "Kiln Monthly Return: 16.491\n",
      "aEthWETH APY: 2.179%\n",
      "aEthWETH Return: 16.829\n",
      "debtUSDC APY: 5.349%\n",
      "debtUSDC Return: -7.928\n",
      "Aave Net APY: 1.147%\n",
      "Aave Net Return: 8.901\n"
     ]
    }
   ],
   "source": [
    "# Full Monthly Returns\n",
    "\n",
    "# ETH denominated monthly returns on individual investments\n",
    "\n",
    "# stETH metrics in ETH\n",
    "stETH_monthly_opening = df_cap.loc[df_cap['day'] == eom_before_valn_date]['stETH'].values[0]\n",
    "stETH_closing = df_cap.loc[df_cap['day'] == valn_date]['stETH'].values[0]\n",
    "stETH_monthly_return = stETH_closing - stETH_monthly_opening\n",
    "# stETH monthly percentage\n",
    "stETH_monthly_percentage = stETH_monthly_return / stETH_monthly_opening\n",
    "# stETH annualised return last month\n",
    "stETH_monthly_APY = (1 + stETH_monthly_percentage) ** 12 - 1\n",
    "print(f'stETH Monthly APY: {round(stETH_monthly_APY * 100, 3)}%')\n",
    "print(f'stETH Monthly Return: {round(stETH_monthly_return, 3)}')\n",
    "\n",
    "# rETH metrics in ETH\n",
    "rETH_monthly_opening = df_cap.loc[df_cap['day'] == eom_before_valn_date]['rETH'].values[0]\n",
    "rETH_closing = df_cap.loc[df_cap['day'] == valn_date]['rETH'].values[0]\n",
    "rETH_monthly_return = rETH_closing - rETH_monthly_opening\n",
    "# rETH monthly percentage\n",
    "rETH_monthly_percentage = rETH_monthly_return / rETH_monthly_opening\n",
    "# rETH annualised return last month\n",
    "rETH_monthly_APY = (1 + rETH_monthly_percentage) ** 12 - 1\n",
    "print(f'rETH Monthly APY: {round(rETH_monthly_APY * 100, 3)}%')\n",
    "print(f'rETH Monthly Return: {round(rETH_monthly_return, 3)}')\n",
    "\n",
    "## Enzyme\n",
    "Enzyme_fee = 0.0015\n",
    "# Enzyme overall metrics in ETH\n",
    "Enzyme_monthly_opening = df_cap.loc[df_cap['day'] == eom_before_valn_date]['Enzyme'].values[0]\n",
    "Enzyme_closing = df_cap.loc[df_cap['day'] == valn_date]['Enzyme'].values[0]\n",
    "Enzyme_monthly_return = Enzyme_closing - Enzyme_monthly_opening \n",
    "# Enzyme monthly percentage\n",
    "Enzyme_monthly_percentage = Enzyme_monthly_return / Enzyme_monthly_opening\n",
    "# Enzyme annualised return last month\n",
    "Enzyme_monthly_APY = (1 + Enzyme_monthly_percentage) ** 12 - 1\n",
    "Enzyme_monthly_APY_after_fees = Enzyme_monthly_APY - Enzyme_fee\n",
    "    \n",
    "# Kiln standalone metrics in ETH\n",
    "Kiln_monthly_opening = Enzyme_monthly_opening - Enzyme_idle_portion\n",
    "Kiln_closing = Enzyme_closing - Enzyme_idle_portion\n",
    "Kiln_monthly_return = Kiln_closing - Kiln_monthly_opening\n",
    "# Kiln monthly percentage\n",
    "Kiln_monthly_percentage = Kiln_monthly_return / Kiln_monthly_opening\n",
    "# Kiln annualised return last month\n",
    "Kiln_monthly_APY = (1 + Kiln_monthly_percentage) ** 12 - 1\n",
    "Kiln_monthly_APY_after_fees = Kiln_monthly_APY - Enzyme_fee\n",
    "\n",
    "print(f'Enzyme Monthly APY: {round(Enzyme_monthly_APY_after_fees * 100, 3)}%; Kiln Portion Monthly APY: {round(Kiln_monthly_APY_after_fees * 100, 3)}%')\n",
    "print(f'Kiln Monthly Return: {round(Kiln_monthly_return, 3)}')\n",
    "\n",
    "# aEthWETH metrics in ETH\n",
    "aEthWETH_monthly_opening = df_cap.loc[df_cap['day'] == eom_before_valn_date]['aEthWETH'].values[0]\n",
    "aEthWETH_monthly_closing = df_cap.loc[df_cap['day'] == valn_date]['aEthWETH'].values[0]\n",
    "aEthWETH_monthly_return = aEthWETH_monthly_closing - aEthWETH_monthly_opening\n",
    "# aEthWETH monthly percentage\n",
    "aEthWETH_monthly_percentage = aEthWETH_monthly_return / aEthWETH_monthly_opening\n",
    "# aEthWETH annualised return last month\n",
    "aEthWETH_monthly_APY = (1 + aEthWETH_monthly_percentage) ** 12 - 1\n",
    "print(f'aEthWETH APY: {round(aEthWETH_monthly_APY * 100, 3)}%')\n",
    "print(f'aEthWETH Return: {round(aEthWETH_monthly_return, 3)}')\n",
    "\n",
    "# debtUSDC metrics in ETH\n",
    "debtUSDC_monthly_opening = df_cap.loc[df_cap['day'] == eom_before_valn_date]['variableDebtEthUSDC'].values[0]\n",
    "debtUSDC_monthly_closing = df_cap.loc[df_cap['day'] == valn_date]['variableDebtEthUSDC'].values[0]\n",
    "# allowing for debtUSDC repayment\n",
    "# Read ETH-USD value as at repayment date\n",
    "eth_usd_repayment = df_cap.loc[df_cap['day'] == debtUSDC_repayment_date]['rate_ETH_USD'].values[0]\n",
    "# Value of repayment in ETH\n",
    "debtUSDC_monthly_repayment_eth = debtUSDC_monthly_repayment / eth_usd_repayment\n",
    "# debtUSDC_monthly_return\n",
    "debtUSDC_monthly_return = debtUSDC_monthly_closing - (debtUSDC_monthly_opening + debtUSDC_fx_change + debtUSDC_monthly_repayment_eth)\n",
    "# debtUSDC monthly percentage\n",
    "# Note: not fully accurate, as we compare it to the opening value, not the time-weighted average balance through the month\n",
    "debtUSDC_monthly_percentage = debtUSDC_monthly_return / debtUSDC_monthly_opening\n",
    "# debtUSDC annualised return last month\n",
    "debtUSDC_monthly_APY = (1 + debtUSDC_monthly_percentage) ** 12 - 1\n",
    "print(f'debtUSDC APY: {round(debtUSDC_monthly_APY * 100, 3)}%')\n",
    "print(f'debtUSDC Return: {round(debtUSDC_monthly_return, 3)}')\n",
    "\n",
    "# Aave Net\n",
    "aave_net_monthly_return = aEthWETH_monthly_return + debtUSDC_monthly_return\n",
    "\n",
    "# Aave net monthly percentage\n",
    "aave_net_monthly_percentage = aave_net_monthly_return / aEthWETH_monthly_opening\n",
    "# Aave net annualised return last month\n",
    "aave_net_monthly_APY = (1 + aave_net_monthly_percentage) ** 12 - 1\n",
    "print(f'Aave Net APY: {round(aave_net_monthly_APY * 100, 3)}%')\n",
    "print(f'Aave Net Return: {round(aave_net_monthly_return, 3)}')"
   ]
  },
  {
   "cell_type": "code",
   "execution_count": 24,
   "id": "58aece89",
   "metadata": {
    "ExecuteTime": {
     "end_time": "2024-08-28T08:59:53.609044Z",
     "start_time": "2024-08-28T08:59:53.212409Z"
    }
   },
   "outputs": [
    {
     "name": "stderr",
     "output_type": "stream",
     "text": [
      "/tmp/ipykernel_691/1581208742.py:17: UserWarning: set_ticklabels() should only be used with a fixed number of ticks, i.e. after set_ticks() or using a FixedLocator.\n",
      "  axs[0].set_yticklabels(['{:,.1%}'.format(x) for x in tick_vals])\n"
     ]
    },
    {
     "data": {
      "image/png": "[encoded data removed]",
      "text/plain": [
       "<Figure size 1000x500 with 2 Axes>"
      ]
     },
     "metadata": {},
     "output_type": "display_data"
    }
   ],
   "source": [
    "# MONTHLY RETURN GRAPHS FOR INDIVIDUAL INVESTMENTS\n",
    "\n",
    "labels = ['stETH', 'rETH', 'Kiln', 'Aave (net)']\n",
    "colors = ['#00a3ff', '#f26e34', '#202020', '#b6509e']\n",
    "\n",
    "# Destructuring initialization\n",
    "fig, axs = plt.subplots(1, 2, figsize=(10,5))\n",
    "fig.suptitle(f'Investment Monthly Returns', fontsize=16)\n",
    "fig.tight_layout()\n",
    "fig.subplots_adjust(top=0.88)\n",
    "\n",
    "# Subplot\n",
    "axs[0].bar(labels, [stETH_monthly_APY, rETH_monthly_APY, Kiln_monthly_APY_after_fees, aave_net_monthly_APY], color=colors)\n",
    "axs[0].set_title('APY')\n",
    "axs[0].set_ylabel('APY')\n",
    "tick_vals = axs[0].get_yticks()\n",
    "axs[0].set_yticklabels(['{:,.1%}'.format(x) for x in tick_vals])\n",
    "\n",
    "# Subplot\n",
    "axs[1].bar(labels, [stETH_monthly_return, rETH_monthly_return, Kiln_monthly_return*(1-0.0015), aave_net_monthly_return], color=colors);\n",
    "axs[1].set_title('Absolute Return')\n",
    "axs[1].set_ylabel('ETH')\n",
    "\n",
    "plt.show();"
   ]
  },
  {
   "cell_type": "code",
   "execution_count": 25,
   "id": "ae93d401",
   "metadata": {
    "ExecuteTime": {
     "end_time": "2024-08-28T08:59:53.629105Z",
     "start_time": "2024-08-28T08:59:53.614602Z"
    }
   },
   "outputs": [
    {
     "name": "stdout",
     "output_type": "stream",
     "text": [
      "Total Monthly APY: 3.204%\n",
      "Based on average Capital Pool amount over the monthly period\n",
      "Total ETH Earned: 222.345\n"
     ]
    }
   ],
   "source": [
    "# Total Monthly APY on the Capital Pool\n",
    "\n",
    "# Total ETH earned\n",
    "total_monthly_inv_earnings = round(stETH_monthly_return + rETH_monthly_return + Kiln_monthly_return + aave_net_monthly_return, 3)\n",
    "\n",
    "# averaging the total ETH value of capital pool over the monthly period\n",
    "total_cap_monthly_opening = df_cap.loc[df_cap['day'] == eom_before_valn_date]['sum'].values[0]\n",
    "total_cap_monthly_closing = df_cap.loc[df_cap['day'] == valn_date]['sum'].values[0]\n",
    "avg_total_cap_pool = (total_cap_monthly_closing + total_cap_monthly_opening) / 2\n",
    "\n",
    "# monthly apy based on total earning\n",
    "total_monthly_percentage = total_monthly_inv_earnings / avg_total_cap_pool\n",
    "total_monthly_APY = ((1 + total_monthly_percentage) ** 12 - 1)\n",
    "\n",
    "print(f'Total Monthly APY: {round(total_monthly_APY * 100, 3)}%')\n",
    "print('Based on average Capital Pool amount over the monthly period')\n",
    "print(f'Total ETH Earned: {total_monthly_inv_earnings}')"
   ]
  },
  {
   "cell_type": "code",
   "execution_count": 26,
   "id": "8f17ffb5",
   "metadata": {
    "ExecuteTime": {
     "end_time": "2024-08-28T08:59:53.701577Z",
     "start_time": "2024-08-28T08:59:53.633132Z"
    }
   },
   "outputs": [
    {
     "name": "stdout",
     "output_type": "stream",
     "text": [
      "stETH Monthly Return: 86.916\n",
      "stETH Monthly APY: 3.138%\n",
      "\n",
      "rETH Monthly Return: 110.036\n",
      "rETH Monthly APY: 9.276%\n",
      "\n",
      "Kiln Monthly Return: 16.491\n",
      "Enzyme Monthly APY: 1.337%; Kiln Portion Monthly APY: 2.79%\n",
      "\n",
      "aEthWETH Return: 16.829\n",
      "aEthWETH APY: 2.179%\n",
      "debtUSDC Return: -7.928\n",
      "debtUSDC APY: 5.349%\n",
      "Aave Net Return: 8.901\n",
      "Aave Net APY: 1.147%\n",
      "\n",
      "Total ETH Earned: 222.345\n",
      "Total Monthly APY: 3.204%\n",
      "Based on average Capital Pool amount over the monthly period\n",
      "\n",
      "All returns after fees\n"
     ]
    }
   ],
   "source": [
    "# Printout\n",
    "\n",
    "print(f'stETH Monthly Return: {round(stETH_monthly_return, 3)}')\n",
    "print(f'stETH Monthly APY: {round(stETH_monthly_APY * 100, 3)}%\\n')\n",
    "print(f'rETH Monthly Return: {round(rETH_monthly_return, 3)}')\n",
    "print(f'rETH Monthly APY: {round(rETH_monthly_APY * 100, 3)}%\\n')\n",
    "print(f'Kiln Monthly Return: {round(Kiln_monthly_return, 3)}')\n",
    "print(f'Enzyme Monthly APY: {round(Enzyme_monthly_APY_after_fees * 100, 3)}%; Kiln Portion Monthly APY: {round(Kiln_monthly_APY_after_fees * 100, 3)}%\\n')\n",
    "print(f'aEthWETH Return: {round(aEthWETH_monthly_return, 3)}')\n",
    "print(f'aEthWETH APY: {round(aEthWETH_monthly_APY * 100, 3)}%')\n",
    "print(f'debtUSDC Return: {round(debtUSDC_monthly_return, 3)}')\n",
    "print(f'debtUSDC APY: {round(debtUSDC_monthly_APY * 100, 3)}%')\n",
    "print(f'Aave Net Return: {round(aave_net_monthly_return, 3)}')\n",
    "print(f'Aave Net APY: {round(aave_net_monthly_APY * 100, 3)}%\\n')\n",
    "print(f'Total ETH Earned: {total_monthly_inv_earnings}')\n",
    "print(f'Total Monthly APY: {round(total_monthly_APY * 100, 3)}%')\n",
    "print('Based on average Capital Pool amount over the monthly period\\n')\n",
    "\n",
    "print ('All returns after fees')"
   ]
  },
  {
   "cell_type": "markdown",
   "id": "e3bba312",
   "metadata": {},
   "source": [
    "## Monthly Changes in Capital Pool "
   ]
  },
  {
   "cell_type": "code",
   "execution_count": 27,
   "id": "87b4c553",
   "metadata": {
    "ExecuteTime": {
     "end_time": "2024-08-28T08:59:54.222570Z",
     "start_time": "2024-08-28T08:59:53.718529Z"
    }
   },
   "outputs": [
    {
     "name": "stderr",
     "output_type": "stream",
     "text": [
      "/tmp/ipykernel_691/583210698.py:31: UserWarning: set_ticklabels() should only be used with a fixed number of ticks, i.e. after set_ticks() or using a FixedLocator.\n",
      "  waterfall_plot.set_yticklabels(['{:,.0f}'.format(x) for x in tick_vals])\n",
      "/tmp/ipykernel_691/583210698.py:42: FutureWarning: Series.__getitem__ treating keys as positions is deprecated. In a future version, integer keys will always be treated as labels (consistent with DataFrame behavior). To access a value by position, use `ser.iloc[pos]`\n",
      "  y = y_height[loop] + row['amount']\n",
      "/home/rei/.pyenv/versions/3.10.6/envs/investment_monitoring/lib/python3.10/site-packages/matplotlib/text.py:1463: FutureWarning: Calling float on a single element Series is deprecated and will raise a TypeError in the future. Use float(ser.iloc[0]) instead\n",
      "  y = float(self.convert_yunits(y))\n",
      "/home/rei/.pyenv/versions/3.10.6/envs/investment_monitoring/lib/python3.10/site-packages/matplotlib/text.py:754: FutureWarning: Calling float on a single element Series is deprecated and will raise a TypeError in the future. Use float(ser.iloc[0]) instead\n",
      "  posy = float(self.convert_yunits(self._y))\n",
      "/home/rei/.pyenv/versions/3.10.6/envs/investment_monitoring/lib/python3.10/site-packages/matplotlib/text.py:895: FutureWarning: Calling float on a single element Series is deprecated and will raise a TypeError in the future. Use float(ser.iloc[0]) instead\n",
      "  y = float(self.convert_yunits(self._y))\n"
     ]
    },
    {
     "data": {
      "image/png": "[encoded data removed]",
      "text/plain": [
       "<Figure size 640x480 with 1 Axes>"
      ]
     },
     "metadata": {},
     "output_type": "display_data"
    }
   ],
   "source": [
    "# waterfall chart for changes in the capital pool\n",
    "\n",
    "# UPDATE\n",
    "# set limits on chart manually\n",
    "bottom = 82_000\n",
    "top = 86_000\n",
    "\n",
    "# create dataframe with relevant categories\n",
    "index = ['opening capital pool', 'cover fee income', 'investment returns', 'stablecoin impact', 'ramm net redemptions']\n",
    "data = {'amount': [total_cap_monthly_opening, monthly_cover_fees, total_monthly_inv_earnings, fx_change, ramm_flow_monthly_change]}\n",
    "df_waterfall = pd.DataFrame(data=data, index=index)\n",
    "\n",
    "# create a shifted dataframe by one space and fill the empty space with zero\n",
    "df_shift = df_waterfall.amount.cumsum().shift(1).fillna(0)\n",
    "\n",
    "# add the 'closing' line to both dataframes\n",
    "total = df_waterfall.sum().amount\n",
    "df_waterfall.loc['closing capital pool'] = total\n",
    "df_shift.loc['closing capital pool'] = 0\n",
    "\n",
    "# define the Nexus Mutual green color\n",
    "color = '#0AB682'\n",
    "\n",
    "# create waterfall plot\n",
    "waterfall_plot = df_waterfall.plot.bar(stacked=True, bottom=df_shift,\n",
    "                                   legend=None, color=color, title=f'{valn_date_str[-7:]} Capital Pool Waterfall')\n",
    "waterfall_plot.set_ylim(bottom=bottom, top=top)\n",
    "waterfall_plot.set_ylabel('ETH')\n",
    "\n",
    "# change format of tick values\n",
    "tick_vals = waterfall_plot.get_yticks()\n",
    "waterfall_plot.set_yticklabels(['{:,.0f}'.format(x) for x in tick_vals])\n",
    "\n",
    "# label loop for individual items\n",
    "maximum = df_waterfall.max()\n",
    "neg_offset = maximum / 400\n",
    "pos_offset = maximum / 800\n",
    "\n",
    "y_height = df_shift\n",
    "\n",
    "loop = 0\n",
    "for index, row in df_waterfall.iterrows():\n",
    "    y = y_height[loop] + row['amount']\n",
    "    # determine negative or positive offset\n",
    "    if row['amount'] > 0:\n",
    "        y += pos_offset\n",
    "    else:\n",
    "        y -= neg_offset\n",
    "    waterfall_plot.annotate(\"{:,.0f}\".format(row['amount']), (loop, y), ha=\"center\")\n",
    "    loop+=1"
   ]
  },
  {
   "cell_type": "code",
   "execution_count": 28,
   "id": "f0dd7464",
   "metadata": {
    "ExecuteTime": {
     "end_time": "2024-08-28T08:59:54.235564Z",
     "start_time": "2024-08-28T08:59:54.227103Z"
    }
   },
   "outputs": [
    {
     "name": "stdout",
     "output_type": "stream",
     "text": [
      "Capital Pool Total Change - -1390.19\n",
      "Capital Pool Percentage Change - -1.63%\n"
     ]
    }
   ],
   "source": [
    "# Total change in capital pool\n",
    "capital_pool_change = df_waterfall.loc['closing capital pool'].values[0] - df_waterfall.loc['opening capital pool'].values[0]\n",
    "print(f'Capital Pool Total Change - {round(capital_pool_change, 2)}')\n",
    "print(f'Capital Pool Percentage Change - {round(100 * capital_pool_change / (df_waterfall.loc[\"opening capital pool\"].values[0]), 2)}%')"
   ]
  },
  {
   "cell_type": "markdown",
   "id": "b6513f9c",
   "metadata": {
    "heading_collapsed": true
   },
   "source": [
    "# Divestment Plan"
   ]
  },
  {
   "cell_type": "markdown",
   "id": "d22e9598",
   "metadata": {
    "hidden": true
   },
   "source": [
    "## Pie Chart of Assets Today"
   ]
  },
  {
   "cell_type": "code",
   "execution_count": 29,
   "id": "db6778b9",
   "metadata": {
    "ExecuteTime": {
     "end_time": "2024-08-28T08:59:54.294814Z",
     "start_time": "2024-08-28T08:59:54.239881Z"
    },
    "hidden": true
   },
   "outputs": [
    {
     "name": "stderr",
     "output_type": "stream",
     "text": [
      "/tmp/ipykernel_691/1517165823.py:2: SettingWithCopyWarning: \n",
      "A value is trying to be set on a copy of a slice from a DataFrame\n",
      "\n",
      "See the caveats in the documentation: https://pandas.pydata.org/pandas-docs/stable/user_guide/indexing.html#returning-a-view-versus-a-copy\n",
      "  today_row['Kiln'] = today_row['Enzyme'] - Enzyme_idle_portion\n",
      "/tmp/ipykernel_691/1517165823.py:2: SettingWithCopyWarning: \n",
      "A value is trying to be set on a copy of a slice from a DataFrame\n",
      "\n",
      "See the caveats in the documentation: https://pandas.pydata.org/pandas-docs/stable/user_guide/indexing.html#returning-a-view-versus-a-copy\n",
      "  today_row['Kiln'] = today_row['Enzyme'] - Enzyme_idle_portion\n",
      "/tmp/ipykernel_691/1517165823.py:3: SettingWithCopyWarning: \n",
      "A value is trying to be set on a copy of a slice from a DataFrame\n",
      "\n",
      "See the caveats in the documentation: https://pandas.pydata.org/pandas-docs/stable/user_guide/indexing.html#returning-a-view-versus-a-copy\n",
      "  today_row['Enzyme Idle'] = Enzyme_idle_portion\n",
      "/tmp/ipykernel_691/1517165823.py:3: SettingWithCopyWarning: \n",
      "A value is trying to be set on a copy of a slice from a DataFrame\n",
      "\n",
      "See the caveats in the documentation: https://pandas.pydata.org/pandas-docs/stable/user_guide/indexing.html#returning-a-view-versus-a-copy\n",
      "  today_row['Enzyme Idle'] = Enzyme_idle_portion\n",
      "/tmp/ipykernel_691/1517165823.py:4: SettingWithCopyWarning: \n",
      "A value is trying to be set on a copy of a slice from a DataFrame\n",
      "\n",
      "See the caveats in the documentation: https://pandas.pydata.org/pandas-docs/stable/user_guide/indexing.html#returning-a-view-versus-a-copy\n",
      "  today_row.rename({'Cover Re': 'Cover Re Investment', 'aEthWETH':'Cover Re Loan Collateral', 'variableDebtEthUSDC': 'Cover Re Loan Outstanding'}, inplace=True)\n"
     ]
    },
    {
     "data": {
      "text/plain": [
       "day                          2024-08-28 00:00:00\n",
       "rate_ETH_USD                         2459.633676\n",
       "ETH                                 11932.034443\n",
       "DAI                                   250.012988\n",
       "Enzyme                               13437.20479\n",
       "stETH                               29481.631248\n",
       "rETH                                14912.640009\n",
       "USDC                                  191.676722\n",
       "Cover Re Investment                  4881.237277\n",
       "Cover Re Loan Collateral             9389.971047\n",
       "Cover Re Loan Outstanding           -2329.209176\n",
       "sum                                 82147.199347\n",
       "Aave (net)                           7060.761871\n",
       "Kiln                                  6861.53479\n",
       "Enzyme Idle                              6575.67\n",
       "Name: 0, dtype: object"
      ]
     },
     "execution_count": 29,
     "metadata": {},
     "output_type": "execute_result"
    }
   ],
   "source": [
    "today_row = df_cap.iloc[0]\n",
    "today_row['Kiln'] = today_row['Enzyme'] - Enzyme_idle_portion\n",
    "today_row['Enzyme Idle'] = Enzyme_idle_portion\n",
    "today_row.rename({'Cover Re': 'Cover Re Investment', 'aEthWETH':'Cover Re Loan Collateral', 'variableDebtEthUSDC': 'Cover Re Loan Outstanding'}, inplace=True)\n",
    "today_row"
   ]
  },
  {
   "cell_type": "code",
   "execution_count": 30,
   "id": "accbd19d",
   "metadata": {
    "ExecuteTime": {
     "end_time": "2024-08-28T08:59:54.615564Z",
     "start_time": "2024-08-28T08:59:54.301187Z"
    },
    "hidden": true
   },
   "outputs": [
    {
     "data": {
      "image/png": "[encoded data removed]",
      "text/plain": [
       "<Figure size 640x480 with 1 Axes>"
      ]
     },
     "metadata": {},
     "output_type": "display_data"
    }
   ],
   "source": [
    "pie_asset_list = ['ETH', 'DAI', 'stETH', 'rETH', 'Enzyme Idle', 'Kiln', 'Cover Re Investment', 'Aave (net)', 'USDC']\n",
    "today_row_pie = today_row[pie_asset_list]\n",
    "\n",
    "# add formatted ETH values to labels\n",
    "labels = []\n",
    "for n, i in enumerate(pie_asset_list):\n",
    "    formatted_value = '{:,.0f}'.format(today_row_pie.values[n])\n",
    "    labels.append(f'{i} - {formatted_value}')\n",
    "\n",
    "# create chart\n",
    "# extract latest date in string format\n",
    "today_date_str = df_cap.iloc[0]['day'].strftime('%d-%m-%Y')\n",
    "# create chart\n",
    "plt.pie(today_row_pie.values, labels=labels, autopct='%1.2f%%')\n",
    "plt.title(f'{today_date_str} Capital Pool Split in ETH');"
   ]
  },
  {
   "cell_type": "markdown",
   "id": "38ac23c0",
   "metadata": {
    "heading_collapsed": true,
    "hidden": true
   },
   "source": [
    "## Monthly Averages Since Start of 2024 "
   ]
  },
  {
   "cell_type": "code",
   "execution_count": 31,
   "id": "844332a5",
   "metadata": {
    "ExecuteTime": {
     "end_time": "2024-08-28T08:59:54.630903Z",
     "start_time": "2024-08-28T08:59:54.619011Z"
    },
    "hidden": true
   },
   "outputs": [],
   "source": [
    "# get today's day, month and year\n",
    "\n",
    "day_today = datetime.now().day\n",
    "month_today = datetime.now().month\n",
    "year_today = datetime.now().year\n",
    "\n",
    "# get eth price today\n",
    "eth_usd_today = df_cap.iloc[0]['rate_ETH_USD']\n",
    "\n",
    "# manually input average start date\n",
    "averages_start_date_str = '01-08-2023'\n",
    "# create average start datetime\n",
    "averages_start_date = datetime.strptime(averages_start_date_str, '%d-%m-%Y')"
   ]
  },
  {
   "cell_type": "code",
   "execution_count": 32,
   "id": "f5874d68",
   "metadata": {
    "ExecuteTime": {
     "end_time": "2024-08-28T08:59:54.803213Z",
     "start_time": "2024-08-28T08:59:54.638580Z"
    },
    "hidden": true
   },
   "outputs": [
    {
     "name": "stdout",
     "output_type": "stream",
     "text": [
      "Average monthly stETH returns = 96.24901643286012\n",
      "Average monthly rETH returns = 44.364462019339804\n",
      "Average monthly kiln returns = 21.23788977043269\n",
      "Average monthly net ETH cover fees = 4.410927262581494\n",
      "Average monthly RAMM flows = -2707.3412885662224\n"
     ]
    }
   ],
   "source": [
    "# loop through months since the start date and obtain averages\n",
    "\n",
    "date = averages_start_date\n",
    "ramm_flows = []\n",
    "net_eth_fees = []\n",
    "claim_ratio = 0.7\n",
    "stETH_returns = []\n",
    "rETH_returns = []\n",
    "\n",
    "while date < datetime(year_today, month_today, 1):\n",
    "    next_month = datetime(year = date.year + int(date.month / 12), month = (date.month % 12) + 1, day=date.day)\n",
    "    \n",
    "    # RAMM FLOWS\n",
    "    # determine net ramm flows in month in 2024\n",
    "    if date.year >= 2024:\n",
    "        ramm_flows_opening = df_ramm.loc[df_ramm['ts'] == date]['cummulative_eth_in'].values[0] - df_ramm.loc[df_ramm['ts'] == date]['cummulative_eth_out'].values[0]\n",
    "        ramm_flows_closing = df_ramm.loc[df_ramm['ts'] == next_month]['cummulative_eth_in'].values[0] - df_ramm.loc[df_ramm['ts'] == next_month]['cummulative_eth_out'].values[0]\n",
    "        ramm_flows_change = ramm_flows_closing - ramm_flows_opening\n",
    "        ramm_flows.append(ramm_flows_change)\n",
    "    \n",
    "    # COVERS\n",
    "    # filter for covers that were bought in the relevant month\n",
    "    df_cover_flows = df_covers[(df_covers['cover_start_time']>=date) & (df_covers['cover_start_time']<next_month)]\n",
    "\n",
    "    # filter for covers that were paid for in ETH\n",
    "    # (note covers paid in NXM don't generate assets and covers paid for in DAI/USDC will be used to pay off the Cover Re loan)\n",
    "    df_cover_flows = df_cover_flows[df_cover_flows['premium_asset'] == 'ETH']\n",
    "\n",
    "    # work out cover fees, allowing for 15% commission\n",
    "    eth_cover_fees = df_cover_flows['premium_native'].sum() * 0.85\n",
    "    # append to list, allowing for 70% claim ratio\n",
    "    net_eth_monthly_fees = eth_cover_fees * (1 - claim_ratio)\n",
    "    net_eth_fees.append(net_eth_monthly_fees)\n",
    "    \n",
    "    # INVESTMENT INCOME\n",
    "    # stETH\n",
    "    stETH_opening = df_cap.loc[df_cap['day'] == date]['stETH'].values[0]\n",
    "    stETH_closing = df_cap.loc[df_cap['day'] == next_month]['stETH'].values[0]\n",
    "    stETH_returns.append(stETH_closing - stETH_opening)\n",
    "    # rETH\n",
    "    rETH_opening = df_cap.loc[df_cap['day'] == date]['rETH'].values[0]\n",
    "    rETH_closing = df_cap.loc[df_cap['day'] == next_month]['rETH'].values[0]\n",
    "    rETH_returns.append(rETH_closing - rETH_opening) \n",
    "    \n",
    "    # move date along\n",
    "    date = next_month\n",
    "\n",
    "# Average Kiln rewards in month\n",
    "days_total_kiln_rewards = (df_cap.iloc[0]['day'] - kiln_deposit_date)/timedelta(days=1)\n",
    "daily_total_kiln_rewards = kiln_total_rewards / days_total_kiln_rewards\n",
    "avg_monthly_kiln_returns = daily_total_kiln_rewards * avg_days_in_month\n",
    "\n",
    "# Average RAMM flows\n",
    "avg_monthly_ramm_flows = sum(ramm_flows)/len(ramm_flows)\n",
    "\n",
    "# Average ETH Cover Fees\n",
    "avg_monthly_net_eth_fees = sum(net_eth_fees)/len(net_eth_fees)\n",
    "\n",
    "# Average stETH returns\n",
    "avg_monthly_stETH_returns = sum(stETH_returns)/len(stETH_returns)\n",
    "\n",
    "# Average rETH returns\n",
    "avg_monthly_rETH_returns = sum(rETH_returns)/len(rETH_returns)\n",
    "\n",
    "print(f'Average monthly stETH returns = {avg_monthly_stETH_returns}')\n",
    "print(f'Average monthly rETH returns = {avg_monthly_rETH_returns}')\n",
    "print(f'Average monthly kiln returns = {avg_monthly_kiln_returns}')\n",
    "print(f'Average monthly net ETH cover fees = {avg_monthly_net_eth_fees}')\n",
    "print(f'Average monthly RAMM flows = {avg_monthly_ramm_flows}')"
   ]
  },
  {
   "cell_type": "markdown",
   "id": "dc4ca8d7",
   "metadata": {
    "hidden": true
   },
   "source": [
    "## Asset Projection"
   ]
  },
  {
   "cell_type": "code",
   "execution_count": 33,
   "id": "33e32152",
   "metadata": {
    "ExecuteTime": {
     "end_time": "2024-08-28T08:59:54.828485Z",
     "start_time": "2024-08-28T08:59:54.809078Z"
    },
    "hidden": true
   },
   "outputs": [
    {
     "data": {
      "text/plain": [
       "day                          2024-08-28 00:00:00\n",
       "rate_ETH_USD                         2459.633676\n",
       "ETH                                 11932.034443\n",
       "DAI                                   250.012988\n",
       "Enzyme                               13437.20479\n",
       "stETH                               29481.631248\n",
       "rETH                                14912.640009\n",
       "USDC                                  191.676722\n",
       "Cover Re Investment                  4881.237277\n",
       "Cover Re Loan Collateral             9389.971047\n",
       "Cover Re Loan Outstanding           -2329.209176\n",
       "sum                                 82147.199347\n",
       "Aave (net)                           7060.761871\n",
       "Kiln                                  6861.53479\n",
       "Enzyme Idle                              6575.67\n",
       "Name: 0, dtype: object"
      ]
     },
     "execution_count": 33,
     "metadata": {},
     "output_type": "execute_result"
    }
   ],
   "source": [
    "today_row"
   ]
  },
  {
   "cell_type": "code",
   "execution_count": 34,
   "id": "b1258180",
   "metadata": {
    "ExecuteTime": {
     "end_time": "2024-08-28T08:59:54.951429Z",
     "start_time": "2024-08-28T08:59:54.832277Z"
    },
    "hidden": true
   },
   "outputs": [
    {
     "data": {
      "text/html": [
       "<div>\n",
       "<style scoped>\n",
       "    .dataframe tbody tr th:only-of-type {\n",
       "        vertical-align: middle;\n",
       "    }\n",
       "\n",
       "    .dataframe tbody tr th {\n",
       "        vertical-align: top;\n",
       "    }\n",
       "\n",
       "    .dataframe thead th {\n",
       "        text-align: right;\n",
       "    }\n",
       "</style>\n",
       "<table border=\"1\" class=\"dataframe\">\n",
       "  <thead>\n",
       "    <tr style=\"text-align: right;\">\n",
       "      <th></th>\n",
       "      <th>ETH</th>\n",
       "      <th>DAI</th>\n",
       "      <th>stETH</th>\n",
       "      <th>rETH</th>\n",
       "      <th>Enzyme Idle</th>\n",
       "      <th>Kiln</th>\n",
       "      <th>Cover Re Investment</th>\n",
       "      <th>Cover Re Loan Collateral</th>\n",
       "      <th>Cover Re Loan Outstanding</th>\n",
       "      <th>USDC</th>\n",
       "    </tr>\n",
       "  </thead>\n",
       "  <tbody>\n",
       "    <tr>\n",
       "      <th>0</th>\n",
       "      <td>11932.034443</td>\n",
       "      <td>250.012988</td>\n",
       "      <td>29481.631248</td>\n",
       "      <td>14912.640009</td>\n",
       "      <td>6575.67</td>\n",
       "      <td>6861.53479</td>\n",
       "      <td>4881.237277</td>\n",
       "      <td>9389.971047</td>\n",
       "      <td>-2329.209176</td>\n",
       "      <td>191.676722</td>\n",
       "    </tr>\n",
       "    <tr>\n",
       "      <th>1</th>\n",
       "      <td>9229.104082</td>\n",
       "      <td>250.012988</td>\n",
       "      <td>29577.880265</td>\n",
       "      <td>14957.004471</td>\n",
       "      <td>6575.67</td>\n",
       "      <td>6882.77268</td>\n",
       "      <td>4955.966435</td>\n",
       "      <td>9401.937282</td>\n",
       "      <td>-2345.475768</td>\n",
       "      <td>191.676722</td>\n",
       "    </tr>\n",
       "    <tr>\n",
       "      <th>2</th>\n",
       "      <td>6526.17372</td>\n",
       "      <td>250.012988</td>\n",
       "      <td>29674.129281</td>\n",
       "      <td>15001.368933</td>\n",
       "      <td>6575.67</td>\n",
       "      <td>6904.010569</td>\n",
       "      <td>5031.839657</td>\n",
       "      <td>9413.918765</td>\n",
       "      <td>-2361.855961</td>\n",
       "      <td>191.676722</td>\n",
       "    </tr>\n",
       "    <tr>\n",
       "      <th>3</th>\n",
       "      <td>3823.243359</td>\n",
       "      <td>250.012988</td>\n",
       "      <td>29770.378298</td>\n",
       "      <td>15045.733395</td>\n",
       "      <td>6575.67</td>\n",
       "      <td>6925.248459</td>\n",
       "      <td>5108.874457</td>\n",
       "      <td>9425.915518</td>\n",
       "      <td>-2378.350549</td>\n",
       "      <td>191.676722</td>\n",
       "    </tr>\n",
       "    <tr>\n",
       "      <th>4</th>\n",
       "      <td>1120.312998</td>\n",
       "      <td>250.012988</td>\n",
       "      <td>29866.627314</td>\n",
       "      <td>15090.097857</td>\n",
       "      <td>6575.67</td>\n",
       "      <td>6946.486349</td>\n",
       "      <td>5187.08862</td>\n",
       "      <td>9437.927558</td>\n",
       "      <td>-2394.960331</td>\n",
       "      <td>191.676722</td>\n",
       "    </tr>\n",
       "    <tr>\n",
       "      <th>5</th>\n",
       "      <td>-1582.617364</td>\n",
       "      <td>250.012988</td>\n",
       "      <td>29962.87633</td>\n",
       "      <td>15134.462319</td>\n",
       "      <td>6575.67</td>\n",
       "      <td>6967.724239</td>\n",
       "      <td>5266.5002</td>\n",
       "      <td>9449.954906</td>\n",
       "      <td>-2411.686111</td>\n",
       "      <td>191.676722</td>\n",
       "    </tr>\n",
       "    <tr>\n",
       "      <th>6</th>\n",
       "      <td>-4285.547725</td>\n",
       "      <td>250.012988</td>\n",
       "      <td>30059.125347</td>\n",
       "      <td>15178.826781</td>\n",
       "      <td>6575.67</td>\n",
       "      <td>6988.962128</td>\n",
       "      <td>5347.12753</td>\n",
       "      <td>9461.997582</td>\n",
       "      <td>-2428.5287</td>\n",
       "      <td>191.676722</td>\n",
       "    </tr>\n",
       "    <tr>\n",
       "      <th>7</th>\n",
       "      <td>-6988.478086</td>\n",
       "      <td>250.012988</td>\n",
       "      <td>30155.374363</td>\n",
       "      <td>15223.191243</td>\n",
       "      <td>6575.67</td>\n",
       "      <td>7010.200018</td>\n",
       "      <td>5428.989221</td>\n",
       "      <td>9474.055604</td>\n",
       "      <td>-2445.488913</td>\n",
       "      <td>191.676722</td>\n",
       "    </tr>\n",
       "    <tr>\n",
       "      <th>8</th>\n",
       "      <td>-9691.408447</td>\n",
       "      <td>250.012988</td>\n",
       "      <td>30251.62338</td>\n",
       "      <td>15267.555705</td>\n",
       "      <td>6575.67</td>\n",
       "      <td>7031.437908</td>\n",
       "      <td>5512.104171</td>\n",
       "      <td>9486.128993</td>\n",
       "      <td>-2462.567572</td>\n",
       "      <td>191.676722</td>\n",
       "    </tr>\n",
       "    <tr>\n",
       "      <th>9</th>\n",
       "      <td>-12394.338809</td>\n",
       "      <td>250.012988</td>\n",
       "      <td>30347.872396</td>\n",
       "      <td>15311.920167</td>\n",
       "      <td>6575.67</td>\n",
       "      <td>7052.675798</td>\n",
       "      <td>5596.491567</td>\n",
       "      <td>9498.217767</td>\n",
       "      <td>-2479.765504</td>\n",
       "      <td>191.676722</td>\n",
       "    </tr>\n",
       "    <tr>\n",
       "      <th>10</th>\n",
       "      <td>-15097.26917</td>\n",
       "      <td>250.012988</td>\n",
       "      <td>30444.121413</td>\n",
       "      <td>15356.284629</td>\n",
       "      <td>6575.67</td>\n",
       "      <td>7073.913688</td>\n",
       "      <td>5682.17089</td>\n",
       "      <td>9510.321947</td>\n",
       "      <td>-2497.083542</td>\n",
       "      <td>191.676722</td>\n",
       "    </tr>\n",
       "    <tr>\n",
       "      <th>11</th>\n",
       "      <td>-17800.199531</td>\n",
       "      <td>250.012988</td>\n",
       "      <td>30540.370429</td>\n",
       "      <td>15400.649091</td>\n",
       "      <td>6575.67</td>\n",
       "      <td>7095.151577</td>\n",
       "      <td>5769.161918</td>\n",
       "      <td>9522.441552</td>\n",
       "      <td>-2514.522524</td>\n",
       "      <td>191.676722</td>\n",
       "    </tr>\n",
       "    <tr>\n",
       "      <th>12</th>\n",
       "      <td>-20503.129893</td>\n",
       "      <td>250.012988</td>\n",
       "      <td>30636.619445</td>\n",
       "      <td>15445.013553</td>\n",
       "      <td>6575.67</td>\n",
       "      <td>7116.389467</td>\n",
       "      <td>5857.484732</td>\n",
       "      <td>9534.576602</td>\n",
       "      <td>-2532.083296</td>\n",
       "      <td>191.676722</td>\n",
       "    </tr>\n",
       "  </tbody>\n",
       "</table>\n",
       "</div>"
      ],
      "text/plain": [
       "             ETH         DAI         stETH          rETH Enzyme Idle  \\\n",
       "0   11932.034443  250.012988  29481.631248  14912.640009     6575.67   \n",
       "1    9229.104082  250.012988  29577.880265  14957.004471     6575.67   \n",
       "2     6526.17372  250.012988  29674.129281  15001.368933     6575.67   \n",
       "3    3823.243359  250.012988  29770.378298  15045.733395     6575.67   \n",
       "4    1120.312998  250.012988  29866.627314  15090.097857     6575.67   \n",
       "5   -1582.617364  250.012988   29962.87633  15134.462319     6575.67   \n",
       "6   -4285.547725  250.012988  30059.125347  15178.826781     6575.67   \n",
       "7   -6988.478086  250.012988  30155.374363  15223.191243     6575.67   \n",
       "8   -9691.408447  250.012988   30251.62338  15267.555705     6575.67   \n",
       "9  -12394.338809  250.012988  30347.872396  15311.920167     6575.67   \n",
       "10  -15097.26917  250.012988  30444.121413  15356.284629     6575.67   \n",
       "11 -17800.199531  250.012988  30540.370429  15400.649091     6575.67   \n",
       "12 -20503.129893  250.012988  30636.619445  15445.013553     6575.67   \n",
       "\n",
       "           Kiln Cover Re Investment Cover Re Loan Collateral  \\\n",
       "0    6861.53479         4881.237277              9389.971047   \n",
       "1    6882.77268         4955.966435              9401.937282   \n",
       "2   6904.010569         5031.839657              9413.918765   \n",
       "3   6925.248459         5108.874457              9425.915518   \n",
       "4   6946.486349          5187.08862              9437.927558   \n",
       "5   6967.724239           5266.5002              9449.954906   \n",
       "6   6988.962128          5347.12753              9461.997582   \n",
       "7   7010.200018         5428.989221              9474.055604   \n",
       "8   7031.437908         5512.104171              9486.128993   \n",
       "9   7052.675798         5596.491567              9498.217767   \n",
       "10  7073.913688          5682.17089              9510.321947   \n",
       "11  7095.151577         5769.161918              9522.441552   \n",
       "12  7116.389467         5857.484732              9534.576602   \n",
       "\n",
       "   Cover Re Loan Outstanding        USDC  \n",
       "0               -2329.209176  191.676722  \n",
       "1               -2345.475768  191.676722  \n",
       "2               -2361.855961  191.676722  \n",
       "3               -2378.350549  191.676722  \n",
       "4               -2394.960331  191.676722  \n",
       "5               -2411.686111  191.676722  \n",
       "6                 -2428.5287  191.676722  \n",
       "7               -2445.488913  191.676722  \n",
       "8               -2462.567572  191.676722  \n",
       "9               -2479.765504  191.676722  \n",
       "10              -2497.083542  191.676722  \n",
       "11              -2514.522524  191.676722  \n",
       "12              -2532.083296  191.676722  "
      ]
     },
     "execution_count": 34,
     "metadata": {},
     "output_type": "execute_result"
    }
   ],
   "source": [
    "proj_asset_list = ['ETH', 'DAI', 'stETH', 'rETH', 'Enzyme Idle', 'Kiln', 'Cover Re Investment', 'Cover Re Loan Collateral',\n",
    "                   'Cover Re Loan Outstanding', 'USDC']\n",
    "today_row_proj = today_row[proj_asset_list]\n",
    "\n",
    "asset_df = pd.DataFrame(today_row_proj).T\n",
    "\n",
    "projection_months = 12\n",
    "aave_eth_supply_apy = 0.0154\n",
    "aave_usdc_borrow_apy = 0.0871\n",
    "cover_re_apy = 0.2\n",
    "\n",
    "for i in range(projection_months):\n",
    "    \n",
    "    next_row = {}\n",
    "    next_row['ETH'] = asset_df['ETH'].values[-1] + avg_monthly_ramm_flows + avg_monthly_net_eth_fees\n",
    "    next_row['DAI'] = asset_df['DAI'].values[-1]\n",
    "    next_row['USDC'] = asset_df['USDC'].values[-1]\n",
    "    next_row['stETH'] = asset_df['stETH'].values[-1] + avg_monthly_stETH_returns\n",
    "    next_row['rETH'] = asset_df['rETH'].values[-1] + avg_monthly_rETH_returns\n",
    "    next_row['Kiln'] = asset_df['Kiln'].values[-1] + avg_monthly_kiln_returns\n",
    "    next_row['Enzyme Idle'] = asset_df['Enzyme Idle'].values[-1]\n",
    "    next_row['Cover Re Investment'] = asset_df['Cover Re Investment'].values[-1] * ((1 + cover_re_apy)**(1/12))\n",
    "    next_row['Cover Re Loan Collateral'] = asset_df['Cover Re Loan Collateral'].values[-1] * ((1 + aave_eth_supply_apy)**(1/12))\n",
    "    next_row['Cover Re Loan Outstanding'] = asset_df['Cover Re Loan Outstanding'].values[-1] * ((1 + aave_usdc_borrow_apy)**(1/12))\n",
    "    \n",
    "    asset_df.loc[len(asset_df)] = next_row\n",
    "\n",
    "asset_df"
   ]
  },
  {
   "cell_type": "code",
   "execution_count": 35,
   "id": "65c5775e",
   "metadata": {
    "ExecuteTime": {
     "end_time": "2024-08-28T08:59:54.967546Z",
     "start_time": "2024-08-28T08:59:54.957322Z"
    },
    "hidden": true
   },
   "outputs": [],
   "source": [
    "asset_df_6_mo = asset_df[:6].astype(float)\n",
    "asset_df_6_mo_pos = asset_df_6_mo.drop(columns=['Cover Re Loan Outstanding'])"
   ]
  },
  {
   "cell_type": "code",
   "execution_count": 36,
   "id": "e1250a04",
   "metadata": {
    "ExecuteTime": {
     "end_time": "2024-08-28T08:59:55.395310Z",
     "start_time": "2024-08-28T08:59:54.974889Z"
    },
    "hidden": true
   },
   "outputs": [
    {
     "name": "stderr",
     "output_type": "stream",
     "text": [
      "/tmp/ipykernel_691/1641516350.py:5: UserWarning: set_ticklabels() should only be used with a fixed number of ticks, i.e. after set_ticks() or using a FixedLocator.\n",
      "  projection_plot.set_yticklabels(['{:,.0f}'.format(x) for x in tick_vals]);\n"
     ]
    },
    {
     "data": {
      "image/png": "[encoded data removed]",
      "text/plain": [
       "<Figure size 1000x700 with 1 Axes>"
      ]
     },
     "metadata": {},
     "output_type": "display_data"
    }
   ],
   "source": [
    "projection_plot = asset_df_6_mo.plot(title=f'Capital Pool Projection from {today_date_str}',\n",
    "                                    figsize=(10, 7), legend=True, ylabel='ETH', xlabel='Months in Future')\n",
    "\n",
    "tick_vals = projection_plot.get_yticks()\n",
    "projection_plot.set_yticklabels(['{:,.0f}'.format(x) for x in tick_vals]);"
   ]
  },
  {
   "cell_type": "code",
   "execution_count": 37,
   "id": "8f64e944",
   "metadata": {
    "ExecuteTime": {
     "end_time": "2024-08-28T08:59:55.824804Z",
     "start_time": "2024-08-28T08:59:55.399155Z"
    },
    "hidden": true
   },
   "outputs": [
    {
     "name": "stderr",
     "output_type": "stream",
     "text": [
      "/tmp/ipykernel_691/1806150064.py:5: UserWarning: set_ticklabels() should only be used with a fixed number of ticks, i.e. after set_ticks() or using a FixedLocator.\n",
      "  projection_bar_plot.set_yticklabels(['{:,.0f}'.format(x) for x in tick_vals]);\n"
     ]
    },
    {
     "data": {
      "image/png": "[encoded data removed]",
      "text/plain": [
       "<Figure size 1000x700 with 1 Axes>"
      ]
     },
     "metadata": {},
     "output_type": "display_data"
    }
   ],
   "source": [
    "projection_bar_plot = asset_df_6_mo_pos.plot(kind='bar', stacked=True, title=f'Capital Pool Projection from {today_date_str}',\n",
    "                                    figsize=(10, 7), legend=True, ylabel='ETH', xlabel='Months in Future')\n",
    "\n",
    "tick_vals = projection_bar_plot.get_yticks()\n",
    "projection_bar_plot.set_yticklabels(['{:,.0f}'.format(x) for x in tick_vals]);"
   ]
  },
  {
   "cell_type": "code",
   "execution_count": 38,
   "id": "c68d1a95",
   "metadata": {
    "ExecuteTime": {
     "end_time": "2024-08-28T08:59:55.847793Z",
     "start_time": "2024-08-28T08:59:55.829930Z"
    },
    "hidden": true
   },
   "outputs": [
    {
     "data": {
      "text/html": [
       "<div>\n",
       "<style scoped>\n",
       "    .dataframe tbody tr th:only-of-type {\n",
       "        vertical-align: middle;\n",
       "    }\n",
       "\n",
       "    .dataframe tbody tr th {\n",
       "        vertical-align: top;\n",
       "    }\n",
       "\n",
       "    .dataframe thead th {\n",
       "        text-align: right;\n",
       "    }\n",
       "</style>\n",
       "<table border=\"1\" class=\"dataframe\">\n",
       "  <thead>\n",
       "    <tr style=\"text-align: right;\">\n",
       "      <th></th>\n",
       "      <th>ETH</th>\n",
       "      <th>DAI</th>\n",
       "      <th>stETH</th>\n",
       "      <th>rETH</th>\n",
       "      <th>Enzyme Idle</th>\n",
       "      <th>Kiln</th>\n",
       "      <th>Cover Re Investment</th>\n",
       "      <th>Cover Re Loan Collateral</th>\n",
       "      <th>USDC</th>\n",
       "    </tr>\n",
       "  </thead>\n",
       "  <tbody>\n",
       "    <tr>\n",
       "      <th>0</th>\n",
       "      <td>14.124694</td>\n",
       "      <td>0.295956</td>\n",
       "      <td>34.899248</td>\n",
       "      <td>17.653023</td>\n",
       "      <td>7.784031</td>\n",
       "      <td>8.122427</td>\n",
       "      <td>5.778225</td>\n",
       "      <td>11.115495</td>\n",
       "      <td>0.226900</td>\n",
       "    </tr>\n",
       "    <tr>\n",
       "      <th>1</th>\n",
       "      <td>11.251983</td>\n",
       "      <td>0.304812</td>\n",
       "      <td>36.060900</td>\n",
       "      <td>18.235351</td>\n",
       "      <td>8.016956</td>\n",
       "      <td>8.391371</td>\n",
       "      <td>6.042239</td>\n",
       "      <td>11.462698</td>\n",
       "      <td>0.233689</td>\n",
       "    </tr>\n",
       "    <tr>\n",
       "      <th>2</th>\n",
       "      <td>8.201925</td>\n",
       "      <td>0.314210</td>\n",
       "      <td>37.293674</td>\n",
       "      <td>18.853330</td>\n",
       "      <td>8.264131</td>\n",
       "      <td>8.676781</td>\n",
       "      <td>6.323885</td>\n",
       "      <td>11.831168</td>\n",
       "      <td>0.240894</td>\n",
       "    </tr>\n",
       "    <tr>\n",
       "      <th>3</th>\n",
       "      <td>4.957734</td>\n",
       "      <td>0.324201</td>\n",
       "      <td>38.604294</td>\n",
       "      <td>19.510330</td>\n",
       "      <td>8.526902</td>\n",
       "      <td>8.980213</td>\n",
       "      <td>6.624857</td>\n",
       "      <td>12.222915</td>\n",
       "      <td>0.248554</td>\n",
       "    </tr>\n",
       "    <tr>\n",
       "      <th>4</th>\n",
       "      <td>1.500435</td>\n",
       "      <td>0.334842</td>\n",
       "      <td>40.000358</td>\n",
       "      <td>20.210160</td>\n",
       "      <td>8.806791</td>\n",
       "      <td>9.303425</td>\n",
       "      <td>6.947065</td>\n",
       "      <td>12.640211</td>\n",
       "      <td>0.256713</td>\n",
       "    </tr>\n",
       "    <tr>\n",
       "      <th>5</th>\n",
       "      <td>-2.191497</td>\n",
       "      <td>0.346200</td>\n",
       "      <td>41.490485</td>\n",
       "      <td>20.957139</td>\n",
       "      <td>9.105525</td>\n",
       "      <td>9.648415</td>\n",
       "      <td>7.292679</td>\n",
       "      <td>13.085633</td>\n",
       "      <td>0.265420</td>\n",
       "    </tr>\n",
       "  </tbody>\n",
       "</table>\n",
       "</div>"
      ],
      "text/plain": [
       "         ETH       DAI      stETH       rETH  Enzyme Idle      Kiln  \\\n",
       "0  14.124694  0.295956  34.899248  17.653023     7.784031  8.122427   \n",
       "1  11.251983  0.304812  36.060900  18.235351     8.016956  8.391371   \n",
       "2   8.201925  0.314210  37.293674  18.853330     8.264131  8.676781   \n",
       "3   4.957734  0.324201  38.604294  19.510330     8.526902  8.980213   \n",
       "4   1.500435  0.334842  40.000358  20.210160     8.806791  9.303425   \n",
       "5  -2.191497  0.346200  41.490485  20.957139     9.105525  9.648415   \n",
       "\n",
       "   Cover Re Investment  Cover Re Loan Collateral      USDC  \n",
       "0             5.778225                 11.115495  0.226900  \n",
       "1             6.042239                 11.462698  0.233689  \n",
       "2             6.323885                 11.831168  0.240894  \n",
       "3             6.624857                 12.222915  0.248554  \n",
       "4             6.947065                 12.640211  0.256713  \n",
       "5             7.292679                 13.085633  0.265420  "
      ]
     },
     "execution_count": 38,
     "metadata": {},
     "output_type": "execute_result"
    }
   ],
   "source": [
    "df_sum = asset_df_6_mo_pos.sum(axis=1)\n",
    "df_rel = asset_df_6_mo_pos.div(df_sum, 0)*100\n",
    "df_rel"
   ]
  },
  {
   "cell_type": "code",
   "execution_count": 39,
   "id": "e1e64856",
   "metadata": {
    "ExecuteTime": {
     "end_time": "2024-08-28T08:59:55.927215Z",
     "start_time": "2024-08-28T08:59:55.852668Z"
    },
    "hidden": true
   },
   "outputs": [
    {
     "name": "stdout",
     "output_type": "stream",
     "text": [
      "5966.017221486287 0 14.1%\n",
      "4614.552040834466 1 11.3%\n",
      "3263.0868601826464 2 8.2%\n",
      "1911.621679530826 3 5.0%\n",
      "560.1564988790055 4 1.5%\n",
      "-791.3086817728149 5 -2.2%\n",
      "12057.040936965837 0 0.3%\n",
      "9354.110575662196 1 0.3%\n",
      "6651.180214358556 2 0.3%\n",
      "3948.249853054916 3 0.3%\n",
      "1245.3194917512749 4 0.3%\n",
      "-1457.610869552366 5 0.3%\n",
      "26922.863055089794 0 34.9%\n",
      "24268.05720200258 1 36.1%\n",
      "21613.251348915375 2 37.3%\n",
      "18958.445495828164 3 38.6%\n",
      "16303.639642740949 4 40.0%\n",
      "13648.83378965374 5 41.5%\n",
      "49119.99868362112 0 17.7%\n",
      "46535.49956976 1 18.2%\n",
      "43951.0004558989 2 18.9%\n",
      "41366.50134203779 3 19.5%\n",
      "38782.00222817667 4 20.2%\n",
      "36197.503114315565 5 21.0%\n",
      "59864.15368802175 0 7.8%\n",
      "57301.83680517031 1 8.0%\n",
      "54739.519922318876 2 8.3%\n",
      "52177.20303946743 3 8.5%\n",
      "49614.88615661598 4 8.8%\n",
      "47052.569273764544 5 9.1%\n",
      "66582.7560829342 0 8.1%\n",
      "64031.05814496797 1 8.4%\n",
      "61479.36020700175 2 8.7%\n",
      "58927.66226903552 3 9.0%\n",
      "56375.96433106929 4 9.3%\n",
      "53824.26639310307 5 9.6%\n",
      "72454.14211611946 0 5.8%\n",
      "69950.42770208219 1 6.0%\n",
      "67447.28531996552 2 6.3%\n",
      "64944.72372727527 3 6.6%\n",
      "62442.75181559002 4 6.9%\n",
      "59941.378612613735 5 7.3%\n",
      "79589.74627813551 0 11.1%\n",
      "77129.37956025884 1 11.5%\n",
      "74670.1645308881 2 11.8%\n",
      "72212.1187147515 3 12.2%\n",
      "69755.25990473518 4 12.6%\n",
      "67299.60616598844 5 13.1%\n",
      "84380.57016273556 0 0.2%\n",
      "81926.18656197577 1 0.2%\n",
      "79472.96227438662 2 0.2%\n",
      "77020.91483441292 3 0.2%\n",
      "74570.06204466977 4 0.3%\n",
      "72120.42198004786 5 0.3%\n"
     ]
    }
   ],
   "source": [
    "for n in df_rel: \n",
    "    for i, (cs, ab, pc) in enumerate(zip(asset_df_6_mo_pos.cumsum(1)[n],  \n",
    "                                         asset_df_6_mo_pos[n], df_rel[n])): \n",
    "        print(cs - ab / 2, i, str(np.round(pc, 1)) + '%')"
   ]
  },
  {
   "cell_type": "code",
   "execution_count": 40,
   "id": "eb084695",
   "metadata": {
    "ExecuteTime": {
     "end_time": "2024-08-28T08:59:56.677819Z",
     "start_time": "2024-08-28T08:59:55.934233Z"
    },
    "hidden": true
   },
   "outputs": [
    {
     "name": "stderr",
     "output_type": "stream",
     "text": [
      "/tmp/ipykernel_691/4137318079.py:5: UserWarning: set_ticklabels() should only be used with a fixed number of ticks, i.e. after set_ticks() or using a FixedLocator.\n",
      "  projection_bar_perc_plot.set_yticklabels(['{:,.0f}'.format(x) for x in tick_vals])\n"
     ]
    },
    {
     "data": {
      "image/png": "[encoded data removed]",
      "text/plain": [
       "<Figure size 1000x700 with 1 Axes>"
      ]
     },
     "metadata": {},
     "output_type": "display_data"
    }
   ],
   "source": [
    "projection_bar_perc_plot = asset_df_6_mo_pos.plot(kind='bar', stacked=True, title=f'Capital Pool Projection from {today_date_str}',\n",
    "                                    figsize=(10, 7), legend=True, ylabel='ETH', xlabel='Months in Future')\n",
    "\n",
    "tick_vals = projection_bar_perc_plot.get_yticks()\n",
    "projection_bar_perc_plot.set_yticklabels(['{:,.0f}'.format(x) for x in tick_vals])\n",
    "\n",
    "for n in df_rel: \n",
    "     for i, (cs, ab, pc) in enumerate(zip(asset_df_6_mo_pos.cumsum(1)[n],  \n",
    "                                         asset_df_6_mo_pos[n], df_rel[n])): \n",
    "         projection_bar_perc_plot.text(y= cs - ab / 2, x=i, s=str(np.round(pc, 1)) + '%',\n",
    "                             va = 'center', ha = 'center', size = 'small')"
   ]
  },
  {
   "cell_type": "code",
   "execution_count": null,
   "id": "8ac03af3",
   "metadata": {
    "hidden": true
   },
   "outputs": [],
   "source": []
  }
 ],
 "metadata": {
  "kernelspec": {
   "display_name": "Python 3 (ipykernel)",
   "language": "python",
   "name": "python3"
  },
  "language_info": {
   "codemirror_mode": {
    "name": "ipython",
    "version": 3
   },
   "file_extension": ".py",
   "mimetype": "text/x-python",
   "name": "python",
   "nbconvert_exporter": "python",
   "pygments_lexer": "ipython3",
   "version": "3.10.6"
  },
  "toc": {
   "base_numbering": 1,
   "nav_menu": {},
   "number_sections": true,
   "sideBar": true,
   "skip_h1_title": false,
   "title_cell": "Table of Contents",
   "title_sidebar": "Contents",
   "toc_cell": false,
   "toc_position": {},
   "toc_section_display": true,
   "toc_window_display": false
  }
 },
 "nbformat": 4,
 "nbformat_minor": 5
}
