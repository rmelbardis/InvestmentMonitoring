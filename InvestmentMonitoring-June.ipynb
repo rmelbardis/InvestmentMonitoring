{
 "cells": [
  {
   "cell_type": "markdown",
   "id": "374372ea",
   "metadata": {},
   "source": [
    "# Imports and Inputs"
   ]
  },
  {
   "cell_type": "code",
   "execution_count": 1,
   "id": "4dc24827",
   "metadata": {
    "ExecuteTime": {
     "end_time": "2024-07-04T08:42:47.521215Z",
     "start_time": "2024-07-04T08:42:46.676271Z"
    }
   },
   "outputs": [
    {
     "name": "stderr",
     "output_type": "stream",
     "text": [
      "/tmp/ipykernel_748/3756105138.py:1: DeprecationWarning: \n",
      "Pyarrow will become a required dependency of pandas in the next major release of pandas (pandas 3.0),\n",
      "(to allow more performant data types, such as the Arrow string type, and better interoperability with other libraries)\n",
      "but was not found to be installed on your system.\n",
      "If this would cause problems for you,\n",
      "please provide us feedback at https://github.com/pandas-dev/pandas/issues/54466\n",
      "        \n",
      "  import pandas as pd\n"
     ]
    }
   ],
   "source": [
    "import pandas as pd\n",
    "import requests\n",
    "import matplotlib.pyplot as plt\n",
    "# import seaborn as sns\n",
    "from datetime import datetime, timedelta, timezone\n",
    "\n",
    "from dune_client.client import DuneClient\n",
    "from config import key\n",
    "\n",
    "# pd.set_option('display.max_rows', None)\n",
    "pd.set_option('display.max_columns', None)"
   ]
  },
  {
   "cell_type": "markdown",
   "id": "27ca9291",
   "metadata": {},
   "source": [
    "Links to dune queries to refresh before importing:\n",
    "\n",
    "[Capital Pool in ETH](https://dune.com/queries/3773645/6345766?display_currency_e15077=ETH)\n",
    "\n",
    "[RAMM Volumes](https://dune.com/queries/3219988/5394288)\n",
    "\n",
    "[Full List Of Covers V2](https://dune.com/queries/3810247)"
   ]
  },
  {
   "cell_type": "code",
   "execution_count": 2,
   "id": "09516829",
   "metadata": {
    "ExecuteTime": {
     "end_time": "2024-07-04T08:48:39.098863Z",
     "start_time": "2024-07-04T08:48:37.817924Z"
    }
   },
   "outputs": [],
   "source": [
    "# import jsons of capital pool, ramm volume and covers from dune api \n",
    "dune = DuneClient(key)\n",
    "cap_pool_result = dune.get_latest_result_dataframe(3773645)\n",
    "ramm_volume_result = dune.get_latest_result_dataframe(3219988)\n",
    "covers_list_result = dune.get_latest_result_dataframe(3810247)"
   ]
  },
  {
   "cell_type": "markdown",
   "id": "7afdf7c6",
   "metadata": {},
   "source": [
    "# Investment Newsletter Data"
   ]
  },
  {
   "cell_type": "markdown",
   "id": "49eb3223",
   "metadata": {},
   "source": [
    "Kiln Rewards - [AB Safe Enzyme App](https://app.safe.global/apps/open?safe=eth:0x51ad1265C8702c9e96Ea61Fe4088C2e22eD4418e&appUrl=https%3A%2F%2Fapp.enzyme.finance)"
   ]
  },
  {
   "cell_type": "code",
   "execution_count": 71,
   "id": "530eeccc",
   "metadata": {
    "ExecuteTime": {
     "end_time": "2024-07-04T10:26:11.180931Z",
     "start_time": "2024-07-04T10:26:11.168134Z"
    }
   },
   "outputs": [],
   "source": [
    "# manually input the valuation date as a string in the format 'dd-mm-yyyy'\n",
    "valn_date_str = '30-06-2024'\n",
    "\n",
    "# manually input idle Enzyme Portion\n",
    "Enzyme_idle_portion = 6575.67\n",
    "Enzyme_monthly_change = 6.777\n",
    "# manually input kiln rewards\n",
    "kiln_first_round = 181.45\n",
    "kiln_current = 43.0104\n",
    "# create datetime object of 2023/08/30 when the Kiln validators were activated \n",
    "# kiln_deposit_date = datetime(year=2023, month=8, day=30, tzinfo=timezone.utc)\n",
    "kiln_deposit_date = datetime(year=2023, month=8, day=30)\n",
    "# create datetime objects of 2024/04/24 and 2024/04/26 when the Kiln rewards were first claimed.\n",
    "    # Note that the values for 2024/04/25 will be inaccurate\n",
    "# kiln_claim_start_date = datetime(year=2024, month=4, day=24, tzinfo=timezone.utc)\n",
    "# kiln_claim_end_date = datetime(year=2024, month=4, day=26, tzinfo=timezone.utc)\n",
    "kiln_claim_start_date = datetime(year=2024, month=4, day=24)\n",
    "kiln_claim_end_date = datetime(year=2024, month=4, day=26)\n",
    "\n",
    "kiln_total_rewards = kiln_first_round + kiln_current\n",
    "\n",
    "# manually input debtUSDC repayment size and date of repayment\n",
    "debtUSDC_monthly_repayment = 85_151.182726\n",
    "\n",
    "repayment_date_str = '07-06-2024'\n",
    "debtUSDC_repayment_date = datetime.strptime(repayment_date_str, '%d-%m-%Y')\n",
    "\n",
    "# average days in month\n",
    "avg_days_in_month = 30.436875"
   ]
  },
  {
   "cell_type": "code",
   "execution_count": 48,
   "id": "e9408efe",
   "metadata": {
    "ExecuteTime": {
     "end_time": "2024-07-04T10:08:51.967897Z",
     "start_time": "2024-07-04T10:08:51.958409Z"
    }
   },
   "outputs": [],
   "source": [
    "# create valuation datetime\n",
    "# valn_date = datetime.strptime(valn_date_str, '%d-%m-%Y').replace(tzinfo=timezone.utc)\n",
    "valn_date = datetime.strptime(valn_date_str, '%d-%m-%Y')\n",
    "# create valuation datetimes for 30 days and 365 days ago\n",
    "# eom_before_valn_date = datetime(year=valn_date.year, month=valn_date.month, day=1, tzinfo=timezone.utc) - timedelta(days=1)\n",
    "eom_before_valn_date = datetime(year=valn_date.year, month=valn_date.month, day=1) - timedelta(days=1)"
   ]
  },
  {
   "cell_type": "code",
   "execution_count": 49,
   "id": "91054a2f",
   "metadata": {
    "ExecuteTime": {
     "end_time": "2024-07-04T10:08:52.861821Z",
     "start_time": "2024-07-04T10:08:52.468931Z"
    }
   },
   "outputs": [],
   "source": [
    "# coingecko ETH API for ETH-USD at valuation date\n",
    "url = 'https://api.coingecko.com/api/v3/coins/ethereum/history'\n",
    "eth_price_params_valn = {'date': valn_date_str}\n",
    "eth_usd_valn = requests.get(url, params=eth_price_params_valn).json()['market_data']['current_price']['usd']"
   ]
  },
  {
   "cell_type": "markdown",
   "id": "c05ea3f7",
   "metadata": {},
   "source": [
    "## Processing Capital Pool Table"
   ]
  },
  {
   "cell_type": "code",
   "execution_count": 50,
   "id": "e9b7aed8",
   "metadata": {
    "ExecuteTime": {
     "end_time": "2024-07-04T10:08:54.606919Z",
     "start_time": "2024-07-04T10:08:54.576486Z"
    }
   },
   "outputs": [
    {
     "data": {
      "text/html": [
       "<div>\n",
       "<style scoped>\n",
       "    .dataframe tbody tr th:only-of-type {\n",
       "        vertical-align: middle;\n",
       "    }\n",
       "\n",
       "    .dataframe tbody tr th {\n",
       "        vertical-align: top;\n",
       "    }\n",
       "\n",
       "    .dataframe thead th {\n",
       "        text-align: right;\n",
       "    }\n",
       "</style>\n",
       "<table border=\"1\" class=\"dataframe\">\n",
       "  <thead>\n",
       "    <tr style=\"text-align: right;\">\n",
       "      <th></th>\n",
       "      <th>block_date</th>\n",
       "      <th>avg_eth_usd_price</th>\n",
       "      <th>capital_pool_display_curr</th>\n",
       "      <th>eth_display_curr</th>\n",
       "      <th>dai_display_curr</th>\n",
       "      <th>nxmty_display_curr</th>\n",
       "      <th>steth_display_curr</th>\n",
       "      <th>reth_display_curr</th>\n",
       "      <th>usdc_display_curr</th>\n",
       "      <th>cover_re_usdc_display_curr</th>\n",
       "      <th>aave_collateral_weth_display_curr</th>\n",
       "      <th>aave_debt_usdc_display_curr</th>\n",
       "    </tr>\n",
       "  </thead>\n",
       "  <tbody>\n",
       "    <tr>\n",
       "      <th>0</th>\n",
       "      <td>2024-07-04 00:00:00.000 UTC</td>\n",
       "      <td>3238.222424</td>\n",
       "      <td>85371.636068</td>\n",
       "      <td>11824.671921</td>\n",
       "      <td>267.145432</td>\n",
       "      <td>13357.677529</td>\n",
       "      <td>33718.534579</td>\n",
       "      <td>14924.623586</td>\n",
       "      <td>44.175999</td>\n",
       "      <td>3709.770699</td>\n",
       "      <td>9361.167938</td>\n",
       "      <td>-1836.131614</td>\n",
       "    </tr>\n",
       "    <tr>\n",
       "      <th>1</th>\n",
       "      <td>2024-07-03 00:00:00.000 UTC</td>\n",
       "      <td>3331.333056</td>\n",
       "      <td>85240.281879</td>\n",
       "      <td>11831.125135</td>\n",
       "      <td>259.584834</td>\n",
       "      <td>13357.677529</td>\n",
       "      <td>33718.534579</td>\n",
       "      <td>14847.629481</td>\n",
       "      <td>42.950579</td>\n",
       "      <td>3606.863494</td>\n",
       "      <td>9360.969637</td>\n",
       "      <td>-1785.053389</td>\n",
       "    </tr>\n",
       "    <tr>\n",
       "      <th>2</th>\n",
       "      <td>2024-07-02 00:00:00.000 UTC</td>\n",
       "      <td>3436.515174</td>\n",
       "      <td>85186.409988</td>\n",
       "      <td>11854.906196</td>\n",
       "      <td>251.583948</td>\n",
       "      <td>13357.730608</td>\n",
       "      <td>33715.727818</td>\n",
       "      <td>14839.098715</td>\n",
       "      <td>41.163116</td>\n",
       "      <td>3495.055655</td>\n",
       "      <td>9360.453379</td>\n",
       "      <td>-1729.309447</td>\n",
       "    </tr>\n",
       "    <tr>\n",
       "      <th>3</th>\n",
       "      <td>2024-07-01 00:00:00.000 UTC</td>\n",
       "      <td>3473.750903</td>\n",
       "      <td>85171.541236</td>\n",
       "      <td>11873.158217</td>\n",
       "      <td>317.516737</td>\n",
       "      <td>13357.783695</td>\n",
       "      <td>33712.981180</td>\n",
       "      <td>14832.388136</td>\n",
       "      <td>40.717497</td>\n",
       "      <td>3457.219325</td>\n",
       "      <td>9359.957564</td>\n",
       "      <td>-1780.181115</td>\n",
       "    </tr>\n",
       "    <tr>\n",
       "      <th>4</th>\n",
       "      <td>2024-06-30 00:00:00.000 UTC</td>\n",
       "      <td>3394.925833</td>\n",
       "      <td>85150.880003</td>\n",
       "      <td>11835.625263</td>\n",
       "      <td>325.006496</td>\n",
       "      <td>13357.836775</td>\n",
       "      <td>33710.214237</td>\n",
       "      <td>14830.813773</td>\n",
       "      <td>14.851334</td>\n",
       "      <td>3538.857746</td>\n",
       "      <td>9359.454448</td>\n",
       "      <td>-1821.780069</td>\n",
       "    </tr>\n",
       "    <tr>\n",
       "      <th>...</th>\n",
       "      <td>...</td>\n",
       "      <td>...</td>\n",
       "      <td>...</td>\n",
       "      <td>...</td>\n",
       "      <td>...</td>\n",
       "      <td>...</td>\n",
       "      <td>...</td>\n",
       "      <td>...</td>\n",
       "      <td>...</td>\n",
       "      <td>...</td>\n",
       "      <td>...</td>\n",
       "      <td>...</td>\n",
       "    </tr>\n",
       "    <tr>\n",
       "      <th>1865</th>\n",
       "      <td>2019-05-27 00:00:00.000 UTC</td>\n",
       "      <td>268.692708</td>\n",
       "      <td>23.625751</td>\n",
       "      <td>23.625751</td>\n",
       "      <td>0.000000</td>\n",
       "      <td>0.000000</td>\n",
       "      <td>0.000000</td>\n",
       "      <td>0.000000</td>\n",
       "      <td>0.000000</td>\n",
       "      <td>0.000000</td>\n",
       "      <td>0.000000</td>\n",
       "      <td>-0.000000</td>\n",
       "    </tr>\n",
       "    <tr>\n",
       "      <th>1866</th>\n",
       "      <td>2019-05-26 00:00:00.000 UTC</td>\n",
       "      <td>252.561806</td>\n",
       "      <td>23.629793</td>\n",
       "      <td>23.629793</td>\n",
       "      <td>0.000000</td>\n",
       "      <td>0.000000</td>\n",
       "      <td>0.000000</td>\n",
       "      <td>0.000000</td>\n",
       "      <td>0.000000</td>\n",
       "      <td>0.000000</td>\n",
       "      <td>0.000000</td>\n",
       "      <td>-0.000000</td>\n",
       "    </tr>\n",
       "    <tr>\n",
       "      <th>1867</th>\n",
       "      <td>2019-05-25 00:00:00.000 UTC</td>\n",
       "      <td>251.959896</td>\n",
       "      <td>22.633834</td>\n",
       "      <td>22.633834</td>\n",
       "      <td>0.000000</td>\n",
       "      <td>0.000000</td>\n",
       "      <td>0.000000</td>\n",
       "      <td>0.000000</td>\n",
       "      <td>0.000000</td>\n",
       "      <td>0.000000</td>\n",
       "      <td>0.000000</td>\n",
       "      <td>-0.000000</td>\n",
       "    </tr>\n",
       "    <tr>\n",
       "      <th>1868</th>\n",
       "      <td>2019-05-24 00:00:00.000 UTC</td>\n",
       "      <td>249.477361</td>\n",
       "      <td>21.537876</td>\n",
       "      <td>21.537876</td>\n",
       "      <td>0.000000</td>\n",
       "      <td>0.000000</td>\n",
       "      <td>0.000000</td>\n",
       "      <td>0.000000</td>\n",
       "      <td>0.000000</td>\n",
       "      <td>0.000000</td>\n",
       "      <td>0.000000</td>\n",
       "      <td>-0.000000</td>\n",
       "    </tr>\n",
       "    <tr>\n",
       "      <th>1869</th>\n",
       "      <td>2019-05-23 00:00:00.000 UTC</td>\n",
       "      <td>241.129757</td>\n",
       "      <td>0.095959</td>\n",
       "      <td>0.095959</td>\n",
       "      <td>0.000000</td>\n",
       "      <td>0.000000</td>\n",
       "      <td>0.000000</td>\n",
       "      <td>0.000000</td>\n",
       "      <td>0.000000</td>\n",
       "      <td>0.000000</td>\n",
       "      <td>0.000000</td>\n",
       "      <td>-0.000000</td>\n",
       "    </tr>\n",
       "  </tbody>\n",
       "</table>\n",
       "<p>1870 rows × 12 columns</p>\n",
       "</div>"
      ],
      "text/plain": [
       "                       block_date  avg_eth_usd_price  \\\n",
       "0     2024-07-04 00:00:00.000 UTC        3238.222424   \n",
       "1     2024-07-03 00:00:00.000 UTC        3331.333056   \n",
       "2     2024-07-02 00:00:00.000 UTC        3436.515174   \n",
       "3     2024-07-01 00:00:00.000 UTC        3473.750903   \n",
       "4     2024-06-30 00:00:00.000 UTC        3394.925833   \n",
       "...                           ...                ...   \n",
       "1865  2019-05-27 00:00:00.000 UTC         268.692708   \n",
       "1866  2019-05-26 00:00:00.000 UTC         252.561806   \n",
       "1867  2019-05-25 00:00:00.000 UTC         251.959896   \n",
       "1868  2019-05-24 00:00:00.000 UTC         249.477361   \n",
       "1869  2019-05-23 00:00:00.000 UTC         241.129757   \n",
       "\n",
       "      capital_pool_display_curr  eth_display_curr  dai_display_curr  \\\n",
       "0                  85371.636068      11824.671921        267.145432   \n",
       "1                  85240.281879      11831.125135        259.584834   \n",
       "2                  85186.409988      11854.906196        251.583948   \n",
       "3                  85171.541236      11873.158217        317.516737   \n",
       "4                  85150.880003      11835.625263        325.006496   \n",
       "...                         ...               ...               ...   \n",
       "1865                  23.625751         23.625751          0.000000   \n",
       "1866                  23.629793         23.629793          0.000000   \n",
       "1867                  22.633834         22.633834          0.000000   \n",
       "1868                  21.537876         21.537876          0.000000   \n",
       "1869                   0.095959          0.095959          0.000000   \n",
       "\n",
       "      nxmty_display_curr  steth_display_curr  reth_display_curr  \\\n",
       "0           13357.677529        33718.534579       14924.623586   \n",
       "1           13357.677529        33718.534579       14847.629481   \n",
       "2           13357.730608        33715.727818       14839.098715   \n",
       "3           13357.783695        33712.981180       14832.388136   \n",
       "4           13357.836775        33710.214237       14830.813773   \n",
       "...                  ...                 ...                ...   \n",
       "1865            0.000000            0.000000           0.000000   \n",
       "1866            0.000000            0.000000           0.000000   \n",
       "1867            0.000000            0.000000           0.000000   \n",
       "1868            0.000000            0.000000           0.000000   \n",
       "1869            0.000000            0.000000           0.000000   \n",
       "\n",
       "      usdc_display_curr  cover_re_usdc_display_curr  \\\n",
       "0             44.175999                 3709.770699   \n",
       "1             42.950579                 3606.863494   \n",
       "2             41.163116                 3495.055655   \n",
       "3             40.717497                 3457.219325   \n",
       "4             14.851334                 3538.857746   \n",
       "...                 ...                         ...   \n",
       "1865           0.000000                    0.000000   \n",
       "1866           0.000000                    0.000000   \n",
       "1867           0.000000                    0.000000   \n",
       "1868           0.000000                    0.000000   \n",
       "1869           0.000000                    0.000000   \n",
       "\n",
       "      aave_collateral_weth_display_curr  aave_debt_usdc_display_curr  \n",
       "0                           9361.167938                 -1836.131614  \n",
       "1                           9360.969637                 -1785.053389  \n",
       "2                           9360.453379                 -1729.309447  \n",
       "3                           9359.957564                 -1780.181115  \n",
       "4                           9359.454448                 -1821.780069  \n",
       "...                                 ...                          ...  \n",
       "1865                           0.000000                    -0.000000  \n",
       "1866                           0.000000                    -0.000000  \n",
       "1867                           0.000000                    -0.000000  \n",
       "1868                           0.000000                    -0.000000  \n",
       "1869                           0.000000                    -0.000000  \n",
       "\n",
       "[1870 rows x 12 columns]"
      ]
     },
     "execution_count": 50,
     "metadata": {},
     "output_type": "execute_result"
    }
   ],
   "source": [
    "cap_pool_result"
   ]
  },
  {
   "cell_type": "code",
   "execution_count": 51,
   "id": "21a3ea42",
   "metadata": {
    "ExecuteTime": {
     "end_time": "2024-07-04T10:08:56.001665Z",
     "start_time": "2024-07-04T10:08:55.893649Z"
    }
   },
   "outputs": [
    {
     "name": "stderr",
     "output_type": "stream",
     "text": [
      "/tmp/ipykernel_748/3482859299.py:38: FutureWarning: Setting an item of incompatible dtype is deprecated and will raise an error in a future version of pandas. Value '[  181.45         180.68760504   179.92521008 ... -1187.81134454\n",
      " -1188.5737395  -1189.33613445]' has dtype incompatible with int64, please explicitly cast to a compatible dtype first.\n",
      "  df_cap.loc[df_cap['day'] <= kiln_claim_start_date, 'kiln_rewards'] = daily_first_kiln_rewards * ((df_cap['day'] - kiln_deposit_date) / timedelta(days=1))\n"
     ]
    }
   ],
   "source": [
    "# process capital pool table\n",
    "\n",
    "df_cap_raw = cap_pool_result\n",
    "\n",
    "# drop moving average columns\n",
    "df_cap = df_cap_raw.drop(columns=['capital_pool_display_curr'])\n",
    "# rename columns\n",
    "df_cap.rename(columns={'eth_display_curr': 'ETH',\n",
    "                       'dai_display_curr': 'DAI',\n",
    "                       'reth_display_curr': 'rETH',\n",
    "                       'steth_display_curr': 'stETH',\n",
    "                       'nxmty_display_curr': 'Enzyme',\n",
    "                       'usdc_display_curr': 'USDC',\n",
    "                       'cover_re_usdc_display_curr': 'Cover Re',\n",
    "                       'aave_collateral_weth_display_curr': 'aEthWETH',\n",
    "                       'aave_debt_usdc_display_curr': 'variableDebtEthUSDC',\n",
    "                       'avg_eth_usd_price': 'rate_ETH_USD',\n",
    "                       'block_date': 'day'\n",
    "                  }, inplace=True)\n",
    "\n",
    "\n",
    "# change day to a datetime, and remove timezone\n",
    "df_cap['day'] = pd.to_datetime(df_cap['day']).dt.tz_localize(None)\n",
    "\n",
    "# Adjust Enzyme for unclaimed Kiln returns\n",
    "    # work out days since kiln deposit from the latest day and work out the rewards per day\n",
    "days_first_kiln_rewards = (kiln_claim_start_date - kiln_deposit_date)/timedelta(days=1)\n",
    "daily_first_kiln_rewards = kiln_first_round/days_first_kiln_rewards\n",
    "\n",
    "days_current_kiln_rewards = (df_cap.iloc[0]['day'] - kiln_claim_end_date)/timedelta(days=1)\n",
    "daily_current_kiln_rewards = kiln_current/days_current_kiln_rewards\n",
    "\n",
    "days_total_kiln_rewards = (df_cap.iloc[0]['day'] - kiln_deposit_date)/timedelta(days=1)\n",
    "daily_total_kiln_rewards = kiln_total_rewards / days_total_kiln_rewards\n",
    "\n",
    "    # create a column for kiln rewards based on the daily values since validators went live\n",
    "df_cap['kiln_rewards'] = 0\n",
    "df_cap.loc[df_cap['day'] <= kiln_claim_start_date, 'kiln_rewards'] = daily_first_kiln_rewards * ((df_cap['day'] - kiln_deposit_date) / timedelta(days=1))\n",
    "df_cap.loc[df_cap['day'] >= kiln_claim_end_date, 'kiln_rewards'] = daily_current_kiln_rewards * ((df_cap['day'] - kiln_claim_end_date) / timedelta(days=1))\n",
    "df_cap.loc[df_cap['kiln_rewards'] < 0, 'kiln_rewards'] = 0\n",
    "\n",
    "    # Add Kiln rewards to Enzyme column and then drop the Kiln rewards column\n",
    "df_cap['Enzyme'] = df_cap['Enzyme'] + df_cap['kiln_rewards']\n",
    "df_cap.drop(columns=['kiln_rewards'], inplace=True)\n",
    "\n",
    "# add all the columns except day and the exchange rate together to get numeric total\n",
    "df_cap['sum'] = df_cap.drop(columns=['day', 'rate_ETH_USD']).sum(axis=1)\n",
    "\n",
    "# work out net aave position\n",
    "df_cap['Aave (net)'] = df_cap['aEthWETH'] + df_cap['variableDebtEthUSDC']"
   ]
  },
  {
   "cell_type": "code",
   "execution_count": 52,
   "id": "d3896c4e",
   "metadata": {
    "ExecuteTime": {
     "end_time": "2024-07-04T10:08:56.843491Z",
     "start_time": "2024-07-04T10:08:56.808828Z"
    }
   },
   "outputs": [
    {
     "data": {
      "text/html": [
       "<div>\n",
       "<style scoped>\n",
       "    .dataframe tbody tr th:only-of-type {\n",
       "        vertical-align: middle;\n",
       "    }\n",
       "\n",
       "    .dataframe tbody tr th {\n",
       "        vertical-align: top;\n",
       "    }\n",
       "\n",
       "    .dataframe thead th {\n",
       "        text-align: right;\n",
       "    }\n",
       "</style>\n",
       "<table border=\"1\" class=\"dataframe\">\n",
       "  <thead>\n",
       "    <tr style=\"text-align: right;\">\n",
       "      <th></th>\n",
       "      <th>day</th>\n",
       "      <th>rate_ETH_USD</th>\n",
       "      <th>ETH</th>\n",
       "      <th>DAI</th>\n",
       "      <th>Enzyme</th>\n",
       "      <th>stETH</th>\n",
       "      <th>rETH</th>\n",
       "      <th>USDC</th>\n",
       "      <th>Cover Re</th>\n",
       "      <th>aEthWETH</th>\n",
       "      <th>variableDebtEthUSDC</th>\n",
       "      <th>sum</th>\n",
       "      <th>Aave (net)</th>\n",
       "    </tr>\n",
       "  </thead>\n",
       "  <tbody>\n",
       "    <tr>\n",
       "      <th>34</th>\n",
       "      <td>2024-05-31</td>\n",
       "      <td>3768.0025</td>\n",
       "      <td>14114.203758</td>\n",
       "      <td>272.782221</td>\n",
       "      <td>13374.602336</td>\n",
       "      <td>33623.618159</td>\n",
       "      <td>14795.68645</td>\n",
       "      <td>1.274981</td>\n",
       "      <td>3187.407884</td>\n",
       "      <td>9343.003483</td>\n",
       "      <td>-1651.115935</td>\n",
       "      <td>87061.463336</td>\n",
       "      <td>7691.887548</td>\n",
       "    </tr>\n",
       "  </tbody>\n",
       "</table>\n",
       "</div>"
      ],
      "text/plain": [
       "          day  rate_ETH_USD           ETH         DAI        Enzyme  \\\n",
       "34 2024-05-31     3768.0025  14114.203758  272.782221  13374.602336   \n",
       "\n",
       "           stETH         rETH      USDC     Cover Re     aEthWETH  \\\n",
       "34  33623.618159  14795.68645  1.274981  3187.407884  9343.003483   \n",
       "\n",
       "    variableDebtEthUSDC           sum   Aave (net)  \n",
       "34         -1651.115935  87061.463336  7691.887548  "
      ]
     },
     "execution_count": 52,
     "metadata": {},
     "output_type": "execute_result"
    }
   ],
   "source": [
    "df_cap.loc[df_cap['day'] == eom_before_valn_date]"
   ]
  },
  {
   "cell_type": "code",
   "execution_count": 53,
   "id": "9aa1a488",
   "metadata": {
    "ExecuteTime": {
     "end_time": "2024-07-04T10:08:57.615941Z",
     "start_time": "2024-07-04T10:08:57.584419Z"
    }
   },
   "outputs": [
    {
     "data": {
      "text/html": [
       "<div>\n",
       "<style scoped>\n",
       "    .dataframe tbody tr th:only-of-type {\n",
       "        vertical-align: middle;\n",
       "    }\n",
       "\n",
       "    .dataframe tbody tr th {\n",
       "        vertical-align: top;\n",
       "    }\n",
       "\n",
       "    .dataframe thead th {\n",
       "        text-align: right;\n",
       "    }\n",
       "</style>\n",
       "<table border=\"1\" class=\"dataframe\">\n",
       "  <thead>\n",
       "    <tr style=\"text-align: right;\">\n",
       "      <th></th>\n",
       "      <th>day</th>\n",
       "      <th>rate_ETH_USD</th>\n",
       "      <th>ETH</th>\n",
       "      <th>DAI</th>\n",
       "      <th>Enzyme</th>\n",
       "      <th>stETH</th>\n",
       "      <th>rETH</th>\n",
       "      <th>USDC</th>\n",
       "      <th>Cover Re</th>\n",
       "      <th>aEthWETH</th>\n",
       "      <th>variableDebtEthUSDC</th>\n",
       "      <th>sum</th>\n",
       "      <th>Aave (net)</th>\n",
       "    </tr>\n",
       "  </thead>\n",
       "  <tbody>\n",
       "    <tr>\n",
       "      <th>4</th>\n",
       "      <td>2024-06-30</td>\n",
       "      <td>3394.925833</td>\n",
       "      <td>11835.625263</td>\n",
       "      <td>325.006496</td>\n",
       "      <td>13398.353818</td>\n",
       "      <td>33710.214237</td>\n",
       "      <td>14830.813773</td>\n",
       "      <td>14.851334</td>\n",
       "      <td>3538.857746</td>\n",
       "      <td>9359.454448</td>\n",
       "      <td>-1821.780069</td>\n",
       "      <td>85191.397046</td>\n",
       "      <td>7537.674379</td>\n",
       "    </tr>\n",
       "  </tbody>\n",
       "</table>\n",
       "</div>"
      ],
      "text/plain": [
       "         day  rate_ETH_USD           ETH         DAI        Enzyme  \\\n",
       "4 2024-06-30   3394.925833  11835.625263  325.006496  13398.353818   \n",
       "\n",
       "          stETH          rETH       USDC     Cover Re     aEthWETH  \\\n",
       "4  33710.214237  14830.813773  14.851334  3538.857746  9359.454448   \n",
       "\n",
       "   variableDebtEthUSDC           sum   Aave (net)  \n",
       "4         -1821.780069  85191.397046  7537.674379  "
      ]
     },
     "execution_count": 53,
     "metadata": {},
     "output_type": "execute_result"
    }
   ],
   "source": [
    "df_cap.loc[df_cap['day'] == valn_date]"
   ]
  },
  {
   "cell_type": "code",
   "execution_count": 54,
   "id": "201aae9f",
   "metadata": {
    "ExecuteTime": {
     "end_time": "2024-07-04T10:08:58.198725Z",
     "start_time": "2024-07-04T10:08:58.147890Z"
    }
   },
   "outputs": [
    {
     "data": {
      "text/html": [
       "<div>\n",
       "<style scoped>\n",
       "    .dataframe tbody tr th:only-of-type {\n",
       "        vertical-align: middle;\n",
       "    }\n",
       "\n",
       "    .dataframe tbody tr th {\n",
       "        vertical-align: top;\n",
       "    }\n",
       "\n",
       "    .dataframe thead th {\n",
       "        text-align: right;\n",
       "    }\n",
       "</style>\n",
       "<table border=\"1\" class=\"dataframe\">\n",
       "  <thead>\n",
       "    <tr style=\"text-align: right;\">\n",
       "      <th></th>\n",
       "      <th>day</th>\n",
       "      <th>rate_ETH_USD</th>\n",
       "      <th>ETH</th>\n",
       "      <th>DAI</th>\n",
       "      <th>Enzyme</th>\n",
       "      <th>stETH</th>\n",
       "      <th>rETH</th>\n",
       "      <th>USDC</th>\n",
       "      <th>Cover Re</th>\n",
       "      <th>aEthWETH</th>\n",
       "      <th>variableDebtEthUSDC</th>\n",
       "      <th>sum</th>\n",
       "      <th>Aave (net)</th>\n",
       "    </tr>\n",
       "  </thead>\n",
       "  <tbody>\n",
       "    <tr>\n",
       "      <th>4</th>\n",
       "      <td>2024-06-30</td>\n",
       "      <td>3394.925833</td>\n",
       "      <td>11835.625263</td>\n",
       "      <td>325.006496</td>\n",
       "      <td>13398.353818</td>\n",
       "      <td>33710.214237</td>\n",
       "      <td>14830.813773</td>\n",
       "      <td>14.851334</td>\n",
       "      <td>3538.857746</td>\n",
       "      <td>9359.454448</td>\n",
       "      <td>-1821.780069</td>\n",
       "      <td>85191.397046</td>\n",
       "      <td>7537.674379</td>\n",
       "    </tr>\n",
       "    <tr>\n",
       "      <th>5</th>\n",
       "      <td>2024-06-29</td>\n",
       "      <td>3388.369444</td>\n",
       "      <td>11875.558305</td>\n",
       "      <td>325.409406</td>\n",
       "      <td>13397.783566</td>\n",
       "      <td>33707.640838</td>\n",
       "      <td>14819.024304</td>\n",
       "      <td>14.881388</td>\n",
       "      <td>3546.019193</td>\n",
       "      <td>9358.850319</td>\n",
       "      <td>-1825.043444</td>\n",
       "      <td>85220.123875</td>\n",
       "      <td>7533.806875</td>\n",
       "    </tr>\n",
       "    <tr>\n",
       "      <th>6</th>\n",
       "      <td>2024-06-28</td>\n",
       "      <td>3425.284861</td>\n",
       "      <td>11890.951535</td>\n",
       "      <td>321.952849</td>\n",
       "      <td>13397.213300</td>\n",
       "      <td>33705.036520</td>\n",
       "      <td>14834.823456</td>\n",
       "      <td>14.719304</td>\n",
       "      <td>3507.396972</td>\n",
       "      <td>9358.309521</td>\n",
       "      <td>-1804.752154</td>\n",
       "      <td>85225.651304</td>\n",
       "      <td>7553.557367</td>\n",
       "    </tr>\n",
       "    <tr>\n",
       "      <th>7</th>\n",
       "      <td>2024-06-27</td>\n",
       "      <td>3414.569306</td>\n",
       "      <td>11928.159842</td>\n",
       "      <td>322.909815</td>\n",
       "      <td>13396.643056</td>\n",
       "      <td>33702.145152</td>\n",
       "      <td>14828.856885</td>\n",
       "      <td>14.758384</td>\n",
       "      <td>3516.709151</td>\n",
       "      <td>9357.561272</td>\n",
       "      <td>-1809.124341</td>\n",
       "      <td>85258.619217</td>\n",
       "      <td>7548.436931</td>\n",
       "    </tr>\n",
       "    <tr>\n",
       "      <th>8</th>\n",
       "      <td>2024-06-26</td>\n",
       "      <td>3383.536285</td>\n",
       "      <td>11949.764751</td>\n",
       "      <td>325.778422</td>\n",
       "      <td>13396.072790</td>\n",
       "      <td>33699.395784</td>\n",
       "      <td>14831.902793</td>\n",
       "      <td>3.363965</td>\n",
       "      <td>3549.021358</td>\n",
       "      <td>9356.984702</td>\n",
       "      <td>-1825.319135</td>\n",
       "      <td>85286.965430</td>\n",
       "      <td>7531.665567</td>\n",
       "    </tr>\n",
       "    <tr>\n",
       "      <th>9</th>\n",
       "      <td>2024-06-25</td>\n",
       "      <td>3383.948715</td>\n",
       "      <td>11968.325700</td>\n",
       "      <td>325.787348</td>\n",
       "      <td>13395.502524</td>\n",
       "      <td>33696.658929</td>\n",
       "      <td>14833.201614</td>\n",
       "      <td>3.363795</td>\n",
       "      <td>3548.842014</td>\n",
       "      <td>9356.527204</td>\n",
       "      <td>-1824.787468</td>\n",
       "      <td>85303.421660</td>\n",
       "      <td>7531.739736</td>\n",
       "    </tr>\n",
       "    <tr>\n",
       "      <th>10</th>\n",
       "      <td>2024-06-24</td>\n",
       "      <td>3347.687049</td>\n",
       "      <td>11977.843881</td>\n",
       "      <td>329.408738</td>\n",
       "      <td>13394.932265</td>\n",
       "      <td>33693.850516</td>\n",
       "      <td>14827.889718</td>\n",
       "      <td>1.997152</td>\n",
       "      <td>3588.560472</td>\n",
       "      <td>9356.083305</td>\n",
       "      <td>-1844.760217</td>\n",
       "      <td>85325.805830</td>\n",
       "      <td>7511.323088</td>\n",
       "    </tr>\n",
       "    <tr>\n",
       "      <th>11</th>\n",
       "      <td>2024-06-23</td>\n",
       "      <td>3490.956528</td>\n",
       "      <td>12003.021733</td>\n",
       "      <td>316.097325</td>\n",
       "      <td>13394.362015</td>\n",
       "      <td>33691.076096</td>\n",
       "      <td>14833.049122</td>\n",
       "      <td>1.883000</td>\n",
       "      <td>3441.689545</td>\n",
       "      <td>9355.644654</td>\n",
       "      <td>-1768.826279</td>\n",
       "      <td>85267.997210</td>\n",
       "      <td>7586.818375</td>\n",
       "    </tr>\n",
       "    <tr>\n",
       "      <th>12</th>\n",
       "      <td>2024-06-22</td>\n",
       "      <td>3501.444792</td>\n",
       "      <td>12018.922675</td>\n",
       "      <td>314.910044</td>\n",
       "      <td>13393.897898</td>\n",
       "      <td>33688.357757</td>\n",
       "      <td>14832.892747</td>\n",
       "      <td>1.795223</td>\n",
       "      <td>3430.282737</td>\n",
       "      <td>9355.174356</td>\n",
       "      <td>-1762.541458</td>\n",
       "      <td>85273.691980</td>\n",
       "      <td>7592.632899</td>\n",
       "    </tr>\n",
       "    <tr>\n",
       "      <th>13</th>\n",
       "      <td>2024-06-21</td>\n",
       "      <td>3506.904549</td>\n",
       "      <td>12097.906786</td>\n",
       "      <td>314.521768</td>\n",
       "      <td>13393.274559</td>\n",
       "      <td>33685.701343</td>\n",
       "      <td>14830.823774</td>\n",
       "      <td>1.792997</td>\n",
       "      <td>3426.029791</td>\n",
       "      <td>9354.708610</td>\n",
       "      <td>-1759.933285</td>\n",
       "      <td>85344.826343</td>\n",
       "      <td>7594.775325</td>\n",
       "    </tr>\n",
       "    <tr>\n",
       "      <th>14</th>\n",
       "      <td>2024-06-20</td>\n",
       "      <td>3554.416840</td>\n",
       "      <td>12138.410229</td>\n",
       "      <td>295.446413</td>\n",
       "      <td>13392.651220</td>\n",
       "      <td>33682.944207</td>\n",
       "      <td>14837.095068</td>\n",
       "      <td>1.768574</td>\n",
       "      <td>3379.361181</td>\n",
       "      <td>9354.223073</td>\n",
       "      <td>-1735.538749</td>\n",
       "      <td>85346.361216</td>\n",
       "      <td>7618.684325</td>\n",
       "    </tr>\n",
       "    <tr>\n",
       "      <th>15</th>\n",
       "      <td>2024-06-19</td>\n",
       "      <td>3545.700035</td>\n",
       "      <td>12198.860350</td>\n",
       "      <td>296.254785</td>\n",
       "      <td>13392.080992</td>\n",
       "      <td>33680.088410</td>\n",
       "      <td>14829.271448</td>\n",
       "      <td>1.772623</td>\n",
       "      <td>3387.099094</td>\n",
       "      <td>9353.737256</td>\n",
       "      <td>-1739.093996</td>\n",
       "      <td>85400.070961</td>\n",
       "      <td>7614.643260</td>\n",
       "    </tr>\n",
       "    <tr>\n",
       "      <th>16</th>\n",
       "      <td>2024-06-18</td>\n",
       "      <td>3438.185382</td>\n",
       "      <td>12289.663260</td>\n",
       "      <td>305.560270</td>\n",
       "      <td>13391.510727</td>\n",
       "      <td>33677.316806</td>\n",
       "      <td>14861.244578</td>\n",
       "      <td>1.828189</td>\n",
       "      <td>3493.272310</td>\n",
       "      <td>9353.289329</td>\n",
       "      <td>-1793.181747</td>\n",
       "      <td>85580.503722</td>\n",
       "      <td>7560.107582</td>\n",
       "    </tr>\n",
       "    <tr>\n",
       "      <th>17</th>\n",
       "      <td>2024-06-17</td>\n",
       "      <td>3551.545521</td>\n",
       "      <td>12332.854559</td>\n",
       "      <td>295.724252</td>\n",
       "      <td>13391.065423</td>\n",
       "      <td>33674.363336</td>\n",
       "      <td>14833.240040</td>\n",
       "      <td>1.770355</td>\n",
       "      <td>3382.765408</td>\n",
       "      <td>9352.851433</td>\n",
       "      <td>-1736.036419</td>\n",
       "      <td>85528.598388</td>\n",
       "      <td>7616.815014</td>\n",
       "    </tr>\n",
       "    <tr>\n",
       "      <th>18</th>\n",
       "      <td>2024-06-16</td>\n",
       "      <td>3579.873333</td>\n",
       "      <td>12451.703376</td>\n",
       "      <td>292.490744</td>\n",
       "      <td>13390.495160</td>\n",
       "      <td>33671.647447</td>\n",
       "      <td>14827.793544</td>\n",
       "      <td>1.755962</td>\n",
       "      <td>3355.262093</td>\n",
       "      <td>9352.408476</td>\n",
       "      <td>-1721.509356</td>\n",
       "      <td>85622.047445</td>\n",
       "      <td>7630.899120</td>\n",
       "    </tr>\n",
       "    <tr>\n",
       "      <th>19</th>\n",
       "      <td>2024-06-15</td>\n",
       "      <td>3539.981285</td>\n",
       "      <td>12575.170632</td>\n",
       "      <td>295.893650</td>\n",
       "      <td>13389.924897</td>\n",
       "      <td>33668.921866</td>\n",
       "      <td>14825.128609</td>\n",
       "      <td>1.775573</td>\n",
       "      <td>3392.734603</td>\n",
       "      <td>9351.974366</td>\n",
       "      <td>-1740.302788</td>\n",
       "      <td>85761.221409</td>\n",
       "      <td>7611.671578</td>\n",
       "    </tr>\n",
       "    <tr>\n",
       "      <th>20</th>\n",
       "      <td>2024-06-14</td>\n",
       "      <td>3478.683333</td>\n",
       "      <td>12643.784157</td>\n",
       "      <td>300.923396</td>\n",
       "      <td>13389.354634</td>\n",
       "      <td>33666.039845</td>\n",
       "      <td>14833.245725</td>\n",
       "      <td>1.806556</td>\n",
       "      <td>3451.936916</td>\n",
       "      <td>9351.541466</td>\n",
       "      <td>-1770.248564</td>\n",
       "      <td>85868.384130</td>\n",
       "      <td>7581.292902</td>\n",
       "    </tr>\n",
       "    <tr>\n",
       "      <th>21</th>\n",
       "      <td>2024-06-13</td>\n",
       "      <td>3497.632153</td>\n",
       "      <td>12782.668582</td>\n",
       "      <td>299.358572</td>\n",
       "      <td>13388.784386</td>\n",
       "      <td>33663.206687</td>\n",
       "      <td>14827.864814</td>\n",
       "      <td>1.792568</td>\n",
       "      <td>3433.071735</td>\n",
       "      <td>9351.112604</td>\n",
       "      <td>-1760.057234</td>\n",
       "      <td>85987.802712</td>\n",
       "      <td>7591.055370</td>\n",
       "    </tr>\n",
       "    <tr>\n",
       "      <th>22</th>\n",
       "      <td>2024-06-12</td>\n",
       "      <td>3553.724861</td>\n",
       "      <td>12844.772849</td>\n",
       "      <td>294.633452</td>\n",
       "      <td>13388.214116</td>\n",
       "      <td>33659.820732</td>\n",
       "      <td>14826.034579</td>\n",
       "      <td>1.764067</td>\n",
       "      <td>3378.487658</td>\n",
       "      <td>9350.679146</td>\n",
       "      <td>-1731.597940</td>\n",
       "      <td>86012.808659</td>\n",
       "      <td>7619.081206</td>\n",
       "    </tr>\n",
       "    <tr>\n",
       "      <th>23</th>\n",
       "      <td>2024-06-11</td>\n",
       "      <td>3536.763993</td>\n",
       "      <td>12942.066053</td>\n",
       "      <td>292.600126</td>\n",
       "      <td>13380.875387</td>\n",
       "      <td>33656.813299</td>\n",
       "      <td>14816.948155</td>\n",
       "      <td>1.773152</td>\n",
       "      <td>3395.887662</td>\n",
       "      <td>9350.239377</td>\n",
       "      <td>-1740.089171</td>\n",
       "      <td>86097.114040</td>\n",
       "      <td>7610.150206</td>\n",
       "    </tr>\n",
       "    <tr>\n",
       "      <th>24</th>\n",
       "      <td>2024-06-10</td>\n",
       "      <td>3682.605208</td>\n",
       "      <td>13058.142091</td>\n",
       "      <td>281.015689</td>\n",
       "      <td>13380.305105</td>\n",
       "      <td>33653.516803</td>\n",
       "      <td>14811.289742</td>\n",
       "      <td>1.304473</td>\n",
       "      <td>3261.182400</td>\n",
       "      <td>9349.791627</td>\n",
       "      <td>-1670.639637</td>\n",
       "      <td>86125.908293</td>\n",
       "      <td>7679.151990</td>\n",
       "    </tr>\n",
       "    <tr>\n",
       "      <th>25</th>\n",
       "      <td>2024-06-09</td>\n",
       "      <td>3693.985972</td>\n",
       "      <td>13195.707017</td>\n",
       "      <td>271.565254</td>\n",
       "      <td>13379.734816</td>\n",
       "      <td>33650.529469</td>\n",
       "      <td>14810.839822</td>\n",
       "      <td>1.300574</td>\n",
       "      <td>3251.434969</td>\n",
       "      <td>9346.794519</td>\n",
       "      <td>-1665.244235</td>\n",
       "      <td>86242.662204</td>\n",
       "      <td>7681.550284</td>\n",
       "    </tr>\n",
       "    <tr>\n",
       "      <th>26</th>\n",
       "      <td>2024-06-08</td>\n",
       "      <td>3688.994514</td>\n",
       "      <td>13287.224349</td>\n",
       "      <td>270.232970</td>\n",
       "      <td>13379.164535</td>\n",
       "      <td>33647.724486</td>\n",
       "      <td>14801.222932</td>\n",
       "      <td>1.302378</td>\n",
       "      <td>3255.944482</td>\n",
       "      <td>9346.362720</td>\n",
       "      <td>-1667.145474</td>\n",
       "      <td>86322.033378</td>\n",
       "      <td>7679.217246</td>\n",
       "    </tr>\n",
       "    <tr>\n",
       "      <th>27</th>\n",
       "      <td>2024-06-07</td>\n",
       "      <td>3778.383854</td>\n",
       "      <td>13361.890287</td>\n",
       "      <td>263.712416</td>\n",
       "      <td>13378.594269</td>\n",
       "      <td>33644.666510</td>\n",
       "      <td>14798.375204</td>\n",
       "      <td>1.271298</td>\n",
       "      <td>3178.244193</td>\n",
       "      <td>9345.935948</td>\n",
       "      <td>-1626.911875</td>\n",
       "      <td>86345.778250</td>\n",
       "      <td>7719.024073</td>\n",
       "    </tr>\n",
       "    <tr>\n",
       "      <th>28</th>\n",
       "      <td>2024-06-06</td>\n",
       "      <td>3840.739097</td>\n",
       "      <td>13476.113609</td>\n",
       "      <td>281.554236</td>\n",
       "      <td>13378.024032</td>\n",
       "      <td>33641.560226</td>\n",
       "      <td>14810.641255</td>\n",
       "      <td>1.250206</td>\n",
       "      <td>3125.470588</td>\n",
       "      <td>9345.503138</td>\n",
       "      <td>-1621.445694</td>\n",
       "      <td>86438.671595</td>\n",
       "      <td>7724.057443</td>\n",
       "    </tr>\n",
       "    <tr>\n",
       "      <th>29</th>\n",
       "      <td>2024-06-05</td>\n",
       "      <td>3820.843646</td>\n",
       "      <td>13532.321186</td>\n",
       "      <td>283.087923</td>\n",
       "      <td>13377.453744</td>\n",
       "      <td>33638.337315</td>\n",
       "      <td>14801.426478</td>\n",
       "      <td>1.256762</td>\n",
       "      <td>3141.860255</td>\n",
       "      <td>9345.065932</td>\n",
       "      <td>-1629.477606</td>\n",
       "      <td>86491.331989</td>\n",
       "      <td>7715.588326</td>\n",
       "    </tr>\n",
       "    <tr>\n",
       "      <th>30</th>\n",
       "      <td>2024-06-04</td>\n",
       "      <td>3783.802986</td>\n",
       "      <td>13638.788715</td>\n",
       "      <td>285.723466</td>\n",
       "      <td>13376.883478</td>\n",
       "      <td>33635.336859</td>\n",
       "      <td>14801.545881</td>\n",
       "      <td>1.269054</td>\n",
       "      <td>3172.589941</td>\n",
       "      <td>9344.623468</td>\n",
       "      <td>-1645.022435</td>\n",
       "      <td>86611.738426</td>\n",
       "      <td>7699.601033</td>\n",
       "    </tr>\n",
       "    <tr>\n",
       "      <th>31</th>\n",
       "      <td>2024-06-03</td>\n",
       "      <td>3797.520972</td>\n",
       "      <td>13781.838179</td>\n",
       "      <td>284.647327</td>\n",
       "      <td>13376.313191</td>\n",
       "      <td>33632.408790</td>\n",
       "      <td>14798.647198</td>\n",
       "      <td>1.264216</td>\n",
       "      <td>3160.496063</td>\n",
       "      <td>9344.161264</td>\n",
       "      <td>-1638.358360</td>\n",
       "      <td>86741.417868</td>\n",
       "      <td>7705.802904</td>\n",
       "    </tr>\n",
       "    <tr>\n",
       "      <th>32</th>\n",
       "      <td>2024-06-02</td>\n",
       "      <td>3796.210590</td>\n",
       "      <td>13936.995943</td>\n",
       "      <td>284.549237</td>\n",
       "      <td>13375.742911</td>\n",
       "      <td>33629.401072</td>\n",
       "      <td>14783.283219</td>\n",
       "      <td>1.265424</td>\n",
       "      <td>3163.515565</td>\n",
       "      <td>9343.754168</td>\n",
       "      <td>-1639.528246</td>\n",
       "      <td>86878.979292</td>\n",
       "      <td>7704.225922</td>\n",
       "    </tr>\n",
       "    <tr>\n",
       "      <th>33</th>\n",
       "      <td>2024-06-01</td>\n",
       "      <td>3792.737535</td>\n",
       "      <td>14045.622754</td>\n",
       "      <td>276.496621</td>\n",
       "      <td>13375.172623</td>\n",
       "      <td>33626.500917</td>\n",
       "      <td>14777.128209</td>\n",
       "      <td>1.266689</td>\n",
       "      <td>3166.679271</td>\n",
       "      <td>9343.379157</td>\n",
       "      <td>-1640.772893</td>\n",
       "      <td>86971.473348</td>\n",
       "      <td>7702.606264</td>\n",
       "    </tr>\n",
       "    <tr>\n",
       "      <th>34</th>\n",
       "      <td>2024-05-31</td>\n",
       "      <td>3768.002500</td>\n",
       "      <td>14114.203758</td>\n",
       "      <td>272.782221</td>\n",
       "      <td>13374.602336</td>\n",
       "      <td>33623.618159</td>\n",
       "      <td>14795.686450</td>\n",
       "      <td>1.274981</td>\n",
       "      <td>3187.407884</td>\n",
       "      <td>9343.003483</td>\n",
       "      <td>-1651.115935</td>\n",
       "      <td>87061.463336</td>\n",
       "      <td>7691.887548</td>\n",
       "    </tr>\n",
       "  </tbody>\n",
       "</table>\n",
       "</div>"
      ],
      "text/plain": [
       "          day  rate_ETH_USD           ETH         DAI        Enzyme  \\\n",
       "4  2024-06-30   3394.925833  11835.625263  325.006496  13398.353818   \n",
       "5  2024-06-29   3388.369444  11875.558305  325.409406  13397.783566   \n",
       "6  2024-06-28   3425.284861  11890.951535  321.952849  13397.213300   \n",
       "7  2024-06-27   3414.569306  11928.159842  322.909815  13396.643056   \n",
       "8  2024-06-26   3383.536285  11949.764751  325.778422  13396.072790   \n",
       "9  2024-06-25   3383.948715  11968.325700  325.787348  13395.502524   \n",
       "10 2024-06-24   3347.687049  11977.843881  329.408738  13394.932265   \n",
       "11 2024-06-23   3490.956528  12003.021733  316.097325  13394.362015   \n",
       "12 2024-06-22   3501.444792  12018.922675  314.910044  13393.897898   \n",
       "13 2024-06-21   3506.904549  12097.906786  314.521768  13393.274559   \n",
       "14 2024-06-20   3554.416840  12138.410229  295.446413  13392.651220   \n",
       "15 2024-06-19   3545.700035  12198.860350  296.254785  13392.080992   \n",
       "16 2024-06-18   3438.185382  12289.663260  305.560270  13391.510727   \n",
       "17 2024-06-17   3551.545521  12332.854559  295.724252  13391.065423   \n",
       "18 2024-06-16   3579.873333  12451.703376  292.490744  13390.495160   \n",
       "19 2024-06-15   3539.981285  12575.170632  295.893650  13389.924897   \n",
       "20 2024-06-14   3478.683333  12643.784157  300.923396  13389.354634   \n",
       "21 2024-06-13   3497.632153  12782.668582  299.358572  13388.784386   \n",
       "22 2024-06-12   3553.724861  12844.772849  294.633452  13388.214116   \n",
       "23 2024-06-11   3536.763993  12942.066053  292.600126  13380.875387   \n",
       "24 2024-06-10   3682.605208  13058.142091  281.015689  13380.305105   \n",
       "25 2024-06-09   3693.985972  13195.707017  271.565254  13379.734816   \n",
       "26 2024-06-08   3688.994514  13287.224349  270.232970  13379.164535   \n",
       "27 2024-06-07   3778.383854  13361.890287  263.712416  13378.594269   \n",
       "28 2024-06-06   3840.739097  13476.113609  281.554236  13378.024032   \n",
       "29 2024-06-05   3820.843646  13532.321186  283.087923  13377.453744   \n",
       "30 2024-06-04   3783.802986  13638.788715  285.723466  13376.883478   \n",
       "31 2024-06-03   3797.520972  13781.838179  284.647327  13376.313191   \n",
       "32 2024-06-02   3796.210590  13936.995943  284.549237  13375.742911   \n",
       "33 2024-06-01   3792.737535  14045.622754  276.496621  13375.172623   \n",
       "34 2024-05-31   3768.002500  14114.203758  272.782221  13374.602336   \n",
       "\n",
       "           stETH          rETH       USDC     Cover Re     aEthWETH  \\\n",
       "4   33710.214237  14830.813773  14.851334  3538.857746  9359.454448   \n",
       "5   33707.640838  14819.024304  14.881388  3546.019193  9358.850319   \n",
       "6   33705.036520  14834.823456  14.719304  3507.396972  9358.309521   \n",
       "7   33702.145152  14828.856885  14.758384  3516.709151  9357.561272   \n",
       "8   33699.395784  14831.902793   3.363965  3549.021358  9356.984702   \n",
       "9   33696.658929  14833.201614   3.363795  3548.842014  9356.527204   \n",
       "10  33693.850516  14827.889718   1.997152  3588.560472  9356.083305   \n",
       "11  33691.076096  14833.049122   1.883000  3441.689545  9355.644654   \n",
       "12  33688.357757  14832.892747   1.795223  3430.282737  9355.174356   \n",
       "13  33685.701343  14830.823774   1.792997  3426.029791  9354.708610   \n",
       "14  33682.944207  14837.095068   1.768574  3379.361181  9354.223073   \n",
       "15  33680.088410  14829.271448   1.772623  3387.099094  9353.737256   \n",
       "16  33677.316806  14861.244578   1.828189  3493.272310  9353.289329   \n",
       "17  33674.363336  14833.240040   1.770355  3382.765408  9352.851433   \n",
       "18  33671.647447  14827.793544   1.755962  3355.262093  9352.408476   \n",
       "19  33668.921866  14825.128609   1.775573  3392.734603  9351.974366   \n",
       "20  33666.039845  14833.245725   1.806556  3451.936916  9351.541466   \n",
       "21  33663.206687  14827.864814   1.792568  3433.071735  9351.112604   \n",
       "22  33659.820732  14826.034579   1.764067  3378.487658  9350.679146   \n",
       "23  33656.813299  14816.948155   1.773152  3395.887662  9350.239377   \n",
       "24  33653.516803  14811.289742   1.304473  3261.182400  9349.791627   \n",
       "25  33650.529469  14810.839822   1.300574  3251.434969  9346.794519   \n",
       "26  33647.724486  14801.222932   1.302378  3255.944482  9346.362720   \n",
       "27  33644.666510  14798.375204   1.271298  3178.244193  9345.935948   \n",
       "28  33641.560226  14810.641255   1.250206  3125.470588  9345.503138   \n",
       "29  33638.337315  14801.426478   1.256762  3141.860255  9345.065932   \n",
       "30  33635.336859  14801.545881   1.269054  3172.589941  9344.623468   \n",
       "31  33632.408790  14798.647198   1.264216  3160.496063  9344.161264   \n",
       "32  33629.401072  14783.283219   1.265424  3163.515565  9343.754168   \n",
       "33  33626.500917  14777.128209   1.266689  3166.679271  9343.379157   \n",
       "34  33623.618159  14795.686450   1.274981  3187.407884  9343.003483   \n",
       "\n",
       "    variableDebtEthUSDC           sum   Aave (net)  \n",
       "4          -1821.780069  85191.397046  7537.674379  \n",
       "5          -1825.043444  85220.123875  7533.806875  \n",
       "6          -1804.752154  85225.651304  7553.557367  \n",
       "7          -1809.124341  85258.619217  7548.436931  \n",
       "8          -1825.319135  85286.965430  7531.665567  \n",
       "9          -1824.787468  85303.421660  7531.739736  \n",
       "10         -1844.760217  85325.805830  7511.323088  \n",
       "11         -1768.826279  85267.997210  7586.818375  \n",
       "12         -1762.541458  85273.691980  7592.632899  \n",
       "13         -1759.933285  85344.826343  7594.775325  \n",
       "14         -1735.538749  85346.361216  7618.684325  \n",
       "15         -1739.093996  85400.070961  7614.643260  \n",
       "16         -1793.181747  85580.503722  7560.107582  \n",
       "17         -1736.036419  85528.598388  7616.815014  \n",
       "18         -1721.509356  85622.047445  7630.899120  \n",
       "19         -1740.302788  85761.221409  7611.671578  \n",
       "20         -1770.248564  85868.384130  7581.292902  \n",
       "21         -1760.057234  85987.802712  7591.055370  \n",
       "22         -1731.597940  86012.808659  7619.081206  \n",
       "23         -1740.089171  86097.114040  7610.150206  \n",
       "24         -1670.639637  86125.908293  7679.151990  \n",
       "25         -1665.244235  86242.662204  7681.550284  \n",
       "26         -1667.145474  86322.033378  7679.217246  \n",
       "27         -1626.911875  86345.778250  7719.024073  \n",
       "28         -1621.445694  86438.671595  7724.057443  \n",
       "29         -1629.477606  86491.331989  7715.588326  \n",
       "30         -1645.022435  86611.738426  7699.601033  \n",
       "31         -1638.358360  86741.417868  7705.802904  \n",
       "32         -1639.528246  86878.979292  7704.225922  \n",
       "33         -1640.772893  86971.473348  7702.606264  \n",
       "34         -1651.115935  87061.463336  7691.887548  "
      ]
     },
     "execution_count": 54,
     "metadata": {},
     "output_type": "execute_result"
    }
   ],
   "source": [
    "df_cap.loc[(df_cap['day'] <= valn_date) & (df_cap['day'] >= eom_before_valn_date)]"
   ]
  },
  {
   "cell_type": "markdown",
   "id": "b95f519c",
   "metadata": {},
   "source": [
    "## Pie Chart of Assets at Valuation Date"
   ]
  },
  {
   "cell_type": "code",
   "execution_count": 55,
   "id": "ff85e094",
   "metadata": {
    "ExecuteTime": {
     "end_time": "2024-07-04T10:09:33.690382Z",
     "start_time": "2024-07-04T10:09:33.446002Z"
    }
   },
   "outputs": [
    {
     "data": {
      "image/png": "[encoded data removed]",
      "text/plain": [
       "<Figure size 640x480 with 1 Axes>"
      ]
     },
     "metadata": {},
     "output_type": "display_data"
    }
   ],
   "source": [
    "# pie chart of assets\n",
    "asset_list = ['ETH', 'DAI', 'stETH', 'rETH', 'Enzyme', 'Cover Re', 'Aave (net)', 'USDC']\n",
    "valn_date_row = df_cap.loc[df_cap['day'] == valn_date][asset_list]\n",
    "\n",
    "# add formatted ETH values to labels\n",
    "labels = []\n",
    "for n, i in enumerate(asset_list):\n",
    "    formatted_value = '{:,.0f}'.format(valn_date_row.values[0][n])\n",
    "    labels.append(f'{i} - {formatted_value}')\n",
    "\n",
    "# create chart\n",
    "plt.pie(valn_date_row.values[0], labels=labels, autopct='%1.2f%%')\n",
    "plt.title(f'{valn_date_str} Capital Pool Split in ETH');"
   ]
  },
  {
   "cell_type": "markdown",
   "id": "210d6c9b",
   "metadata": {},
   "source": [
    "## Monthly Changes in Capital Pool"
   ]
  },
  {
   "cell_type": "markdown",
   "id": "580c9e0e",
   "metadata": {},
   "source": [
    "### RAMM Net Withdrawals"
   ]
  },
  {
   "cell_type": "code",
   "execution_count": 56,
   "id": "f55a9ce8",
   "metadata": {
    "ExecuteTime": {
     "end_time": "2024-07-04T10:09:37.028474Z",
     "start_time": "2024-07-04T10:09:36.943822Z"
    }
   },
   "outputs": [
    {
     "data": {
      "text/plain": [
       "-2299.7715790375078"
      ]
     },
     "execution_count": 56,
     "metadata": {},
     "output_type": "execute_result"
    }
   ],
   "source": [
    "# RAMM Net Withdrawals\n",
    "df_ramm = ramm_volume_result\n",
    "\n",
    "# change timestamp to datetime format and normalise all dates to midnight\n",
    "df_ramm['ts'] = pd.to_datetime(df_ramm['ts']).dt.floor('D')\n",
    "\n",
    "# group by date, take the latest value and re-sort into descending order\n",
    "df_ramm = df_ramm.groupby(by=df_ramm['ts'].dt.date, as_index=False).first().\\\n",
    "            sort_values(['ts'], ascending=False).reset_index(drop=True)\n",
    "\n",
    "# determine net ramm flows 30 days before and on the valuation date by subtracting redemptions from mints\n",
    "ramm_flows_monthly_opening = df_ramm.loc[df_ramm['ts'] == eom_before_valn_date]['cummulative_eth_in'].values[0] - df_ramm.loc[df_ramm['ts'] == eom_before_valn_date]['cummulative_eth_out'].values[0]\n",
    "ramm_flows_monthly_closing = df_ramm.loc[df_ramm['ts'] == valn_date]['cummulative_eth_in'].values[0] - df_ramm.loc[df_ramm['ts'] == valn_date]['cummulative_eth_out'].values[0]\n",
    "\n",
    "# determine net flows from ramm in 30 days before valuation date \n",
    "ramm_flow_monthly_change = ramm_flows_monthly_closing - ramm_flows_monthly_opening\n",
    "ramm_flow_monthly_change"
   ]
  },
  {
   "cell_type": "markdown",
   "id": "657486ee",
   "metadata": {},
   "source": [
    "### Cover Fees"
   ]
  },
  {
   "cell_type": "code",
   "execution_count": 57,
   "id": "99c09c5f",
   "metadata": {
    "ExecuteTime": {
     "end_time": "2024-07-04T10:09:38.664786Z",
     "start_time": "2024-07-04T10:09:38.631714Z"
    }
   },
   "outputs": [
    {
     "name": "stdout",
     "output_type": "stream",
     "text": [
      "ETH Cover Fees = 20.69008279049265\n",
      "DAI Cover Fees = 45.988336113949174\n",
      "USDC Cover Fees = 13.039683283065415\n",
      "Total Cover Fees = 79.71810218750724\n"
     ]
    }
   ],
   "source": [
    "df_covers = covers_list_result\n",
    "\n",
    "# input commission ratio to obtain cover fees net of commission (representing inflows to Cap Pool)\n",
    "net_of_commission_ratio = 0.85\n",
    "\n",
    "# obtain closing ETH/USD price\n",
    "eth_usd_closing = df_cap.loc[df_cap['day'] == valn_date]['rate_ETH_USD'].values[0]\n",
    "\n",
    "# change timestamp to datetime format and normalise all dates to midnight\n",
    "df_covers['cover_start_time'] = pd.to_datetime(df_covers['cover_start_time']).dt.floor('D').dt.tz_localize(None)\n",
    "\n",
    "# filter for covers that were bought the month of the valn date\n",
    "df_covers_30_days = df_covers[(df_covers['cover_start_time'] > eom_before_valn_date) & (df_covers['cover_start_time']<=valn_date)]\n",
    "\n",
    "# filter for covers that were paid for in ETH\n",
    "df_covers_30_days_eth = df_covers_30_days[df_covers_30_days['premium_asset'] == 'ETH']\n",
    "# work out cover fees denominated in ETH, allowing for 15% commission\n",
    "monthly_cover_fees_eth = df_covers_30_days_eth['premium_native'].sum() * net_of_commission_ratio\n",
    "print(f'ETH Cover Fees = {monthly_cover_fees_eth}')\n",
    "\n",
    "# filter for covers that were paid for in DAI\n",
    "df_covers_30_days_dai = df_covers_30_days[df_covers_30_days['premium_asset'] == 'DAI']\n",
    "# work out cover fees denominated in ETH, allowing for 15% commission\n",
    "monthly_cover_fees_dai = df_covers_30_days_dai['premium_native'].sum() * net_of_commission_ratio\n",
    "monthly_cover_fees_dai_in_eth = monthly_cover_fees_dai / eth_usd_closing\n",
    "print(f'DAI Cover Fees = {monthly_cover_fees_dai_in_eth}')\n",
    "\n",
    "# filter for covers that were paid for in USDC\n",
    "df_covers_30_days_usdc = df_covers_30_days[df_covers_30_days['premium_asset'] == 'USDC']\n",
    "# work out cover fees denominated in ETH, allowing for 15% commission\n",
    "monthly_cover_fees_usdc = df_covers_30_days_usdc['premium_native'].sum() * net_of_commission_ratio\n",
    "monthly_cover_fees_usdc_in_eth = monthly_cover_fees_usdc / eth_usd_closing\n",
    "print(f'USDC Cover Fees = {monthly_cover_fees_usdc_in_eth}')\n",
    "\n",
    "monthly_cover_fees = monthly_cover_fees_eth + monthly_cover_fees_dai_in_eth + monthly_cover_fees_usdc_in_eth\n",
    "print(f'Total Cover Fees = {monthly_cover_fees}')"
   ]
  },
  {
   "cell_type": "markdown",
   "id": "d586e094",
   "metadata": {},
   "source": [
    "### FX Impacts"
   ]
  },
  {
   "cell_type": "code",
   "execution_count": 58,
   "id": "fb00444b",
   "metadata": {
    "ExecuteTime": {
     "end_time": "2024-07-04T10:09:41.684448Z",
     "start_time": "2024-07-04T10:09:41.669039Z"
    }
   },
   "outputs": [
    {
     "name": "stdout",
     "output_type": "stream",
     "text": [
      "DAI FX Impact = 29.97670245165415\n"
     ]
    }
   ],
   "source": [
    "# exchange rate changes\n",
    "eth_usd_opening = df_cap.loc[df_cap['day'] == eom_before_valn_date]['rate_ETH_USD'].values[0]\n",
    "\n",
    "# get net monthly change from opening DAI\n",
    "dai_monthly_opening = df_cap.loc[df_cap['day'] == eom_before_valn_date]['DAI'].values[0]\n",
    "\n",
    "# dai_monthly_closing = df_cap.loc[df_cap['day'] == valn_date]['DAI'].values[0]\n",
    "# dai_monthly_closing_less_fees = dai_monthly_closing - monthly_cover_fees_dai_in_eth\n",
    "\n",
    "# # allow for withdrawals\n",
    "# dai_withdrawals_eth = dai_cover_re_withdrawals / eth_usd_opening\n",
    "\n",
    "# dai_change = dai_monthly_opening - dai_withdrawals_eth - dai_monthly_closing_less_fees\n",
    "dai_fx_change = dai_monthly_opening * eth_usd_opening / eth_usd_closing - dai_monthly_opening\n",
    "\n",
    "print(f'DAI FX Impact = {dai_fx_change}')"
   ]
  },
  {
   "cell_type": "code",
   "execution_count": 59,
   "id": "2276bd0e",
   "metadata": {
    "ExecuteTime": {
     "end_time": "2024-07-04T10:09:42.736338Z",
     "start_time": "2024-07-04T10:09:42.723266Z"
    }
   },
   "outputs": [
    {
     "name": "stdout",
     "output_type": "stream",
     "text": [
      "USDC FX Impact = 0.1401107456225399\n"
     ]
    }
   ],
   "source": [
    "# USDC FX Impact\n",
    "usdc_monthly_opening = df_cap.loc[df_cap['day'] == eom_before_valn_date]['USDC'].values[0]\n",
    "\n",
    "usdc_fx_change = usdc_monthly_opening * eth_usd_opening / eth_usd_closing - usdc_monthly_opening\n",
    "print(f'USDC FX Impact = {usdc_fx_change}')"
   ]
  },
  {
   "cell_type": "code",
   "execution_count": 60,
   "id": "995eab26",
   "metadata": {
    "ExecuteTime": {
     "end_time": "2024-07-04T10:09:43.188243Z",
     "start_time": "2024-07-04T10:09:43.173549Z"
    }
   },
   "outputs": [
    {
     "name": "stdout",
     "output_type": "stream",
     "text": [
      "Cover Re FX Impact = 350.27201388354615\n"
     ]
    }
   ],
   "source": [
    "# Cover Re FX impact\n",
    "cover_re_opening = df_cap.loc[df_cap['day'] == eom_before_valn_date]['Cover Re'].values[0]\n",
    "\n",
    "cover_re_fx_change = cover_re_opening * eth_usd_opening / eth_usd_closing - cover_re_opening\n",
    "print(f'Cover Re FX Impact = {cover_re_fx_change}')"
   ]
  },
  {
   "cell_type": "code",
   "execution_count": 61,
   "id": "6d8eec2e",
   "metadata": {
    "ExecuteTime": {
     "end_time": "2024-07-04T10:09:43.649897Z",
     "start_time": "2024-07-04T10:09:43.637090Z"
    }
   },
   "outputs": [
    {
     "name": "stdout",
     "output_type": "stream",
     "text": [
      "debtUSDC FX Impact = -181.44515068618898\n"
     ]
    }
   ],
   "source": [
    "# debtUSDC FX impact\n",
    "debtUSDC_opening = df_cap.loc[df_cap['day'] == eom_before_valn_date]['variableDebtEthUSDC'].values[0]\n",
    "\n",
    "# FX Impact\n",
    "debtUSDC_fx_change = debtUSDC_opening * eth_usd_opening / eth_usd_closing - debtUSDC_opening\n",
    "print(f'debtUSDC FX Impact = {debtUSDC_fx_change}')"
   ]
  },
  {
   "cell_type": "code",
   "execution_count": 62,
   "id": "91b26243",
   "metadata": {
    "ExecuteTime": {
     "end_time": "2024-07-04T10:09:44.505814Z",
     "start_time": "2024-07-04T10:09:44.497695Z"
    }
   },
   "outputs": [
    {
     "name": "stdout",
     "output_type": "stream",
     "text": [
      "Total FX Impact = 198.94367639463388\n"
     ]
    }
   ],
   "source": [
    "# Total FX Impacts\n",
    "fx_change = dai_fx_change + usdc_fx_change + cover_re_fx_change + debtUSDC_fx_change\n",
    "\n",
    "print(f'Total FX Impact = {fx_change}')"
   ]
  },
  {
   "cell_type": "markdown",
   "id": "b6bfce7a",
   "metadata": {},
   "source": [
    "#### TEMPORARY For New Investment - FX Impacts Allowing for Cover Re investment\n",
    "\n",
    "Next time treat Cover Re, Aave Debt, USDC and DAI as per above."
   ]
  },
  {
   "cell_type": "code",
   "execution_count": 28,
   "id": "0edc0a23",
   "metadata": {
    "ExecuteTime": {
     "end_time": "2024-07-04T09:54:40.740844Z",
     "start_time": "2024-07-04T09:54:40.734231Z"
    }
   },
   "outputs": [],
   "source": [
    "# cover_re_date_str = '23-05-2024'\n",
    "# cover_re_date = datetime.strptime(cover_re_date_str, '%d-%m-%Y')\n",
    "# eth_usd_cover_re_date = df_cap.loc[df_cap['day'] == cover_re_date]['rate_ETH_USD'].values[0]"
   ]
  },
  {
   "cell_type": "code",
   "execution_count": 29,
   "id": "b82b8b29",
   "metadata": {
    "ExecuteTime": {
     "end_time": "2024-07-04T09:54:41.101437Z",
     "start_time": "2024-07-04T09:54:41.094640Z"
    }
   },
   "outputs": [],
   "source": [
    "# # USDC Split into before and after Cover Re\n",
    "# usdc_monthly_opening = df_cap.loc[df_cap['day'] == eom_before_valn_date]['USDC'].values[0]\n",
    "# usdc_cover_re_opening = df_cap.loc[df_cap['day'] == cover_re_date]['USDC'].values[0]\n",
    "# # Before Cover Re\n",
    "# usdc_fx_change_pre_cover_re = usdc_monthly_opening * eth_usd_opening / eth_usd_cover_re_date - usdc_monthly_opening\n",
    "# print(f'USDC FX Impact Pre Cover Re = {usdc_fx_change_pre_cover_re}')\n",
    "# # After Cover Re\n",
    "# usdc_fx_change_post_cover_re = usdc_cover_re_opening * eth_usd_cover_re_date / eth_usd_closing - usdc_cover_re_opening\n",
    "# print(f'USDC FX Impact Post Cover Re = {usdc_fx_change_post_cover_re}')"
   ]
  },
  {
   "cell_type": "code",
   "execution_count": 30,
   "id": "e7a72d1b",
   "metadata": {
    "ExecuteTime": {
     "end_time": "2024-07-04T09:54:42.139879Z",
     "start_time": "2024-07-04T09:54:42.133279Z"
    }
   },
   "outputs": [],
   "source": [
    "# # DAI Split into before and after Cover Re\n",
    "# dai_monthly_opening = df_cap.loc[df_cap['day'] == eom_before_valn_date]['DAI'].values[0]\n",
    "# dai_cover_re_opening = df_cap.loc[df_cap['day'] == cover_re_date]['DAI'].values[0]\n",
    "# # Before Cover Re\n",
    "# dai_fx_change_pre_cover_re = dai_monthly_opening * eth_usd_opening / eth_usd_cover_re_date - dai_monthly_opening\n",
    "# print(f'DAI FX Impact Pre Cover Re = {dai_fx_change_pre_cover_re}')\n",
    "# # After Cover Re\n",
    "# dai_fx_change_post_cover_re = dai_cover_re_opening * eth_usd_cover_re_date / eth_usd_closing - dai_cover_re_opening\n",
    "# print(f'DAI FX Impact Post Cover Re = {dai_fx_change_post_cover_re}')"
   ]
  },
  {
   "cell_type": "code",
   "execution_count": 31,
   "id": "16e4ac15",
   "metadata": {
    "ExecuteTime": {
     "end_time": "2024-07-04T09:54:43.740992Z",
     "start_time": "2024-07-04T09:54:43.735440Z"
    }
   },
   "outputs": [],
   "source": [
    "# # debtUSDC FX impact\n",
    "# debtUSDC_opening = df_cap.loc[df_cap['day'] == cover_re_date]['variableDebtEthUSDC'].values[0]\n",
    "\n",
    "# # FX Impact\n",
    "# debtUSDC_fx_change = debtUSDC_opening * eth_usd_cover_re_date / eth_usd_closing - debtUSDC_opening\n",
    "# print(f'debtUSDC FX Impact = {debtUSDC_fx_change}')"
   ]
  },
  {
   "cell_type": "markdown",
   "id": "792f1503",
   "metadata": {},
   "source": [
    "## Monthly Returns on Investments"
   ]
  },
  {
   "cell_type": "code",
   "execution_count": 75,
   "id": "fb570949",
   "metadata": {
    "ExecuteTime": {
     "end_time": "2024-07-04T10:31:44.738904Z",
     "start_time": "2024-07-04T10:31:44.690322Z"
    }
   },
   "outputs": [
    {
     "name": "stdout",
     "output_type": "stream",
     "text": [
      "stETH Monthly APY: 3.135%\n",
      "stETH Monthly Return: 86.596\n",
      "rETH Monthly APY: 2.886%\n",
      "rETH Monthly Return: 35.127\n",
      "Enzyme Monthly APY: 2.002%; Kiln Portion Monthly APY: 4.124%\n",
      "Kiln Monthly Return: 23.751\n",
      "aEthWETH APY: 2.134%\n",
      "aEthWETH Return: 16.451\n",
      "debtUSDC APY: 8.886%\n",
      "debtUSDC Return: -11.755\n",
      "Aave Net APY: 0.605%\n",
      "Aave Net Return: 4.696\n"
     ]
    }
   ],
   "source": [
    "# Full Monthly Returns\n",
    "\n",
    "# ETH denominated monthly returns on individual investments\n",
    "\n",
    "# stETH metrics in ETH\n",
    "stETH_monthly_opening = df_cap.loc[df_cap['day'] == eom_before_valn_date]['stETH'].values[0]\n",
    "stETH_closing = df_cap.loc[df_cap['day'] == valn_date]['stETH'].values[0]\n",
    "stETH_monthly_return = stETH_closing - stETH_monthly_opening\n",
    "# stETH monthly percentage\n",
    "stETH_monthly_percentage = stETH_monthly_return / stETH_monthly_opening\n",
    "# stETH annualised return last month\n",
    "stETH_monthly_APY = (1 + stETH_monthly_percentage) ** 12 - 1\n",
    "print(f'stETH Monthly APY: {round(stETH_monthly_APY * 100, 3)}%')\n",
    "print(f'stETH Monthly Return: {round(stETH_monthly_return, 3)}')\n",
    "\n",
    "# rETH metrics in ETH\n",
    "rETH_monthly_opening = df_cap.loc[df_cap['day'] == eom_before_valn_date]['rETH'].values[0]\n",
    "rETH_closing = df_cap.loc[df_cap['day'] == valn_date]['rETH'].values[0]\n",
    "rETH_monthly_return = rETH_closing - rETH_monthly_opening\n",
    "# rETH monthly percentage\n",
    "rETH_monthly_percentage = rETH_monthly_return / rETH_monthly_opening\n",
    "# rETH annualised return last month\n",
    "rETH_monthly_APY = (1 + rETH_monthly_percentage) ** 12 - 1\n",
    "print(f'rETH Monthly APY: {round(rETH_monthly_APY * 100, 3)}%')\n",
    "print(f'rETH Monthly Return: {round(rETH_monthly_return, 3)}')\n",
    "\n",
    "## Enzyme\n",
    "Enzyme_fee = 0.0015\n",
    "# Enzyme overall metrics in ETH\n",
    "Enzyme_monthly_opening = df_cap.loc[df_cap['day'] == eom_before_valn_date]['Enzyme'].values[0]\n",
    "Enzyme_closing = df_cap.loc[df_cap['day'] == valn_date]['Enzyme'].values[0]\n",
    "Enzyme_monthly_return = Enzyme_closing - Enzyme_monthly_opening \n",
    "# Enzyme monthly percentage\n",
    "Enzyme_monthly_percentage = Enzyme_monthly_return / Enzyme_monthly_opening\n",
    "# Enzyme annualised return last month\n",
    "Enzyme_monthly_APY = (1 + Enzyme_monthly_percentage) ** 12 - 1\n",
    "Enzyme_monthly_APY_after_fees = Enzyme_monthly_APY - Enzyme_fee\n",
    "    \n",
    "# Kiln standalone metrics in ETH\n",
    "Kiln_monthly_opening = Enzyme_monthly_opening - Enzyme_idle_portion\n",
    "Kiln_closing = Enzyme_closing - Enzyme_idle_portion\n",
    "Kiln_monthly_return = Kiln_closing - Kiln_monthly_opening\n",
    "# Kiln monthly percentage\n",
    "Kiln_monthly_percentage = Kiln_monthly_return / Kiln_monthly_opening\n",
    "# Kiln annualised return last month\n",
    "Kiln_monthly_APY = (1 + Kiln_monthly_percentage) ** 12 - 1\n",
    "Kiln_monthly_APY_after_fees = Kiln_monthly_APY - Enzyme_fee\n",
    "\n",
    "print(f'Enzyme Monthly APY: {round(Enzyme_monthly_APY_after_fees * 100, 3)}%; Kiln Portion Monthly APY: {round(Kiln_monthly_APY_after_fees * 100, 3)}%')\n",
    "print(f'Kiln Monthly Return: {round(Kiln_monthly_return, 3)}')\n",
    "\n",
    "# aEthWETH metrics in ETH\n",
    "aEthWETH_monthly_opening = df_cap.loc[df_cap['day'] == eom_before_valn_date]['aEthWETH'].values[0]\n",
    "aEthWETH_monthly_closing = df_cap.loc[df_cap['day'] == valn_date]['aEthWETH'].values[0]\n",
    "aEthWETH_monthly_return = aEthWETH_monthly_closing - aEthWETH_monthly_opening\n",
    "# aEthWETH monthly percentage\n",
    "aEthWETH_monthly_percentage = aEthWETH_monthly_return / aEthWETH_monthly_opening\n",
    "# aEthWETH annualised return last month\n",
    "aEthWETH_monthly_APY = (1 + aEthWETH_monthly_percentage) ** 12 - 1\n",
    "print(f'aEthWETH APY: {round(aEthWETH_monthly_APY * 100, 3)}%')\n",
    "print(f'aEthWETH Return: {round(aEthWETH_monthly_return, 3)}')\n",
    "\n",
    "# debtUSDC metrics in ETH\n",
    "debtUSDC_monthly_opening = df_cap.loc[df_cap['day'] == eom_before_valn_date]['variableDebtEthUSDC'].values[0]\n",
    "debtUSDC_monthly_closing = df_cap.loc[df_cap['day'] == valn_date]['variableDebtEthUSDC'].values[0]\n",
    "# debtUSDC repayment\n",
    "eth_usd_repayment = df_cap.loc[df_cap['day'] == debtUSDC_repayment_date]['rate_ETH_USD'].values[0]\n",
    "debtUSDC_monthly_repayment_eth = debtUSDC_monthly_repayment / eth_usd_repayment\n",
    "# debtUSDC_monthly_return\n",
    "debtUSDC_monthly_return = debtUSDC_monthly_closing - (debtUSDC_monthly_opening + debtUSDC_fx_change + debtUSDC_monthly_repayment_eth)\n",
    "# debtUSDC monthly percentage\n",
    "debtUSDC_monthly_percentage = debtUSDC_monthly_return / debtUSDC_monthly_opening\n",
    "# debtUSDC annualised return last month\n",
    "debtUSDC_monthly_APY = (1 + debtUSDC_monthly_percentage) ** 12 - 1\n",
    "print(f'debtUSDC APY: {round(debtUSDC_monthly_APY * 100, 3)}%')\n",
    "print(f'debtUSDC Return: {round(debtUSDC_monthly_return, 3)}')\n",
    "\n",
    "# Aave Net\n",
    "aave_net_monthly_return = aEthWETH_monthly_return + debtUSDC_monthly_return\n",
    "\n",
    "# Aave net monthly percentage\n",
    "aave_net_monthly_percentage = aave_net_monthly_return / aEthWETH_monthly_opening\n",
    "# Aave net annualised return last month\n",
    "aave_net_monthly_APY = (1 + aave_net_monthly_percentage) ** 12 - 1\n",
    "print(f'Aave Net APY: {round(aave_net_monthly_APY * 100, 3)}%')\n",
    "print(f'Aave Net Return: {round(aave_net_monthly_return, 3)}')"
   ]
  },
  {
   "cell_type": "code",
   "execution_count": 76,
   "id": "58aece89",
   "metadata": {
    "ExecuteTime": {
     "end_time": "2024-07-04T10:32:33.630290Z",
     "start_time": "2024-07-04T10:32:32.987330Z"
    }
   },
   "outputs": [
    {
     "name": "stderr",
     "output_type": "stream",
     "text": [
      "/tmp/ipykernel_748/1581208742.py:17: UserWarning: set_ticklabels() should only be used with a fixed number of ticks, i.e. after set_ticks() or using a FixedLocator.\n",
      "  axs[0].set_yticklabels(['{:,.1%}'.format(x) for x in tick_vals])\n"
     ]
    },
    {
     "data": {
      "image/png": "[encoded data removed]",
      "text/plain": [
       "<Figure size 1000x500 with 2 Axes>"
      ]
     },
     "metadata": {},
     "output_type": "display_data"
    }
   ],
   "source": [
    "# MONTHLY RETURN GRAPHS FOR INDIVIDUAL INVESTMENTS\n",
    "\n",
    "labels = ['stETH', 'rETH', 'Kiln', 'Aave (net)']\n",
    "colors = ['#00a3ff', '#f26e34', '#202020', '#b6509e']\n",
    "\n",
    "# Destructuring initialization\n",
    "fig, axs = plt.subplots(1, 2, figsize=(10,5))\n",
    "fig.suptitle(f'Investment Monthly Returns', fontsize=16)\n",
    "fig.tight_layout()\n",
    "fig.subplots_adjust(top=0.88)\n",
    "\n",
    "# Subplot\n",
    "axs[0].bar(labels, [stETH_monthly_APY, rETH_monthly_APY, Kiln_monthly_APY_after_fees, aave_net_monthly_APY], color=colors)\n",
    "axs[0].set_title('APY')\n",
    "axs[0].set_ylabel('APY')\n",
    "tick_vals = axs[0].get_yticks()\n",
    "axs[0].set_yticklabels(['{:,.1%}'.format(x) for x in tick_vals])\n",
    "\n",
    "# Subplot\n",
    "axs[1].bar(labels, [stETH_monthly_return, rETH_monthly_return, Kiln_monthly_return*(1-0.0015), aave_net_monthly_return], color=colors);\n",
    "axs[1].set_title('Absolute Return')\n",
    "axs[1].set_ylabel('ETH')\n",
    "\n",
    "plt.show();"
   ]
  },
  {
   "cell_type": "code",
   "execution_count": 77,
   "id": "ae93d401",
   "metadata": {
    "ExecuteTime": {
     "end_time": "2024-07-04T10:32:55.800167Z",
     "start_time": "2024-07-04T10:32:55.775176Z"
    }
   },
   "outputs": [
    {
     "name": "stdout",
     "output_type": "stream",
     "text": [
      "Total Monthly APY: 2.113%\n",
      "Based on average Capital Pool amount over the monthly period\n",
      "Total ETH Earned: 150.17\n"
     ]
    }
   ],
   "source": [
    "# Total Monthly APY on the Capital Pool\n",
    "\n",
    "# Total ETH earned\n",
    "total_monthly_inv_earnings = round(stETH_monthly_return + rETH_monthly_return + Kiln_monthly_return + aave_net_monthly_return, 3)\n",
    "\n",
    "# averaging the total ETH value of capital pool over the monthly period\n",
    "total_cap_monthly_opening = df_cap.loc[df_cap['day'] == eom_before_valn_date]['sum'].values[0]\n",
    "total_cap_monthly_closing = df_cap.loc[df_cap['day'] == valn_date]['sum'].values[0]\n",
    "avg_total_cap_pool = (total_cap_monthly_closing + total_cap_monthly_opening) / 2\n",
    "\n",
    "# monthly apy based on total earning\n",
    "total_monthly_percentage = total_monthly_inv_earnings / avg_total_cap_pool\n",
    "total_monthly_APY = ((1 + total_monthly_percentage) ** 12 - 1)\n",
    "\n",
    "print(f'Total Monthly APY: {round(total_monthly_APY * 100, 3)}%')\n",
    "print('Based on average Capital Pool amount over the monthly period')\n",
    "print(f'Total ETH Earned: {total_monthly_inv_earnings}')"
   ]
  },
  {
   "cell_type": "code",
   "execution_count": 79,
   "id": "8f17ffb5",
   "metadata": {
    "ExecuteTime": {
     "end_time": "2024-07-04T10:33:47.043878Z",
     "start_time": "2024-07-04T10:33:47.028301Z"
    }
   },
   "outputs": [
    {
     "name": "stdout",
     "output_type": "stream",
     "text": [
      "stETH Monthly Return: 86.596\n",
      "stETH Monthly APY: 3.135%\n",
      "\n",
      "rETH Monthly Return: 35.127\n",
      "rETH Monthly APY: 2.886%\n",
      "\n",
      "Kiln Monthly Return: 23.751\n",
      "Enzyme Monthly APY: 2.002%; Kiln Portion Monthly APY: 4.124%\n",
      "\n",
      "aEthWETH Return: 16.451\n",
      "aEthWETH APY: 2.134%\n",
      "debtUSDC Return: -11.755\n",
      "debtUSDC APY: 8.886%\n",
      "Aave Net Return: 4.696\n",
      "Aave Net APY: 0.605%\n",
      "\n",
      "Total ETH Earned: 150.17\n",
      "Total Monthly APY: 2.113%\n",
      "Based on average Capital Pool amount over the monthly period\n",
      "\n",
      "All returns after fees\n"
     ]
    }
   ],
   "source": [
    "# Printout\n",
    "\n",
    "print(f'stETH Monthly Return: {round(stETH_monthly_return, 3)}')\n",
    "print(f'stETH Monthly APY: {round(stETH_monthly_APY * 100, 3)}%\\n')\n",
    "print(f'rETH Monthly Return: {round(rETH_monthly_return, 3)}')\n",
    "print(f'rETH Monthly APY: {round(rETH_monthly_APY * 100, 3)}%\\n')\n",
    "print(f'Kiln Monthly Return: {round(Kiln_monthly_return, 3)}')\n",
    "print(f'Enzyme Monthly APY: {round(Enzyme_monthly_APY_after_fees * 100, 3)}%; Kiln Portion Monthly APY: {round(Kiln_monthly_APY_after_fees * 100, 3)}%\\n')\n",
    "print(f'aEthWETH Return: {round(aEthWETH_monthly_return, 3)}')\n",
    "print(f'aEthWETH APY: {round(aEthWETH_monthly_APY * 100, 3)}%')\n",
    "print(f'debtUSDC Return: {round(debtUSDC_monthly_return, 3)}')\n",
    "print(f'debtUSDC APY: {round(debtUSDC_monthly_APY * 100, 3)}%')\n",
    "print(f'Aave Net Return: {round(aave_net_monthly_return, 3)}')\n",
    "print(f'Aave Net APY: {round(aave_net_monthly_APY * 100, 3)}%\\n')\n",
    "print(f'Total ETH Earned: {total_monthly_inv_earnings}')\n",
    "print(f'Total Monthly APY: {round(total_monthly_APY * 100, 3)}%')\n",
    "print('Based on average Capital Pool amount over the monthly period\\n')\n",
    "\n",
    "print ('All returns after fees')"
   ]
  },
  {
   "cell_type": "markdown",
   "id": "e3bba312",
   "metadata": {},
   "source": [
    "## Monthly Changes in Capital Pool "
   ]
  },
  {
   "cell_type": "code",
   "execution_count": 82,
   "id": "87b4c553",
   "metadata": {
    "ExecuteTime": {
     "end_time": "2024-07-04T10:34:39.905021Z",
     "start_time": "2024-07-04T10:34:39.557776Z"
    }
   },
   "outputs": [
    {
     "name": "stderr",
     "output_type": "stream",
     "text": [
      "/tmp/ipykernel_748/1484489078.py:30: UserWarning: set_ticklabels() should only be used with a fixed number of ticks, i.e. after set_ticks() or using a FixedLocator.\n",
      "  waterfall_plot.set_yticklabels(['{:,.0f}'.format(x) for x in tick_vals])\n",
      "/tmp/ipykernel_748/1484489078.py:41: FutureWarning: Series.__getitem__ treating keys as positions is deprecated. In a future version, integer keys will always be treated as labels (consistent with DataFrame behavior). To access a value by position, use `ser.iloc[pos]`\n",
      "  y = y_height[loop] + row['amount']\n",
      "/home/rei/.pyenv/versions/3.10.6/envs/investment_monitoring/lib/python3.10/site-packages/matplotlib/text.py:1463: FutureWarning: Calling float on a single element Series is deprecated and will raise a TypeError in the future. Use float(ser.iloc[0]) instead\n",
      "  y = float(self.convert_yunits(y))\n",
      "/home/rei/.pyenv/versions/3.10.6/envs/investment_monitoring/lib/python3.10/site-packages/matplotlib/text.py:754: FutureWarning: Calling float on a single element Series is deprecated and will raise a TypeError in the future. Use float(ser.iloc[0]) instead\n",
      "  posy = float(self.convert_yunits(self._y))\n",
      "/home/rei/.pyenv/versions/3.10.6/envs/investment_monitoring/lib/python3.10/site-packages/matplotlib/text.py:895: FutureWarning: Calling float on a single element Series is deprecated and will raise a TypeError in the future. Use float(ser.iloc[0]) instead\n",
      "  y = float(self.convert_yunits(self._y))\n"
     ]
    },
    {
     "data": {
      "image/png": "[encoded data removed]",
      "text/plain": [
       "<Figure size 640x480 with 1 Axes>"
      ]
     },
     "metadata": {},
     "output_type": "display_data"
    }
   ],
   "source": [
    "# waterfall chart for changes in the capital pool\n",
    "\n",
    "# set limits on chart manually\n",
    "bottom = 84_000\n",
    "top = 88_000\n",
    "\n",
    "# create dataframe with relevant categories\n",
    "index = ['opening capital pool', 'cover fee income', 'investment returns', 'stablecoin impact', 'ramm net redemptions']\n",
    "data = {'amount': [total_cap_monthly_opening, monthly_cover_fees, total_monthly_inv_earnings, fx_change, ramm_flow_monthly_change]}\n",
    "df_waterfall = pd.DataFrame(data=data, index=index)\n",
    "\n",
    "# create a shifted dataframe by one space and fill the empty space with zero\n",
    "df_shift = df_waterfall.amount.cumsum().shift(1).fillna(0)\n",
    "\n",
    "# add the 'closing' line to both dataframes\n",
    "total = df_waterfall.sum().amount\n",
    "df_waterfall.loc['closing capital pool'] = total\n",
    "df_shift.loc['closing capital pool'] = 0\n",
    "\n",
    "# define the Nexus Mutual green color\n",
    "color = '#0AB682'\n",
    "\n",
    "# create waterfall plot\n",
    "waterfall_plot = df_waterfall.plot.bar(stacked=True, bottom=df_shift,\n",
    "                                   legend=None, color=color, title=f'{valn_date_str[-7:]} Capital Pool Waterfall')\n",
    "waterfall_plot.set_ylim(bottom=bottom, top=top)\n",
    "\n",
    "# change format of tick values\n",
    "tick_vals = waterfall_plot.get_yticks()\n",
    "waterfall_plot.set_yticklabels(['{:,.0f}'.format(x) for x in tick_vals])\n",
    "\n",
    "# label loop for individual items\n",
    "maximum = df_waterfall.max()\n",
    "neg_offset = maximum / 400\n",
    "pos_offset = maximum / 800\n",
    "\n",
    "y_height = df_shift\n",
    "\n",
    "loop = 0\n",
    "for index, row in df_waterfall.iterrows():\n",
    "    y = y_height[loop] + row['amount']\n",
    "    # determine negative or positive offset\n",
    "    if row['amount'] > 0:\n",
    "        y += pos_offset\n",
    "    else:\n",
    "        y -= neg_offset\n",
    "    waterfall_plot.annotate(\"{:,.0f}\".format(row['amount']), (loop, y), ha=\"center\")\n",
    "    loop+=1"
   ]
  },
  {
   "cell_type": "code",
   "execution_count": 83,
   "id": "f0dd7464",
   "metadata": {
    "ExecuteTime": {
     "end_time": "2024-07-04T10:34:55.782907Z",
     "start_time": "2024-07-04T10:34:55.773379Z"
    }
   },
   "outputs": [
    {
     "name": "stdout",
     "output_type": "stream",
     "text": [
      "Capital Pool Total Change - -1870.94\n",
      "Capital Pool Percentage Change - -2.15%\n"
     ]
    }
   ],
   "source": [
    "# Total change in capital pool\n",
    "capital_pool_change = df_waterfall.loc['closing capital pool'].values[0] - df_waterfall.loc['opening capital pool'].values[0]\n",
    "print(f'Capital Pool Total Change - {round(capital_pool_change, 2)}')\n",
    "print(f'Capital Pool Percentage Change - {round(100 * capital_pool_change / (df_waterfall.loc[\"opening capital pool\"].values[0]), 2)}%')"
   ]
  },
  {
   "cell_type": "markdown",
   "id": "b6513f9c",
   "metadata": {
    "heading_collapsed": true
   },
   "source": [
    "# Divestment Plan"
   ]
  },
  {
   "cell_type": "markdown",
   "id": "d22e9598",
   "metadata": {
    "hidden": true
   },
   "source": [
    "## Pie Chart of Assets Today"
   ]
  },
  {
   "cell_type": "code",
   "execution_count": 58,
   "id": "db6778b9",
   "metadata": {
    "ExecuteTime": {
     "end_time": "2024-06-05T15:48:02.471557Z",
     "start_time": "2024-06-05T15:48:02.450213Z"
    },
    "hidden": true
   },
   "outputs": [
    {
     "name": "stderr",
     "output_type": "stream",
     "text": [
      "/tmp/ipykernel_1657/1517165823.py:2: SettingWithCopyWarning: \n",
      "A value is trying to be set on a copy of a slice from a DataFrame\n",
      "\n",
      "See the caveats in the documentation: https://pandas.pydata.org/pandas-docs/stable/user_guide/indexing.html#returning-a-view-versus-a-copy\n",
      "  today_row['Kiln'] = today_row['Enzyme'] - Enzyme_idle_portion\n",
      "/tmp/ipykernel_1657/1517165823.py:2: SettingWithCopyWarning: \n",
      "A value is trying to be set on a copy of a slice from a DataFrame\n",
      "\n",
      "See the caveats in the documentation: https://pandas.pydata.org/pandas-docs/stable/user_guide/indexing.html#returning-a-view-versus-a-copy\n",
      "  today_row['Kiln'] = today_row['Enzyme'] - Enzyme_idle_portion\n",
      "/tmp/ipykernel_1657/1517165823.py:3: SettingWithCopyWarning: \n",
      "A value is trying to be set on a copy of a slice from a DataFrame\n",
      "\n",
      "See the caveats in the documentation: https://pandas.pydata.org/pandas-docs/stable/user_guide/indexing.html#returning-a-view-versus-a-copy\n",
      "  today_row['Enzyme Idle'] = Enzyme_idle_portion\n",
      "/tmp/ipykernel_1657/1517165823.py:3: SettingWithCopyWarning: \n",
      "A value is trying to be set on a copy of a slice from a DataFrame\n",
      "\n",
      "See the caveats in the documentation: https://pandas.pydata.org/pandas-docs/stable/user_guide/indexing.html#returning-a-view-versus-a-copy\n",
      "  today_row['Enzyme Idle'] = Enzyme_idle_portion\n",
      "/tmp/ipykernel_1657/1517165823.py:4: SettingWithCopyWarning: \n",
      "A value is trying to be set on a copy of a slice from a DataFrame\n",
      "\n",
      "See the caveats in the documentation: https://pandas.pydata.org/pandas-docs/stable/user_guide/indexing.html#returning-a-view-versus-a-copy\n",
      "  today_row.rename({'Cover Re': 'Cover Re Investment', 'aEthWETH':'Cover Re Loan Collateral', 'variableDebtEthUSDC': 'Cover Re Loan Outstanding'}, inplace=True)\n"
     ]
    },
    {
     "data": {
      "text/plain": [
       "day                          2024-06-05 00:00:00\n",
       "rate_ETH_USD                         3807.328214\n",
       "ETH                                  13586.21222\n",
       "DAI                                   284.077959\n",
       "Enzyme                              13378.240952\n",
       "stETH                               33635.336859\n",
       "rETH                                14805.023368\n",
       "USDC                                     1.26115\n",
       "Cover Re Investment                  3152.832113\n",
       "Cover Re Loan Collateral             9344.842419\n",
       "Cover Re Loan Outstanding           -1634.969978\n",
       "sum                                 86552.857061\n",
       "Aave (net)                           7709.872441\n",
       "Kiln                                 6793.240952\n",
       "Enzyme Idle                                 6585\n",
       "Name: 0, dtype: object"
      ]
     },
     "execution_count": 58,
     "metadata": {},
     "output_type": "execute_result"
    }
   ],
   "source": [
    "today_row = df_cap.iloc[0]\n",
    "today_row['Kiln'] = today_row['Enzyme'] - Enzyme_idle_portion\n",
    "today_row['Enzyme Idle'] = Enzyme_idle_portion\n",
    "today_row.rename({'Cover Re': 'Cover Re Investment', 'aEthWETH':'Cover Re Loan Collateral', 'variableDebtEthUSDC': 'Cover Re Loan Outstanding'}, inplace=True)\n",
    "today_row"
   ]
  },
  {
   "cell_type": "code",
   "execution_count": 60,
   "id": "accbd19d",
   "metadata": {
    "ExecuteTime": {
     "end_time": "2024-06-05T15:48:25.248107Z",
     "start_time": "2024-06-05T15:48:24.961672Z"
    },
    "hidden": true
   },
   "outputs": [
    {
     "data": {
      "image/png": "[encoded data removed]",
      "text/plain": [
       "<Figure size 640x480 with 1 Axes>"
      ]
     },
     "metadata": {},
     "output_type": "display_data"
    }
   ],
   "source": [
    "pie_asset_list = ['ETH', 'DAI', 'stETH', 'rETH', 'Enzyme Idle', 'Kiln', 'Cover Re Investment', 'Aave (net)', 'USDC']\n",
    "today_row_pie = today_row[pie_asset_list]\n",
    "\n",
    "# add formatted ETH values to labels\n",
    "labels = []\n",
    "for n, i in enumerate(pie_asset_list):\n",
    "    formatted_value = '{:,.0f}'.format(today_row_pie.values[n])\n",
    "    labels.append(f'{i} - {formatted_value}')\n",
    "\n",
    "# create chart\n",
    "# extract latest date in string format\n",
    "today_date_str = df_cap.iloc[0]['day'].strftime('%d-%m-%Y')\n",
    "# create chart\n",
    "plt.pie(today_row_pie.values, labels=labels, autopct='%1.2f%%')\n",
    "plt.title(f'{today_date_str} Capital Pool Split in ETH');"
   ]
  },
  {
   "cell_type": "markdown",
   "id": "38ac23c0",
   "metadata": {
    "hidden": true
   },
   "source": [
    "## Monthly Averages Since Start of 2024 "
   ]
  },
  {
   "cell_type": "code",
   "execution_count": 61,
   "id": "844332a5",
   "metadata": {
    "ExecuteTime": {
     "end_time": "2024-06-05T15:48:32.518694Z",
     "start_time": "2024-06-05T15:48:32.507684Z"
    },
    "hidden": true
   },
   "outputs": [],
   "source": [
    "# get today's day, month and year\n",
    "\n",
    "day_today = datetime.now().day\n",
    "month_today = datetime.now().month\n",
    "year_today = datetime.now().year\n",
    "\n",
    "# get eth price today\n",
    "eth_usd_today = df_cap.iloc[0]['rate_ETH_USD']\n",
    "\n",
    "# manually input average start date\n",
    "averages_start_date_str = '01-08-2023'\n",
    "# create average start datetime\n",
    "averages_start_date = datetime.strptime(averages_start_date_str, '%d-%m-%Y')"
   ]
  },
  {
   "cell_type": "code",
   "execution_count": 62,
   "id": "f5874d68",
   "metadata": {
    "ExecuteTime": {
     "end_time": "2024-06-05T15:48:34.305709Z",
     "start_time": "2024-06-05T15:48:34.186915Z"
    },
    "hidden": true
   },
   "outputs": [
    {
     "name": "stdout",
     "output_type": "stream",
     "text": [
      "Average monthly stETH returns = 98.15506824058939\n",
      "Average monthly rETH returns = 36.492883790833915\n",
      "Average monthly kiln returns = 22.514341232812498\n",
      "Average monthly net ETH cover fees = 3.314128423428238\n",
      "Average monthly RAMM flows = -2975.093028385013\n"
     ]
    }
   ],
   "source": [
    "# loop through months since the start date and obtain averages\n",
    "\n",
    "date = averages_start_date\n",
    "ramm_flows = []\n",
    "net_eth_fees = []\n",
    "claim_ratio = 0.7\n",
    "stETH_returns = []\n",
    "rETH_returns = []\n",
    "\n",
    "while date < datetime(year_today, month_today, 1):\n",
    "    next_month = datetime(year = date.year + int(date.month / 12), month = (date.month % 12) + 1, day=date.day)\n",
    "    \n",
    "    # RAMM FLOWS\n",
    "    # determine net ramm flows in month in 2024\n",
    "    if date.year >= 2024:\n",
    "        ramm_flows_opening = df_ramm.loc[df_ramm['ts'] == date]['cummulative_eth_in'].values[0] - df_ramm.loc[df_ramm['ts'] == date]['cummulative_eth_out'].values[0]\n",
    "        ramm_flows_closing = df_ramm.loc[df_ramm['ts'] == next_month]['cummulative_eth_in'].values[0] - df_ramm.loc[df_ramm['ts'] == next_month]['cummulative_eth_out'].values[0]\n",
    "        ramm_flows_change = ramm_flows_closing - ramm_flows_opening\n",
    "        ramm_flows.append(ramm_flows_change)\n",
    "    \n",
    "    # COVERS\n",
    "    # filter for covers that were bought in the relevant month\n",
    "    df_cover_flows = df_covers[(df_covers['cover_start_time']>=date) & (df_covers['cover_start_time']<next_month)]\n",
    "\n",
    "    # filter for covers that were paid for in ETH\n",
    "    # (note covers paid in NXM don't generate assets and covers paid for in DAI/USDC will be used to pay off the Cover Re loan)\n",
    "    df_cover_flows = df_cover_flows[df_cover_flows['premium_asset'] == 'ETH']\n",
    "\n",
    "    # work out cover fees, allowing for 15% commission\n",
    "    eth_cover_fees = df_cover_flows['premium_native'].sum() * 0.85\n",
    "    # append to list, allowing for 70% claim ratio\n",
    "    net_eth_monthly_fees = eth_cover_fees * (1 - claim_ratio)\n",
    "    net_eth_fees.append(net_eth_monthly_fees)\n",
    "    \n",
    "    # INVESTMENT INCOME\n",
    "    # stETH\n",
    "    stETH_opening = df_cap.loc[df_cap['day'] == date]['stETH'].values[0]\n",
    "    stETH_closing = df_cap.loc[df_cap['day'] == next_month]['stETH'].values[0]\n",
    "    stETH_returns.append(stETH_closing - stETH_opening)\n",
    "    # rETH\n",
    "    rETH_opening = df_cap.loc[df_cap['day'] == date]['rETH'].values[0]\n",
    "    rETH_closing = df_cap.loc[df_cap['day'] == next_month]['rETH'].values[0]\n",
    "    rETH_returns.append(rETH_closing - rETH_opening) \n",
    "    \n",
    "    # move date along\n",
    "    date = next_month\n",
    "\n",
    "# Average Kiln rewards in month\n",
    "days_total_kiln_rewards = (df_cap.iloc[0]['day'] - kiln_deposit_date)/timedelta(days=1)\n",
    "daily_total_kiln_rewards = kiln_total_rewards / days_total_kiln_rewards\n",
    "avg_monthly_kiln_returns = daily_total_kiln_rewards * avg_days_in_month\n",
    "\n",
    "# Average RAMM flows\n",
    "avg_monthly_ramm_flows = sum(ramm_flows)/len(ramm_flows)\n",
    "\n",
    "# Average ETH Cover Fees\n",
    "avg_monthly_net_eth_fees = sum(net_eth_fees)/len(net_eth_fees)\n",
    "\n",
    "# Average stETH returns\n",
    "avg_monthly_stETH_returns = sum(stETH_returns)/len(stETH_returns)\n",
    "\n",
    "# Average rETH returns\n",
    "avg_monthly_rETH_returns = sum(rETH_returns)/len(rETH_returns)\n",
    "\n",
    "print(f'Average monthly stETH returns = {avg_monthly_stETH_returns}')\n",
    "print(f'Average monthly rETH returns = {avg_monthly_rETH_returns}')\n",
    "print(f'Average monthly kiln returns = {avg_monthly_kiln_returns}')\n",
    "print(f'Average monthly net ETH cover fees = {avg_monthly_net_eth_fees}')\n",
    "print(f'Average monthly RAMM flows = {avg_monthly_ramm_flows}')"
   ]
  },
  {
   "cell_type": "markdown",
   "id": "dc4ca8d7",
   "metadata": {
    "hidden": true
   },
   "source": [
    "## Asset Projection"
   ]
  },
  {
   "cell_type": "code",
   "execution_count": 63,
   "id": "33e32152",
   "metadata": {
    "ExecuteTime": {
     "end_time": "2024-06-05T15:48:37.086553Z",
     "start_time": "2024-06-05T15:48:37.072315Z"
    },
    "hidden": true
   },
   "outputs": [
    {
     "data": {
      "text/plain": [
       "day                          2024-06-05 00:00:00\n",
       "rate_ETH_USD                         3807.328214\n",
       "ETH                                  13586.21222\n",
       "DAI                                   284.077959\n",
       "Enzyme                              13378.240952\n",
       "stETH                               33635.336859\n",
       "rETH                                14805.023368\n",
       "USDC                                     1.26115\n",
       "Cover Re Investment                  3152.832113\n",
       "Cover Re Loan Collateral             9344.842419\n",
       "Cover Re Loan Outstanding           -1634.969978\n",
       "sum                                 86552.857061\n",
       "Aave (net)                           7709.872441\n",
       "Kiln                                 6793.240952\n",
       "Enzyme Idle                                 6585\n",
       "Name: 0, dtype: object"
      ]
     },
     "execution_count": 63,
     "metadata": {},
     "output_type": "execute_result"
    }
   ],
   "source": [
    "today_row"
   ]
  },
  {
   "cell_type": "code",
   "execution_count": 65,
   "id": "b1258180",
   "metadata": {
    "ExecuteTime": {
     "end_time": "2024-06-05T15:55:15.718604Z",
     "start_time": "2024-06-05T15:55:15.620260Z"
    },
    "hidden": true
   },
   "outputs": [
    {
     "data": {
      "text/html": [
       "<div>\n",
       "<style scoped>\n",
       "    .dataframe tbody tr th:only-of-type {\n",
       "        vertical-align: middle;\n",
       "    }\n",
       "\n",
       "    .dataframe tbody tr th {\n",
       "        vertical-align: top;\n",
       "    }\n",
       "\n",
       "    .dataframe thead th {\n",
       "        text-align: right;\n",
       "    }\n",
       "</style>\n",
       "<table border=\"1\" class=\"dataframe\">\n",
       "  <thead>\n",
       "    <tr style=\"text-align: right;\">\n",
       "      <th></th>\n",
       "      <th>ETH</th>\n",
       "      <th>DAI</th>\n",
       "      <th>stETH</th>\n",
       "      <th>rETH</th>\n",
       "      <th>Enzyme Idle</th>\n",
       "      <th>Kiln</th>\n",
       "      <th>Cover Re Investment</th>\n",
       "      <th>Cover Re Loan Collateral</th>\n",
       "      <th>Cover Re Loan Outstanding</th>\n",
       "      <th>USDC</th>\n",
       "    </tr>\n",
       "  </thead>\n",
       "  <tbody>\n",
       "    <tr>\n",
       "      <th>0</th>\n",
       "      <td>13586.21222</td>\n",
       "      <td>284.077959</td>\n",
       "      <td>33635.336859</td>\n",
       "      <td>14805.023368</td>\n",
       "      <td>6585</td>\n",
       "      <td>6793.240952</td>\n",
       "      <td>3152.832113</td>\n",
       "      <td>9344.842419</td>\n",
       "      <td>-1634.969978</td>\n",
       "      <td>1.26115</td>\n",
       "    </tr>\n",
       "    <tr>\n",
       "      <th>1</th>\n",
       "      <td>10614.43332</td>\n",
       "      <td>284.077959</td>\n",
       "      <td>33733.491927</td>\n",
       "      <td>14841.516252</td>\n",
       "      <td>6585</td>\n",
       "      <td>6815.755293</td>\n",
       "      <td>3201.100303</td>\n",
       "      <td>9356.751143</td>\n",
       "      <td>-1646.388183</td>\n",
       "      <td>1.26115</td>\n",
       "    </tr>\n",
       "    <tr>\n",
       "      <th>2</th>\n",
       "      <td>7642.65442</td>\n",
       "      <td>284.077959</td>\n",
       "      <td>33831.646995</td>\n",
       "      <td>14878.009136</td>\n",
       "      <td>6585</td>\n",
       "      <td>6838.269635</td>\n",
       "      <td>3250.107453</td>\n",
       "      <td>9368.675043</td>\n",
       "      <td>-1657.88613</td>\n",
       "      <td>1.26115</td>\n",
       "    </tr>\n",
       "    <tr>\n",
       "      <th>3</th>\n",
       "      <td>4670.87552</td>\n",
       "      <td>284.077959</td>\n",
       "      <td>33929.802063</td>\n",
       "      <td>14914.502019</td>\n",
       "      <td>6585</td>\n",
       "      <td>6860.783976</td>\n",
       "      <td>3299.864878</td>\n",
       "      <td>9380.614138</td>\n",
       "      <td>-1669.464376</td>\n",
       "      <td>1.26115</td>\n",
       "    </tr>\n",
       "    <tr>\n",
       "      <th>4</th>\n",
       "      <td>1699.09662</td>\n",
       "      <td>284.077959</td>\n",
       "      <td>34027.957132</td>\n",
       "      <td>14950.994903</td>\n",
       "      <td>6585</td>\n",
       "      <td>6883.298317</td>\n",
       "      <td>3350.384062</td>\n",
       "      <td>9392.568449</td>\n",
       "      <td>-1681.123481</td>\n",
       "      <td>1.26115</td>\n",
       "    </tr>\n",
       "    <tr>\n",
       "      <th>5</th>\n",
       "      <td>-1272.68228</td>\n",
       "      <td>284.077959</td>\n",
       "      <td>34126.1122</td>\n",
       "      <td>14987.487787</td>\n",
       "      <td>6585</td>\n",
       "      <td>6905.812658</td>\n",
       "      <td>3401.676668</td>\n",
       "      <td>9404.537993</td>\n",
       "      <td>-1692.86401</td>\n",
       "      <td>1.26115</td>\n",
       "    </tr>\n",
       "    <tr>\n",
       "      <th>6</th>\n",
       "      <td>-4244.46118</td>\n",
       "      <td>284.077959</td>\n",
       "      <td>34224.267268</td>\n",
       "      <td>15023.980671</td>\n",
       "      <td>6585</td>\n",
       "      <td>6928.327</td>\n",
       "      <td>3453.754536</td>\n",
       "      <td>9416.522791</td>\n",
       "      <td>-1704.686533</td>\n",
       "      <td>1.26115</td>\n",
       "    </tr>\n",
       "    <tr>\n",
       "      <th>7</th>\n",
       "      <td>-7216.24008</td>\n",
       "      <td>284.077959</td>\n",
       "      <td>34322.422336</td>\n",
       "      <td>15060.473555</td>\n",
       "      <td>6585</td>\n",
       "      <td>6950.841341</td>\n",
       "      <td>3506.629689</td>\n",
       "      <td>9428.522861</td>\n",
       "      <td>-1716.59162</td>\n",
       "      <td>1.26115</td>\n",
       "    </tr>\n",
       "    <tr>\n",
       "      <th>8</th>\n",
       "      <td>-10188.01898</td>\n",
       "      <td>284.077959</td>\n",
       "      <td>34420.577404</td>\n",
       "      <td>15096.966438</td>\n",
       "      <td>6585</td>\n",
       "      <td>6973.355682</td>\n",
       "      <td>3560.314333</td>\n",
       "      <td>9440.538225</td>\n",
       "      <td>-1728.57985</td>\n",
       "      <td>1.26115</td>\n",
       "    </tr>\n",
       "    <tr>\n",
       "      <th>9</th>\n",
       "      <td>-13159.79788</td>\n",
       "      <td>284.077959</td>\n",
       "      <td>34518.732473</td>\n",
       "      <td>15133.459322</td>\n",
       "      <td>6585</td>\n",
       "      <td>6995.870023</td>\n",
       "      <td>3614.82086</td>\n",
       "      <td>9452.5689</td>\n",
       "      <td>-1740.651802</td>\n",
       "      <td>1.26115</td>\n",
       "    </tr>\n",
       "    <tr>\n",
       "      <th>10</th>\n",
       "      <td>-16131.57678</td>\n",
       "      <td>284.077959</td>\n",
       "      <td>34616.887541</td>\n",
       "      <td>15169.952206</td>\n",
       "      <td>6585</td>\n",
       "      <td>7018.384364</td>\n",
       "      <td>3670.161854</td>\n",
       "      <td>9464.614906</td>\n",
       "      <td>-1752.808062</td>\n",
       "      <td>1.26115</td>\n",
       "    </tr>\n",
       "    <tr>\n",
       "      <th>11</th>\n",
       "      <td>-19103.35568</td>\n",
       "      <td>284.077959</td>\n",
       "      <td>34715.042609</td>\n",
       "      <td>15206.44509</td>\n",
       "      <td>6585</td>\n",
       "      <td>7040.898706</td>\n",
       "      <td>3726.350088</td>\n",
       "      <td>9476.676264</td>\n",
       "      <td>-1765.049218</td>\n",
       "      <td>1.26115</td>\n",
       "    </tr>\n",
       "    <tr>\n",
       "      <th>12</th>\n",
       "      <td>-22075.13458</td>\n",
       "      <td>284.077959</td>\n",
       "      <td>34813.197677</td>\n",
       "      <td>15242.937974</td>\n",
       "      <td>6585</td>\n",
       "      <td>7063.413047</td>\n",
       "      <td>3783.398535</td>\n",
       "      <td>9488.752992</td>\n",
       "      <td>-1777.375863</td>\n",
       "      <td>1.26115</td>\n",
       "    </tr>\n",
       "  </tbody>\n",
       "</table>\n",
       "</div>"
      ],
      "text/plain": [
       "            ETH         DAI         stETH          rETH Enzyme Idle  \\\n",
       "0   13586.21222  284.077959  33635.336859  14805.023368        6585   \n",
       "1   10614.43332  284.077959  33733.491927  14841.516252        6585   \n",
       "2    7642.65442  284.077959  33831.646995  14878.009136        6585   \n",
       "3    4670.87552  284.077959  33929.802063  14914.502019        6585   \n",
       "4    1699.09662  284.077959  34027.957132  14950.994903        6585   \n",
       "5   -1272.68228  284.077959    34126.1122  14987.487787        6585   \n",
       "6   -4244.46118  284.077959  34224.267268  15023.980671        6585   \n",
       "7   -7216.24008  284.077959  34322.422336  15060.473555        6585   \n",
       "8  -10188.01898  284.077959  34420.577404  15096.966438        6585   \n",
       "9  -13159.79788  284.077959  34518.732473  15133.459322        6585   \n",
       "10 -16131.57678  284.077959  34616.887541  15169.952206        6585   \n",
       "11 -19103.35568  284.077959  34715.042609   15206.44509        6585   \n",
       "12 -22075.13458  284.077959  34813.197677  15242.937974        6585   \n",
       "\n",
       "           Kiln Cover Re Investment Cover Re Loan Collateral  \\\n",
       "0   6793.240952         3152.832113              9344.842419   \n",
       "1   6815.755293         3201.100303              9356.751143   \n",
       "2   6838.269635         3250.107453              9368.675043   \n",
       "3   6860.783976         3299.864878              9380.614138   \n",
       "4   6883.298317         3350.384062              9392.568449   \n",
       "5   6905.812658         3401.676668              9404.537993   \n",
       "6      6928.327         3453.754536              9416.522791   \n",
       "7   6950.841341         3506.629689              9428.522861   \n",
       "8   6973.355682         3560.314333              9440.538225   \n",
       "9   6995.870023          3614.82086                9452.5689   \n",
       "10  7018.384364         3670.161854              9464.614906   \n",
       "11  7040.898706         3726.350088              9476.676264   \n",
       "12  7063.413047         3783.398535              9488.752992   \n",
       "\n",
       "   Cover Re Loan Outstanding     USDC  \n",
       "0               -1634.969978  1.26115  \n",
       "1               -1646.388183  1.26115  \n",
       "2                -1657.88613  1.26115  \n",
       "3               -1669.464376  1.26115  \n",
       "4               -1681.123481  1.26115  \n",
       "5                -1692.86401  1.26115  \n",
       "6               -1704.686533  1.26115  \n",
       "7                -1716.59162  1.26115  \n",
       "8                -1728.57985  1.26115  \n",
       "9               -1740.651802  1.26115  \n",
       "10              -1752.808062  1.26115  \n",
       "11              -1765.049218  1.26115  \n",
       "12              -1777.375863  1.26115  "
      ]
     },
     "execution_count": 65,
     "metadata": {},
     "output_type": "execute_result"
    }
   ],
   "source": [
    "proj_asset_list = ['ETH', 'DAI', 'stETH', 'rETH', 'Enzyme Idle', 'Kiln', 'Cover Re Investment', 'Cover Re Loan Collateral',\n",
    "                   'Cover Re Loan Outstanding', 'USDC']\n",
    "today_row_proj = today_row[proj_asset_list]\n",
    "\n",
    "asset_df = pd.DataFrame(today_row_proj).T\n",
    "\n",
    "projection_months = 12\n",
    "aave_eth_supply_apy = 0.0154\n",
    "aave_usdc_borrow_apy = 0.0871\n",
    "cover_re_apy = 0.2\n",
    "\n",
    "for i in range(projection_months):\n",
    "    \n",
    "    next_row = {}\n",
    "    next_row['ETH'] = asset_df['ETH'].values[-1] + avg_monthly_ramm_flows + avg_monthly_net_eth_fees\n",
    "    next_row['DAI'] = asset_df['DAI'].values[-1]\n",
    "    next_row['USDC'] = asset_df['USDC'].values[-1]\n",
    "    next_row['stETH'] = asset_df['stETH'].values[-1] + avg_monthly_stETH_returns\n",
    "    next_row['rETH'] = asset_df['rETH'].values[-1] + avg_monthly_rETH_returns\n",
    "    next_row['Kiln'] = asset_df['Kiln'].values[-1] + avg_monthly_kiln_returns\n",
    "    next_row['Enzyme Idle'] = asset_df['Enzyme Idle'].values[-1]\n",
    "    next_row['Cover Re Investment'] = asset_df['Cover Re Investment'].values[-1] * ((1 + cover_re_apy)**(1/12))\n",
    "    next_row['Cover Re Loan Collateral'] = asset_df['Cover Re Loan Collateral'].values[-1] * ((1 + aave_eth_supply_apy)**(1/12))\n",
    "    next_row['Cover Re Loan Outstanding'] = asset_df['Cover Re Loan Outstanding'].values[-1] * ((1 + aave_usdc_borrow_apy)**(1/12))\n",
    "    \n",
    "    asset_df.loc[len(asset_df)] = next_row\n",
    "\n",
    "asset_df"
   ]
  },
  {
   "cell_type": "code",
   "execution_count": 66,
   "id": "65c5775e",
   "metadata": {
    "ExecuteTime": {
     "end_time": "2024-06-05T16:00:28.120538Z",
     "start_time": "2024-06-05T16:00:28.108981Z"
    },
    "hidden": true
   },
   "outputs": [],
   "source": [
    "asset_df_6_mo = asset_df[:6].astype(float)\n",
    "asset_df_6_mo_pos = asset_df_6_mo.drop(columns=['Cover Re Loan Outstanding'])"
   ]
  },
  {
   "cell_type": "code",
   "execution_count": 67,
   "id": "e1250a04",
   "metadata": {
    "ExecuteTime": {
     "end_time": "2024-06-05T16:00:33.072838Z",
     "start_time": "2024-06-05T16:00:32.583310Z"
    },
    "hidden": true
   },
   "outputs": [
    {
     "name": "stderr",
     "output_type": "stream",
     "text": [
      "/tmp/ipykernel_1657/1641516350.py:5: UserWarning: set_ticklabels() should only be used with a fixed number of ticks, i.e. after set_ticks() or using a FixedLocator.\n",
      "  projection_plot.set_yticklabels(['{:,.0f}'.format(x) for x in tick_vals]);\n"
     ]
    },
    {
     "data": {
      "image/png": "[encoded data removed]",
      "text/plain": [
       "<Figure size 1000x700 with 1 Axes>"
      ]
     },
     "metadata": {},
     "output_type": "display_data"
    }
   ],
   "source": [
    "projection_plot = asset_df_6_mo.plot(title=f'Capital Pool Projection from {today_date_str}',\n",
    "                                    figsize=(10, 7), legend=True, ylabel='ETH', xlabel='Months in Future')\n",
    "\n",
    "tick_vals = projection_plot.get_yticks()\n",
    "projection_plot.set_yticklabels(['{:,.0f}'.format(x) for x in tick_vals]);"
   ]
  },
  {
   "cell_type": "code",
   "execution_count": 68,
   "id": "8f64e944",
   "metadata": {
    "ExecuteTime": {
     "end_time": "2024-06-05T16:00:38.026239Z",
     "start_time": "2024-06-05T16:00:37.548191Z"
    },
    "hidden": true
   },
   "outputs": [
    {
     "name": "stderr",
     "output_type": "stream",
     "text": [
      "/tmp/ipykernel_1657/1806150064.py:5: UserWarning: set_ticklabels() should only be used with a fixed number of ticks, i.e. after set_ticks() or using a FixedLocator.\n",
      "  projection_bar_plot.set_yticklabels(['{:,.0f}'.format(x) for x in tick_vals]);\n"
     ]
    },
    {
     "data": {
      "image/png": "[encoded data removed]",
      "text/plain": [
       "<Figure size 1000x700 with 1 Axes>"
      ]
     },
     "metadata": {},
     "output_type": "display_data"
    }
   ],
   "source": [
    "projection_bar_plot = asset_df_6_mo_pos.plot(kind='bar', stacked=True, title=f'Capital Pool Projection from {today_date_str}',\n",
    "                                    figsize=(10, 7), legend=True, ylabel='ETH', xlabel='Months in Future')\n",
    "\n",
    "tick_vals = projection_bar_plot.get_yticks()\n",
    "projection_bar_plot.set_yticklabels(['{:,.0f}'.format(x) for x in tick_vals]);"
   ]
  },
  {
   "cell_type": "code",
   "execution_count": 69,
   "id": "c68d1a95",
   "metadata": {
    "ExecuteTime": {
     "end_time": "2024-06-05T16:00:45.174927Z",
     "start_time": "2024-06-05T16:00:45.141673Z"
    },
    "hidden": true
   },
   "outputs": [
    {
     "data": {
      "text/html": [
       "<div>\n",
       "<style scoped>\n",
       "    .dataframe tbody tr th:only-of-type {\n",
       "        vertical-align: middle;\n",
       "    }\n",
       "\n",
       "    .dataframe tbody tr th {\n",
       "        vertical-align: top;\n",
       "    }\n",
       "\n",
       "    .dataframe thead th {\n",
       "        text-align: right;\n",
       "    }\n",
       "</style>\n",
       "<table border=\"1\" class=\"dataframe\">\n",
       "  <thead>\n",
       "    <tr style=\"text-align: right;\">\n",
       "      <th></th>\n",
       "      <th>ETH</th>\n",
       "      <th>DAI</th>\n",
       "      <th>stETH</th>\n",
       "      <th>rETH</th>\n",
       "      <th>Enzyme Idle</th>\n",
       "      <th>Kiln</th>\n",
       "      <th>Cover Re Investment</th>\n",
       "      <th>Cover Re Loan Collateral</th>\n",
       "      <th>USDC</th>\n",
       "    </tr>\n",
       "  </thead>\n",
       "  <tbody>\n",
       "    <tr>\n",
       "      <th>0</th>\n",
       "      <td>15.405995</td>\n",
       "      <td>0.322128</td>\n",
       "      <td>38.140567</td>\n",
       "      <td>16.788058</td>\n",
       "      <td>7.467017</td>\n",
       "      <td>7.703150</td>\n",
       "      <td>3.575133</td>\n",
       "      <td>10.596522</td>\n",
       "      <td>0.001430</td>\n",
       "    </tr>\n",
       "    <tr>\n",
       "      <th>1</th>\n",
       "      <td>12.424222</td>\n",
       "      <td>0.332514</td>\n",
       "      <td>39.485139</td>\n",
       "      <td>17.372033</td>\n",
       "      <td>7.707759</td>\n",
       "      <td>7.977859</td>\n",
       "      <td>3.746896</td>\n",
       "      <td>10.952101</td>\n",
       "      <td>0.001476</td>\n",
       "    </tr>\n",
       "    <tr>\n",
       "      <th>2</th>\n",
       "      <td>9.243689</td>\n",
       "      <td>0.343589</td>\n",
       "      <td>40.918927</td>\n",
       "      <td>17.994754</td>\n",
       "      <td>7.964470</td>\n",
       "      <td>8.270796</td>\n",
       "      <td>3.930962</td>\n",
       "      <td>11.331288</td>\n",
       "      <td>0.001525</td>\n",
       "    </tr>\n",
       "    <tr>\n",
       "      <th>3</th>\n",
       "      <td>5.843943</td>\n",
       "      <td>0.355423</td>\n",
       "      <td>42.451105</td>\n",
       "      <td>18.660206</td>\n",
       "      <td>8.238790</td>\n",
       "      <td>8.583836</td>\n",
       "      <td>4.128610</td>\n",
       "      <td>11.736509</td>\n",
       "      <td>0.001578</td>\n",
       "    </tr>\n",
       "    <tr>\n",
       "      <th>4</th>\n",
       "      <td>2.201626</td>\n",
       "      <td>0.368098</td>\n",
       "      <td>44.092150</td>\n",
       "      <td>19.372938</td>\n",
       "      <td>8.532596</td>\n",
       "      <td>8.919120</td>\n",
       "      <td>4.341302</td>\n",
       "      <td>12.170538</td>\n",
       "      <td>0.001634</td>\n",
       "    </tr>\n",
       "    <tr>\n",
       "      <th>5</th>\n",
       "      <td>-1.710059</td>\n",
       "      <td>0.381706</td>\n",
       "      <td>45.854080</td>\n",
       "      <td>20.138170</td>\n",
       "      <td>8.848037</td>\n",
       "      <td>9.279102</td>\n",
       "      <td>4.570716</td>\n",
       "      <td>12.636553</td>\n",
       "      <td>0.001695</td>\n",
       "    </tr>\n",
       "  </tbody>\n",
       "</table>\n",
       "</div>"
      ],
      "text/plain": [
       "         ETH       DAI      stETH       rETH  Enzyme Idle      Kiln  \\\n",
       "0  15.405995  0.322128  38.140567  16.788058     7.467017  7.703150   \n",
       "1  12.424222  0.332514  39.485139  17.372033     7.707759  7.977859   \n",
       "2   9.243689  0.343589  40.918927  17.994754     7.964470  8.270796   \n",
       "3   5.843943  0.355423  42.451105  18.660206     8.238790  8.583836   \n",
       "4   2.201626  0.368098  44.092150  19.372938     8.532596  8.919120   \n",
       "5  -1.710059  0.381706  45.854080  20.138170     8.848037  9.279102   \n",
       "\n",
       "   Cover Re Investment  Cover Re Loan Collateral      USDC  \n",
       "0             3.575133                 10.596522  0.001430  \n",
       "1             3.746896                 10.952101  0.001476  \n",
       "2             3.930962                 11.331288  0.001525  \n",
       "3             4.128610                 11.736509  0.001578  \n",
       "4             4.341302                 12.170538  0.001634  \n",
       "5             4.570716                 12.636553  0.001695  "
      ]
     },
     "execution_count": 69,
     "metadata": {},
     "output_type": "execute_result"
    }
   ],
   "source": [
    "df_sum = asset_df_6_mo_pos.sum(axis=1)\n",
    "df_rel = asset_df_6_mo_pos.div(df_sum, 0)*100\n",
    "df_rel"
   ]
  },
  {
   "cell_type": "code",
   "execution_count": 70,
   "id": "e1e64856",
   "metadata": {
    "ExecuteTime": {
     "end_time": "2024-06-05T16:00:49.236186Z",
     "start_time": "2024-06-05T16:00:49.206746Z"
    },
    "hidden": true
   },
   "outputs": [
    {
     "name": "stdout",
     "output_type": "stream",
     "text": [
      "6793.106109768929 0 15.4%\n",
      "5307.216659788136 1 12.4%\n",
      "3821.3272098073435 2 9.2%\n",
      "2335.437759826551 3 5.8%\n",
      "849.5483098457586 4 2.2%\n",
      "-636.3411401350338 5 -1.7%\n",
      "13728.251198854836 0 0.3%\n",
      "10756.47229889325 1 0.3%\n",
      "7784.693398931663 2 0.3%\n",
      "4812.914498970078 3 0.4%\n",
      "1841.135599008494 4 0.4%\n",
      "-1130.6433009530908 5 0.4%\n",
      "30687.958607440676 0 38.1%\n",
      "27765.25724159939 1 39.5%\n",
      "24842.555875758095 2 40.9%\n",
      "21919.8545099168 3 42.5%\n",
      "18997.153144075513 4 44.1%\n",
      "16074.45177823422 5 45.9%\n",
      "54908.138720722425 0 16.8%\n",
      "52052.76133089686 1 17.4%\n",
      "49197.38394107127 2 18.0%\n",
      "46342.006551245686 3 18.7%\n",
      "43486.6291614201 4 19.4%\n",
      "40631.25177159453 5 20.1%\n",
      "65603.15040473532 0 7.5%\n",
      "62766.01945680517 1 7.7%\n",
      "59928.88850887499 2 8.0%\n",
      "57091.757560944825 3 8.2%\n",
      "54254.62661301466 4 8.5%\n",
      "51417.4956650845 5 8.8%\n",
      "72292.27088078838 0 7.7%\n",
      "69466.39710347464 1 8.0%\n",
      "66640.52332616087 2 8.3%\n",
      "63814.649548847105 3 8.6%\n",
      "60988.77577153334 4 8.9%\n",
      "58162.901994219596 5 9.3%\n",
      "77265.30741313289 0 3.6%\n",
      "74474.82490154465 1 3.7%\n",
      "71684.71187017349 2 3.9%\n",
      "68894.97397556592 3 4.1%\n",
      "66105.61696086718 4 4.3%\n",
      "63316.646657146994 5 4.6%\n",
      "83514.14467892908 0 10.6%\n",
      "80753.75062443348 1 11.0%\n",
      "77994.10311839229 2 11.3%\n",
      "75235.21348356841 3 11.7%\n",
      "72477.09321593452 4 12.2%\n",
      "69719.75398732458 5 12.6%\n",
      "88187.19646358772 0 0.0%\n",
      "85432.75677107567 1 0.0%\n",
      "82679.07121503825 2 0.0%\n",
      "79926.15112790826 3 0.0%\n",
      "77174.00801534059 4 0.0%\n",
      "74422.65355886376 5 0.0%\n"
     ]
    }
   ],
   "source": [
    "for n in df_rel: \n",
    "    for i, (cs, ab, pc) in enumerate(zip(asset_df_6_mo_pos.cumsum(1)[n],  \n",
    "                                         asset_df_6_mo_pos[n], df_rel[n])): \n",
    "        print(cs - ab / 2, i, str(np.round(pc, 1)) + '%')"
   ]
  },
  {
   "cell_type": "code",
   "execution_count": 71,
   "id": "eb084695",
   "metadata": {
    "ExecuteTime": {
     "end_time": "2024-06-05T16:00:52.000726Z",
     "start_time": "2024-06-05T16:00:51.312214Z"
    },
    "hidden": true
   },
   "outputs": [
    {
     "name": "stderr",
     "output_type": "stream",
     "text": [
      "/tmp/ipykernel_1657/4137318079.py:5: UserWarning: set_ticklabels() should only be used with a fixed number of ticks, i.e. after set_ticks() or using a FixedLocator.\n",
      "  projection_bar_perc_plot.set_yticklabels(['{:,.0f}'.format(x) for x in tick_vals])\n"
     ]
    },
    {
     "data": {
      "image/png": "[encoded data removed]",
      "text/plain": [
       "<Figure size 1000x700 with 1 Axes>"
      ]
     },
     "metadata": {},
     "output_type": "display_data"
    }
   ],
   "source": [
    "projection_bar_perc_plot = asset_df_6_mo_pos.plot(kind='bar', stacked=True, title=f'Capital Pool Projection from {today_date_str}',\n",
    "                                    figsize=(10, 7), legend=True, ylabel='ETH', xlabel='Months in Future')\n",
    "\n",
    "tick_vals = projection_bar_perc_plot.get_yticks()\n",
    "projection_bar_perc_plot.set_yticklabels(['{:,.0f}'.format(x) for x in tick_vals])\n",
    "\n",
    "for n in df_rel: \n",
    "     for i, (cs, ab, pc) in enumerate(zip(asset_df_6_mo_pos.cumsum(1)[n],  \n",
    "                                         asset_df_6_mo_pos[n], df_rel[n])): \n",
    "         projection_bar_perc_plot.text(y= cs - ab / 2, x=i, s=str(np.round(pc, 1)) + '%',\n",
    "                             va = 'center', ha = 'center', size = 'small')"
   ]
  },
  {
   "cell_type": "code",
   "execution_count": null,
   "id": "8ac03af3",
   "metadata": {
    "hidden": true
   },
   "outputs": [],
   "source": []
  }
 ],
 "metadata": {
  "kernelspec": {
   "display_name": "Python 3 (ipykernel)",
   "language": "python",
   "name": "python3"
  },
  "language_info": {
   "codemirror_mode": {
    "name": "ipython",
    "version": 3
   },
   "file_extension": ".py",
   "mimetype": "text/x-python",
   "name": "python",
   "nbconvert_exporter": "python",
   "pygments_lexer": "ipython3",
   "version": "3.10.6"
  },
  "toc": {
   "base_numbering": 1,
   "nav_menu": {},
   "number_sections": true,
   "sideBar": true,
   "skip_h1_title": false,
   "title_cell": "Table of Contents",
   "title_sidebar": "Contents",
   "toc_cell": false,
   "toc_position": {},
   "toc_section_display": true,
   "toc_window_display": false
  }
 },
 "nbformat": 4,
 "nbformat_minor": 5
}
