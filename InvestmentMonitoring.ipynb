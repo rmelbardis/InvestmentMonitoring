{
 "cells": [
  {
   "cell_type": "markdown",
   "id": "374372ea",
   "metadata": {},
   "source": [
    "## Imports and Inputs"
   ]
  },
  {
   "cell_type": "code",
   "execution_count": 1,
   "id": "4dc24827",
   "metadata": {
    "ExecuteTime": {
     "end_time": "2024-04-15T14:54:26.730543Z",
     "start_time": "2024-04-15T14:54:25.745098Z"
    }
   },
   "outputs": [
    {
     "name": "stderr",
     "output_type": "stream",
     "text": [
      "/tmp/ipykernel_639/2591426926.py:1: DeprecationWarning: \n",
      "Pyarrow will become a required dependency of pandas in the next major release of pandas (pandas 3.0),\n",
      "(to allow more performant data types, such as the Arrow string type, and better interoperability with other libraries)\n",
      "but was not found to be installed on your system.\n",
      "If this would cause problems for you,\n",
      "please provide us feedback at https://github.com/pandas-dev/pandas/issues/54466\n",
      "        \n",
      "  import pandas as pd\n"
     ]
    }
   ],
   "source": [
    "import pandas as pd\n",
    "import requests\n",
    "import matplotlib.pyplot as plt\n",
    "# import seaborn as sns\n",
    "from datetime import datetime, timedelta, timezone\n",
    "\n",
    "from dune_client.client import DuneClient\n",
    "from config import key"
   ]
  },
  {
   "cell_type": "code",
   "execution_count": 2,
   "id": "09516829",
   "metadata": {
    "ExecuteTime": {
     "end_time": "2024-04-15T14:54:29.790708Z",
     "start_time": "2024-04-15T14:54:27.714987Z"
    }
   },
   "outputs": [],
   "source": [
    "# import jsons of capital pool, ramm volume and covers from dune api \n",
    "dune = DuneClient(key)\n",
    "cap_pool_result = dune.get_latest_result_dataframe(1442422)\n",
    "ramm_volume_result = dune.get_latest_result_dataframe(3219988)\n",
    "covers_list_result = dune.get_latest_result_dataframe(2303588)"
   ]
  },
  {
   "cell_type": "code",
   "execution_count": 3,
   "id": "530eeccc",
   "metadata": {
    "ExecuteTime": {
     "end_time": "2024-04-15T14:58:26.589376Z",
     "start_time": "2024-04-15T14:58:26.582819Z"
    }
   },
   "outputs": [],
   "source": [
    "# manually input the valuation date as a string in the format 'dd-mm-yyyy'\n",
    "valn_date_str = '31-03-2024'\n",
    "\n",
    "# manually input kiln rewards\n",
    "kiln_rewards = 176.0416"
   ]
  },
  {
   "cell_type": "code",
   "execution_count": 4,
   "id": "e9408efe",
   "metadata": {
    "ExecuteTime": {
     "end_time": "2024-04-15T14:58:28.358158Z",
     "start_time": "2024-04-15T14:58:28.350258Z"
    }
   },
   "outputs": [],
   "source": [
    "# create valuation datetime\n",
    "valn_date = datetime.strptime(valn_date_str, '%d-%m-%Y').replace(tzinfo=timezone.utc)\n",
    "# create valuation datetimes for 30 days and 365 days ago\n",
    "valn_date_minus_30 = valn_date - timedelta(days=30)\n",
    "valn_date_minus_365 = valn_date - timedelta(days=365)"
   ]
  },
  {
   "cell_type": "code",
   "execution_count": 5,
   "id": "91054a2f",
   "metadata": {
    "ExecuteTime": {
     "end_time": "2024-04-15T14:58:29.434073Z",
     "start_time": "2024-04-15T14:58:28.968504Z"
    }
   },
   "outputs": [],
   "source": [
    "# coingecko ETH API for ETH-USD at valuation date\n",
    "url = 'https://api.coingecko.com/api/v3/coins/ethereum/history'\n",
    "eth_price_params = {'date': valn_date_str}\n",
    "eth_usd = requests.get(url, params=eth_price_params).json()['market_data']['current_price']['usd']"
   ]
  },
  {
   "cell_type": "markdown",
   "id": "c05ea3f7",
   "metadata": {},
   "source": [
    "## Processing Capital Pool Table"
   ]
  },
  {
   "cell_type": "code",
   "execution_count": 6,
   "id": "bad47e5c",
   "metadata": {
    "ExecuteTime": {
     "end_time": "2024-04-15T14:58:31.400913Z",
     "start_time": "2024-04-15T14:58:31.247528Z"
    }
   },
   "outputs": [],
   "source": [
    "# process capital pool table\n",
    "\n",
    "df_cap_raw = cap_pool_result\n",
    "\n",
    "# drop moving average columns\n",
    "df_cap = df_cap_raw.drop(columns=['moving_average_eth', 'moving_average_dai', 'running_total_display_curr'])\n",
    "# rename columns\n",
    "df_cap.rename(columns={'running_net_eth_display_curr': 'ETH',\n",
    "                   'running_net_dai_display_curr': 'DAI',\n",
    "                   'running_net_rpl_display_curr': 'rETH',\n",
    "                   'running_net_lido_display_curr': 'stETH',\n",
    "                   'running_net_enzyme_display_curr': 'Enzyme',\n",
    "                  }, inplace=True)\n",
    "\n",
    "\n",
    "# turn <nil> values into 0 for rETH and turn into floats\n",
    "df_cap['rETH'] = df_cap['rETH'].replace('<nil>', '0').astype('float')\n",
    "# change day to a datetime\n",
    "df_cap['day'] = pd.to_datetime(df_cap['day'])\n",
    "\n",
    "# Adjust Enzyme for Kiln returns\n",
    "\n",
    "    # create datetime object of 2023/08/30 when the Kiln validators were activated \n",
    "kiln_deposit_date = datetime(year=2023, month=8, day=30, tzinfo=timezone.utc)\n",
    "\n",
    "    # work out days since kiln deposit from the latest day and work out the rewards per day\n",
    "days_since_kiln = (df_cap.iloc[0]['day'] - kiln_deposit_date)/timedelta(days=1)\n",
    "daily_kiln_rewards = kiln_rewards/days_since_kiln\n",
    "\n",
    "    # create a column for kiln rewards based on the daily values since validators went live\n",
    "df_cap['kiln_rewards'] = daily_kiln_rewards * (df_cap['day'] - kiln_deposit_date) / timedelta(days=1)\n",
    "df_cap.loc[df_cap['kiln_rewards'] < 0, 'kiln_rewards'] = 0\n",
    "\n",
    "    # Add Kiln rewards to Enzyme column and then drop the Kiln rewards column\n",
    "df_cap['Enzyme'] = df_cap['Enzyme'] + df_cap['kiln_rewards']\n",
    "df_cap.drop(columns=['kiln_rewards'], inplace=True)\n",
    "\n",
    "# add all the columns except day together to get numeric total\n",
    "df_cap['sum'] = df_cap.drop(columns=['day']).sum(axis=1)"
   ]
  },
  {
   "cell_type": "code",
   "execution_count": 7,
   "id": "d3896c4e",
   "metadata": {
    "ExecuteTime": {
     "end_time": "2024-04-15T14:58:34.242714Z",
     "start_time": "2024-04-15T14:58:34.185114Z"
    }
   },
   "outputs": [
    {
     "data": {
      "text/html": [
       "<div>\n",
       "<style scoped>\n",
       "    .dataframe tbody tr th:only-of-type {\n",
       "        vertical-align: middle;\n",
       "    }\n",
       "\n",
       "    .dataframe tbody tr th {\n",
       "        vertical-align: top;\n",
       "    }\n",
       "\n",
       "    .dataframe thead th {\n",
       "        text-align: right;\n",
       "    }\n",
       "</style>\n",
       "<table border=\"1\" class=\"dataframe\">\n",
       "  <thead>\n",
       "    <tr style=\"text-align: right;\">\n",
       "      <th></th>\n",
       "      <th>day</th>\n",
       "      <th>ETH</th>\n",
       "      <th>DAI</th>\n",
       "      <th>rETH</th>\n",
       "      <th>stETH</th>\n",
       "      <th>Enzyme</th>\n",
       "      <th>sum</th>\n",
       "    </tr>\n",
       "  </thead>\n",
       "  <tbody>\n",
       "    <tr>\n",
       "      <th>45</th>\n",
       "      <td>2024-03-01 00:00:00+00:00</td>\n",
       "      <td>32277.275575</td>\n",
       "      <td>1813.593223</td>\n",
       "      <td>17619.37805</td>\n",
       "      <td>33348.396281</td>\n",
       "      <td>13287.203939</td>\n",
       "      <td>98345.847068</td>\n",
       "    </tr>\n",
       "  </tbody>\n",
       "</table>\n",
       "</div>"
      ],
      "text/plain": [
       "                         day           ETH          DAI         rETH  \\\n",
       "45 2024-03-01 00:00:00+00:00  32277.275575  1813.593223  17619.37805   \n",
       "\n",
       "           stETH        Enzyme           sum  \n",
       "45  33348.396281  13287.203939  98345.847068  "
      ]
     },
     "execution_count": 7,
     "metadata": {},
     "output_type": "execute_result"
    }
   ],
   "source": [
    "df_cap.loc[df_cap['day'] == valn_date_minus_30]"
   ]
  },
  {
   "cell_type": "markdown",
   "id": "b95f519c",
   "metadata": {},
   "source": [
    "## Pie Chart of Assets at Valuation Date"
   ]
  },
  {
   "cell_type": "code",
   "execution_count": 8,
   "id": "ff85e094",
   "metadata": {
    "ExecuteTime": {
     "end_time": "2024-04-15T14:58:49.493128Z",
     "start_time": "2024-04-15T14:58:49.244152Z"
    }
   },
   "outputs": [
    {
     "data": {
      "image/png": "[encoded data removed]",
      "text/plain": [
       "<Figure size 640x480 with 1 Axes>"
      ]
     },
     "metadata": {},
     "output_type": "display_data"
    }
   ],
   "source": [
    "# pie chart of assets\n",
    "asset_list = ['ETH', 'DAI', 'stETH', 'rETH', 'Enzyme']\n",
    "valn_date_row = df_cap.loc[df_cap['day'] == valn_date][asset_list]\n",
    "\n",
    "# add formatted ETH values to labels\n",
    "labels = []\n",
    "for n, i in enumerate(asset_list):\n",
    "    formatted_value = '{:,.0f}'.format(valn_date_row.values[0][n])\n",
    "    labels.append(f'{i} - {formatted_value}')\n",
    "\n",
    "# create chart\n",
    "plt.pie(valn_date_row.values[0], labels=labels, autopct='%1.2f%%')\n",
    "plt.title(f'{valn_date_str} Capital Pool Split in ETH');"
   ]
  },
  {
   "cell_type": "markdown",
   "id": "792f1503",
   "metadata": {},
   "source": [
    "## 30 Day Returns on Individual Investments"
   ]
  },
  {
   "cell_type": "code",
   "execution_count": 9,
   "id": "fb570949",
   "metadata": {
    "ExecuteTime": {
     "end_time": "2024-04-15T15:07:11.174626Z",
     "start_time": "2024-04-15T15:07:11.136384Z"
    }
   },
   "outputs": [
    {
     "name": "stdout",
     "output_type": "stream",
     "text": [
      "stETH Monthly APY: 3.448%\n",
      "stETH Monthly Return: 94.35\n",
      "rETH Monthly APY: 3.429%\n",
      "rETH Monthly Return: 49.573\n",
      "Enzyme Monthly APY: 1.809%; Kiln Portion Monthly APY: 3.773%\n",
      "Kiln Monthly Return: 21.495\n",
      "Total ETH Earned: 165.418\n",
      "All returns after fees\n"
     ]
    }
   ],
   "source": [
    "# ETH denominated 30-day returns on individual investments\n",
    "\n",
    "# stETH metrics in ETH\n",
    "stETH_monthly_opening = df_cap.loc[df_cap['day'] == valn_date_minus_30]['stETH'].values[0]\n",
    "stETH_closing = df_cap.loc[df_cap['day'] == valn_date]['stETH'].values[0]\n",
    "stETH_monthly_return = stETH_closing - stETH_monthly_opening\n",
    "# stETH monthly percentage\n",
    "stETH_monthly_percentage = stETH_monthly_return / stETH_monthly_opening\n",
    "# stETH annualised return last month\n",
    "stETH_monthly_APY = ((1 + stETH_monthly_percentage) ** 12 - 1)\n",
    "print(f'stETH Monthly APY: {round(stETH_monthly_APY * 100, 3)}%')\n",
    "print(f'stETH Monthly Return: {round(stETH_monthly_return, 3)}')\n",
    "\n",
    "# rETH metrics in ETH\n",
    "rETH_monthly_opening = df_cap.loc[df_cap['day'] == valn_date_minus_30]['rETH'].values[0]\n",
    "rETH_closing = df_cap.loc[df_cap['day'] == valn_date]['rETH'].values[0]\n",
    "rETH_monthly_return = rETH_closing - rETH_monthly_opening\n",
    "# rETH monthly percentage\n",
    "rETH_monthly_percentage = rETH_monthly_return / rETH_monthly_opening\n",
    "# rETH annualised return last month\n",
    "rETH_monthly_APY = ((1 + rETH_monthly_percentage) ** 12 - 1)\n",
    "print(f'rETH Monthly APY: {round(rETH_monthly_APY * 100, 3)}%')\n",
    "print(f'rETH Monthly Return: {round(rETH_monthly_return, 3)}')\n",
    "\n",
    "## Enzyme\n",
    "Enzyme_fee = 0.0015\n",
    "# Enzyme overall metrics in ETH\n",
    "Enzyme_monthly_opening = df_cap.loc[df_cap['day'] == valn_date_minus_30]['Enzyme'].values[0]\n",
    "Enzyme_closing = df_cap.loc[df_cap['day'] == valn_date]['Enzyme'].values[0]\n",
    "Enzyme_monthly_return = Enzyme_closing - Enzyme_monthly_opening\n",
    "# Enzyme monthly percentage\n",
    "Enzyme_monthly_percentage = Enzyme_monthly_return / Enzyme_monthly_opening\n",
    "# Enzyme annualised return last month\n",
    "Enzyme_monthly_APY = ((1 + Enzyme_monthly_percentage) ** 12 - 1)\n",
    "Enzyme_monthly_APY_after_fees = Enzyme_monthly_APY - Enzyme_fee\n",
    "    \n",
    "# Kiln standalone metrics in ETH\n",
    "Enzyme_idle_portion = 6594 \n",
    "Kiln_monthly_opening = Enzyme_monthly_opening - Enzyme_idle_portion\n",
    "Kiln_closing = Enzyme_closing - Enzyme_idle_portion\n",
    "Kiln_monthly_return = Kiln_closing - Kiln_monthly_opening\n",
    "# Kiln monthly percentage\n",
    "Kiln_monthly_percentage = Kiln_monthly_return / Kiln_monthly_opening\n",
    "# Kiln annualised return last month\n",
    "Kiln_monthly_APY = ((1 + Kiln_monthly_percentage) ** 12 - 1)\n",
    "Kiln_monthly_APY_after_fees = Kiln_monthly_APY - Enzyme_fee\n",
    "\n",
    "# Total ETH earned\n",
    "total_monthly_inv_earnings = round(stETH_monthly_return + rETH_monthly_return + Kiln_monthly_return, 3)\n",
    "\n",
    "print(f'Enzyme Monthly APY: {round(Enzyme_monthly_APY_after_fees * 100, 3)}%; Kiln Portion Monthly APY: {round(Kiln_monthly_APY_after_fees * 100, 3)}%')\n",
    "print(f'Kiln Monthly Return: {round(Kiln_monthly_return, 3)}')\n",
    "\n",
    "print(f'Total ETH Earned: {total_monthly_inv_earnings}')\n",
    "\n",
    "print ('All returns after fees')"
   ]
  },
  {
   "cell_type": "code",
   "execution_count": 10,
   "id": "58aece89",
   "metadata": {
    "ExecuteTime": {
     "end_time": "2024-04-15T15:07:12.461383Z",
     "start_time": "2024-04-15T15:07:11.953287Z"
    }
   },
   "outputs": [
    {
     "name": "stderr",
     "output_type": "stream",
     "text": [
      "/tmp/ipykernel_639/583409109.py:17: UserWarning: set_ticklabels() should only be used with a fixed number of ticks, i.e. after set_ticks() or using a FixedLocator.\n",
      "  axs[0].set_yticklabels(['{:,.1%}'.format(x) for x in tick_vals])\n"
     ]
    },
    {
     "data": {
      "image/png": "[encoded data removed]",
      "text/plain": [
       "<Figure size 1000x500 with 2 Axes>"
      ]
     },
     "metadata": {},
     "output_type": "display_data"
    }
   ],
   "source": [
    "# MONTHLY RETURN GRAPHS FOR INDIVIDUAL INVESTMENTS\n",
    "\n",
    "labels = ['stETH', 'rETH', 'Kiln']\n",
    "colors = ['#00a3ff', '#f26e34', '#202020']\n",
    "\n",
    "# Destructuring initialization\n",
    "fig, axs = plt.subplots(1, 2, figsize=(10,5))\n",
    "fig.suptitle(f'Investment Monthly Returns', fontsize=16)\n",
    "fig.tight_layout()\n",
    "fig.subplots_adjust(top=0.88)\n",
    "\n",
    "# Subplot\n",
    "axs[0].bar(labels, [stETH_monthly_APY, rETH_monthly_APY, Kiln_monthly_APY_after_fees], color=colors)\n",
    "axs[0].set_title('APY')\n",
    "axs[0].set_ylabel('APY')\n",
    "tick_vals = axs[0].get_yticks()\n",
    "axs[0].set_yticklabels(['{:,.1%}'.format(x) for x in tick_vals])\n",
    "\n",
    "# Subplot\n",
    "axs[1].bar(labels, [stETH_monthly_return, rETH_monthly_return, Kiln_monthly_return*(1-0.0015)], color=colors);\n",
    "axs[1].set_title('Absolute Return')\n",
    "axs[1].set_ylabel('ETH')\n",
    "\n",
    "plt.show();"
   ]
  },
  {
   "cell_type": "code",
   "execution_count": 11,
   "id": "ae93d401",
   "metadata": {
    "ExecuteTime": {
     "end_time": "2024-04-15T15:07:20.221598Z",
     "start_time": "2024-04-15T15:07:20.205092Z"
    }
   },
   "outputs": [
    {
     "name": "stdout",
     "output_type": "stream",
     "text": [
      "Total Monthly APY: 2.069%\n",
      "Based on average Capital Pool amount over the monthly period\n"
     ]
    }
   ],
   "source": [
    "# Total Monthly APY on the Capital Pool\n",
    "\n",
    "# averaging the total ETH value of capital pool over the monthly period\n",
    "total_cap_monthly_opening = df_cap.loc[df_cap['day'] == valn_date_minus_30]['sum'].values[0]\n",
    "total_cap_monthly_closing = df_cap.loc[df_cap['day'] == valn_date]['sum'].values[0]\n",
    "avg_total_cap_pool = (total_cap_monthly_closing + total_cap_monthly_opening) / 2\n",
    "\n",
    "# monthly apy based on total earning\n",
    "total_monthly_percentage = total_monthly_inv_earnings / avg_total_cap_pool\n",
    "total_monthly_APY = ((1 + total_monthly_percentage) ** 12 - 1)\n",
    "\n",
    "print(f'Total Monthly APY: {round(total_monthly_APY * 100, 3)}%')\n",
    "print('Based on average Capital Pool amount over the monthly period')"
   ]
  },
  {
   "cell_type": "markdown",
   "id": "e3bba312",
   "metadata": {},
   "source": [
    "## Monthly Changes in Capital Pool "
   ]
  },
  {
   "cell_type": "code",
   "execution_count": 12,
   "id": "65ff3be9",
   "metadata": {
    "ExecuteTime": {
     "end_time": "2024-04-15T15:07:23.142899Z",
     "start_time": "2024-04-15T15:07:23.066853Z"
    }
   },
   "outputs": [
    {
     "data": {
      "text/plain": [
       "-3078.218273673214"
      ]
     },
     "execution_count": 12,
     "metadata": {},
     "output_type": "execute_result"
    }
   ],
   "source": [
    "# RAMM Net Withdrawals\n",
    "df_ramm = ramm_volume_result\n",
    "\n",
    "# change timestamp to datetime format and normalise all dates to midnight\n",
    "df_ramm['ts'] = pd.to_datetime(df_ramm['ts']).dt.floor('D').dt.tz_localize(timezone.utc)\n",
    "\n",
    "# group by date, take the latest value and re-sort into descending order\n",
    "df_ramm = df_ramm.groupby(by=df_ramm['ts'].dt.date, as_index=False).first().\\\n",
    "            sort_values(['ts'], ascending=False).reset_index(drop=True)\n",
    "\n",
    "# determine net ramm flows 30 days before and on the valuation date by subtracting redemptions from mints\n",
    "ramm_flows_monthly_opening = df_ramm.loc[df_ramm['ts'] == valn_date_minus_30]['cummulative_eth_in'].values[0] - df_ramm.loc[df_ramm['ts'] == valn_date_minus_30]['cummulative_eth_out'].values[0]\n",
    "ramm_flows_monthly_closing = df_ramm.loc[df_ramm['ts'] == valn_date]['cummulative_eth_in'].values[0] - df_ramm.loc[df_ramm['ts'] == valn_date]['cummulative_eth_out'].values[0]\n",
    "\n",
    "# determine net flows from ramm in 30 days before valuation date \n",
    "ramm_flow_monthly_change = ramm_flows_monthly_closing - ramm_flows_monthly_opening\n",
    "ramm_flow_monthly_change"
   ]
  },
  {
   "cell_type": "code",
   "execution_count": 13,
   "id": "71e4b8a2",
   "metadata": {
    "ExecuteTime": {
     "end_time": "2024-04-15T15:07:24.336757Z",
     "start_time": "2024-04-15T15:07:24.318943Z"
    }
   },
   "outputs": [
    {
     "data": {
      "text/plain": [
       "-138.7518443140466"
      ]
     },
     "execution_count": 13,
     "metadata": {},
     "output_type": "execute_result"
    }
   ],
   "source": [
    "# get net monthly change from DAI\n",
    "dai_monthly_opening = df_cap.loc[df_cap['day'] == valn_date_minus_30]['DAI'].values[0]\n",
    "dai_monthly_closing = df_cap.loc[df_cap['day'] == valn_date]['DAI'].values[0]\n",
    "dai_change = dai_monthly_closing - dai_monthly_opening\n",
    "\n",
    "dai_change"
   ]
  },
  {
   "cell_type": "code",
   "execution_count": 14,
   "id": "f4a0a971",
   "metadata": {
    "ExecuteTime": {
     "end_time": "2024-04-15T15:07:26.575660Z",
     "start_time": "2024-04-15T15:07:26.529795Z"
    }
   },
   "outputs": [
    {
     "data": {
      "text/plain": [
       "39.58797846624159"
      ]
     },
     "execution_count": 14,
     "metadata": {},
     "output_type": "execute_result"
    }
   ],
   "source": [
    "df_covers = covers_list_result\n",
    "\n",
    "# change timestamp to datetime format and normalise all dates to midnight\n",
    "df_covers['cover_start_time'] = pd.to_datetime(df_covers['cover_start_time']).dt.floor('D')\n",
    "\n",
    "# filter for covers that were bought on valn date and in the 30 days before\n",
    "df_covers_30_days = df_covers[(df_covers['cover_start_time']>=valn_date_minus_30) & (df_covers['cover_start_time']<=valn_date)]\n",
    "\n",
    "# filter out covers that were paid for in NXM\n",
    "df_covers_30_days = df_covers_30_days[df_covers_30_days['premium_asset'] != 'NXM']\n",
    "\n",
    "# work out cover fees denominated in ETH, allowing for 15% commission\n",
    "monthly_cover_fees_usd = df_covers_30_days['premium_dollar'].sum() * 0.85\n",
    "monthly_cover_fees_eth = monthly_cover_fees_usd / eth_usd\n",
    "monthly_cover_fees_eth"
   ]
  },
  {
   "cell_type": "code",
   "execution_count": 16,
   "id": "87b4c553",
   "metadata": {
    "ExecuteTime": {
     "end_time": "2024-04-15T15:08:06.444527Z",
     "start_time": "2024-04-15T15:08:06.125315Z"
    }
   },
   "outputs": [
    {
     "name": "stderr",
     "output_type": "stream",
     "text": [
      "/tmp/ipykernel_639/928706153.py:30: UserWarning: set_ticklabels() should only be used with a fixed number of ticks, i.e. after set_ticks() or using a FixedLocator.\n",
      "  waterfall_plot.set_yticklabels(['{:,.0f}'.format(x) for x in tick_vals])\n",
      "/tmp/ipykernel_639/928706153.py:41: FutureWarning: Series.__getitem__ treating keys as positions is deprecated. In a future version, integer keys will always be treated as labels (consistent with DataFrame behavior). To access a value by position, use `ser.iloc[pos]`\n",
      "  y = y_height[loop] + row['amount']\n",
      "/home/rei/.pyenv/versions/3.10.6/envs/investment_monitoring/lib/python3.10/site-packages/matplotlib/text.py:1463: FutureWarning: Calling float on a single element Series is deprecated and will raise a TypeError in the future. Use float(ser.iloc[0]) instead\n",
      "  y = float(self.convert_yunits(y))\n",
      "/home/rei/.pyenv/versions/3.10.6/envs/investment_monitoring/lib/python3.10/site-packages/matplotlib/text.py:754: FutureWarning: Calling float on a single element Series is deprecated and will raise a TypeError in the future. Use float(ser.iloc[0]) instead\n",
      "  posy = float(self.convert_yunits(self._y))\n",
      "/home/rei/.pyenv/versions/3.10.6/envs/investment_monitoring/lib/python3.10/site-packages/matplotlib/text.py:895: FutureWarning: Calling float on a single element Series is deprecated and will raise a TypeError in the future. Use float(ser.iloc[0]) instead\n",
      "  y = float(self.convert_yunits(self._y))\n"
     ]
    },
    {
     "data": {
      "image/png": "[encoded data removed]",
      "text/plain": [
       "<Figure size 640x480 with 1 Axes>"
      ]
     },
     "metadata": {},
     "output_type": "display_data"
    }
   ],
   "source": [
    "# waterfall chart for changes in the capital pool\n",
    "\n",
    "# set limits on chart manually\n",
    "bottom = 94_000\n",
    "top = 100_000\n",
    "\n",
    "# create dataframe with relevant categories\n",
    "index = ['opening capital pool', 'cover fee income', 'investment returns', 'stablecoin impact', 'ramm net redemptions']\n",
    "data = {'amount': [total_cap_monthly_opening, monthly_cover_fees_eth, total_monthly_inv_earnings, dai_change, ramm_flow_monthly_change]}\n",
    "df_waterfall = pd.DataFrame(data=data, index=index)\n",
    "\n",
    "# create a shifted dataframe by one space and fill the empty space with zero\n",
    "df_shift = df_waterfall.amount.cumsum().shift(1).fillna(0)\n",
    "\n",
    "# add the 'closing' line to both dataframes\n",
    "total = df_waterfall.sum().amount\n",
    "df_waterfall.loc['closing capital pool'] = total\n",
    "df_shift.loc['closing capital pool'] = 0\n",
    "\n",
    "# define the Nexus Mutual green color\n",
    "color = '#0AB682'\n",
    "\n",
    "# create waterfall plot\n",
    "waterfall_plot = df_waterfall.plot.bar(stacked=True, bottom=df_shift,\n",
    "                                   legend=None, color=color, title=f'{valn_date_str[-7:]} Capital Pool Waterfall')\n",
    "waterfall_plot.set_ylim(bottom=bottom, top=top)\n",
    "\n",
    "# change format of tick values\n",
    "tick_vals = waterfall_plot.get_yticks()\n",
    "waterfall_plot.set_yticklabels(['{:,.0f}'.format(x) for x in tick_vals])\n",
    "\n",
    "# label loop for individual items\n",
    "maximum = df_waterfall.max()\n",
    "neg_offset = maximum / 400\n",
    "pos_offset = maximum / 800\n",
    "\n",
    "y_height = df_shift\n",
    "\n",
    "loop = 0\n",
    "for index, row in df_waterfall.iterrows():\n",
    "    y = y_height[loop] + row['amount']\n",
    "    # determine negative or positive offset\n",
    "    if row['amount'] > 0:\n",
    "        y += pos_offset\n",
    "    else:\n",
    "        y -= neg_offset\n",
    "    waterfall_plot.annotate(\"{:,.0f}\".format(row['amount']), (loop, y), ha=\"center\")\n",
    "    loop+=1"
   ]
  },
  {
   "cell_type": "code",
   "execution_count": 17,
   "id": "531bfcbd",
   "metadata": {
    "ExecuteTime": {
     "end_time": "2024-04-09T14:11:43.706713Z",
     "start_time": "2024-04-09T14:11:43.701786Z"
    }
   },
   "outputs": [],
   "source": [
    "# waterfall_colours = []\n",
    "# cap_color = '#002332'\n",
    "# pos_color = '#0AB682'\n",
    "# neg_color = '#FA5050'\n",
    "# waterfall_colours.append(cap_color)\n",
    "\n",
    "# for i in df_waterfall['amount'][1:-1]:\n",
    "#     if i >= 0:\n",
    "#         waterfall_colours.append(pos_color)\n",
    "#     else:\n",
    "#         waterfall_colours.append(neg_color)\n",
    "\n",
    "# waterfall_colours.append(cap_color)\n",
    "# waterfall_colours"
   ]
  },
  {
   "cell_type": "code",
   "execution_count": 17,
   "id": "f0dd7464",
   "metadata": {
    "ExecuteTime": {
     "end_time": "2024-04-15T15:08:13.298967Z",
     "start_time": "2024-04-15T15:08:13.285012Z"
    }
   },
   "outputs": [
    {
     "data": {
      "text/plain": [
       "-3011.96413952102"
      ]
     },
     "execution_count": 17,
     "metadata": {},
     "output_type": "execute_result"
    }
   ],
   "source": [
    "# Total change in capital pool\n",
    "capital_pool_change = df_waterfall.loc['closing capital pool'].values[0] - df_waterfall.loc['opening capital pool'].values[0]\n",
    "capital_pool_change"
   ]
  },
  {
   "cell_type": "code",
   "execution_count": null,
   "id": "3b72a763",
   "metadata": {},
   "outputs": [],
   "source": []
  }
 ],
 "metadata": {
  "kernelspec": {
   "display_name": "Python 3 (ipykernel)",
   "language": "python",
   "name": "python3"
  },
  "language_info": {
   "codemirror_mode": {
    "name": "ipython",
    "version": 3
   },
   "file_extension": ".py",
   "mimetype": "text/x-python",
   "name": "python",
   "nbconvert_exporter": "python",
   "pygments_lexer": "ipython3",
   "version": "3.10.6"
  },
  "toc": {
   "base_numbering": 1,
   "nav_menu": {},
   "number_sections": true,
   "sideBar": true,
   "skip_h1_title": false,
   "title_cell": "Table of Contents",
   "title_sidebar": "Contents",
   "toc_cell": false,
   "toc_position": {},
   "toc_section_display": true,
   "toc_window_display": false
  }
 },
 "nbformat": 4,
 "nbformat_minor": 5
}
